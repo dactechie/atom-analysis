{
 "cells": [
  {
   "cell_type": "code",
   "execution_count": 1,
   "metadata": {},
   "outputs": [],
   "source": [
    "from match_audit import main\n",
    "import pandas as pd"
   ]
  },
  {
   "cell_type": "markdown",
   "metadata": {},
   "source": [
    "# Part 1 : Atoms without Episodes"
   ]
  },
  {
   "cell_type": "markdown",
   "metadata": {},
   "source": [
    "``cat \"C:\\Users\\aftab.jalal\\dev\\atom-analysis\\data\\out\\audits\\atoms__noep_for_slk_20230701-20231230.csv\" | cut -f 1 -d ',' | uniq  > atoms_noep_for_slk.csv``\n",
    "\n",
    "`grep -f atoms_noep_for_slk.csv \"C:\\Users\\aftab.jalal\\dev\\atom-analysis\\data\\in\\NSW_CSV\\DATS_AllPrograms_01072023-30122023.csv\"`"
   ]
  },
  {
   "cell_type": "code",
   "execution_count": 2,
   "metadata": {},
   "outputs": [
    {
     "name": "stdout",
     "output_type": "stream",
     "text": [
      "<class 'pandas.core.series.Series'>\n",
      "RangeIndex: 739 entries, 0 to 738\n",
      "Series name: CommencementDate\n",
      "Non-Null Count  Dtype         \n",
      "--------------  -----         \n",
      "739 non-null    datetime64[ns]\n",
      "dtypes: datetime64[ns](1)\n",
      "memory usage: 5.9 KB\n"
     ]
    },
    {
     "name": "stderr",
     "output_type": "stream",
     "text": [
      "c:\\Users\\aftab.jalal\\dev\\atom-analysis\\match_audit.py:185: SettingWithCopyWarning: \n",
      "A value is trying to be set on a copy of a slice from a DataFrame\n",
      "\n",
      "See the caveats in the documentation: https://pandas.pydata.org/pandas-docs/stable/user_guide/indexing.html#returning-a-view-versus-a-copy\n",
      "  atoms__noep_for_slk.sort_values(by=col_str, ascending=True, inplace=True)\n",
      "c:\\Users\\aftab.jalal\\dev\\atom-analysis\\match_audit.py:186: SettingWithCopyWarning: \n",
      "A value is trying to be set on a copy of a slice from a DataFrame\n",
      "\n",
      "See the caveats in the documentation: https://pandas.pydata.org/pandas-docs/stable/user_guide/indexing.html#returning-a-view-versus-a-copy\n",
      "  eps__noatom_for_slk.sort_values(by=col_str, ascending=True, inplace=True)\n",
      "c:\\Users\\aftab.jalal\\dev\\atom-analysis\\utils\\df_ops_base.py:127: SettingWithCopyWarning: \n",
      "A value is trying to be set on a copy of a slice from a DataFrame\n",
      "\n",
      "See the caveats in the documentation: https://pandas.pydata.org/pandas-docs/stable/user_guide/indexing.html#returning-a-view-versus-a-copy\n",
      "  left_non_matching.drop(columns=['_merge'], inplace=True)\n",
      "c:\\Users\\aftab.jalal\\dev\\atom-analysis\\utils\\df_ops_base.py:128: SettingWithCopyWarning: \n",
      "A value is trying to be set on a copy of a slice from a DataFrame\n",
      "\n",
      "See the caveats in the documentation: https://pandas.pydata.org/pandas-docs/stable/user_guide/indexing.html#returning-a-view-versus-a-copy\n",
      "  right_non_matching.drop(columns=['_merge'], inplace=True)\n"
     ]
    },
    {
     "ename": "ValueError",
     "evalue": "The truth value of a DataFrame is ambiguous. Use a.empty, a.bool(), a.item(), a.any() or a.all().",
     "output_type": "error",
     "traceback": [
      "\u001b[1;31m---------------------------------------------------------------------------\u001b[0m",
      "\u001b[1;31mValueError\u001b[0m                                Traceback (most recent call last)",
      "\u001b[1;32m~\\AppData\\Local\\Temp\\ipykernel_14864\\3493217788.py\u001b[0m in \u001b[0;36m?\u001b[1;34m()\u001b[0m\n\u001b[0;32m      1\u001b[0m \u001b[0mmatched_eps\u001b[0m\u001b[1;33m,\u001b[0m \u001b[0mmatched_atoms\u001b[0m\u001b[1;33m,\u001b[0m  \u001b[0maudit_results\u001b[0m \u001b[1;33m=\u001b[0m \u001b[0mmain\u001b[0m\u001b[1;33m(\u001b[0m\u001b[1;33m)\u001b[0m\u001b[1;33m\u001b[0m\u001b[1;33m\u001b[0m\u001b[0m\n\u001b[1;32m----> 2\u001b[1;33m \u001b[1;32mif\u001b[0m \u001b[1;32mnot\u001b[0m \u001b[0mmatched_eps\u001b[0m\u001b[1;33m:\u001b[0m\u001b[1;33m\u001b[0m\u001b[1;33m\u001b[0m\u001b[0m\n\u001b[0m\u001b[0;32m      3\u001b[0m   \u001b[0mexit\u001b[0m\u001b[1;33m(\u001b[0m\u001b[1;36m1\u001b[0m\u001b[1;33m)\u001b[0m\u001b[1;33m\u001b[0m\u001b[1;33m\u001b[0m\u001b[0m\n",
      "\u001b[1;32mc:\\Users\\aftab.jalal\\dev\\atom-analysis\\.venv\\Lib\\site-packages\\pandas\\core\\generic.py\u001b[0m in \u001b[0;36m?\u001b[1;34m(self)\u001b[0m\n\u001b[0;32m   1464\u001b[0m     \u001b[1;33m@\u001b[0m\u001b[0mfinal\u001b[0m\u001b[1;33m\u001b[0m\u001b[1;33m\u001b[0m\u001b[0m\n\u001b[0;32m   1465\u001b[0m     \u001b[1;32mdef\u001b[0m \u001b[0m__nonzero__\u001b[0m\u001b[1;33m(\u001b[0m\u001b[0mself\u001b[0m\u001b[1;33m)\u001b[0m \u001b[1;33m->\u001b[0m \u001b[0mNoReturn\u001b[0m\u001b[1;33m:\u001b[0m\u001b[1;33m\u001b[0m\u001b[1;33m\u001b[0m\u001b[0m\n\u001b[1;32m-> 1466\u001b[1;33m         raise ValueError(\n\u001b[0m\u001b[0;32m   1467\u001b[0m             \u001b[1;34mf\"The truth value of a {type(self).__name__} is ambiguous. \"\u001b[0m\u001b[1;33m\u001b[0m\u001b[1;33m\u001b[0m\u001b[0m\n\u001b[0;32m   1468\u001b[0m             \u001b[1;34m\"Use a.empty, a.bool(), a.item(), a.any() or a.all().\"\u001b[0m\u001b[1;33m\u001b[0m\u001b[1;33m\u001b[0m\u001b[0m\n\u001b[0;32m   1469\u001b[0m         )\n",
      "\u001b[1;31mValueError\u001b[0m: The truth value of a DataFrame is ambiguous. Use a.empty, a.bool(), a.item(), a.any() or a.all()."
     ]
    }
   ],
   "source": [
    "matched_eps, matched_atoms,  audit_results = main()\n",
    "if not matched_eps:\n",
    "  exit(1)"
   ]
  },
  {
   "cell_type": "code",
   "execution_count": 12,
   "metadata": {},
   "outputs": [
    {
     "data": {
      "text/plain": [
       "(['SLK', 'Program', 'Staff', 'AssessmentDate', 'PDC'],\n",
       " ['SLK', 'Program', 'CommencementDate', 'EndDate', 'PDC'])"
      ]
     },
     "execution_count": 12,
     "metadata": {},
     "output_type": "execute_result"
    }
   ],
   "source": [
    "list(unmatched_atoms_df.columns),  list(ep_df.columns)"
   ]
  },
  {
   "cell_type": "code",
   "execution_count": 13,
   "metadata": {},
   "outputs": [
    {
     "data": {
      "text/plain": [
       "{'NoEpisodeForSLK':                  SLK    Program             Staff AssessmentDate   \n",
       " 959   ABCDT210719812  BegaMHHub       Aftab.Jalal     2023-10-23  \\\n",
       " 960   ACAIT230419891        TSS  Michelle.Figares     2023-09-21   \n",
       " 961   ACHIC010419721       COCO     Mysh.Kirkwood     2023-08-01   \n",
       " 962   ACIUS190519612        TSS        Mimi.Avila     2023-08-07   \n",
       " 963   ACYON080819841        TSS  Michelle.Figares     2023-07-17   \n",
       " ...              ...        ...               ...            ...   \n",
       " 1491  YPEAS271119761        TSS        Mimi.Avila     2023-09-19   \n",
       " 1492  YREAR060119931       COCO     Mysh.Kirkwood     2023-12-08   \n",
       " 1495  YSOOH171119681        TSS        Mimi.Avila     2023-09-13   \n",
       " 1496  ZZPOE220719671   EUROPATH        Paul.Crowe     2023-11-09   \n",
       " 1497  ZZRTE100819791        TSS      Nurgul.Sawut     2023-07-17   \n",
       " \n",
       "                           PDC  \n",
       " 959   Benzodiazepines, n.f.d.  \n",
       " 960                    Heroin  \n",
       " 961                   Ethanol  \n",
       " 962                   Ethanol  \n",
       " 963                   Ethanol  \n",
       " ...                       ...  \n",
       " 1491                  Ethanol  \n",
       " 1492                  Ethanol  \n",
       " 1495                  Ethanol  \n",
       " 1496                  Ethanol  \n",
       " 1497                  Ethanol  \n",
       " \n",
       " [495 rows x 5 columns],\n",
       " 'ProgramMismatch':                SLK Program_atom Program_ep               Staff AssessmentDate\n",
       " 0   ALOHA240319871     EUROPATH    MONPATH          Paul.Crowe     2023-07-10\n",
       " 2   ARRAR290819851      MURMWIO    MURMICE        Michele.Lumb     2023-08-02\n",
       " 3   ATRAR270319791         COCO    MURMICE          Jim.Downey     2023-09-07\n",
       " 4   ATRAR270319791         COCO     MURMPP          Jim.Downey     2023-09-07\n",
       " 5   AWEES240719811     BEGAPATH   SAPPHIRE      Molly.Reynolds     2023-09-15\n",
       " 6   AZKND150719831      MURMICE     MURMPP     Tina.Raccanello     2023-07-17\n",
       " 8   DWREB240819782     SAPPHIRE   BEGAPATH          Kylie.Wood     2023-07-19\n",
       " 9   DWREB240819782     SAPPHIRE   BEGAPATH          Kylie.Wood     2023-09-08\n",
       " 10  DWREB240819782     SAPPHIRE   BEGAPATH          Kylie.Wood     2023-10-27\n",
       " 12  DWRIM190319911     SAPPHIRE    MONPATH         Helen.Waite     2023-07-14\n",
       " 13  EACAR171119722     BEGAPATH   SAPPHIRE      Molly.Reynolds     2023-09-20\n",
       " 15  EL2US100619792      MURMICE    MURMWIO        Michele.Lumb     2023-07-31\n",
       " 16  EL2US100619792      MURMICE    MURMWIO        Michele.Lumb     2023-10-19\n",
       " 17  ENIOS050419961      GOLBICE   GOLBGNRL    Anthony.Williams     2023-07-12\n",
       " 18  EWAIC130619862      MURMWIO     MURMPP        Michele.Lumb     2023-09-21\n",
       " 19  HAKOS301219941     BEGAPATH   SAPPHIRE  Shaquille.Aldridge     2023-07-27\n",
       " 20  HIEAM030819781      MURMWIO    MURMICE       Craig.Maxwell     2023-08-02\n",
       " 23  IDTOE021219941      MURMICE    MURMWIO     Tina.Raccanello     2023-09-27\n",
       " 24  IGEUS260919652     SAPPHIRE   BEGAPATH          Kylie.Wood     2023-09-27\n",
       " 25  IGEUS260919652     SAPPHIRE   BEGAPATH          Kylie.Wood     2023-11-28\n",
       " 26  LK2EI160719922          TSS   SAPPHIRE    Michelle.Figares     2023-07-10\n",
       " 27  LODAT120419761     BEGAPATH   SAPPHIRE      Molly.Reynolds     2023-09-05\n",
       " 28  OGRIM070219662      MURMICE     MURMPP        Michele.Lumb     2023-09-14\n",
       " 30  OPIAM020119901     BEGAPATH   SAPPHIRE      Molly.Reynolds     2023-09-21\n",
       " 32  ORENT100519651      MURMICE     MURMPP       Craig.Maxwell     2023-09-21\n",
       " 34  RIGAM080820061     GOLBGNRL    GOLBICE    Anthony.Williams     2023-09-26\n",
       " 40  UFIAM111219911         ARCA   SAPPHIRE        Oliver.Lewis     2023-10-04\n",
       " 42  UFIAM111219911         ARCA   SAPPHIRE        Oliver.Lewis     2023-11-07\n",
       " 44  UFIAM111219911         ARCA   SAPPHIRE        Oliver.Lewis     2023-11-27\n",
       " 47  UNIYA150619881         COCO   SAPPHIRE          Jim.Downey     2023-09-20\n",
       " 49  YGAUK280819881      MURMICE     MURMPP       Craig.Maxwell     2023-09-21\n",
       " 50  YREAT240819911      MURMWIO    MURMICE        Michele.Lumb     2023-11-13}"
      ]
     },
     "execution_count": 13,
     "metadata": {},
     "output_type": "execute_result"
    }
   ],
   "source": [
    "audit_results"
   ]
  },
  {
   "cell_type": "markdown",
   "metadata": {},
   "source": [
    "## Summary"
   ]
  },
  {
   "cell_type": "code",
   "execution_count": 14,
   "metadata": {},
   "outputs": [],
   "source": [
    "epcounts = ep_df.groupby(pd.Grouper(key='CommencementDate', freq='M')).count()\n",
    "unmatched_atom_counts = unmatched_atoms_df.groupby(pd.Grouper(key='AssessmentDate', freq='M')).count()"
   ]
  },
  {
   "cell_type": "code",
   "execution_count": 15,
   "metadata": {},
   "outputs": [
    {
     "data": {
      "text/html": [
       "<div>\n",
       "<style scoped>\n",
       "    .dataframe tbody tr th:only-of-type {\n",
       "        vertical-align: middle;\n",
       "    }\n",
       "\n",
       "    .dataframe tbody tr th {\n",
       "        vertical-align: top;\n",
       "    }\n",
       "\n",
       "    .dataframe thead th {\n",
       "        text-align: right;\n",
       "    }\n",
       "</style>\n",
       "<table border=\"1\" class=\"dataframe\">\n",
       "  <thead>\n",
       "    <tr style=\"text-align: right;\">\n",
       "      <th></th>\n",
       "      <th>SLK</th>\n",
       "      <th>Program</th>\n",
       "      <th>EndDate</th>\n",
       "      <th>PDC</th>\n",
       "    </tr>\n",
       "    <tr>\n",
       "      <th>CommencementDate</th>\n",
       "      <th></th>\n",
       "      <th></th>\n",
       "      <th></th>\n",
       "      <th></th>\n",
       "    </tr>\n",
       "  </thead>\n",
       "  <tbody>\n",
       "    <tr>\n",
       "      <th>2022-11-30</th>\n",
       "      <td>12</td>\n",
       "      <td>12</td>\n",
       "      <td>8</td>\n",
       "      <td>12</td>\n",
       "    </tr>\n",
       "    <tr>\n",
       "      <th>2022-12-31</th>\n",
       "      <td>11</td>\n",
       "      <td>11</td>\n",
       "      <td>5</td>\n",
       "      <td>11</td>\n",
       "    </tr>\n",
       "    <tr>\n",
       "      <th>2023-01-31</th>\n",
       "      <td>12</td>\n",
       "      <td>12</td>\n",
       "      <td>7</td>\n",
       "      <td>12</td>\n",
       "    </tr>\n",
       "    <tr>\n",
       "      <th>2023-02-28</th>\n",
       "      <td>16</td>\n",
       "      <td>16</td>\n",
       "      <td>10</td>\n",
       "      <td>16</td>\n",
       "    </tr>\n",
       "    <tr>\n",
       "      <th>2023-03-31</th>\n",
       "      <td>40</td>\n",
       "      <td>40</td>\n",
       "      <td>26</td>\n",
       "      <td>40</td>\n",
       "    </tr>\n",
       "    <tr>\n",
       "      <th>2023-04-30</th>\n",
       "      <td>22</td>\n",
       "      <td>22</td>\n",
       "      <td>12</td>\n",
       "      <td>22</td>\n",
       "    </tr>\n",
       "    <tr>\n",
       "      <th>2023-05-31</th>\n",
       "      <td>61</td>\n",
       "      <td>61</td>\n",
       "      <td>43</td>\n",
       "      <td>61</td>\n",
       "    </tr>\n",
       "    <tr>\n",
       "      <th>2023-06-30</th>\n",
       "      <td>69</td>\n",
       "      <td>69</td>\n",
       "      <td>48</td>\n",
       "      <td>69</td>\n",
       "    </tr>\n",
       "    <tr>\n",
       "      <th>2023-07-31</th>\n",
       "      <td>72</td>\n",
       "      <td>72</td>\n",
       "      <td>44</td>\n",
       "      <td>72</td>\n",
       "    </tr>\n",
       "    <tr>\n",
       "      <th>2023-08-31</th>\n",
       "      <td>89</td>\n",
       "      <td>89</td>\n",
       "      <td>44</td>\n",
       "      <td>89</td>\n",
       "    </tr>\n",
       "    <tr>\n",
       "      <th>2023-09-30</th>\n",
       "      <td>87</td>\n",
       "      <td>87</td>\n",
       "      <td>39</td>\n",
       "      <td>87</td>\n",
       "    </tr>\n",
       "    <tr>\n",
       "      <th>2023-10-31</th>\n",
       "      <td>80</td>\n",
       "      <td>80</td>\n",
       "      <td>17</td>\n",
       "      <td>80</td>\n",
       "    </tr>\n",
       "    <tr>\n",
       "      <th>2023-11-30</th>\n",
       "      <td>86</td>\n",
       "      <td>86</td>\n",
       "      <td>7</td>\n",
       "      <td>86</td>\n",
       "    </tr>\n",
       "    <tr>\n",
       "      <th>2023-12-31</th>\n",
       "      <td>16</td>\n",
       "      <td>16</td>\n",
       "      <td>0</td>\n",
       "      <td>16</td>\n",
       "    </tr>\n",
       "  </tbody>\n",
       "</table>\n",
       "</div>"
      ],
      "text/plain": [
       "                  SLK  Program  EndDate  PDC\n",
       "CommencementDate                            \n",
       "2022-11-30         12       12        8   12\n",
       "2022-12-31         11       11        5   11\n",
       "2023-01-31         12       12        7   12\n",
       "2023-02-28         16       16       10   16\n",
       "2023-03-31         40       40       26   40\n",
       "2023-04-30         22       22       12   22\n",
       "2023-05-31         61       61       43   61\n",
       "2023-06-30         69       69       48   69\n",
       "2023-07-31         72       72       44   72\n",
       "2023-08-31         89       89       44   89\n",
       "2023-09-30         87       87       39   87\n",
       "2023-10-31         80       80       17   80\n",
       "2023-11-30         86       86        7   86\n",
       "2023-12-31         16       16        0   16"
      ]
     },
     "execution_count": 15,
     "metadata": {},
     "output_type": "execute_result"
    }
   ],
   "source": [
    "epcounts[epcounts['SLK'] > 10]"
   ]
  },
  {
   "cell_type": "code",
   "execution_count": 16,
   "metadata": {},
   "outputs": [
    {
     "data": {
      "text/html": [
       "<div>\n",
       "<style scoped>\n",
       "    .dataframe tbody tr th:only-of-type {\n",
       "        vertical-align: middle;\n",
       "    }\n",
       "\n",
       "    .dataframe tbody tr th {\n",
       "        vertical-align: top;\n",
       "    }\n",
       "\n",
       "    .dataframe thead th {\n",
       "        text-align: right;\n",
       "    }\n",
       "</style>\n",
       "<table border=\"1\" class=\"dataframe\">\n",
       "  <thead>\n",
       "    <tr style=\"text-align: right;\">\n",
       "      <th></th>\n",
       "      <th>SLK</th>\n",
       "      <th>Program</th>\n",
       "      <th>Staff</th>\n",
       "      <th>PDC</th>\n",
       "    </tr>\n",
       "    <tr>\n",
       "      <th>AssessmentDate</th>\n",
       "      <th></th>\n",
       "      <th></th>\n",
       "      <th></th>\n",
       "      <th></th>\n",
       "    </tr>\n",
       "  </thead>\n",
       "  <tbody>\n",
       "    <tr>\n",
       "      <th>2023-07-31</th>\n",
       "      <td>117</td>\n",
       "      <td>117</td>\n",
       "      <td>117</td>\n",
       "      <td>117</td>\n",
       "    </tr>\n",
       "    <tr>\n",
       "      <th>2023-08-31</th>\n",
       "      <td>96</td>\n",
       "      <td>96</td>\n",
       "      <td>96</td>\n",
       "      <td>96</td>\n",
       "    </tr>\n",
       "    <tr>\n",
       "      <th>2023-09-30</th>\n",
       "      <td>115</td>\n",
       "      <td>115</td>\n",
       "      <td>115</td>\n",
       "      <td>115</td>\n",
       "    </tr>\n",
       "    <tr>\n",
       "      <th>2023-10-31</th>\n",
       "      <td>78</td>\n",
       "      <td>78</td>\n",
       "      <td>78</td>\n",
       "      <td>78</td>\n",
       "    </tr>\n",
       "    <tr>\n",
       "      <th>2023-11-30</th>\n",
       "      <td>104</td>\n",
       "      <td>104</td>\n",
       "      <td>104</td>\n",
       "      <td>104</td>\n",
       "    </tr>\n",
       "    <tr>\n",
       "      <th>2023-12-31</th>\n",
       "      <td>29</td>\n",
       "      <td>29</td>\n",
       "      <td>29</td>\n",
       "      <td>29</td>\n",
       "    </tr>\n",
       "  </tbody>\n",
       "</table>\n",
       "</div>"
      ],
      "text/plain": [
       "                SLK  Program  Staff  PDC\n",
       "AssessmentDate                          \n",
       "2023-07-31      117      117    117  117\n",
       "2023-08-31       96       96     96   96\n",
       "2023-09-30      115      115    115  115\n",
       "2023-10-31       78       78     78   78\n",
       "2023-11-30      104      104    104  104\n",
       "2023-12-31       29       29     29   29"
      ]
     },
     "execution_count": 16,
     "metadata": {},
     "output_type": "execute_result"
    }
   ],
   "source": [
    "unmatched_atom_counts[unmatched_atom_counts['SLK'] > 10]"
   ]
  },
  {
   "cell_type": "code",
   "execution_count": 17,
   "metadata": {},
   "outputs": [],
   "source": [
    "# atom_columns = ['SLK', 'Program', 'Staff_y','AssessmentDate_y']\n",
    "# ep_columns=['SLK', 'Program', 'CommencementDate', 'EndDate']\n",
    "slk = 'RIENT290619861'\n"
   ]
  },
  {
   "cell_type": "code",
   "execution_count": 18,
   "metadata": {},
   "outputs": [
    {
     "data": {
      "text/html": [
       "<div>\n",
       "<style scoped>\n",
       "    .dataframe tbody tr th:only-of-type {\n",
       "        vertical-align: middle;\n",
       "    }\n",
       "\n",
       "    .dataframe tbody tr th {\n",
       "        vertical-align: top;\n",
       "    }\n",
       "\n",
       "    .dataframe thead th {\n",
       "        text-align: right;\n",
       "    }\n",
       "</style>\n",
       "<table border=\"1\" class=\"dataframe\">\n",
       "  <thead>\n",
       "    <tr style=\"text-align: right;\">\n",
       "      <th></th>\n",
       "      <th>SLK</th>\n",
       "      <th>Program</th>\n",
       "      <th>CommencementDate</th>\n",
       "      <th>EndDate</th>\n",
       "      <th>PDC</th>\n",
       "    </tr>\n",
       "  </thead>\n",
       "  <tbody>\n",
       "  </tbody>\n",
       "</table>\n",
       "</div>"
      ],
      "text/plain": [
       "Empty DataFrame\n",
       "Columns: [SLK, Program, CommencementDate, EndDate, PDC]\n",
       "Index: []"
      ]
     },
     "execution_count": 18,
     "metadata": {},
     "output_type": "execute_result"
    }
   ],
   "source": [
    "ep_df.loc[ep_df['SLK'] == slk]\n"
   ]
  },
  {
   "cell_type": "code",
   "execution_count": 31,
   "metadata": {},
   "outputs": [],
   "source": [
    "# unm_atom_slks = unmatched_atoms['SLK'].unique()\n",
    "# ep_slks = ep_df['SLK'].unique()\n",
    "# unm_atom_slks.loc[~unm_atom_slks.isin(ep_slks),'SLK']\n",
    "atoms__noep_for_slk = unmatched_atoms.loc[~unmatched_atoms['SLK'].isin(ep_df['SLK'])]"
   ]
  },
  {
   "cell_type": "code",
   "execution_count": 32,
   "metadata": {},
   "outputs": [],
   "source": [
    "atoms__noep_for_slk.to_csv('atoms__noep_for_slk.csv', index=False)"
   ]
  },
  {
   "cell_type": "code",
   "execution_count": null,
   "metadata": {},
   "outputs": [],
   "source": [
    "# unmatched_atoms.loc[unmatched_atoms['SLK'] == slk,atom_columns]\n",
    "# atoms__noep_for_slk['Staff'].value_counts()"
   ]
  },
  {
   "cell_type": "code",
   "execution_count": 12,
   "metadata": {},
   "outputs": [],
   "source": [
    "# olli = atoms__noep_for_slk[atoms__noep_for_slk['Staff']=='Oliver.Lewis']"
   ]
  },
  {
   "cell_type": "code",
   "execution_count": 35,
   "metadata": {},
   "outputs": [],
   "source": [
    "# Merge on 'SLK'\n",
    "merged_df = pd.merge(unmatched_w_slk_match, ep_df, on='SLK', suffixes=('_atom', '_ep'))\n",
    "\n",
    "# Find rows where 'Program' values don't match\n",
    "mismatch_df = merged_df[merged_df['Program_atom'] != merged_df['Program_ep']]"
   ]
  },
  {
   "cell_type": "code",
   "execution_count": 38,
   "metadata": {},
   "outputs": [],
   "source": [
    "# mismatch_df['Staff'].value_counts()"
   ]
  },
  {
   "cell_type": "code",
   "execution_count": 36,
   "metadata": {},
   "outputs": [],
   "source": [
    "program_mismatch_for_matched_slk = mismatch_df[['SLK','Program_atom',\t 'Program_ep','Staff',\t'AssessmentDate','CommencementDate', 'EndDate']].drop_duplicates()"
   ]
  },
  {
   "cell_type": "code",
   "execution_count": 37,
   "metadata": {},
   "outputs": [],
   "source": [
    "program_mismatch_for_matched_slk.to_csv('program_mismatch_for_matched_slk.csv', index=False)"
   ]
  },
  {
   "cell_type": "code",
   "execution_count": 18,
   "metadata": {},
   "outputs": [],
   "source": [
    "# result = olli.groupby(pd.Grouper(key='AssessmentDate', freq='M')).count()\n"
   ]
  },
  {
   "cell_type": "markdown",
   "metadata": {},
   "source": [
    "# Episodes without ATOMs"
   ]
  }
 ],
 "metadata": {
  "kernelspec": {
   "display_name": ".venv",
   "language": "python",
   "name": "python3"
  },
  "language_info": {
   "codemirror_mode": {
    "name": "ipython",
    "version": 3
   },
   "file_extension": ".py",
   "mimetype": "text/x-python",
   "name": "python",
   "nbconvert_exporter": "python",
   "pygments_lexer": "ipython3",
   "version": "3.11.3"
  },
  "orig_nbformat": 4
 },
 "nbformat": 4,
 "nbformat_minor": 2
}
