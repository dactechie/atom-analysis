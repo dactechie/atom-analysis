{
 "cells": [
  {
   "cell_type": "markdown",
   "metadata": {},
   "source": [
    "# Data Extract and upload for NADAbase\n",
    "\n",
    "## Steps\n",
    "\n",
    "1. Extract Episodes for the period from Communicare\n",
    "2. Extract ATOM data\n",
    "3. Match Assessments with Episodes\n",
    "4. Generate the upload Survey.txt file."
   ]
  },
  {
   "cell_type": "code",
   "execution_count": 1,
   "metadata": {},
   "outputs": [],
   "source": [
    "# import os\n",
    "\n",
    "import pandas as pd\n",
    "\n",
    "# import numpy as np\n",
    "import mylogger\n",
    "# from nada_load import load_and_parse_csv\n",
    "from data_config import EstablishmentID_Program\n",
    "from utils.df_xtrct_prep import  load_and_parse_csv\n",
    "from utils.fromstr import convert_format_datestr\n",
    "\n",
    "logger = mylogger.get(__name__)\n",
    "# # List of column names in the CSV\n",
    "# column_names = ['ESTABLISHMENT IDENTIFIER', 'GEOGRAPHICAL LOCATION', 'PMSEpisodeID', 'PMSPersonID', 'DOB', 'DOB STATUS', 'SEX', 'COUNTRY OF BIRTH', 'INDIGENOUS STATUS', 'PREFERRED LANGUAGE', 'SOURCE OF INCOME', 'LIVING ARRANGEMENT', 'USUAL ACCOMMODATION', 'CLIENT TYPE', 'PRINCIPAL DRUG OF CONCERN', 'PDCSubstanceOfConcern', 'ILLICIT USE', 'METHOD OF USE PRINCIPAL DRUG', 'INJECTING DRUG USE', 'SETTING', 'CommencementDate', 'POSTCODE', 'SOURCE OF REFERRAL', 'MAIN SERVICE', 'EndDate', 'END REASON', 'REFERRAL TO ANOTHER SERVICE', 'FAMILY NAME', 'GIVEN NAME', 'MIDDLE NAME', 'TITLE', 'SLK', 'MEDICARE NUMBER', 'PROPERTY NAME', 'UNIT FLAT NUMBER', 'STREET NUMBER', 'STREET NAME', 'SUBURB']\n",
    "\n",
    "\n"
   ]
  },
  {
   "cell_type": "markdown",
   "metadata": {},
   "source": [
    "## Episode Data"
   ]
  },
  {
   "cell_type": "code",
   "execution_count": 2,
   "metadata": {},
   "outputs": [],
   "source": [
    "# Global variables\n",
    "active_clients_start_date ='2023-07-01' \n",
    "active_clients_end_date = '2023-12-31'\n",
    "\n",
    "start_dt = convert_format_datestr(active_clients_start_date,'%Y-%m-%d', '%d%m%Y')\n",
    "end_dt = convert_format_datestr(active_clients_end_date,'%Y-%m-%d', '%d%m%Y')\n",
    "\n",
    "\n",
    "ep_source_filename = f'DATS_AllPrograms_{start_dt}-{end_dt}' #'DATS_Annual_AllPrograms_FY22-23'\n",
    "ep_datasource_file_path = f\"./data/in/NSW_CSV/{ep_source_filename}.csv\"\n",
    "\n",
    "# extract_start_date = 20130501\n",
    "# extract_end_date = 20231231\n",
    "\n",
    "# fname = f\"{extract_start_date}_{extract_end_date}\" # TODO :forNaada\n",
    "\n",
    "\n",
    "\n",
    "results_folder = \"./data/out/\""
   ]
  },
  {
   "cell_type": "code",
   "execution_count": 3,
   "metadata": {},
   "outputs": [],
   "source": [
    "# # List of columns we care about\n",
    "columns_of_interest = ['ESTABLISHMENT IDENTIFIER', 'GEOGRAPHICAL LOCATION', 'EPISODE ID','PERSON ID', 'SPECIFY DRUG OF CONCERN', 'PRINCIPAL DRUG OF CONCERN', 'START DATE', 'END DATE', 'SLK']\n",
    "rename_columns = {\n",
    "    'SPECIFY DRUG OF CONCERN': 'PDCSubstanceOfConcern',\n",
    "    'PRINCIPAL DRUG OF CONCERN': 'PDCCode',\n",
    "    'START DATE': 'CommencementDate',\n",
    "    'END DATE': 'EndDate',\n",
    "    'EPISODE ID': 'PMSEpisodeID',\n",
    "    'PERSON ID': 'PMSPersonID',    \n",
    "}"
   ]
  },
  {
   "cell_type": "code",
   "execution_count": 4,
   "metadata": {},
   "outputs": [],
   "source": [
    "# ep_df  = load_and_parse_episode_csvs(ep_datasource_file_path)\n",
    "ep_df = load_and_parse_csv(ep_datasource_file_path, rename_columns, columns_of_interest, date_cols=['START DATE', 'END DATE'])\n",
    "ep_df['Program'] = ep_df['ESTABLISHMENT IDENTIFIER'].map(EstablishmentID_Program)"
   ]
  },
  {
   "cell_type": "code",
   "execution_count": 5,
   "metadata": {},
   "outputs": [
    {
     "data": {
      "text/plain": [
       "(797, datetime.date(2020, 4, 7), datetime.date(2023, 12, 22))"
      ]
     },
     "execution_count": 5,
     "metadata": {},
     "output_type": "execute_result"
    }
   ],
   "source": [
    "len(ep_df), min(ep_df.CommencementDate), max(ep_df.CommencementDate)"
   ]
  },
  {
   "cell_type": "code",
   "execution_count": 6,
   "metadata": {},
   "outputs": [],
   "source": [
    "# ep_df['Program'] = ep_df['ESTABLISHMENT IDENTIFIER'].map(EstablishmentID_Program)\n",
    "ep_df.rename(columns={'ESTABLISHMENT IDENTIFIER': 'AgencyCode'}, inplace=True)"
   ]
  },
  {
   "cell_type": "code",
   "execution_count": 7,
   "metadata": {},
   "outputs": [
    {
     "data": {
      "text/plain": [
       "Index(['AgencyCode', 'GEOGRAPHICAL LOCATION', 'PMSEpisodeID', 'PMSPersonID',\n",
       "       'PDCCode', 'PDCSubstanceOfConcern', 'CommencementDate', 'EndDate',\n",
       "       'SLK', 'Program'],\n",
       "      dtype='object')"
      ]
     },
     "execution_count": 7,
     "metadata": {},
     "output_type": "execute_result"
    }
   ],
   "source": [
    "ep_df.columns"
   ]
  },
  {
   "cell_type": "code",
   "execution_count": null,
   "metadata": {},
   "outputs": [],
   "source": [
    "# ep_df.head()"
   ]
  },
  {
   "cell_type": "markdown",
   "metadata": {},
   "source": [
    "## ATOM Data\n"
   ]
  },
  {
   "cell_type": "code",
   "execution_count": 1,
   "metadata": {},
   "outputs": [],
   "source": [
    "from utils.environment import MyEnvironmentConfig\n",
    "from utils.df_xtrct_prep import extract_prep_atom_data\n"
   ]
  },
  {
   "cell_type": "code",
   "execution_count": null,
   "metadata": {},
   "outputs": [],
   "source": [
    "# Error on row 19: Input string was not in a correct format.Couldnt store <0.0> in CigarettesPerDay Column. Expected type is Int32.\n"
   ]
  },
  {
   "cell_type": "code",
   "execution_count": 3,
   "metadata": {},
   "outputs": [],
   "source": [
    "# to adjust the ODC parser\n",
    "extract_start_date = 20231201\n",
    "extract_end_date = 20231231\n",
    "active_clients_start_date ='2023-07-01' \n",
    "active_clients_end_date = '2023-12-31'\n",
    "fname = f\"{extract_start_date}-{extract_end_date}\" # TODO :forNaada\n",
    "MyEnvironmentConfig().setup('prod')\n",
    "\n",
    "processed_df = extract_prep_atom_data(extract_start_date, extract_end_date\n",
    "                                 , active_clients_start_date\n",
    "                                 , active_clients_end_date\n",
    "                                 , fname, purpose='NADA')"
   ]
  },
  {
   "cell_type": "code",
   "execution_count": null,
   "metadata": {},
   "outputs": [],
   "source": [
    "if processed_df is None:\n",
    "  logger.error(\"no data extracted\")\n",
    "  exit(1)"
   ]
  },
  {
   "cell_type": "code",
   "execution_count": 8,
   "metadata": {},
   "outputs": [
    {
     "data": {
      "text/plain": [
       "array(['20', nan, '27', '28', '0', '16', '25', '24', '1', '15', '3', '14',\n",
       "       '2', '9', '5', '10', '21', '4', '31', '22', '30', '6', '7', '12',\n",
       "       '8', '18', '26', '23', '', '17', '11', '13', '19'], dtype=object)"
      ]
     },
     "execution_count": 8,
     "metadata": {},
     "output_type": "execute_result"
    }
   ],
   "source": [
    "processed_df['Alcohol_DaysInLast28'].unique()"
   ]
  },
  {
   "cell_type": "code",
   "execution_count": 9,
   "metadata": {},
   "outputs": [
    {
     "data": {
      "text/html": [
       "<div>\n",
       "<style scoped>\n",
       "    .dataframe tbody tr th:only-of-type {\n",
       "        vertical-align: middle;\n",
       "    }\n",
       "\n",
       "    .dataframe tbody tr th {\n",
       "        vertical-align: top;\n",
       "    }\n",
       "\n",
       "    .dataframe thead th {\n",
       "        text-align: right;\n",
       "    }\n",
       "</style>\n",
       "<table border=\"1\" class=\"dataframe\">\n",
       "  <thead>\n",
       "    <tr style=\"text-align: right;\">\n",
       "      <th></th>\n",
       "      <th>SLK</th>\n",
       "      <th>RowKey</th>\n",
       "      <th>Program</th>\n",
       "      <th>Staff</th>\n",
       "      <th>AssessmentDate</th>\n",
       "      <th>SDSIsAODUseOutOfControl</th>\n",
       "      <th>SDSHowMuchDoYouWorryAboutAODUse</th>\n",
       "      <th>SDSDoesMissingFixMakeAnxious</th>\n",
       "      <th>SDSDoYouWishToStop</th>\n",
       "      <th>SDSHowDifficultToStopOrGoWithout</th>\n",
       "      <th>...</th>\n",
       "      <th>Another Drug2</th>\n",
       "      <th>Another Drug2_DaysInLast28</th>\n",
       "      <th>Another Drug2_TypicalQtyStr</th>\n",
       "      <th>ATOPRiskEviction</th>\n",
       "      <th>ATOPHomeless</th>\n",
       "      <th>Past4Wk_ViolentToYou</th>\n",
       "      <th>PrimaryCaregiver_0-5</th>\n",
       "      <th>PrimaryCaregiver_5-15</th>\n",
       "      <th>PaidWorkDays</th>\n",
       "      <th>StudyDays</th>\n",
       "    </tr>\n",
       "  </thead>\n",
       "  <tbody>\n",
       "  </tbody>\n",
       "</table>\n",
       "<p>0 rows × 58 columns</p>\n",
       "</div>"
      ],
      "text/plain": [
       "Empty DataFrame\n",
       "Columns: [SLK, RowKey, Program, Staff, AssessmentDate, SDSIsAODUseOutOfControl, SDSHowMuchDoYouWorryAboutAODUse, SDSDoesMissingFixMakeAnxious, SDSDoYouWishToStop, SDSHowDifficultToStopOrGoWithout, K10Q01, K10Q02, K10Q03, K10Q04, K10Q05, K10Q06, K10Q07, K10Q08, K10Q09, K10Q10, AssessmentType, Past4WkPhysicalHealth, Past4WkMentalHealth, Past4WkHaveYouViolenceAbusive, Past4WkBeenArrested, Past4WkQualityOfLifeScore, Past4WkNumInjectingDays, Alcohol_DaysInLast28, Alcohol_PerOccassionUse, Alcohol_TypicalQtyStr, Amphetamines_DaysInLast28, Amphetamines_TypicalQtyStr, Another Drug1, Another Drug1_DaysInLast28, Another Drug1_TypicalQtyStr, Cannabis_DaysInLast28, Cannabis_TypicalQtyStr, Nicotine_DaysInLast28, Nicotine_PerOccassionUse, Nicotine_TypicalQtyStr, Other Opioids_DaysInLast28, Other Opioids_TypicalQtyStr, Heroin_DaysInLast28, Heroin_TypicalQtyStr, Cocaine_DaysInLast28, Cocaine_TypicalQtyStr, Benzodiazepines_DaysInLast28, Benzodiazepines_TypicalQtyStr, Another Drug2, Another Drug2_DaysInLast28, Another Drug2_TypicalQtyStr, ATOPRiskEviction, ATOPHomeless, Past4Wk_ViolentToYou, PrimaryCaregiver_0-5, PrimaryCaregiver_5-15, PaidWorkDays, StudyDays]\n",
       "Index: []\n",
       "\n",
       "[0 rows x 58 columns]"
      ]
     },
     "execution_count": 9,
     "metadata": {},
     "output_type": "execute_result"
    }
   ],
   "source": [
    "processed_df[processed_df['SLK'] =='EEAOH120519841']"
   ]
  },
  {
   "cell_type": "code",
   "execution_count": 10,
   "metadata": {},
   "outputs": [
    {
     "data": {
      "text/plain": [
       "array(['EUROPATH', 'MURMICE', 'GOLBICE', 'BEGAPATH', 'MONPATH',\n",
       "       'GOLBGNRL', 'MURMHEAD', 'MURMPP', 'SAPPHIRE', 'MURMWIO'],\n",
       "      dtype=object)"
      ]
     },
     "execution_count": 10,
     "metadata": {},
     "output_type": "execute_result"
    }
   ],
   "source": [
    "processed_df['Program'].unique()"
   ]
  },
  {
   "cell_type": "code",
   "execution_count": 11,
   "metadata": {},
   "outputs": [],
   "source": [
    "out = processed_df\n"
   ]
  },
  {
   "cell_type": "code",
   "execution_count": 12,
   "metadata": {},
   "outputs": [
    {
     "data": {
      "text/html": [
       "<div>\n",
       "<style scoped>\n",
       "    .dataframe tbody tr th:only-of-type {\n",
       "        vertical-align: middle;\n",
       "    }\n",
       "\n",
       "    .dataframe tbody tr th {\n",
       "        vertical-align: top;\n",
       "    }\n",
       "\n",
       "    .dataframe thead th {\n",
       "        text-align: right;\n",
       "    }\n",
       "</style>\n",
       "<table border=\"1\" class=\"dataframe\">\n",
       "  <thead>\n",
       "    <tr style=\"text-align: right;\">\n",
       "      <th></th>\n",
       "    </tr>\n",
       "  </thead>\n",
       "  <tbody>\n",
       "    <tr>\n",
       "      <th>2755</th>\n",
       "    </tr>\n",
       "    <tr>\n",
       "      <th>4210</th>\n",
       "    </tr>\n",
       "    <tr>\n",
       "      <th>3406</th>\n",
       "    </tr>\n",
       "    <tr>\n",
       "      <th>3369</th>\n",
       "    </tr>\n",
       "    <tr>\n",
       "      <th>4600</th>\n",
       "    </tr>\n",
       "    <tr>\n",
       "      <th>...</th>\n",
       "    </tr>\n",
       "    <tr>\n",
       "      <th>2934</th>\n",
       "    </tr>\n",
       "    <tr>\n",
       "      <th>69</th>\n",
       "    </tr>\n",
       "    <tr>\n",
       "      <th>3961</th>\n",
       "    </tr>\n",
       "    <tr>\n",
       "      <th>1984</th>\n",
       "    </tr>\n",
       "    <tr>\n",
       "      <th>2880</th>\n",
       "    </tr>\n",
       "  </tbody>\n",
       "</table>\n",
       "<p>3147 rows × 0 columns</p>\n",
       "</div>"
      ],
      "text/plain": [
       "Empty DataFrame\n",
       "Columns: []\n",
       "Index: [2755, 4210, 3406, 3369, 4600, 2671, 2850, 1909, 2756, 4686, 51, 1853, 3324, 1373, 2014, 2670, 3454, 798, 4460, 3146, 33, 3520, 3323, 4223, 3600, 596, 4420, 4074, 1983, 349, 2672, 313, 2534, 2069, 402, 915, 2801, 4221, 350, 4546, 3321, 3866, 1193, 213, 1817, 2900, 1761, 1300, 3542, 4368, 4279, 2229, 70, 3890, 4178, 3712, 3870, 314, 876, 4421, 1178, 2569, 3279, 1798, 2869, 25, 580, 3458, 665, 4248, 4596, 3642, 648, 4425, 2523, 1575, 2145, 1233, 2072, 2537, 4217, 1131, 3473, 1599, 4190, 4464, 315, 375, 4009, 4389, 2962, 4787, 1929, 4627, 3370, 3713, 73, 2070, 3371, 1440, ...]\n",
       "\n",
       "[3147 rows x 0 columns]"
      ]
     },
     "execution_count": 12,
     "metadata": {},
     "output_type": "execute_result"
    }
   ],
   "source": [
    "out[ [c for c in out.columns if 'Cigarette' in c]] "
   ]
  },
  {
   "cell_type": "code",
   "execution_count": null,
   "metadata": {},
   "outputs": [],
   "source": [
    "processed_df.K10Q12.value_counts()"
   ]
  },
  {
   "cell_type": "code",
   "execution_count": 16,
   "metadata": {},
   "outputs": [],
   "source": [
    "# from utils.io import write_parquet\n",
    "# processed_filepath = f\"./data/processed/atom_NADA_{fname}.parquet\"\n",
    "# write_parquet(processed_df, processed_filepath) # don't force overwrite\n",
    "processed_df.to_csv(f\"./data/processed/atom_NADA_{fname}.csv\")\n",
    "# # ArrowTypeError: (\"Expected bytes, got a 'int' object\", 'Conversion failed for column K10Q12 with type object')"
   ]
  },
  {
   "cell_type": "code",
   "execution_count": 40,
   "metadata": {},
   "outputs": [
    {
     "data": {
      "text/html": [
       "<div>\n",
       "<style scoped>\n",
       "    .dataframe tbody tr th:only-of-type {\n",
       "        vertical-align: middle;\n",
       "    }\n",
       "\n",
       "    .dataframe tbody tr th {\n",
       "        vertical-align: top;\n",
       "    }\n",
       "\n",
       "    .dataframe thead th {\n",
       "        text-align: right;\n",
       "    }\n",
       "</style>\n",
       "<table border=\"1\" class=\"dataframe\">\n",
       "  <thead>\n",
       "    <tr style=\"text-align: right;\">\n",
       "      <th></th>\n",
       "      <th>SLK</th>\n",
       "      <th>RowKey</th>\n",
       "      <th>Program</th>\n",
       "      <th>Staff</th>\n",
       "      <th>AssessmentDate</th>\n",
       "      <th>SDSIsAODUseOutOfControl</th>\n",
       "      <th>SDSHowMuchDoYouWorryAboutAODUse</th>\n",
       "      <th>SDSDoesMissingFixMakeAnxious</th>\n",
       "      <th>SDSDoYouWishToStop</th>\n",
       "      <th>SDSHowDifficultToStopOrGoWithout</th>\n",
       "      <th>...</th>\n",
       "      <th>Another Drug2</th>\n",
       "      <th>Another Drug2_DaysInLast28</th>\n",
       "      <th>Another Drug2_TypicalQtyStr</th>\n",
       "      <th>ATOPRiskEviction</th>\n",
       "      <th>ATOPHomeless</th>\n",
       "      <th>Past4Wk_ViolentToYou</th>\n",
       "      <th>PrimaryCaregiver_0-5</th>\n",
       "      <th>PrimaryCaregiver_5-15</th>\n",
       "      <th>PaidWorkDays</th>\n",
       "      <th>StudyDays</th>\n",
       "    </tr>\n",
       "  </thead>\n",
       "  <tbody>\n",
       "    <tr>\n",
       "      <th>2755</th>\n",
       "      <td>MIHEN080119732</td>\n",
       "      <td>EUROPATH_ITSP_01072020</td>\n",
       "      <td>EUROPATH</td>\n",
       "      <td>None</td>\n",
       "      <td>2020-07-01</td>\n",
       "      <td>NaN</td>\n",
       "      <td>NaN</td>\n",
       "      <td>NaN</td>\n",
       "      <td>NaN</td>\n",
       "      <td>NaN</td>\n",
       "      <td>...</td>\n",
       "      <td>NaN</td>\n",
       "      <td>NaN</td>\n",
       "      <td>NaN</td>\n",
       "      <td>None</td>\n",
       "      <td>None</td>\n",
       "      <td>None</td>\n",
       "      <td>0</td>\n",
       "      <td>1</td>\n",
       "      <td>0</td>\n",
       "      <td>0</td>\n",
       "    </tr>\n",
       "    <tr>\n",
       "      <th>4210</th>\n",
       "      <td>SACAR270619511</td>\n",
       "      <td>MURMICE_INAS_20200701</td>\n",
       "      <td>MURMICE</td>\n",
       "      <td>Charles.Debaecker</td>\n",
       "      <td>2020-07-01</td>\n",
       "      <td>0.0</td>\n",
       "      <td>0.0</td>\n",
       "      <td>0.0</td>\n",
       "      <td>0.0</td>\n",
       "      <td>1.0</td>\n",
       "      <td>...</td>\n",
       "      <td>NaN</td>\n",
       "      <td>NaN</td>\n",
       "      <td>NaN</td>\n",
       "      <td>None</td>\n",
       "      <td>None</td>\n",
       "      <td>None</td>\n",
       "      <td>None</td>\n",
       "      <td>None</td>\n",
       "      <td>None</td>\n",
       "      <td>None</td>\n",
       "    </tr>\n",
       "    <tr>\n",
       "      <th>3406</th>\n",
       "      <td>ORHHA031019932</td>\n",
       "      <td>GOLBICE_ITSP_20200702</td>\n",
       "      <td>GOLBICE</td>\n",
       "      <td>Carol.Sharp</td>\n",
       "      <td>2020-07-02</td>\n",
       "      <td>2.0</td>\n",
       "      <td>2.0</td>\n",
       "      <td>2.0</td>\n",
       "      <td>3.0</td>\n",
       "      <td>1.0</td>\n",
       "      <td>...</td>\n",
       "      <td>NaN</td>\n",
       "      <td>NaN</td>\n",
       "      <td>NaN</td>\n",
       "      <td>None</td>\n",
       "      <td>None</td>\n",
       "      <td>None</td>\n",
       "      <td>None</td>\n",
       "      <td>None</td>\n",
       "      <td>None</td>\n",
       "      <td>None</td>\n",
       "    </tr>\n",
       "    <tr>\n",
       "      <th>3369</th>\n",
       "      <td>ORELA041019632</td>\n",
       "      <td>EUROPATH_INAS_10072020</td>\n",
       "      <td>EUROPATH</td>\n",
       "      <td>Vic.May</td>\n",
       "      <td>2020-07-10</td>\n",
       "      <td>NaN</td>\n",
       "      <td>NaN</td>\n",
       "      <td>NaN</td>\n",
       "      <td>NaN</td>\n",
       "      <td>NaN</td>\n",
       "      <td>...</td>\n",
       "      <td>NaN</td>\n",
       "      <td>NaN</td>\n",
       "      <td>NaN</td>\n",
       "      <td>None</td>\n",
       "      <td>None</td>\n",
       "      <td>None</td>\n",
       "      <td>None</td>\n",
       "      <td>None</td>\n",
       "      <td>25</td>\n",
       "      <td>0</td>\n",
       "    </tr>\n",
       "    <tr>\n",
       "      <th>4600</th>\n",
       "      <td>URUEL110919772</td>\n",
       "      <td>EUROPATH_INAS_13072020</td>\n",
       "      <td>EUROPATH</td>\n",
       "      <td>Vic.May</td>\n",
       "      <td>2020-07-13</td>\n",
       "      <td>NaN</td>\n",
       "      <td>NaN</td>\n",
       "      <td>NaN</td>\n",
       "      <td>NaN</td>\n",
       "      <td>NaN</td>\n",
       "      <td>...</td>\n",
       "      <td>NaN</td>\n",
       "      <td>NaN</td>\n",
       "      <td>NaN</td>\n",
       "      <td>None</td>\n",
       "      <td>None</td>\n",
       "      <td>None</td>\n",
       "      <td>None</td>\n",
       "      <td>None</td>\n",
       "      <td>2</td>\n",
       "      <td>0</td>\n",
       "    </tr>\n",
       "    <tr>\n",
       "      <th>...</th>\n",
       "      <td>...</td>\n",
       "      <td>...</td>\n",
       "      <td>...</td>\n",
       "      <td>...</td>\n",
       "      <td>...</td>\n",
       "      <td>...</td>\n",
       "      <td>...</td>\n",
       "      <td>...</td>\n",
       "      <td>...</td>\n",
       "      <td>...</td>\n",
       "      <td>...</td>\n",
       "      <td>...</td>\n",
       "      <td>...</td>\n",
       "      <td>...</td>\n",
       "      <td>...</td>\n",
       "      <td>...</td>\n",
       "      <td>...</td>\n",
       "      <td>...</td>\n",
       "      <td>...</td>\n",
       "      <td>...</td>\n",
       "      <td>...</td>\n",
       "    </tr>\n",
       "    <tr>\n",
       "      <th>2934</th>\n",
       "      <td>ODEMI271219932</td>\n",
       "      <td>SAPPHIRE_INAS_20231222</td>\n",
       "      <td>SAPPHIRE</td>\n",
       "      <td>Kylie.Wood</td>\n",
       "      <td>2023-12-22</td>\n",
       "      <td>2.0</td>\n",
       "      <td>3.0</td>\n",
       "      <td>3.0</td>\n",
       "      <td>3.0</td>\n",
       "      <td>2.0</td>\n",
       "      <td>...</td>\n",
       "      <td>NaN</td>\n",
       "      <td>NaN</td>\n",
       "      <td>NaN</td>\n",
       "      <td>0</td>\n",
       "      <td>0</td>\n",
       "      <td>0</td>\n",
       "      <td>0</td>\n",
       "      <td>0</td>\n",
       "      <td>0</td>\n",
       "      <td>None</td>\n",
       "    </tr>\n",
       "    <tr>\n",
       "      <th>69</th>\n",
       "      <td>ADIRO150619781</td>\n",
       "      <td>GOLBICE_ITSP_20231222</td>\n",
       "      <td>GOLBICE</td>\n",
       "      <td>James.Costello</td>\n",
       "      <td>2023-12-22</td>\n",
       "      <td>2.0</td>\n",
       "      <td>2.0</td>\n",
       "      <td>2.0</td>\n",
       "      <td>3.0</td>\n",
       "      <td>1.0</td>\n",
       "      <td>...</td>\n",
       "      <td>NaN</td>\n",
       "      <td>NaN</td>\n",
       "      <td>NaN</td>\n",
       "      <td>0</td>\n",
       "      <td>0</td>\n",
       "      <td>0</td>\n",
       "      <td>0</td>\n",
       "      <td>1</td>\n",
       "      <td>4</td>\n",
       "      <td>0</td>\n",
       "    </tr>\n",
       "    <tr>\n",
       "      <th>3961</th>\n",
       "      <td>RENAS110920041</td>\n",
       "      <td>GOLBICE_INAS_20231222</td>\n",
       "      <td>GOLBICE</td>\n",
       "      <td>Anthony.Williams</td>\n",
       "      <td>2023-12-22</td>\n",
       "      <td>2.0</td>\n",
       "      <td>2.0</td>\n",
       "      <td>2.0</td>\n",
       "      <td>2.0</td>\n",
       "      <td>2.0</td>\n",
       "      <td>...</td>\n",
       "      <td>NaN</td>\n",
       "      <td>NaN</td>\n",
       "      <td>NaN</td>\n",
       "      <td>None</td>\n",
       "      <td>None</td>\n",
       "      <td>None</td>\n",
       "      <td>None</td>\n",
       "      <td>None</td>\n",
       "      <td>None</td>\n",
       "      <td>None</td>\n",
       "    </tr>\n",
       "    <tr>\n",
       "      <th>1984</th>\n",
       "      <td>HIPAR140319861</td>\n",
       "      <td>GOLBICE_INAS_20231222</td>\n",
       "      <td>GOLBICE</td>\n",
       "      <td>Anthony.Williams</td>\n",
       "      <td>2023-12-22</td>\n",
       "      <td>2.0</td>\n",
       "      <td>2.0</td>\n",
       "      <td>2.0</td>\n",
       "      <td>3.0</td>\n",
       "      <td>1.0</td>\n",
       "      <td>...</td>\n",
       "      <td>NaN</td>\n",
       "      <td>NaN</td>\n",
       "      <td>NaN</td>\n",
       "      <td>None</td>\n",
       "      <td>None</td>\n",
       "      <td>None</td>\n",
       "      <td>None</td>\n",
       "      <td>None</td>\n",
       "      <td>20</td>\n",
       "      <td>None</td>\n",
       "    </tr>\n",
       "    <tr>\n",
       "      <th>2880</th>\n",
       "      <td>OBNMR111020032</td>\n",
       "      <td>BEGAPATH_ITSP_20231222</td>\n",
       "      <td>BEGAPATH</td>\n",
       "      <td>Liz.Scott</td>\n",
       "      <td>2023-12-22</td>\n",
       "      <td>0.0</td>\n",
       "      <td>1.0</td>\n",
       "      <td>1.0</td>\n",
       "      <td>0.0</td>\n",
       "      <td>2.0</td>\n",
       "      <td>...</td>\n",
       "      <td>MDMA/Ecstasy</td>\n",
       "      <td>3</td>\n",
       "      <td>1; pills</td>\n",
       "      <td>0</td>\n",
       "      <td>0</td>\n",
       "      <td>0</td>\n",
       "      <td>None</td>\n",
       "      <td>None</td>\n",
       "      <td>5</td>\n",
       "      <td>0</td>\n",
       "    </tr>\n",
       "  </tbody>\n",
       "</table>\n",
       "<p>3147 rows × 58 columns</p>\n",
       "</div>"
      ],
      "text/plain": [
       "                 SLK                  RowKey   Program              Staff   \n",
       "2755  MIHEN080119732  EUROPATH_ITSP_01072020  EUROPATH               None  \\\n",
       "4210  SACAR270619511   MURMICE_INAS_20200701   MURMICE  Charles.Debaecker   \n",
       "3406  ORHHA031019932   GOLBICE_ITSP_20200702   GOLBICE        Carol.Sharp   \n",
       "3369  ORELA041019632  EUROPATH_INAS_10072020  EUROPATH            Vic.May   \n",
       "4600  URUEL110919772  EUROPATH_INAS_13072020  EUROPATH            Vic.May   \n",
       "...              ...                     ...       ...                ...   \n",
       "2934  ODEMI271219932  SAPPHIRE_INAS_20231222  SAPPHIRE         Kylie.Wood   \n",
       "69    ADIRO150619781   GOLBICE_ITSP_20231222   GOLBICE     James.Costello   \n",
       "3961  RENAS110920041   GOLBICE_INAS_20231222   GOLBICE   Anthony.Williams   \n",
       "1984  HIPAR140319861   GOLBICE_INAS_20231222   GOLBICE   Anthony.Williams   \n",
       "2880  OBNMR111020032  BEGAPATH_ITSP_20231222  BEGAPATH          Liz.Scott   \n",
       "\n",
       "     AssessmentDate  SDSIsAODUseOutOfControl  SDSHowMuchDoYouWorryAboutAODUse   \n",
       "2755     2020-07-01                      NaN                              NaN  \\\n",
       "4210     2020-07-01                      0.0                              0.0   \n",
       "3406     2020-07-02                      2.0                              2.0   \n",
       "3369     2020-07-10                      NaN                              NaN   \n",
       "4600     2020-07-13                      NaN                              NaN   \n",
       "...             ...                      ...                              ...   \n",
       "2934     2023-12-22                      2.0                              3.0   \n",
       "69       2023-12-22                      2.0                              2.0   \n",
       "3961     2023-12-22                      2.0                              2.0   \n",
       "1984     2023-12-22                      2.0                              2.0   \n",
       "2880     2023-12-22                      0.0                              1.0   \n",
       "\n",
       "      SDSDoesMissingFixMakeAnxious  SDSDoYouWishToStop   \n",
       "2755                           NaN                 NaN  \\\n",
       "4210                           0.0                 0.0   \n",
       "3406                           2.0                 3.0   \n",
       "3369                           NaN                 NaN   \n",
       "4600                           NaN                 NaN   \n",
       "...                            ...                 ...   \n",
       "2934                           3.0                 3.0   \n",
       "69                             2.0                 3.0   \n",
       "3961                           2.0                 2.0   \n",
       "1984                           2.0                 3.0   \n",
       "2880                           1.0                 0.0   \n",
       "\n",
       "      SDSHowDifficultToStopOrGoWithout  ... Another Drug2   \n",
       "2755                               NaN  ...           NaN  \\\n",
       "4210                               1.0  ...           NaN   \n",
       "3406                               1.0  ...           NaN   \n",
       "3369                               NaN  ...           NaN   \n",
       "4600                               NaN  ...           NaN   \n",
       "...                                ...  ...           ...   \n",
       "2934                               2.0  ...           NaN   \n",
       "69                                 1.0  ...           NaN   \n",
       "3961                               2.0  ...           NaN   \n",
       "1984                               1.0  ...           NaN   \n",
       "2880                               2.0  ...  MDMA/Ecstasy   \n",
       "\n",
       "     Another Drug2_DaysInLast28 Another Drug2_TypicalQtyStr ATOPRiskEviction   \n",
       "2755                        NaN                         NaN             None  \\\n",
       "4210                        NaN                         NaN             None   \n",
       "3406                        NaN                         NaN             None   \n",
       "3369                        NaN                         NaN             None   \n",
       "4600                        NaN                         NaN             None   \n",
       "...                         ...                         ...              ...   \n",
       "2934                        NaN                         NaN                0   \n",
       "69                          NaN                         NaN                0   \n",
       "3961                        NaN                         NaN             None   \n",
       "1984                        NaN                         NaN             None   \n",
       "2880                          3                    1; pills                0   \n",
       "\n",
       "     ATOPHomeless Past4Wk_ViolentToYou PrimaryCaregiver_0-5   \n",
       "2755         None                 None                    0  \\\n",
       "4210         None                 None                 None   \n",
       "3406         None                 None                 None   \n",
       "3369         None                 None                 None   \n",
       "4600         None                 None                 None   \n",
       "...           ...                  ...                  ...   \n",
       "2934            0                    0                    0   \n",
       "69              0                    0                    0   \n",
       "3961         None                 None                 None   \n",
       "1984         None                 None                 None   \n",
       "2880            0                    0                 None   \n",
       "\n",
       "     PrimaryCaregiver_5-15 PaidWorkDays StudyDays  \n",
       "2755                     1            0         0  \n",
       "4210                  None         None      None  \n",
       "3406                  None         None      None  \n",
       "3369                  None           25         0  \n",
       "4600                  None            2         0  \n",
       "...                    ...          ...       ...  \n",
       "2934                     0            0      None  \n",
       "69                       1            4         0  \n",
       "3961                  None         None      None  \n",
       "1984                  None           20      None  \n",
       "2880                  None            5         0  \n",
       "\n",
       "[3147 rows x 58 columns]"
      ]
     },
     "execution_count": 40,
     "metadata": {},
     "output_type": "execute_result"
    }
   ],
   "source": [
    "atom_df  = processed_df.copy()\n",
    "atom_df"
   ]
  },
  {
   "cell_type": "code",
   "execution_count": 14,
   "metadata": {},
   "outputs": [],
   "source": [
    "# atom_df = atom_df.loc[ (atom_df.AssessmentDate>= active_clients_start_date ) & (atom_df.AssessmentDate <= active_clients_end_date)]"
   ]
  },
  {
   "cell_type": "code",
   "execution_count": 18,
   "metadata": {},
   "outputs": [
    {
     "name": "stdout",
     "output_type": "stream",
     "text": [
      "<class 'pandas.core.series.Series'>\n",
      "Index: 3147 entries, 2755 to 2880\n",
      "Series name: AssessmentDate\n",
      "Non-Null Count  Dtype         \n",
      "--------------  -----         \n",
      "3147 non-null   datetime64[ns]\n",
      "dtypes: datetime64[ns](1)\n",
      "memory usage: 49.2 KB\n"
     ]
    }
   ],
   "source": [
    "atom_df['AssessmentDate'].info()  #describe()"
   ]
  },
  {
   "cell_type": "code",
   "execution_count": 10,
   "metadata": {},
   "outputs": [],
   "source": [
    "# import pandas as pd\n",
    "# # Ensure that AssessmentDate is in datetime format\n",
    "# atom_df['AssessmentDate'] = pd.to_datetime(atom_df['AssessmentDate'], errors='coerce')"
   ]
  },
  {
   "cell_type": "code",
   "execution_count": 9,
   "metadata": {},
   "outputs": [],
   "source": [
    "# atom_df.drop(atom_df[atom_df.Program.isin(['TSS', 'ARCA', 'COCO', 'PSYNSW' ])].index, inplace=True)\n",
    "# non_nsw_programs = ['TSS', 'ARCA', 'COCO', 'PSYNSW' ]\n",
    "# atom_df = atom_df[~atom_df['Program'].isin(non_nsw_programs)] \n"
   ]
  },
  {
   "cell_type": "code",
   "execution_count": 41,
   "metadata": {},
   "outputs": [
    {
     "data": {
      "text/plain": [
       "(797, 3147)"
      ]
     },
     "execution_count": 41,
     "metadata": {},
     "output_type": "execute_result"
    }
   ],
   "source": [
    "len(ep_df), len(atom_df) "
   ]
  },
  {
   "cell_type": "code",
   "execution_count": null,
   "metadata": {},
   "outputs": [],
   "source": [
    "atom_df.Program.value_counts()"
   ]
  },
  {
   "cell_type": "code",
   "execution_count": 21,
   "metadata": {},
   "outputs": [
    {
     "data": {
      "text/html": [
       "<div>\n",
       "<style scoped>\n",
       "    .dataframe tbody tr th:only-of-type {\n",
       "        vertical-align: middle;\n",
       "    }\n",
       "\n",
       "    .dataframe tbody tr th {\n",
       "        vertical-align: top;\n",
       "    }\n",
       "\n",
       "    .dataframe thead th {\n",
       "        text-align: right;\n",
       "    }\n",
       "</style>\n",
       "<table border=\"1\" class=\"dataframe\">\n",
       "  <thead>\n",
       "    <tr style=\"text-align: right;\">\n",
       "      <th></th>\n",
       "    </tr>\n",
       "  </thead>\n",
       "  <tbody>\n",
       "    <tr>\n",
       "      <th>2755</th>\n",
       "    </tr>\n",
       "    <tr>\n",
       "      <th>4210</th>\n",
       "    </tr>\n",
       "    <tr>\n",
       "      <th>3406</th>\n",
       "    </tr>\n",
       "    <tr>\n",
       "      <th>3369</th>\n",
       "    </tr>\n",
       "    <tr>\n",
       "      <th>4600</th>\n",
       "    </tr>\n",
       "    <tr>\n",
       "      <th>...</th>\n",
       "    </tr>\n",
       "    <tr>\n",
       "      <th>2934</th>\n",
       "    </tr>\n",
       "    <tr>\n",
       "      <th>69</th>\n",
       "    </tr>\n",
       "    <tr>\n",
       "      <th>3961</th>\n",
       "    </tr>\n",
       "    <tr>\n",
       "      <th>1984</th>\n",
       "    </tr>\n",
       "    <tr>\n",
       "      <th>2880</th>\n",
       "    </tr>\n",
       "  </tbody>\n",
       "</table>\n",
       "<p>3147 rows × 0 columns</p>\n",
       "</div>"
      ],
      "text/plain": [
       "Empty DataFrame\n",
       "Columns: []\n",
       "Index: [2755, 4210, 3406, 3369, 4600, 2671, 2850, 1909, 2756, 4686, 51, 1853, 3324, 1373, 2014, 2670, 3454, 798, 4460, 3146, 33, 3520, 3323, 4223, 3600, 596, 4420, 4074, 1983, 349, 2672, 313, 2534, 2069, 402, 915, 2801, 4221, 350, 4546, 3321, 3866, 1193, 213, 1817, 2900, 1761, 1300, 3542, 4368, 4279, 2229, 70, 3890, 4178, 3712, 3870, 314, 876, 4421, 1178, 2569, 3279, 1798, 2869, 25, 580, 3458, 665, 4248, 4596, 3642, 648, 4425, 2523, 1575, 2145, 1233, 2072, 2537, 4217, 1131, 3473, 1599, 4190, 4464, 315, 375, 4009, 4389, 2962, 4787, 1929, 4627, 3370, 3713, 73, 2070, 3371, 1440, ...]\n",
       "\n",
       "[3147 rows x 0 columns]"
      ]
     },
     "execution_count": 21,
     "metadata": {},
     "output_type": "execute_result"
    }
   ],
   "source": [
    "# atom_df[[c for c in atom_df.columns if 'Cigarette' in c]]"
   ]
  },
  {
   "cell_type": "markdown",
   "metadata": {},
   "source": [
    "## NADA matching"
   ]
  },
  {
   "cell_type": "code",
   "execution_count": 42,
   "metadata": {},
   "outputs": [],
   "source": [
    "# from match_audit import match_assessments\n",
    "from data_prep import get_stage_per_episode\n"
   ]
  },
  {
   "cell_type": "code",
   "execution_count": 43,
   "metadata": {},
   "outputs": [],
   "source": [
    "matching_ndays_slack = 7"
   ]
  },
  {
   "cell_type": "code",
   "execution_count": 30,
   "metadata": {},
   "outputs": [],
   "source": [
    "# def match_assessments(episodes_df, atoms_df): #pdc_substance_mapping\n",
    "#     # Apply the mapping to the ESTABLISHMENT IDENTIFIER and PDCSubstanceOfConcern columns in episodes_df\n",
    "#     # episodes_df['ESTABLISHMENT IDENTIFIER'] = episodes_df['ESTABLISHMENT IDENTIFIER'].map(establishment_program_mapping)\n",
    "#     # episodes_df['PDCSubstanceOfConcern'] = episodes_df['PDCSubstanceOfConcern'].map(pdc_substance_mapping)\n",
    "\n",
    "#     # Merge the dataframes on SLK and Program\n",
    "#     merged_df = pd.merge(episodes_df, atoms_df, how='inner', left_on=['SLK', 'Program'], right_on=['SLK', 'Program'])\n",
    "\n",
    "#     # Filter rows where AssessmentDate falls within CommencementDate and EndDate (or after CommencementDate if EndDate is NaN)\n",
    "#     matched_df = merged_df.loc[((merged_df['AssessmentDate'] >= merged_df['CommencementDate']) & \n",
    "#                                 (merged_df['AssessmentDate'] <= merged_df['EndDate'])) |\n",
    "#                                ((merged_df['AssessmentDate'] >= merged_df['CommencementDate']) & \n",
    "#                                 (merged_df['EndDate'].isna()))]\n",
    "\n",
    "#     # Check if PDCSubstanceOfConcern matches\n",
    "#     # mismatched_df = matched_df.loc[matched_df['PDCSubstanceOfConcern_x'] != matched_df['PDCSubstanceOfConcern_y']]\n",
    "\n",
    "#     # if len(mismatched_df) > 0:\n",
    "#     #     logger.info(f\"There are {len(mismatched_df)} rows where PDCSubstanceOfConcern does not match.\")\n",
    "#     #     logger.info(mismatched_df)\n",
    "\n",
    "#     return matched_df"
   ]
  },
  {
   "cell_type": "markdown",
   "metadata": {},
   "source": [
    "## Prevent matching a single ATOM to multiple episodes\n",
    "   Do the following with increasing slack :  \n",
    "   1.  Set the Slack to zero \n",
    "       - Iteration 1: i.e.Do a perfect match - ATOM assessment dates HAVE to fall within Episode dates (slack = 0) \n",
    "\n",
    "\n",
    "   2. In a loop with increasing slack \n",
    "      - Match the remaining ATOMs with episodes.\n",
    "      - Iteration 2: ATOMs that were not matched with zero slack, will attempted to be match with slack of '1' day\n",
    "      - i.e. AssessmentDate : 21/7/2023   would match with either of these:\n",
    "      -      - CommencementDate : 22/7/2023  ('1' day after assessment) EndDate : whenever\n",
    "             OR \n",
    "      -     - EndDate : 20/7/2023  (ends '1' day before assessment) \n",
    "      \n",
    "  ### Is it still possible to match against multiple episodes ? \n",
    "     E.g.: slack = 5 days and  assessment_dt : 5/9/2023\n",
    "     * ep1 : ep_start: 9/9/2023  ep_end: whenever     (assessment is 4 days before start)\n",
    "     * ep 2: ep_start: whenever   ep_end: 1/9/2023    (assessment is 4 days after end)\n",
    "\n",
    "      "
   ]
  },
  {
   "cell_type": "code",
   "execution_count": 45,
   "metadata": {},
   "outputs": [],
   "source": [
    "atom_df['SLK_RowKey'] =  atom_df['SLK'] + '_' + atom_df['RowKey']"
   ]
  },
  {
   "cell_type": "code",
   "execution_count": 46,
   "metadata": {},
   "outputs": [],
   "source": [
    "# matching_ndays_slack =0\n",
    "# matched_df = match_assessments(ep_df, atom_df, matching_ndays_slack) # no slack\n",
    "\n",
    "    "
   ]
  },
  {
   "cell_type": "code",
   "execution_count": 48,
   "metadata": {},
   "outputs": [],
   "source": [
    "from matcher import match_increasing_slack\n",
    "\n",
    "# while matching_ndays_slack <=7:\n",
    "#   matched_df = match_assessments(ep_df, unmatched_atoms, matching_ndays_slack) # no slack\n",
    "#   # remaining atoms\n",
    "#   matched_slks  = matched_df.SLK.unique()\n",
    "#   unmatched_atoms = atom_df[ ~atom_df.SLK.isin(matched_df.SLK.unique())]\n",
    "\n",
    "#   result_matched_df = result_matched_df.append(matched_df)\n",
    "#   matching_ndays_slack = matching_ndays_slack + 1\n"
   ]
  },
  {
   "cell_type": "code",
   "execution_count": 49,
   "metadata": {},
   "outputs": [],
   "source": [
    "matched_df, unmatched_atoms = match_increasing_slack(ep_df, atom_df, matching_ndays_slack)"
   ]
  },
  {
   "cell_type": "code",
   "execution_count": 50,
   "metadata": {},
   "outputs": [
    {
     "data": {
      "text/plain": [
       "1155"
      ]
     },
     "execution_count": 50,
     "metadata": {},
     "output_type": "execute_result"
    }
   ],
   "source": [
    "len(matched_df)"
   ]
  },
  {
   "cell_type": "code",
   "execution_count": null,
   "metadata": {},
   "outputs": [],
   "source": [
    "# def get_unmatched_reasons(unmatched_atoms:pd.DataFrame, ep_df):\n",
    "  # 1. ATOM SLK not found in Episodes\n",
    "  # 2. SLK + Program not found in Episodes\n",
    "  # 3. Assessment date not in ep range despite slack days\n"
   ]
  },
  {
   "cell_type": "code",
   "execution_count": 51,
   "metadata": {},
   "outputs": [],
   "source": [
    "unmatched_atoms"
   ]
  },
  {
   "cell_type": "code",
   "execution_count": 46,
   "metadata": {},
   "outputs": [
    {
     "data": {
      "text/html": [
       "<div>\n",
       "<style scoped>\n",
       "    .dataframe tbody tr th:only-of-type {\n",
       "        vertical-align: middle;\n",
       "    }\n",
       "\n",
       "    .dataframe tbody tr th {\n",
       "        vertical-align: top;\n",
       "    }\n",
       "\n",
       "    .dataframe thead th {\n",
       "        text-align: right;\n",
       "    }\n",
       "</style>\n",
       "<table border=\"1\" class=\"dataframe\">\n",
       "  <thead>\n",
       "    <tr style=\"text-align: right;\">\n",
       "      <th></th>\n",
       "      <th>AgencyCode</th>\n",
       "      <th>GEOGRAPHICAL LOCATION</th>\n",
       "      <th>PMSEpisodeID</th>\n",
       "      <th>PMSPersonID</th>\n",
       "      <th>PDCCode</th>\n",
       "      <th>PDCSubstanceOfConcern</th>\n",
       "      <th>CommencementDate</th>\n",
       "      <th>EndDate</th>\n",
       "      <th>SLK</th>\n",
       "      <th>Program</th>\n",
       "    </tr>\n",
       "  </thead>\n",
       "  <tbody>\n",
       "    <tr>\n",
       "      <th>1</th>\n",
       "      <td>12QQ03076</td>\n",
       "      <td>10550</td>\n",
       "      <td>48350</td>\n",
       "      <td>5324</td>\n",
       "      <td>2101</td>\n",
       "      <td>Alcohol</td>\n",
       "      <td>2022-08-03</td>\n",
       "      <td>2023-08-02</td>\n",
       "      <td>UCELE131119691</td>\n",
       "      <td>SAPPHIRE</td>\n",
       "    </tr>\n",
       "    <tr>\n",
       "      <th>5</th>\n",
       "      <td>12QQ03076</td>\n",
       "      <td>10550</td>\n",
       "      <td>54450</td>\n",
       "      <td>5526</td>\n",
       "      <td>2101</td>\n",
       "      <td>Alcohol</td>\n",
       "      <td>2022-10-06</td>\n",
       "      <td>2023-10-05</td>\n",
       "      <td>AYULA290319921</td>\n",
       "      <td>SAPPHIRE</td>\n",
       "    </tr>\n",
       "    <tr>\n",
       "      <th>6</th>\n",
       "      <td>12QQ03076</td>\n",
       "      <td>10550</td>\n",
       "      <td>59206</td>\n",
       "      <td>5158</td>\n",
       "      <td>2101</td>\n",
       "      <td>Alcohol</td>\n",
       "      <td>2022-11-25</td>\n",
       "      <td>2023-11-24</td>\n",
       "      <td>MIHAR301119831</td>\n",
       "      <td>SAPPHIRE</td>\n",
       "    </tr>\n",
       "    <tr>\n",
       "      <th>8</th>\n",
       "      <td>12QQ03076</td>\n",
       "      <td>10550</td>\n",
       "      <td>61691</td>\n",
       "      <td>4766</td>\n",
       "      <td>2101</td>\n",
       "      <td>Alcohol</td>\n",
       "      <td>2022-12-22</td>\n",
       "      <td>2023-11-21</td>\n",
       "      <td>ACEUR140319611</td>\n",
       "      <td>SAPPHIRE</td>\n",
       "    </tr>\n",
       "    <tr>\n",
       "      <th>11</th>\n",
       "      <td>12QQ03076</td>\n",
       "      <td>10550</td>\n",
       "      <td>68628</td>\n",
       "      <td>5036</td>\n",
       "      <td>2101</td>\n",
       "      <td>Alcohol</td>\n",
       "      <td>2023-03-16</td>\n",
       "      <td>2023-12-13</td>\n",
       "      <td>OYEAL140819561</td>\n",
       "      <td>SAPPHIRE</td>\n",
       "    </tr>\n",
       "    <tr>\n",
       "      <th>...</th>\n",
       "      <td>...</td>\n",
       "      <td>...</td>\n",
       "      <td>...</td>\n",
       "      <td>...</td>\n",
       "      <td>...</td>\n",
       "      <td>...</td>\n",
       "      <td>...</td>\n",
       "      <td>...</td>\n",
       "      <td>...</td>\n",
       "      <td>...</td>\n",
       "    </tr>\n",
       "    <tr>\n",
       "      <th>787</th>\n",
       "      <td>12KK03024</td>\n",
       "      <td>17751</td>\n",
       "      <td>93785</td>\n",
       "      <td>9322</td>\n",
       "      <td>3103</td>\n",
       "      <td>Methamphetamine</td>\n",
       "      <td>2023-11-07</td>\n",
       "      <td>2024-01-20</td>\n",
       "      <td>RAFRA030519901</td>\n",
       "      <td>MURMPP</td>\n",
       "    </tr>\n",
       "    <tr>\n",
       "      <th>789</th>\n",
       "      <td>12KK03024</td>\n",
       "      <td>17751</td>\n",
       "      <td>101524</td>\n",
       "      <td>8492</td>\n",
       "      <td>7199</td>\n",
       "      <td>Cannabinoids and Related Drugs, nec</td>\n",
       "      <td>2023-04-20</td>\n",
       "      <td>2024-01-20</td>\n",
       "      <td>OSEEB160219752</td>\n",
       "      <td>MURMPP</td>\n",
       "    </tr>\n",
       "    <tr>\n",
       "      <th>794</th>\n",
       "      <td>12KK03024</td>\n",
       "      <td>17751</td>\n",
       "      <td>101485</td>\n",
       "      <td>2093</td>\n",
       "      <td>2101</td>\n",
       "      <td>Alcohol</td>\n",
       "      <td>2022-11-18</td>\n",
       "      <td>2023-11-17</td>\n",
       "      <td>ARIYL210819911</td>\n",
       "      <td>MURMPP</td>\n",
       "    </tr>\n",
       "    <tr>\n",
       "      <th>795</th>\n",
       "      <td>12KK03024</td>\n",
       "      <td>17751</td>\n",
       "      <td>101535</td>\n",
       "      <td>3899</td>\n",
       "      <td>3103</td>\n",
       "      <td>Methamphetamine</td>\n",
       "      <td>2023-04-06</td>\n",
       "      <td>2023-11-16</td>\n",
       "      <td>YGAUK280819881</td>\n",
       "      <td>MURMPP</td>\n",
       "    </tr>\n",
       "    <tr>\n",
       "      <th>796</th>\n",
       "      <td>12KK03024</td>\n",
       "      <td>17751</td>\n",
       "      <td>101542</td>\n",
       "      <td>3791</td>\n",
       "      <td>1304</td>\n",
       "      <td>Meperidine analogues</td>\n",
       "      <td>2023-11-24</td>\n",
       "      <td>2024-01-20</td>\n",
       "      <td>ORENT100519651</td>\n",
       "      <td>MURMPP</td>\n",
       "    </tr>\n",
       "  </tbody>\n",
       "</table>\n",
       "<p>289 rows × 10 columns</p>\n",
       "</div>"
      ],
      "text/plain": [
       "    AgencyCode  GEOGRAPHICAL LOCATION  PMSEpisodeID  PMSPersonID  PDCCode   \n",
       "1    12QQ03076                  10550         48350         5324     2101  \\\n",
       "5    12QQ03076                  10550         54450         5526     2101   \n",
       "6    12QQ03076                  10550         59206         5158     2101   \n",
       "8    12QQ03076                  10550         61691         4766     2101   \n",
       "11   12QQ03076                  10550         68628         5036     2101   \n",
       "..         ...                    ...           ...          ...      ...   \n",
       "787  12KK03024                  17751         93785         9322     3103   \n",
       "789  12KK03024                  17751        101524         8492     7199   \n",
       "794  12KK03024                  17751        101485         2093     2101   \n",
       "795  12KK03024                  17751        101535         3899     3103   \n",
       "796  12KK03024                  17751        101542         3791     1304   \n",
       "\n",
       "                   PDCSubstanceOfConcern CommencementDate     EndDate   \n",
       "1                                Alcohol       2022-08-03  2023-08-02  \\\n",
       "5                                Alcohol       2022-10-06  2023-10-05   \n",
       "6                                Alcohol       2022-11-25  2023-11-24   \n",
       "8                                Alcohol       2022-12-22  2023-11-21   \n",
       "11                               Alcohol       2023-03-16  2023-12-13   \n",
       "..                                   ...              ...         ...   \n",
       "787                      Methamphetamine       2023-11-07  2024-01-20   \n",
       "789  Cannabinoids and Related Drugs, nec       2023-04-20  2024-01-20   \n",
       "794                              Alcohol       2022-11-18  2023-11-17   \n",
       "795                      Methamphetamine       2023-04-06  2023-11-16   \n",
       "796                 Meperidine analogues       2023-11-24  2024-01-20   \n",
       "\n",
       "                SLK   Program  \n",
       "1    UCELE131119691  SAPPHIRE  \n",
       "5    AYULA290319921  SAPPHIRE  \n",
       "6    MIHAR301119831  SAPPHIRE  \n",
       "8    ACEUR140319611  SAPPHIRE  \n",
       "11   OYEAL140819561  SAPPHIRE  \n",
       "..              ...       ...  \n",
       "787  RAFRA030519901    MURMPP  \n",
       "789  OSEEB160219752    MURMPP  \n",
       "794  ARIYL210819911    MURMPP  \n",
       "795  YGAUK280819881    MURMPP  \n",
       "796  ORENT100519651    MURMPP  \n",
       "\n",
       "[289 rows x 10 columns]"
      ]
     },
     "execution_count": 46,
     "metadata": {},
     "output_type": "execute_result"
    }
   ],
   "source": [
    "ep_df[ep_df.SLK.isin(unmatched_atoms.SLK)]"
   ]
  },
  {
   "cell_type": "code",
   "execution_count": 22,
   "metadata": {},
   "outputs": [
    {
     "data": {
      "text/html": [
       "<div>\n",
       "<style scoped>\n",
       "    .dataframe tbody tr th:only-of-type {\n",
       "        vertical-align: middle;\n",
       "    }\n",
       "\n",
       "    .dataframe tbody tr th {\n",
       "        vertical-align: top;\n",
       "    }\n",
       "\n",
       "    .dataframe thead th {\n",
       "        text-align: right;\n",
       "    }\n",
       "</style>\n",
       "<table border=\"1\" class=\"dataframe\">\n",
       "  <thead>\n",
       "    <tr style=\"text-align: right;\">\n",
       "      <th></th>\n",
       "      <th>AgencyCode</th>\n",
       "      <th>GEOGRAPHICAL LOCATION</th>\n",
       "      <th>PMSEpisodeID</th>\n",
       "      <th>PMSPersonID</th>\n",
       "      <th>PDCCode</th>\n",
       "      <th>PDCSubstanceOfConcern</th>\n",
       "      <th>CommencementDate</th>\n",
       "      <th>EndDate</th>\n",
       "      <th>SLK</th>\n",
       "      <th>Program</th>\n",
       "    </tr>\n",
       "  </thead>\n",
       "  <tbody>\n",
       "    <tr>\n",
       "      <th>76</th>\n",
       "      <td>12QQ03076</td>\n",
       "      <td>10550</td>\n",
       "      <td>85641</td>\n",
       "      <td>8549</td>\n",
       "      <td>3103</td>\n",
       "      <td>Methamphetamine</td>\n",
       "      <td>2023-09-04</td>\n",
       "      <td>2024-01-20</td>\n",
       "      <td>AYOUR180419951</td>\n",
       "      <td>SAPPHIRE</td>\n",
       "    </tr>\n",
       "  </tbody>\n",
       "</table>\n",
       "</div>"
      ],
      "text/plain": [
       "   AgencyCode  GEOGRAPHICAL LOCATION  PMSEpisodeID  PMSPersonID  PDCCode   \n",
       "76  12QQ03076                  10550         85641         8549     3103  \\\n",
       "\n",
       "   PDCSubstanceOfConcern CommencementDate     EndDate             SLK   \n",
       "76       Methamphetamine       2023-09-04  2024-01-20  AYOUR180419951  \\\n",
       "\n",
       "     Program  \n",
       "76  SAPPHIRE  "
      ]
     },
     "execution_count": 22,
     "metadata": {},
     "output_type": "execute_result"
    }
   ],
   "source": [
    "ep_df[ep_df.SLK == 'AYOUR180419951']"
   ]
  },
  {
   "cell_type": "code",
   "execution_count": 25,
   "metadata": {},
   "outputs": [
    {
     "data": {
      "text/html": [
       "<div>\n",
       "<style scoped>\n",
       "    .dataframe tbody tr th:only-of-type {\n",
       "        vertical-align: middle;\n",
       "    }\n",
       "\n",
       "    .dataframe tbody tr th {\n",
       "        vertical-align: top;\n",
       "    }\n",
       "\n",
       "    .dataframe thead th {\n",
       "        text-align: right;\n",
       "    }\n",
       "</style>\n",
       "<table border=\"1\" class=\"dataframe\">\n",
       "  <thead>\n",
       "    <tr style=\"text-align: right;\">\n",
       "      <th></th>\n",
       "      <th>SLK</th>\n",
       "      <th>RowKey</th>\n",
       "      <th>Program</th>\n",
       "      <th>Staff</th>\n",
       "      <th>AssessmentDate</th>\n",
       "      <th>SDSIsAODUseOutOfControl</th>\n",
       "      <th>SDSHowMuchDoYouWorryAboutAODUse</th>\n",
       "      <th>SDSDoesMissingFixMakeAnxious</th>\n",
       "      <th>SDSDoYouWishToStop</th>\n",
       "      <th>SDSHowDifficultToStopOrGoWithout</th>\n",
       "      <th>...</th>\n",
       "      <th>Another Drug2_DaysInLast28</th>\n",
       "      <th>Another Drug2_TypicalQtyStr</th>\n",
       "      <th>ATOPRiskEviction</th>\n",
       "      <th>ATOPHomeless</th>\n",
       "      <th>Past4Wk_ViolentToYou</th>\n",
       "      <th>PrimaryCaregiver_0-5</th>\n",
       "      <th>PrimaryCaregiver_5-15</th>\n",
       "      <th>PaidWorkDays</th>\n",
       "      <th>StudyDays</th>\n",
       "      <th>SLK_RowKey</th>\n",
       "    </tr>\n",
       "  </thead>\n",
       "  <tbody>\n",
       "    <tr>\n",
       "      <th>1010</th>\n",
       "      <td>AYOUR180419951</td>\n",
       "      <td>SAPPHIRE_INAS_20220525</td>\n",
       "      <td>SAPPHIRE</td>\n",
       "      <td>Nick.Vanbreda</td>\n",
       "      <td>2022-05-25</td>\n",
       "      <td>1.0</td>\n",
       "      <td>2.0</td>\n",
       "      <td>2.0</td>\n",
       "      <td>3.0</td>\n",
       "      <td>1.0</td>\n",
       "      <td>...</td>\n",
       "      <td>NaN</td>\n",
       "      <td>NaN</td>\n",
       "      <td>None</td>\n",
       "      <td>None</td>\n",
       "      <td>None</td>\n",
       "      <td>0</td>\n",
       "      <td>0</td>\n",
       "      <td>None</td>\n",
       "      <td>None</td>\n",
       "      <td>AYOUR180419951_SAPPHIRE_INAS_20220525</td>\n",
       "    </tr>\n",
       "    <tr>\n",
       "      <th>1011</th>\n",
       "      <td>AYOUR180419951</td>\n",
       "      <td>SAPPHIRE_INAS_20230904</td>\n",
       "      <td>SAPPHIRE</td>\n",
       "      <td>Kylie.Wood</td>\n",
       "      <td>2023-09-04</td>\n",
       "      <td>3.0</td>\n",
       "      <td>2.0</td>\n",
       "      <td>1.0</td>\n",
       "      <td>3.0</td>\n",
       "      <td>2.0</td>\n",
       "      <td>...</td>\n",
       "      <td>NaN</td>\n",
       "      <td>NaN</td>\n",
       "      <td>None</td>\n",
       "      <td>None</td>\n",
       "      <td>None</td>\n",
       "      <td>0</td>\n",
       "      <td>0</td>\n",
       "      <td>None</td>\n",
       "      <td>None</td>\n",
       "      <td>AYOUR180419951_SAPPHIRE_INAS_20230904</td>\n",
       "    </tr>\n",
       "    <tr>\n",
       "      <th>1012</th>\n",
       "      <td>AYOUR180419951</td>\n",
       "      <td>SAPPHIRE_ITSP_20231023</td>\n",
       "      <td>SAPPHIRE</td>\n",
       "      <td>Kylie.Wood</td>\n",
       "      <td>2023-10-23</td>\n",
       "      <td>3.0</td>\n",
       "      <td>2.0</td>\n",
       "      <td>3.0</td>\n",
       "      <td>3.0</td>\n",
       "      <td>2.0</td>\n",
       "      <td>...</td>\n",
       "      <td>NaN</td>\n",
       "      <td>NaN</td>\n",
       "      <td>None</td>\n",
       "      <td>None</td>\n",
       "      <td>None</td>\n",
       "      <td>0</td>\n",
       "      <td>0</td>\n",
       "      <td>None</td>\n",
       "      <td>None</td>\n",
       "      <td>AYOUR180419951_SAPPHIRE_ITSP_20231023</td>\n",
       "    </tr>\n",
       "    <tr>\n",
       "      <th>1009</th>\n",
       "      <td>AYOUR180419951</td>\n",
       "      <td>BEGAPATH_ITSP_20231212</td>\n",
       "      <td>BEGAPATH</td>\n",
       "      <td>Kylie.Wood</td>\n",
       "      <td>2023-12-12</td>\n",
       "      <td>2.0</td>\n",
       "      <td>1.0</td>\n",
       "      <td>1.0</td>\n",
       "      <td>2.0</td>\n",
       "      <td>1.0</td>\n",
       "      <td>...</td>\n",
       "      <td>NaN</td>\n",
       "      <td>NaN</td>\n",
       "      <td>None</td>\n",
       "      <td>None</td>\n",
       "      <td>None</td>\n",
       "      <td>0</td>\n",
       "      <td>0</td>\n",
       "      <td>4</td>\n",
       "      <td>None</td>\n",
       "      <td>AYOUR180419951_BEGAPATH_ITSP_20231212</td>\n",
       "    </tr>\n",
       "  </tbody>\n",
       "</table>\n",
       "<p>4 rows × 59 columns</p>\n",
       "</div>"
      ],
      "text/plain": [
       "                 SLK                  RowKey   Program          Staff   \n",
       "1010  AYOUR180419951  SAPPHIRE_INAS_20220525  SAPPHIRE  Nick.Vanbreda  \\\n",
       "1011  AYOUR180419951  SAPPHIRE_INAS_20230904  SAPPHIRE     Kylie.Wood   \n",
       "1012  AYOUR180419951  SAPPHIRE_ITSP_20231023  SAPPHIRE     Kylie.Wood   \n",
       "1009  AYOUR180419951  BEGAPATH_ITSP_20231212  BEGAPATH     Kylie.Wood   \n",
       "\n",
       "     AssessmentDate  SDSIsAODUseOutOfControl  SDSHowMuchDoYouWorryAboutAODUse   \n",
       "1010     2022-05-25                      1.0                              2.0  \\\n",
       "1011     2023-09-04                      3.0                              2.0   \n",
       "1012     2023-10-23                      3.0                              2.0   \n",
       "1009     2023-12-12                      2.0                              1.0   \n",
       "\n",
       "      SDSDoesMissingFixMakeAnxious  SDSDoYouWishToStop   \n",
       "1010                           2.0                 3.0  \\\n",
       "1011                           1.0                 3.0   \n",
       "1012                           3.0                 3.0   \n",
       "1009                           1.0                 2.0   \n",
       "\n",
       "      SDSHowDifficultToStopOrGoWithout  ... Another Drug2_DaysInLast28   \n",
       "1010                               1.0  ...                        NaN  \\\n",
       "1011                               2.0  ...                        NaN   \n",
       "1012                               2.0  ...                        NaN   \n",
       "1009                               1.0  ...                        NaN   \n",
       "\n",
       "     Another Drug2_TypicalQtyStr ATOPRiskEviction ATOPHomeless   \n",
       "1010                         NaN             None         None  \\\n",
       "1011                         NaN             None         None   \n",
       "1012                         NaN             None         None   \n",
       "1009                         NaN             None         None   \n",
       "\n",
       "     Past4Wk_ViolentToYou PrimaryCaregiver_0-5 PrimaryCaregiver_5-15   \n",
       "1010                 None                    0                     0  \\\n",
       "1011                 None                    0                     0   \n",
       "1012                 None                    0                     0   \n",
       "1009                 None                    0                     0   \n",
       "\n",
       "     PaidWorkDays StudyDays                             SLK_RowKey  \n",
       "1010         None      None  AYOUR180419951_SAPPHIRE_INAS_20220525  \n",
       "1011         None      None  AYOUR180419951_SAPPHIRE_INAS_20230904  \n",
       "1012         None      None  AYOUR180419951_SAPPHIRE_ITSP_20231023  \n",
       "1009            4      None  AYOUR180419951_BEGAPATH_ITSP_20231212  \n",
       "\n",
       "[4 rows x 59 columns]"
      ]
     },
     "execution_count": 25,
     "metadata": {},
     "output_type": "execute_result"
    }
   ],
   "source": [
    "atom_df[atom_df.SLK == 'AYOUR180419951']"
   ]
  },
  {
   "cell_type": "code",
   "execution_count": 28,
   "metadata": {},
   "outputs": [
    {
     "data": {
      "text/html": [
       "<div>\n",
       "<style scoped>\n",
       "    .dataframe tbody tr th:only-of-type {\n",
       "        vertical-align: middle;\n",
       "    }\n",
       "\n",
       "    .dataframe tbody tr th {\n",
       "        vertical-align: top;\n",
       "    }\n",
       "\n",
       "    .dataframe thead th {\n",
       "        text-align: right;\n",
       "    }\n",
       "</style>\n",
       "<table border=\"1\" class=\"dataframe\">\n",
       "  <thead>\n",
       "    <tr style=\"text-align: right;\">\n",
       "      <th></th>\n",
       "      <th>PMSEpisodeID</th>\n",
       "      <th>Program</th>\n",
       "      <th>CommencementDate</th>\n",
       "      <th>AssessmentDate</th>\n",
       "      <th>EndDate</th>\n",
       "    </tr>\n",
       "  </thead>\n",
       "  <tbody>\n",
       "    <tr>\n",
       "      <th>166</th>\n",
       "      <td>85641</td>\n",
       "      <td>SAPPHIRE</td>\n",
       "      <td>2023-09-04</td>\n",
       "      <td>2023-09-04</td>\n",
       "      <td>2024-01-20</td>\n",
       "    </tr>\n",
       "    <tr>\n",
       "      <th>167</th>\n",
       "      <td>85641</td>\n",
       "      <td>SAPPHIRE</td>\n",
       "      <td>2023-09-04</td>\n",
       "      <td>2023-10-23</td>\n",
       "      <td>2024-01-20</td>\n",
       "    </tr>\n",
       "  </tbody>\n",
       "</table>\n",
       "</div>"
      ],
      "text/plain": [
       "     PMSEpisodeID   Program CommencementDate AssessmentDate     EndDate\n",
       "166         85641  SAPPHIRE       2023-09-04     2023-09-04  2024-01-20\n",
       "167         85641  SAPPHIRE       2023-09-04     2023-10-23  2024-01-20"
      ]
     },
     "execution_count": 28,
     "metadata": {},
     "output_type": "execute_result"
    }
   ],
   "source": [
    "# unmatched_atoms[unmatched_atoms.SLK == 'AYOUR180419951'] \n",
    "matched_df[matched_df.SLK == 'AYOUR180419951'] [['PMSEpisodeID', 'Program', 'CommencementDate',  'AssessmentDate', 'EndDate']]\n",
    "# BEGAPATH_ITSP_20231212 is within the ep, but wrong program"
   ]
  },
  {
   "cell_type": "code",
   "execution_count": 56,
   "metadata": {},
   "outputs": [],
   "source": [
    "# unmatched having an SLK in ep_df:\n",
    "unmatched_atoms_withep = unmatched_atoms[ unmatched_atoms.SLK.isin(ep_df.SLK.unique())]"
   ]
  },
  {
   "cell_type": "code",
   "execution_count": 58,
   "metadata": {},
   "outputs": [],
   "source": [
    "unmatched_atoms_inperiod =   unmatched_atoms.loc[ (unmatched_atoms.AssessmentDate>= active_clients_start_date ) & (unmatched_atoms.AssessmentDate <= active_clients_end_date)]"
   ]
  },
  {
   "cell_type": "code",
   "execution_count": 59,
   "metadata": {},
   "outputs": [],
   "source": [
    "unmatched_pc = round(len(unmatched_atoms_inperiod)*100/len(atom_df),1)"
   ]
  },
  {
   "cell_type": "code",
   "execution_count": 53,
   "metadata": {},
   "outputs": [],
   "source": [
    "# episodes without ATOM match\n",
    "eps_no_assessment = ep_df[ ~ep_df.SLK.isin(matched_slks)]"
   ]
  },
  {
   "cell_type": "code",
   "execution_count": 54,
   "metadata": {},
   "outputs": [
    {
     "data": {
      "text/html": [
       "<div>\n",
       "<style scoped>\n",
       "    .dataframe tbody tr th:only-of-type {\n",
       "        vertical-align: middle;\n",
       "    }\n",
       "\n",
       "    .dataframe tbody tr th {\n",
       "        vertical-align: top;\n",
       "    }\n",
       "\n",
       "    .dataframe thead th {\n",
       "        text-align: right;\n",
       "    }\n",
       "</style>\n",
       "<table border=\"1\" class=\"dataframe\">\n",
       "  <thead>\n",
       "    <tr style=\"text-align: right;\">\n",
       "      <th></th>\n",
       "      <th>AgencyCode</th>\n",
       "      <th>GEOGRAPHICAL LOCATION</th>\n",
       "      <th>PMSEpisodeID</th>\n",
       "      <th>PMSPersonID</th>\n",
       "      <th>PDCCode</th>\n",
       "      <th>PDCSubstanceOfConcern</th>\n",
       "      <th>CommencementDate</th>\n",
       "      <th>EndDate</th>\n",
       "      <th>SLK</th>\n",
       "      <th>Program</th>\n",
       "    </tr>\n",
       "  </thead>\n",
       "  <tbody>\n",
       "    <tr>\n",
       "      <th>0</th>\n",
       "      <td>12QQ03076</td>\n",
       "      <td>10550</td>\n",
       "      <td>23373</td>\n",
       "      <td>143</td>\n",
       "      <td>2101</td>\n",
       "      <td>Alcohol</td>\n",
       "      <td>2021-12-16</td>\n",
       "      <td>2023-09-14</td>\n",
       "      <td>AMOAT241019791</td>\n",
       "      <td>SAPPHIRE</td>\n",
       "    </tr>\n",
       "    <tr>\n",
       "      <th>1</th>\n",
       "      <td>12QQ03076</td>\n",
       "      <td>10550</td>\n",
       "      <td>48350</td>\n",
       "      <td>5324</td>\n",
       "      <td>2101</td>\n",
       "      <td>Alcohol</td>\n",
       "      <td>2022-08-03</td>\n",
       "      <td>2023-08-02</td>\n",
       "      <td>UCELE131119691</td>\n",
       "      <td>SAPPHIRE</td>\n",
       "    </tr>\n",
       "    <tr>\n",
       "      <th>2</th>\n",
       "      <td>12QQ03076</td>\n",
       "      <td>10550</td>\n",
       "      <td>51655</td>\n",
       "      <td>8876</td>\n",
       "      <td>2101</td>\n",
       "      <td>Alcohol</td>\n",
       "      <td>2022-09-08</td>\n",
       "      <td>2023-09-07</td>\n",
       "      <td>RO2AC191120001</td>\n",
       "      <td>SAPPHIRE</td>\n",
       "    </tr>\n",
       "    <tr>\n",
       "      <th>3</th>\n",
       "      <td>12QQ03076</td>\n",
       "      <td>10550</td>\n",
       "      <td>51318</td>\n",
       "      <td>7331</td>\n",
       "      <td>2101</td>\n",
       "      <td>Alcohol</td>\n",
       "      <td>2022-09-06</td>\n",
       "      <td>2023-09-05</td>\n",
       "      <td>RAHAR221019911</td>\n",
       "      <td>SAPPHIRE</td>\n",
       "    </tr>\n",
       "    <tr>\n",
       "      <th>4</th>\n",
       "      <td>12QQ03076</td>\n",
       "      <td>10550</td>\n",
       "      <td>53719</td>\n",
       "      <td>139</td>\n",
       "      <td>2101</td>\n",
       "      <td>Alcohol</td>\n",
       "      <td>2022-09-15</td>\n",
       "      <td>2023-09-14</td>\n",
       "      <td>OL2IR141219712</td>\n",
       "      <td>SAPPHIRE</td>\n",
       "    </tr>\n",
       "    <tr>\n",
       "      <th>...</th>\n",
       "      <td>...</td>\n",
       "      <td>...</td>\n",
       "      <td>...</td>\n",
       "      <td>...</td>\n",
       "      <td>...</td>\n",
       "      <td>...</td>\n",
       "      <td>...</td>\n",
       "      <td>...</td>\n",
       "      <td>...</td>\n",
       "      <td>...</td>\n",
       "    </tr>\n",
       "    <tr>\n",
       "      <th>792</th>\n",
       "      <td>12KK03024</td>\n",
       "      <td>17751</td>\n",
       "      <td>98514</td>\n",
       "      <td>9999</td>\n",
       "      <td>3103</td>\n",
       "      <td>Methamphetamine</td>\n",
       "      <td>2023-12-15</td>\n",
       "      <td>2024-01-20</td>\n",
       "      <td>ONDOR111119951</td>\n",
       "      <td>MURMPP</td>\n",
       "    </tr>\n",
       "    <tr>\n",
       "      <th>793</th>\n",
       "      <td>12KK03024</td>\n",
       "      <td>17751</td>\n",
       "      <td>99259</td>\n",
       "      <td>10043</td>\n",
       "      <td>1</td>\n",
       "      <td>NaN</td>\n",
       "      <td>2023-11-21</td>\n",
       "      <td>2023-12-21</td>\n",
       "      <td>ENHOH150719571</td>\n",
       "      <td>MURMPP</td>\n",
       "    </tr>\n",
       "    <tr>\n",
       "      <th>794</th>\n",
       "      <td>12KK03024</td>\n",
       "      <td>17751</td>\n",
       "      <td>101485</td>\n",
       "      <td>2093</td>\n",
       "      <td>2101</td>\n",
       "      <td>Alcohol</td>\n",
       "      <td>2022-11-18</td>\n",
       "      <td>2023-11-17</td>\n",
       "      <td>ARIYL210819911</td>\n",
       "      <td>MURMPP</td>\n",
       "    </tr>\n",
       "    <tr>\n",
       "      <th>795</th>\n",
       "      <td>12KK03024</td>\n",
       "      <td>17751</td>\n",
       "      <td>101535</td>\n",
       "      <td>3899</td>\n",
       "      <td>3103</td>\n",
       "      <td>Methamphetamine</td>\n",
       "      <td>2023-04-06</td>\n",
       "      <td>2023-11-16</td>\n",
       "      <td>YGAUK280819881</td>\n",
       "      <td>MURMPP</td>\n",
       "    </tr>\n",
       "    <tr>\n",
       "      <th>796</th>\n",
       "      <td>12KK03024</td>\n",
       "      <td>17751</td>\n",
       "      <td>101542</td>\n",
       "      <td>3791</td>\n",
       "      <td>1304</td>\n",
       "      <td>Meperidine analogues</td>\n",
       "      <td>2023-11-24</td>\n",
       "      <td>2024-01-20</td>\n",
       "      <td>ORENT100519651</td>\n",
       "      <td>MURMPP</td>\n",
       "    </tr>\n",
       "  </tbody>\n",
       "</table>\n",
       "<p>796 rows × 10 columns</p>\n",
       "</div>"
      ],
      "text/plain": [
       "    AgencyCode  GEOGRAPHICAL LOCATION  PMSEpisodeID  PMSPersonID  PDCCode   \n",
       "0    12QQ03076                  10550         23373          143     2101  \\\n",
       "1    12QQ03076                  10550         48350         5324     2101   \n",
       "2    12QQ03076                  10550         51655         8876     2101   \n",
       "3    12QQ03076                  10550         51318         7331     2101   \n",
       "4    12QQ03076                  10550         53719          139     2101   \n",
       "..         ...                    ...           ...          ...      ...   \n",
       "792  12KK03024                  17751         98514         9999     3103   \n",
       "793  12KK03024                  17751         99259        10043        1   \n",
       "794  12KK03024                  17751        101485         2093     2101   \n",
       "795  12KK03024                  17751        101535         3899     3103   \n",
       "796  12KK03024                  17751        101542         3791     1304   \n",
       "\n",
       "    PDCSubstanceOfConcern CommencementDate     EndDate             SLK   \n",
       "0                 Alcohol       2021-12-16  2023-09-14  AMOAT241019791  \\\n",
       "1                 Alcohol       2022-08-03  2023-08-02  UCELE131119691   \n",
       "2                 Alcohol       2022-09-08  2023-09-07  RO2AC191120001   \n",
       "3                 Alcohol       2022-09-06  2023-09-05  RAHAR221019911   \n",
       "4                 Alcohol       2022-09-15  2023-09-14  OL2IR141219712   \n",
       "..                    ...              ...         ...             ...   \n",
       "792       Methamphetamine       2023-12-15  2024-01-20  ONDOR111119951   \n",
       "793                   NaN       2023-11-21  2023-12-21  ENHOH150719571   \n",
       "794               Alcohol       2022-11-18  2023-11-17  ARIYL210819911   \n",
       "795       Methamphetamine       2023-04-06  2023-11-16  YGAUK280819881   \n",
       "796  Meperidine analogues       2023-11-24  2024-01-20  ORENT100519651   \n",
       "\n",
       "      Program  \n",
       "0    SAPPHIRE  \n",
       "1    SAPPHIRE  \n",
       "2    SAPPHIRE  \n",
       "3    SAPPHIRE  \n",
       "4    SAPPHIRE  \n",
       "..        ...  \n",
       "792    MURMPP  \n",
       "793    MURMPP  \n",
       "794    MURMPP  \n",
       "795    MURMPP  \n",
       "796    MURMPP  \n",
       "\n",
       "[796 rows x 10 columns]"
      ]
     },
     "execution_count": 54,
     "metadata": {},
     "output_type": "execute_result"
    }
   ],
   "source": [
    "eps_no_assessment"
   ]
  },
  {
   "cell_type": "code",
   "execution_count": 60,
   "metadata": {},
   "outputs": [
    {
     "name": "stdout",
     "output_type": "stream",
     "text": [
      "Unmatched Atoms(1213 - 38.5% )  without Episode (slack 0) = 732,       # SLKs unmatched : 264\n"
     ]
    }
   ],
   "source": [
    "\n",
    "print(f\"Unmatched Atoms({len(unmatched_atoms_inperiod)} - {unmatched_pc}% )  without Episode (slack {matching_ndays_slack}) = {len(unmatched_atoms_withep)},\\\n",
    "       # SLKs unmatched : {len(unmatched_atoms_withep['SLK'].unique())}\")"
   ]
  },
  {
   "cell_type": "code",
   "execution_count": 73,
   "metadata": {},
   "outputs": [
    {
     "data": {
      "text/plain": [
       "42"
      ]
     },
     "execution_count": 73,
     "metadata": {},
     "output_type": "execute_result"
    }
   ],
   "source": []
  },
  {
   "cell_type": "code",
   "execution_count": 29,
   "metadata": {},
   "outputs": [
    {
     "data": {
      "text/plain": [
       "(608, 1225)"
      ]
     },
     "execution_count": 29,
     "metadata": {},
     "output_type": "execute_result"
    }
   ],
   "source": [
    "len(matched_df.SLK.unique()), len(atom_df.SLK.unique())"
   ]
  },
  {
   "cell_type": "code",
   "execution_count": 32,
   "metadata": {},
   "outputs": [
    {
     "data": {
      "text/plain": [
       "[]"
      ]
     },
     "execution_count": 32,
     "metadata": {},
     "output_type": "execute_result"
    }
   ],
   "source": [
    "# matched_df[['SLK', 'CommencementDate', 'AssessmentDate', 'EndDate']].head(30)\n",
    "# matched_df\n",
    "# matched_df[[c for c in atom_df.columns if 'Cigarette' in c]]\n",
    "[c for c in atom_df.columns if 'Cigarette' in c]\n",
    "# sed -i 's/\"0\\.0\"/\"0\"/g' data/out/no-header/new_surveyTXT_2022-07-01_2023-12-31\\(RemovedMissingTestIds\\).csv "
   ]
  },
  {
   "cell_type": "code",
   "execution_count": 30,
   "metadata": {},
   "outputs": [
    {
     "ename": "KeyError",
     "evalue": "\"['Stage'] not in index\"",
     "output_type": "error",
     "traceback": [
      "\u001b[1;31m---------------------------------------------------------------------------\u001b[0m",
      "\u001b[1;31mKeyError\u001b[0m                                  Traceback (most recent call last)",
      "Cell \u001b[1;32mIn[30], line 1\u001b[0m\n\u001b[1;32m----> 1\u001b[0m \u001b[43mmatched_df\u001b[49m\u001b[43m[\u001b[49m\u001b[43m \u001b[49m\u001b[43mmatched_df\u001b[49m\u001b[38;5;241;43m.\u001b[39;49m\u001b[43mSLK\u001b[49m\u001b[43m \u001b[49m\u001b[38;5;241;43m==\u001b[39;49m\u001b[43m \u001b[49m\u001b[38;5;124;43m'\u001b[39;49m\u001b[38;5;124;43mUCELE131119691\u001b[39;49m\u001b[38;5;124;43m'\u001b[39;49m\u001b[43m]\u001b[49m\u001b[43m[\u001b[49m\u001b[43m[\u001b[49m\u001b[38;5;124;43m'\u001b[39;49m\u001b[38;5;124;43mSLK\u001b[39;49m\u001b[38;5;124;43m'\u001b[39;49m\u001b[43m,\u001b[49m\u001b[43m \u001b[49m\u001b[38;5;124;43m'\u001b[39;49m\u001b[38;5;124;43mCommencementDate\u001b[39;49m\u001b[38;5;124;43m'\u001b[39;49m\u001b[43m,\u001b[49m\u001b[43m \u001b[49m\u001b[38;5;124;43m'\u001b[39;49m\u001b[38;5;124;43mAssessmentDate\u001b[39;49m\u001b[38;5;124;43m'\u001b[39;49m\u001b[43m,\u001b[49m\u001b[43m \u001b[49m\u001b[38;5;124;43m'\u001b[39;49m\u001b[38;5;124;43mEndDate\u001b[39;49m\u001b[38;5;124;43m'\u001b[39;49m\u001b[43m \u001b[49m\u001b[43m,\u001b[49m\u001b[38;5;124;43m'\u001b[39;49m\u001b[38;5;124;43mStage\u001b[39;49m\u001b[38;5;124;43m'\u001b[39;49m\u001b[43m]\u001b[49m\u001b[43m]\u001b[49m\n",
      "File \u001b[1;32mc:\\Users\\aftab.jalal\\dev\\atom-analysis\\.venv\\Lib\\site-packages\\pandas\\core\\frame.py:3767\u001b[0m, in \u001b[0;36mDataFrame.__getitem__\u001b[1;34m(self, key)\u001b[0m\n\u001b[0;32m   3765\u001b[0m     \u001b[38;5;28;01mif\u001b[39;00m is_iterator(key):\n\u001b[0;32m   3766\u001b[0m         key \u001b[38;5;241m=\u001b[39m \u001b[38;5;28mlist\u001b[39m(key)\n\u001b[1;32m-> 3767\u001b[0m     indexer \u001b[38;5;241m=\u001b[39m \u001b[38;5;28;43mself\u001b[39;49m\u001b[38;5;241;43m.\u001b[39;49m\u001b[43mcolumns\u001b[49m\u001b[38;5;241;43m.\u001b[39;49m\u001b[43m_get_indexer_strict\u001b[49m\u001b[43m(\u001b[49m\u001b[43mkey\u001b[49m\u001b[43m,\u001b[49m\u001b[43m \u001b[49m\u001b[38;5;124;43m\"\u001b[39;49m\u001b[38;5;124;43mcolumns\u001b[39;49m\u001b[38;5;124;43m\"\u001b[39;49m\u001b[43m)\u001b[49m[\u001b[38;5;241m1\u001b[39m]\n\u001b[0;32m   3769\u001b[0m \u001b[38;5;66;03m# take() does not accept boolean indexers\u001b[39;00m\n\u001b[0;32m   3770\u001b[0m \u001b[38;5;28;01mif\u001b[39;00m \u001b[38;5;28mgetattr\u001b[39m(indexer, \u001b[38;5;124m\"\u001b[39m\u001b[38;5;124mdtype\u001b[39m\u001b[38;5;124m\"\u001b[39m, \u001b[38;5;28;01mNone\u001b[39;00m) \u001b[38;5;241m==\u001b[39m \u001b[38;5;28mbool\u001b[39m:\n",
      "File \u001b[1;32mc:\\Users\\aftab.jalal\\dev\\atom-analysis\\.venv\\Lib\\site-packages\\pandas\\core\\indexes\\base.py:5876\u001b[0m, in \u001b[0;36mIndex._get_indexer_strict\u001b[1;34m(self, key, axis_name)\u001b[0m\n\u001b[0;32m   5873\u001b[0m \u001b[38;5;28;01melse\u001b[39;00m:\n\u001b[0;32m   5874\u001b[0m     keyarr, indexer, new_indexer \u001b[38;5;241m=\u001b[39m \u001b[38;5;28mself\u001b[39m\u001b[38;5;241m.\u001b[39m_reindex_non_unique(keyarr)\n\u001b[1;32m-> 5876\u001b[0m \u001b[38;5;28;43mself\u001b[39;49m\u001b[38;5;241;43m.\u001b[39;49m\u001b[43m_raise_if_missing\u001b[49m\u001b[43m(\u001b[49m\u001b[43mkeyarr\u001b[49m\u001b[43m,\u001b[49m\u001b[43m \u001b[49m\u001b[43mindexer\u001b[49m\u001b[43m,\u001b[49m\u001b[43m \u001b[49m\u001b[43maxis_name\u001b[49m\u001b[43m)\u001b[49m\n\u001b[0;32m   5878\u001b[0m keyarr \u001b[38;5;241m=\u001b[39m \u001b[38;5;28mself\u001b[39m\u001b[38;5;241m.\u001b[39mtake(indexer)\n\u001b[0;32m   5879\u001b[0m \u001b[38;5;28;01mif\u001b[39;00m \u001b[38;5;28misinstance\u001b[39m(key, Index):\n\u001b[0;32m   5880\u001b[0m     \u001b[38;5;66;03m# GH 42790 - Preserve name from an Index\u001b[39;00m\n",
      "File \u001b[1;32mc:\\Users\\aftab.jalal\\dev\\atom-analysis\\.venv\\Lib\\site-packages\\pandas\\core\\indexes\\base.py:5938\u001b[0m, in \u001b[0;36mIndex._raise_if_missing\u001b[1;34m(self, key, indexer, axis_name)\u001b[0m\n\u001b[0;32m   5935\u001b[0m     \u001b[38;5;28;01mraise\u001b[39;00m \u001b[38;5;167;01mKeyError\u001b[39;00m(\u001b[38;5;124mf\u001b[39m\u001b[38;5;124m\"\u001b[39m\u001b[38;5;124mNone of [\u001b[39m\u001b[38;5;132;01m{\u001b[39;00mkey\u001b[38;5;132;01m}\u001b[39;00m\u001b[38;5;124m] are in the [\u001b[39m\u001b[38;5;132;01m{\u001b[39;00maxis_name\u001b[38;5;132;01m}\u001b[39;00m\u001b[38;5;124m]\u001b[39m\u001b[38;5;124m\"\u001b[39m)\n\u001b[0;32m   5937\u001b[0m not_found \u001b[38;5;241m=\u001b[39m \u001b[38;5;28mlist\u001b[39m(ensure_index(key)[missing_mask\u001b[38;5;241m.\u001b[39mnonzero()[\u001b[38;5;241m0\u001b[39m]]\u001b[38;5;241m.\u001b[39munique())\n\u001b[1;32m-> 5938\u001b[0m \u001b[38;5;28;01mraise\u001b[39;00m \u001b[38;5;167;01mKeyError\u001b[39;00m(\u001b[38;5;124mf\u001b[39m\u001b[38;5;124m\"\u001b[39m\u001b[38;5;132;01m{\u001b[39;00mnot_found\u001b[38;5;132;01m}\u001b[39;00m\u001b[38;5;124m not in index\u001b[39m\u001b[38;5;124m\"\u001b[39m)\n",
      "\u001b[1;31mKeyError\u001b[0m: \"['Stage'] not in index\""
     ]
    }
   ],
   "source": [
    "matched_df[ matched_df.SLK == 'UCELE131119691'][['SLK', 'CommencementDate', 'AssessmentDate', 'EndDate' ,'Stage']]"
   ]
  },
  {
   "cell_type": "code",
   "execution_count": 39,
   "metadata": {},
   "outputs": [
    {
     "data": {
      "text/plain": [
       "0              Alcohol\n",
       "1              Alcohol\n",
       "2              Alcohol\n",
       "3              Alcohol\n",
       "4              Alcohol\n",
       "            ...       \n",
       "738            Alcohol\n",
       "739    Methamphetamine\n",
       "740    Methamphetamine\n",
       "741       Cannabinoids\n",
       "742    Methamphetamine\n",
       "Name: PDCSubstanceOfConcern, Length: 690, dtype: object"
      ]
     },
     "execution_count": 39,
     "metadata": {},
     "output_type": "execute_result"
    }
   ],
   "source": [
    "# PDCSubstanceOrGambling atom_df.columns\n",
    "# ep_df.columns # PDCSubstanceOfConcern # PDCCode <- from episode\n",
    "\n",
    "# matched_df.PDC <- from ATOM\n",
    "# matched_df.PDCSubstanceOfConcern <- from Episode"
   ]
  },
  {
   "cell_type": "code",
   "execution_count": 25,
   "metadata": {},
   "outputs": [
    {
     "data": {
      "text/plain": [
       "PDCSubstanceOfConcern\n",
       "Alcohol                                340\n",
       "Methamphetamine                        274\n",
       "Cannabinoids                           102\n",
       "Cannabinoids and Related Drugs, nec     16\n",
       "Nicotine/tobacco                         6\n",
       "Heroin                                   6\n",
       "Amphetamine                              5\n",
       "Benzodiazepines, nec                     5\n",
       "Cocaine                                  3\n",
       "MDMA/Ecstasy                             3\n",
       "Pharmaceutical opioids, nfd              2\n",
       "Other Volatile Solvents, nec             2\n",
       "Gambling                                 2\n",
       "Opioid Antagonists, nec                  1\n",
       "Acetone                                  1\n",
       "Dexamphetamine                           1\n",
       "Cannabinoid agonists                     1\n",
       "Buprenorphine                            1\n",
       "Alprazolam                               1\n",
       "Meperidine analogues                     1\n",
       "Name: count, dtype: int64"
      ]
     },
     "execution_count": 25,
     "metadata": {},
     "output_type": "execute_result"
    }
   ],
   "source": [
    "# list(matched_df.PDC.unique())\n",
    "# list(ep_df.PDCSubstanceOfConcern.unique())\n",
    "ep_df.PDCSubstanceOfConcern.value_counts()"
   ]
  },
  {
   "cell_type": "code",
   "execution_count": 46,
   "metadata": {},
   "outputs": [],
   "source": [
    "# import numpy as np\n",
    "\n",
    "# conditions = [\n",
    "#     # matched_df['PDCSubstanceOfConcern'].isin(['Ethanol', 'Alcohols, n.e.c.']),\n",
    "#      matched_df['PDCSubstanceOfConcern'].isin(['Alcohol']),\n",
    "#     matched_df['PDCCode'].between(7100, 7199),\n",
    "#     matched_df['PDCCode'].between(3100, 3199),\n",
    "#     matched_df['PDCSubstanceOfConcern'].isin(['Pharmaceutical Opioids, n.f.d.']),\n",
    "#     matched_df['PDCCode'].between(2400, 2499),\n",
    "#     matched_df['PDCCode'] == 1202,\n",
    "#     matched_df['PDCCode'].between(1100, 1399),\n",
    "#     ~matched_df['PDCSubstanceOfConcern'].isin(['Nicotine', 'Cocaine'])\n",
    "# ]\n",
    "# # 'Alcohol', 'Cannabinoids and Related Drugs, nec', 'Heroin',\n",
    "# #        'Cannabinoids', 'Benzodiazepines, nec', 'Methamphetamine',\n",
    "# #        'Nicotine/tobacco', 'Cocaine', nan, 'Dexamphetamine',\n",
    "# #        'Amphetamine', 'Other Volatile Solvents, nec', 'MDMA/Ecstasy',\n",
    "# #        'Gambling', 'Alprazolam', 'Cannabinoid agonists', 'Buprenorphine'\n",
    "\n",
    "# choices = [\n",
    "#     'Alcohol',\n",
    "#     'Cannabis',\n",
    "#     'Amphetamines',\n",
    "#     'Other Opioid Use',\n",
    "#     'Tranquilisers',\n",
    "#     'Heroin',\n",
    "#     'Other Opioid Use',\n",
    "#     'Another drug use'\n",
    "# ]\n",
    "\n",
    "# matched_df['PDCFinal'] = np.select(conditions, choices, default=matched_df['PDCSubstanceOfConcern'])"
   ]
  },
  {
   "cell_type": "code",
   "execution_count": 52,
   "metadata": {},
   "outputs": [],
   "source": [
    "# Since the primary key in episodes_df is PMSEpisodeID, and in atoms_df it is a combination of SLK and Program, \n",
    "# you can use the groupby method on the merged_df to group by SLK and Program, \n",
    "# and then check if there is more than one unique PMSEpisodeID for any group.\n",
    "\n",
    "# grouped = matched_df.groupby(['SLK', 'Program'])['PMSEpisodeID'].nunique()\n",
    "grouped = matched_df.groupby(['SLK', 'RowKey'])['PMSEpisodeID'].nunique()\n",
    "duplicates = grouped[grouped > 1]\n"
   ]
  },
  {
   "cell_type": "code",
   "execution_count": 53,
   "metadata": {},
   "outputs": [
    {
     "data": {
      "text/plain": [
       "Series([], Name: PMSEpisodeID, dtype: int64)"
      ]
     },
     "execution_count": 53,
     "metadata": {},
     "output_type": "execute_result"
    }
   ],
   "source": [
    "duplicates"
   ]
  },
  {
   "cell_type": "code",
   "execution_count": 47,
   "metadata": {},
   "outputs": [],
   "source": [
    "# SLK + Program\n",
    "onedupe = matched_df.loc[(matched_df.SLK =='AHYAT141219641') & (matched_df.Program == 'SAPPHIRE')]"
   ]
  },
  {
   "cell_type": "code",
   "execution_count": 48,
   "metadata": {},
   "outputs": [
    {
     "data": {
      "text/html": [
       "<div>\n",
       "<style scoped>\n",
       "    .dataframe tbody tr th:only-of-type {\n",
       "        vertical-align: middle;\n",
       "    }\n",
       "\n",
       "    .dataframe tbody tr th {\n",
       "        vertical-align: top;\n",
       "    }\n",
       "\n",
       "    .dataframe thead th {\n",
       "        text-align: right;\n",
       "    }\n",
       "</style>\n",
       "<table border=\"1\" class=\"dataframe\">\n",
       "  <thead>\n",
       "    <tr style=\"text-align: right;\">\n",
       "      <th></th>\n",
       "      <th>Program</th>\n",
       "      <th>SLK</th>\n",
       "      <th>CommencementDate</th>\n",
       "      <th>AssessmentDate</th>\n",
       "      <th>EndDate</th>\n",
       "      <th>PMSEpisodeID</th>\n",
       "      <th>RowKey</th>\n",
       "    </tr>\n",
       "  </thead>\n",
       "  <tbody>\n",
       "    <tr>\n",
       "      <th>192</th>\n",
       "      <td>SAPPHIRE</td>\n",
       "      <td>AHYAT141219641</td>\n",
       "      <td>2023-07-11</td>\n",
       "      <td>11072023</td>\n",
       "      <td>2023-11-27</td>\n",
       "      <td>79760</td>\n",
       "      <td>SAPPHIRE_INAS_20230711</td>\n",
       "    </tr>\n",
       "    <tr>\n",
       "      <th>193</th>\n",
       "      <td>SAPPHIRE</td>\n",
       "      <td>AHYAT141219641</td>\n",
       "      <td>2023-07-11</td>\n",
       "      <td>19092023</td>\n",
       "      <td>2023-11-27</td>\n",
       "      <td>79760</td>\n",
       "      <td>SAPPHIRE_ITSP_20230919</td>\n",
       "    </tr>\n",
       "    <tr>\n",
       "      <th>194</th>\n",
       "      <td>SAPPHIRE</td>\n",
       "      <td>AHYAT141219641</td>\n",
       "      <td>2023-07-11</td>\n",
       "      <td>28112023</td>\n",
       "      <td>2023-11-27</td>\n",
       "      <td>79760</td>\n",
       "      <td>SAPPHIRE_ITSP_20231128</td>\n",
       "    </tr>\n",
       "    <tr>\n",
       "      <th>197</th>\n",
       "      <td>SAPPHIRE</td>\n",
       "      <td>AHYAT141219641</td>\n",
       "      <td>2023-11-28</td>\n",
       "      <td>28112023</td>\n",
       "      <td>2024-01-18</td>\n",
       "      <td>99200</td>\n",
       "      <td>SAPPHIRE_ITSP_20231128</td>\n",
       "    </tr>\n",
       "  </tbody>\n",
       "</table>\n",
       "</div>"
      ],
      "text/plain": [
       "      Program             SLK CommencementDate AssessmentDate     EndDate   \n",
       "192  SAPPHIRE  AHYAT141219641       2023-07-11       11072023  2023-11-27  \\\n",
       "193  SAPPHIRE  AHYAT141219641       2023-07-11       19092023  2023-11-27   \n",
       "194  SAPPHIRE  AHYAT141219641       2023-07-11       28112023  2023-11-27   \n",
       "197  SAPPHIRE  AHYAT141219641       2023-11-28       28112023  2024-01-18   \n",
       "\n",
       "     PMSEpisodeID                  RowKey  \n",
       "192         79760  SAPPHIRE_INAS_20230711  \n",
       "193         79760  SAPPHIRE_ITSP_20230919  \n",
       "194         79760  SAPPHIRE_ITSP_20231128  \n",
       "197         99200  SAPPHIRE_ITSP_20231128  "
      ]
     },
     "execution_count": 48,
     "metadata": {},
     "output_type": "execute_result"
    }
   ],
   "source": [
    "onedupe [['Program', 'SLK', 'CommencementDate', 'AssessmentDate', 'EndDate', 'PMSEpisodeID', 'RowKey']]"
   ]
  },
  {
   "cell_type": "code",
   "execution_count": 34,
   "metadata": {},
   "outputs": [],
   "source": [
    "\n",
    "# Get the keys for the duplicate rows\n",
    "duplicate_keys = duplicates.index\n",
    "\n",
    "# Filter matched_df to show only rows that match the duplicate keys\n",
    "duplicate_rows_df = matched_df[matched_df.set_index(['SLK', 'RowKey']).index.isin(duplicate_keys)]\n",
    "\n",
    "# Show all rows in the resulting DataFrame\n",
    "# pd.set_option('display.max_rows', None)  # Set this to display all rows\n",
    "\n"
   ]
  },
  {
   "cell_type": "code",
   "execution_count": 35,
   "metadata": {},
   "outputs": [
    {
     "data": {
      "text/html": [
       "<div>\n",
       "<style scoped>\n",
       "    .dataframe tbody tr th:only-of-type {\n",
       "        vertical-align: middle;\n",
       "    }\n",
       "\n",
       "    .dataframe tbody tr th {\n",
       "        vertical-align: top;\n",
       "    }\n",
       "\n",
       "    .dataframe thead th {\n",
       "        text-align: right;\n",
       "    }\n",
       "</style>\n",
       "<table border=\"1\" class=\"dataframe\">\n",
       "  <thead>\n",
       "    <tr style=\"text-align: right;\">\n",
       "      <th></th>\n",
       "      <th>SLK</th>\n",
       "      <th>RowKey</th>\n",
       "      <th>Program</th>\n",
       "      <th>CommencementDate</th>\n",
       "      <th>EndDate</th>\n",
       "      <th>PMSEpisodeID</th>\n",
       "      <th>AssessmentDate</th>\n",
       "    </tr>\n",
       "  </thead>\n",
       "  <tbody>\n",
       "    <tr>\n",
       "      <th>65</th>\n",
       "      <td>AHYAT141219641</td>\n",
       "      <td>SAPPHIRE_ITSP_20231128</td>\n",
       "      <td>SAPPHIRE</td>\n",
       "      <td>2023-07-11</td>\n",
       "      <td>2023-11-27</td>\n",
       "      <td>79760</td>\n",
       "      <td>2023-11-28</td>\n",
       "    </tr>\n",
       "    <tr>\n",
       "      <th>68</th>\n",
       "      <td>AHYAT141219641</td>\n",
       "      <td>SAPPHIRE_ITSP_20231128</td>\n",
       "      <td>SAPPHIRE</td>\n",
       "      <td>2023-11-28</td>\n",
       "      <td>2024-01-08</td>\n",
       "      <td>99200</td>\n",
       "      <td>2023-11-28</td>\n",
       "    </tr>\n",
       "  </tbody>\n",
       "</table>\n",
       "</div>"
      ],
      "text/plain": [
       "               SLK                  RowKey   Program CommencementDate   \n",
       "65  AHYAT141219641  SAPPHIRE_ITSP_20231128  SAPPHIRE       2023-07-11  \\\n",
       "68  AHYAT141219641  SAPPHIRE_ITSP_20231128  SAPPHIRE       2023-11-28   \n",
       "\n",
       "       EndDate  PMSEpisodeID AssessmentDate  \n",
       "65  2023-11-27         79760     2023-11-28  \n",
       "68  2024-01-08         99200     2023-11-28  "
      ]
     },
     "execution_count": 35,
     "metadata": {},
     "output_type": "execute_result"
    }
   ],
   "source": [
    "duplicate_rows_df[['SLK','RowKey',  'Program'  ,  'CommencementDate',   'EndDate' , 'PMSEpisodeID', 'AssessmentDate' ]]"
   ]
  },
  {
   "cell_type": "code",
   "execution_count": 28,
   "metadata": {},
   "outputs": [
    {
     "data": {
      "text/plain": [
       "Program\n",
       "EUROPATH    237\n",
       "SAPPHIRE    218\n",
       "MURMICE     194\n",
       "GOLBICE     170\n",
       "GOLBGNRL    115\n",
       "MURMWIO      75\n",
       "MURMPP       66\n",
       "MONPATH      58\n",
       "BEGAPATH     28\n",
       "MURMHEAD      1\n",
       "Name: count, dtype: int64"
      ]
     },
     "execution_count": 28,
     "metadata": {},
     "output_type": "execute_result"
    }
   ],
   "source": [
    "matched_df['Program'].value_counts()"
   ]
  },
  {
   "cell_type": "code",
   "execution_count": 43,
   "metadata": {},
   "outputs": [],
   "source": [
    "# matched_df.to_csv(f\"{results_folder}matched_df.csv\", index=False)"
   ]
  },
  {
   "cell_type": "code",
   "execution_count": 29,
   "metadata": {},
   "outputs": [
    {
     "data": {
      "text/plain": [
       "(642,)"
      ]
     },
     "execution_count": 29,
     "metadata": {},
     "output_type": "execute_result"
    }
   ],
   "source": [
    "matched_df.PMSEpisodeID.unique().shape"
   ]
  },
  {
   "cell_type": "code",
   "execution_count": null,
   "metadata": {},
   "outputs": [],
   "source": [
    "# atom_df[ (atom_df.AssessmentDate >= active_clients_start_date ) & (atom_df.AssessmentDate <= active_clients_end_date)].count()"
   ]
  },
  {
   "cell_type": "code",
   "execution_count": 32,
   "metadata": {},
   "outputs": [
    {
     "data": {
      "text/plain": [
       "818"
      ]
     },
     "execution_count": 32,
     "metadata": {},
     "output_type": "execute_result"
    }
   ],
   "source": [
    "# len(atom_df[ (atom_df.AssessmentDate >= active_clients_start_date ) & (atom_df.AssessmentDate <= active_clients_end_date)])"
   ]
  },
  {
   "cell_type": "code",
   "execution_count": 23,
   "metadata": {},
   "outputs": [
    {
     "data": {
      "text/html": [
       "<div>\n",
       "<style scoped>\n",
       "    .dataframe tbody tr th:only-of-type {\n",
       "        vertical-align: middle;\n",
       "    }\n",
       "\n",
       "    .dataframe tbody tr th {\n",
       "        vertical-align: top;\n",
       "    }\n",
       "\n",
       "    .dataframe thead th {\n",
       "        text-align: right;\n",
       "    }\n",
       "</style>\n",
       "<table border=\"1\" class=\"dataframe\">\n",
       "  <thead>\n",
       "    <tr style=\"text-align: right;\">\n",
       "      <th></th>\n",
       "      <th>Nicotine_DaysInLast28</th>\n",
       "      <th>Nicotine_PerOccassionUse</th>\n",
       "      <th>Nicotine_TypicalQtyStr</th>\n",
       "    </tr>\n",
       "  </thead>\n",
       "  <tbody>\n",
       "    <tr>\n",
       "      <th>3116</th>\n",
       "      <td>28</td>\n",
       "      <td>None</td>\n",
       "      <td></td>\n",
       "    </tr>\n",
       "    <tr>\n",
       "      <th>3117</th>\n",
       "      <td>28</td>\n",
       "      <td>None</td>\n",
       "      <td></td>\n",
       "    </tr>\n",
       "  </tbody>\n",
       "</table>\n",
       "</div>"
      ],
      "text/plain": [
       "     Nicotine_DaysInLast28 Nicotine_PerOccassionUse Nicotine_TypicalQtyStr\n",
       "3116                    28                     None                       \n",
       "3117                    28                     None                       "
      ]
     },
     "execution_count": 23,
     "metadata": {},
     "output_type": "execute_result"
    }
   ],
   "source": [
    "atom_df[atom_df['SLK'] =='OLOAC010820061'][[c for c in atom_df.columns if 'Nicotine_' in c]]"
   ]
  },
  {
   "cell_type": "code",
   "execution_count": null,
   "metadata": {},
   "outputs": [],
   "source": [
    "# len(matched_df.PMSEpisodeID.unique())"
   ]
  },
  {
   "cell_type": "code",
   "execution_count": 54,
   "metadata": {},
   "outputs": [],
   "source": [
    "matched_df.to_csv('./data/out/NADA_Matched_20220701-20231231.csv')"
   ]
  },
  {
   "cell_type": "code",
   "execution_count": 40,
   "metadata": {},
   "outputs": [],
   "source": [
    "# df = pd.read_csv('./data/out/NADA_Matched_20230701-2023-12-31.csv')"
   ]
  },
  {
   "cell_type": "code",
   "execution_count": 64,
   "metadata": {},
   "outputs": [
    {
     "data": {
      "text/plain": [
       "Index(['AgencyCode', 'GEOGRAPHICAL LOCATION', 'PMSEpisodeID', 'PMSPersonID',\n",
       "       'PDCCode', 'PDCSubstanceOfConcern', 'CommencementDate', 'EndDate',\n",
       "       'SLK', 'Program', 'RowKey', 'Staff', 'AssessmentDate',\n",
       "       'SDSIsAODUseOutOfControl', 'SDSHowMuchDoYouWorryAboutAODUse',\n",
       "       'SDSDoesMissingFixMakeAnxious', 'SDSDoYouWishToStop',\n",
       "       'SDSHowDifficultToStopOrGoWithout', 'K10Q01', 'K10Q02', 'K10Q03',\n",
       "       'K10Q04', 'K10Q05', 'K10Q06', 'K10Q07', 'K10Q08', 'K10Q09', 'K10Q10',\n",
       "       'AssessmentType', 'Past4WkPhysicalHealth', 'Past4WkMentalHealth',\n",
       "       'Past4WkHaveYouViolenceAbusive', 'Past4WkBeenArrested',\n",
       "       'Past4WkQualityOfLifeScore', 'Past4WkNumInjectingDays',\n",
       "       'Alcohol_DaysInLast28', 'Alcohol_PerOccassionUse',\n",
       "       'Alcohol_TypicalQtyStr', 'Amphetamines_DaysInLast28',\n",
       "       'Amphetamines_TypicalQtyStr', 'Another Drug1',\n",
       "       'Another Drug1_DaysInLast28', 'Another Drug1_TypicalQtyStr',\n",
       "       'Cannabis_DaysInLast28', 'Cannabis_TypicalQtyStr',\n",
       "       'Nicotine_DaysInLast28', 'Nicotine_PerOccassionUse',\n",
       "       'Nicotine_TypicalQtyStr', 'Other Opioids_DaysInLast28',\n",
       "       'Other Opioids_TypicalQtyStr', 'Heroin_DaysInLast28',\n",
       "       'Heroin_TypicalQtyStr', 'Cocaine_DaysInLast28', 'Cocaine_TypicalQtyStr',\n",
       "       'Benzodiazepines_DaysInLast28', 'Benzodiazepines_TypicalQtyStr',\n",
       "       'Another Drug2', 'Another Drug2_DaysInLast28',\n",
       "       'Another Drug2_TypicalQtyStr', 'ATOPRiskEviction', 'ATOPHomeless',\n",
       "       'Past4Wk_ViolentToYou', 'PrimaryCaregiver_0-5', 'PrimaryCaregiver_5-15',\n",
       "       'PaidWorkDays', 'StudyDays', 'SLK_RowKey'],\n",
       "      dtype='object')"
      ]
     },
     "execution_count": 64,
     "metadata": {},
     "output_type": "execute_result"
    }
   ],
   "source": [
    "# matched_df['Past4WkEngagedInOtheractivities.Paid Work'][0:2].apply(lambda x : x['Days'] if 'Days' in x)\n",
    "matched_df.columns"
   ]
  },
  {
   "cell_type": "code",
   "execution_count": 55,
   "metadata": {},
   "outputs": [],
   "source": [
    "from data_config import nada_final_fields"
   ]
  },
  {
   "cell_type": "code",
   "execution_count": 66,
   "metadata": {},
   "outputs": [
    {
     "data": {
      "text/plain": [
       "AgencyCode\n",
       "12QQ03062    233\n",
       "12QQ03076    210\n",
       "13K034       182\n",
       "13Q035       169\n",
       "12QQ03022    114\n",
       "12KK03025     72\n",
       "12KK03024     64\n",
       "12QQ03061     56\n",
       "12QQ03063     27\n",
       "12KK03023      1\n",
       "Name: count, dtype: int64"
      ]
     },
     "execution_count": 66,
     "metadata": {},
     "output_type": "execute_result"
    }
   ],
   "source": [
    "matched_df['AgencyCode'].value_counts()"
   ]
  },
  {
   "cell_type": "code",
   "execution_count": 21,
   "metadata": {},
   "outputs": [],
   "source": [
    "\n"
   ]
  },
  {
   "cell_type": "code",
   "execution_count": 56,
   "metadata": {},
   "outputs": [],
   "source": [
    "matched_df[\"Stage\"] = get_stage_per_episode(matched_df)"
   ]
  },
  {
   "cell_type": "code",
   "execution_count": 57,
   "metadata": {},
   "outputs": [
    {
     "data": {
      "text/plain": [
       "(Timestamp('2020-07-10 00:00:00'), Timestamp('2023-12-22 00:00:00'))"
      ]
     },
     "execution_count": 57,
     "metadata": {},
     "output_type": "execute_result"
    }
   ],
   "source": [
    "min(matched_df['AssessmentDate']), max(matched_df['AssessmentDate'])"
   ]
  },
  {
   "cell_type": "code",
   "execution_count": 58,
   "metadata": {},
   "outputs": [],
   "source": [
    "matched_df['AssessmentDate'] = matched_df['AssessmentDate'].dt.strftime('%d%m%Y')\n"
   ]
  },
  {
   "cell_type": "code",
   "execution_count": 29,
   "metadata": {},
   "outputs": [
    {
     "data": {
      "text/plain": [
       "0         0\n",
       "1         0\n",
       "2         0\n",
       "3         0\n",
       "4         0\n",
       "       ... \n",
       "899    None\n",
       "900       0\n",
       "901    None\n",
       "902       0\n",
       "903    None\n",
       "Name: ATOPHomeless, Length: 663, dtype: object"
      ]
     },
     "execution_count": 29,
     "metadata": {},
     "output_type": "execute_result"
    }
   ],
   "source": [
    "matched_df['ATOPHomeless']"
   ]
  },
  {
   "cell_type": "code",
   "execution_count": 59,
   "metadata": {},
   "outputs": [],
   "source": [
    "df_final = pd.DataFrame(columns=nada_final_fields)\n",
    "\n",
    "for column in nada_final_fields:\n",
    "    if column in matched_df.columns:\n",
    "        df_final[column] = matched_df[column]  # Or use another default value\n",
    "    else:\n",
    "        df_final[column] =\"\"\n"
   ]
  },
  {
   "cell_type": "code",
   "execution_count": null,
   "metadata": {},
   "outputs": [],
   "source": [
    "# from utils.df_ops_base import drop_fields\n",
    "# debug_cols_to_drop =['GEOGRAPHICAL LOCATION', 'PDCSubstanceOfConcern','CommencementDate' ,'EndDate','SLK','Program','RowKey', 'Staff','AssessmentType']\n",
    "# nada_final_df = drop_fields(df_final,debug_cols_to_drop)"
   ]
  },
  {
   "cell_type": "code",
   "execution_count": 36,
   "metadata": {},
   "outputs": [],
   "source": [
    "for mycol in df_final.columns:\n",
    "  if not mycol in nada_final_fields:\n",
    "    print(mycol)"
   ]
  },
  {
   "cell_type": "code",
   "execution_count": null,
   "metadata": {},
   "outputs": [],
   "source": [
    "# ddmmyyyy - assesment date\n",
    "# stage"
   ]
  },
  {
   "cell_type": "code",
   "execution_count": 60,
   "metadata": {},
   "outputs": [
    {
     "data": {
      "text/plain": [
       "Index(['AgencyCode', 'PMSEpisodeID', 'PMSPersonID', 'Stage', 'AssessmentDate',\n",
       "       'PDCCode', 'SDSIsAODUseOutOfControl', 'SDSDoesMissingFixMakeAnxious',\n",
       "       'SDSHowMuchDoYouWorryAboutAODUse', 'SDSDoYouWishToStop',\n",
       "       ...\n",
       "       'ATOPHomeless', 'ATOPRiskEviction', 'PrimaryCaregiver_0-5',\n",
       "       'PrimaryCaregiver_5-15', 'Past4WkBeenArrested', 'Past4Wk_ViolentToYou',\n",
       "       'Past4WkHaveYouViolenceAbusive', 'Past4WkMentalHealth',\n",
       "       'Past4WkPhysicalHealth', 'Past4WkQualityOfLifeScore'],\n",
       "      dtype='object', length=160)"
      ]
     },
     "execution_count": 60,
     "metadata": {},
     "output_type": "execute_result"
    }
   ],
   "source": [
    "df_final.columns"
   ]
  },
  {
   "cell_type": "code",
   "execution_count": 29,
   "metadata": {},
   "outputs": [
    {
     "data": {
      "text/plain": [
       "array(['12QQ03076', '12QQ03063', '12QQ03061', '12QQ03062', '12QQ03022',\n",
       "       '13Q035', '13K034', '12KK03025', '12KK03024'], dtype=object)"
      ]
     },
     "execution_count": 29,
     "metadata": {},
     "output_type": "execute_result"
    }
   ],
   "source": []
  },
  {
   "cell_type": "code",
   "execution_count": 61,
   "metadata": {},
   "outputs": [],
   "source": [
    "survy_text_fname = f\"{active_clients_start_date}_{active_clients_end_date}\""
   ]
  },
  {
   "cell_type": "code",
   "execution_count": 62,
   "metadata": {},
   "outputs": [],
   "source": [
    "df_final['PMSPersonID'] = df_final['PMSPersonID'].astype(str).apply(lambda x: x.zfill(4))\n"
   ]
  },
  {
   "cell_type": "code",
   "execution_count": 40,
   "metadata": {},
   "outputs": [
    {
     "name": "stdout",
     "output_type": "stream",
     "text": [
      "<class 'pandas.core.frame.DataFrame'>\n",
      "RangeIndex: 1155 entries, 0 to 1154\n",
      "Columns: 160 entries, AgencyCode to Past4WkQualityOfLifeScore\n",
      "dtypes: float64(8), int64(3), object(149)\n",
      "memory usage: 1.4+ MB\n"
     ]
    }
   ],
   "source": [
    "df_final.info()"
   ]
  },
  {
   "cell_type": "code",
   "execution_count": 41,
   "metadata": {},
   "outputs": [
    {
     "data": {
      "text/plain": [
       "Index(['AgencyCode', 'PMSEpisodeID', 'PMSPersonID', 'Stage', 'AssessmentDate',\n",
       "       'PDCCode', 'SDSIsAODUseOutOfControl', 'SDSDoesMissingFixMakeAnxious',\n",
       "       'SDSHowMuchDoYouWorryAboutAODUse', 'SDSDoYouWishToStop',\n",
       "       ...\n",
       "       'ATOPHomeless', 'ATOPRiskEviction', 'PrimaryCaregiver_0-5',\n",
       "       'PrimaryCaregiver_5-15', 'Past4WkBeenArrested', 'Past4Wk_ViolentToYou',\n",
       "       'Past4WkHaveYouViolenceAbusive', 'Past4WkMentalHealth',\n",
       "       'Past4WkPhysicalHealth', 'Past4WkQualityOfLifeScore'],\n",
       "      dtype='object', length=160)"
      ]
     },
     "execution_count": 41,
     "metadata": {},
     "output_type": "execute_result"
    }
   ],
   "source": [
    "df_final.columns"
   ]
  },
  {
   "cell_type": "code",
   "execution_count": 63,
   "metadata": {},
   "outputs": [],
   "source": [
    "float_cols = df_final.select_dtypes(include=['float']).columns\n",
    "df_final[float_cols] = df_final[float_cols].astype('Int64')\n",
    "# float_cols = df.select_dtypes(include=['float']).columns\n",
    "# df[float_cols] = df[float_cols].astype('Int64')"
   ]
  },
  {
   "cell_type": "code",
   "execution_count": 43,
   "metadata": {},
   "outputs": [],
   "source": [
    "# import csv"
   ]
  },
  {
   "cell_type": "code",
   "execution_count": 86,
   "metadata": {},
   "outputs": [
    {
     "data": {
      "text/html": [
       "<div>\n",
       "<style scoped>\n",
       "    .dataframe tbody tr th:only-of-type {\n",
       "        vertical-align: middle;\n",
       "    }\n",
       "\n",
       "    .dataframe tbody tr th {\n",
       "        vertical-align: top;\n",
       "    }\n",
       "\n",
       "    .dataframe thead th {\n",
       "        text-align: right;\n",
       "    }\n",
       "</style>\n",
       "<table border=\"1\" class=\"dataframe\">\n",
       "  <thead>\n",
       "    <tr style=\"text-align: right;\">\n",
       "      <th></th>\n",
       "      <th>Alcohol_DaysInLast28</th>\n",
       "      <th>Alcohol_DaysInLast28</th>\n",
       "    </tr>\n",
       "  </thead>\n",
       "  <tbody>\n",
       "    <tr>\n",
       "      <th>0</th>\n",
       "      <td>2</td>\n",
       "      <td>2</td>\n",
       "    </tr>\n",
       "    <tr>\n",
       "      <th>1</th>\n",
       "      <td>0</td>\n",
       "      <td>0</td>\n",
       "    </tr>\n",
       "    <tr>\n",
       "      <th>2</th>\n",
       "      <td>6</td>\n",
       "      <td>6</td>\n",
       "    </tr>\n",
       "    <tr>\n",
       "      <th>3</th>\n",
       "      <td>16</td>\n",
       "      <td>16</td>\n",
       "    </tr>\n",
       "    <tr>\n",
       "      <th>4</th>\n",
       "      <td>14</td>\n",
       "      <td>14</td>\n",
       "    </tr>\n",
       "  </tbody>\n",
       "</table>\n",
       "</div>"
      ],
      "text/plain": [
       "  Alcohol_DaysInLast28 Alcohol_DaysInLast28\n",
       "0                    2                    2\n",
       "1                    0                    0\n",
       "2                    6                    6\n",
       "3                   16                   16\n",
       "4                   14                   14"
      ]
     },
     "execution_count": 86,
     "metadata": {},
     "output_type": "execute_result"
    }
   ],
   "source": [
    "df_final['Alcohol_DaysInLast28'].head()"
   ]
  },
  {
   "cell_type": "code",
   "execution_count": 64,
   "metadata": {},
   "outputs": [],
   "source": [
    "import csv"
   ]
  },
  {
   "cell_type": "code",
   "execution_count": 65,
   "metadata": {},
   "outputs": [],
   "source": [
    "out_path = f\"./data/out/no-header/new_surveyTXT_{survy_text_fname}.csv\"\n",
    "df_final.to_csv(out_path,index=False,header=False,quoting=csv.QUOTE_ALL)\n",
    "out_path = f\"./data/out/new_surveyTXT_{survy_text_fname}.csv\"\n",
    "df_final.to_csv(out_path,index=False,quoting=csv.QUOTE_ALL)"
   ]
  },
  {
   "cell_type": "code",
   "execution_count": 35,
   "metadata": {},
   "outputs": [],
   "source": [
    "# my_agency_codes = df_final['AgencyCode'].unique()\n",
    "\n",
    "# for agency_code, program in EstablishmentID_Program.items():\n",
    "#   if not agency_code in my_agency_codes:\n",
    "#     continue\n",
    "#   out_path = f\"./data/out/no-header/new_surveyTXT_{program}_{survy_text_fname}.csv\"\n",
    "#   df_final[df_final.AgencyCode == agency_code].to_csv(out_path,index=False,header=False)\n",
    "#   out_path = f\"./data/out/new_surveyTXT_{program}_{survy_text_fname}.csv\"\n",
    "#   df_final[df_final.AgencyCode == agency_code].to_csv(out_path,index=False)\n",
    "  "
   ]
  },
  {
   "cell_type": "code",
   "execution_count": 32,
   "metadata": {},
   "outputs": [
    {
     "data": {
      "text/plain": [
       "'20230701-20231231'"
      ]
     },
     "execution_count": 32,
     "metadata": {},
     "output_type": "execute_result"
    }
   ],
   "source": [
    "fname"
   ]
  },
  {
   "cell_type": "code",
   "execution_count": 76,
   "metadata": {},
   "outputs": [
    {
     "data": {
      "text/html": [
       "<div>\n",
       "<style scoped>\n",
       "    .dataframe tbody tr th:only-of-type {\n",
       "        vertical-align: middle;\n",
       "    }\n",
       "\n",
       "    .dataframe tbody tr th {\n",
       "        vertical-align: top;\n",
       "    }\n",
       "\n",
       "    .dataframe thead th {\n",
       "        text-align: right;\n",
       "    }\n",
       "</style>\n",
       "<table border=\"1\" class=\"dataframe\">\n",
       "  <thead>\n",
       "    <tr style=\"text-align: right;\">\n",
       "      <th></th>\n",
       "      <th>AgencyCode</th>\n",
       "      <th>GEOGRAPHICAL LOCATION</th>\n",
       "      <th>PMSEpisodeID</th>\n",
       "      <th>PMSPersonID</th>\n",
       "      <th>PDCCode</th>\n",
       "      <th>PDCSubstanceOfConcern</th>\n",
       "      <th>CommencementDate</th>\n",
       "      <th>EndDate</th>\n",
       "      <th>SLK</th>\n",
       "      <th>Program</th>\n",
       "    </tr>\n",
       "  </thead>\n",
       "  <tbody>\n",
       "    <tr>\n",
       "      <th>44</th>\n",
       "      <td>12QQ03076</td>\n",
       "      <td>10550</td>\n",
       "      <td>79856</td>\n",
       "      <td>9527</td>\n",
       "      <td>2101</td>\n",
       "      <td>Alcohol</td>\n",
       "      <td>2023-07-11</td>\n",
       "      <td>2023-08-30</td>\n",
       "      <td>AW2AT050619771</td>\n",
       "      <td>SAPPHIRE</td>\n",
       "    </tr>\n",
       "  </tbody>\n",
       "</table>\n",
       "</div>"
      ],
      "text/plain": [
       "   AgencyCode  GEOGRAPHICAL LOCATION  PMSEpisodeID  PMSPersonID  PDCCode   \n",
       "44  12QQ03076                  10550         79856         9527     2101  \\\n",
       "\n",
       "   PDCSubstanceOfConcern CommencementDate     EndDate             SLK   \n",
       "44               Alcohol       2023-07-11  2023-08-30  AW2AT050619771  \\\n",
       "\n",
       "     Program  \n",
       "44  SAPPHIRE  "
      ]
     },
     "execution_count": 76,
     "metadata": {},
     "output_type": "execute_result"
    }
   ],
   "source": [
    "ep_df[ep_df.PMSEpisodeID == 79856]\n"
   ]
  },
  {
   "cell_type": "markdown",
   "metadata": {},
   "source": [
    "# stats"
   ]
  },
  {
   "cell_type": "code",
   "execution_count": 66,
   "metadata": {},
   "outputs": [
    {
     "data": {
      "text/plain": [
       "AgencyCode\n",
       "12QQ03062    237\n",
       "12QQ03076    216\n",
       "13K034       192\n",
       "13Q035       169\n",
       "12QQ03022    115\n",
       "12KK03025     74\n",
       "12KK03024     66\n",
       "12QQ03061     58\n",
       "12QQ03063     27\n",
       "12KK03023      1\n",
       "Name: count, dtype: int64"
      ]
     },
     "execution_count": 66,
     "metadata": {},
     "output_type": "execute_result"
    }
   ],
   "source": [
    "df_final['AgencyCode'].value_counts()"
   ]
  },
  {
   "cell_type": "code",
   "execution_count": 69,
   "metadata": {},
   "outputs": [],
   "source": [
    "# def coms_matched_to_episodes_in_period(matched_df1:pd.DataFrame, start_dt, end_dt):\n",
    "#   matched_df = matched_df1.copy()\n",
    "#   # Convert start_date and end_date to datetime\n",
    "#   start_date = pd.to_datetime(start_dt)\n",
    "#   end_date = pd.to_datetime(end_dt)\n",
    "\n",
    "#   # Ensure CommencementDate and EndDate are in datetime format\n",
    "#   # matched_df['CommencementDate'] = pd.to_datetime(matched_df['CommencementDate'])\n",
    "#   matched_df['EndDate'] = pd.to_datetime(matched_df['EndDate'])\n",
    "\n",
    "#   # Filter the DataFrame # (matched_df['CommencementDate'] >= start_date) | \n",
    "#   # ended_inperiod =  end_date >= matched_df['EndDate'] >= end_date\n",
    "  \n",
    "#   started_before_periodend  = matched_df['CommencementDate'] <= end_date\n",
    "#   ended_after_periodstart = matched_df['EndDate'] <= start_date\n",
    "\n",
    "#   matched_in_period = matched_df[started_before_periodend  &  ended_after_periodstart]\n",
    "#   return matched_in_period\n",
    "\n",
    "def coms_matched_to_episodes_in_period(matched_df1: pd.DataFrame, start_dt, end_dt):\n",
    "    matched_df = matched_df1.copy()\n",
    "\n",
    "    # Convert start_date and end_date to datetime\n",
    "    start_date = pd.to_datetime(start_dt).date()\n",
    "    end_date = pd.to_datetime(end_dt).date()\n",
    "\n",
    "    # Ensure CommencementDate and EndDate are in datetime format and converted to date\n",
    "    matched_df['CommencementDate'] = pd.to_datetime(matched_df['CommencementDate']).dt.date\n",
    "    matched_df['EndDate'] = pd.to_datetime(matched_df['EndDate']).dt.date\n",
    "\n",
    "    # Filter the DataFrame\n",
    "    started_before_periodend = matched_df['CommencementDate'] <= end_date\n",
    "    ended_after_periodstart = matched_df['EndDate'] >= start_date\n",
    "\n",
    "    matched_in_period = matched_df[started_before_periodend & ended_after_periodstart]\n",
    "    return matched_in_period"
   ]
  },
  {
   "cell_type": "code",
   "execution_count": 56,
   "metadata": {},
   "outputs": [
    {
     "data": {
      "text/html": [
       "<div>\n",
       "<style scoped>\n",
       "    .dataframe tbody tr th:only-of-type {\n",
       "        vertical-align: middle;\n",
       "    }\n",
       "\n",
       "    .dataframe tbody tr th {\n",
       "        vertical-align: top;\n",
       "    }\n",
       "\n",
       "    .dataframe thead th {\n",
       "        text-align: right;\n",
       "    }\n",
       "</style>\n",
       "<table border=\"1\" class=\"dataframe\">\n",
       "  <thead>\n",
       "    <tr style=\"text-align: right;\">\n",
       "      <th></th>\n",
       "      <th>PMSEpisodeID</th>\n",
       "      <th>PMSPersonID</th>\n",
       "      <th>CommencementDate</th>\n",
       "      <th>EndDate</th>\n",
       "      <th>AssessmentDate</th>\n",
       "    </tr>\n",
       "  </thead>\n",
       "  <tbody>\n",
       "    <tr>\n",
       "      <th>124</th>\n",
       "      <td>80642</td>\n",
       "      <td>8787</td>\n",
       "      <td>2023-07-18</td>\n",
       "      <td>2023-08-17</td>\n",
       "      <td>18072023</td>\n",
       "    </tr>\n",
       "  </tbody>\n",
       "</table>\n",
       "</div>"
      ],
      "text/plain": [
       "     PMSEpisodeID  PMSPersonID CommencementDate     EndDate AssessmentDate\n",
       "124         80642         8787       2023-07-18  2023-08-17       18072023"
      ]
     },
     "execution_count": 56,
     "metadata": {},
     "output_type": "execute_result"
    }
   ],
   "source": [
    "matched_df[matched_df.PMSEpisodeID == 80642 ][['PMSEpisodeID','PMSPersonID','CommencementDate', 'EndDate','AssessmentDate']]"
   ]
  },
  {
   "cell_type": "code",
   "execution_count": 68,
   "metadata": {},
   "outputs": [],
   "source": [
    "bad_eps = pd.read_csv('logs/badEpisodeIds.txt', header=None, names=['BadEpisodeIds'])\n",
    "bad_clients = pd.read_csv('logs/badClientIds.txt', header=None, names=['BadClientIds'])\n"
   ]
  },
  {
   "cell_type": "code",
   "execution_count": 61,
   "metadata": {},
   "outputs": [
    {
     "name": "stdout",
     "output_type": "stream",
     "text": [
      "<class 'pandas.core.series.Series'>\n",
      "RangeIndex: 1155 entries, 0 to 1154\n",
      "Series name: PMSEpisodeID\n",
      "Non-Null Count  Dtype\n",
      "--------------  -----\n",
      "1155 non-null   int64\n",
      "dtypes: int64(1)\n",
      "memory usage: 9.2 KB\n"
     ]
    }
   ],
   "source": [
    "# matched_df.PMSEpisodeID.info()"
   ]
  },
  {
   "cell_type": "code",
   "execution_count": 75,
   "metadata": {},
   "outputs": [],
   "source": [
    "clean_matched = matched_df[~ matched_df.PMSEpisodeID.isin(bad_eps['BadEpisodeIds'])]"
   ]
  },
  {
   "cell_type": "code",
   "execution_count": 76,
   "metadata": {},
   "outputs": [
    {
     "data": {
      "text/plain": [
       "(1114, 1155)"
      ]
     },
     "execution_count": 76,
     "metadata": {},
     "output_type": "execute_result"
    }
   ],
   "source": [
    "len(clean_matched), len(matched_df)"
   ]
  },
  {
   "cell_type": "code",
   "execution_count": 77,
   "metadata": {},
   "outputs": [],
   "source": [
    "clean_matched = clean_matched[~ clean_matched.PMSPersonID.isin(bad_clients['BadClientIds'])]"
   ]
  },
  {
   "cell_type": "code",
   "execution_count": 80,
   "metadata": {},
   "outputs": [],
   "source": [
    "# len(clean_matched)\n",
    "matched_df = clean_matched"
   ]
  },
  {
   "cell_type": "code",
   "execution_count": 70,
   "metadata": {},
   "outputs": [],
   "source": [
    "# number of Episodes and atoms in period, broken down by quarter\n",
    "start_dt = '2023-07-01'\n",
    "end_dt ='2023-09-30'\n",
    "#Jul - Sep  # Episodes, ATOMS, Matched ATOMs\n",
    "jul_sep_matched = coms_matched_to_episodes_in_period(matched_df,start_dt, end_dt)\n",
    "\n",
    "\n",
    "#Oct - Dec  # Episodes, ATOMS, Matched ATOMs\n",
    "start_dt = '2023-10-01'\n",
    "end_dt ='2023-12-31'\n",
    "#Jul - Sep  # Episodes, ATOMS, Matched ATOMs\n",
    "oct_dec_matched = coms_matched_to_episodes_in_period(matched_df,start_dt, end_dt)\n",
    "\n"
   ]
  },
  {
   "cell_type": "code",
   "execution_count": 71,
   "metadata": {},
   "outputs": [
    {
     "data": {
      "text/plain": [
       "(971, 831)"
      ]
     },
     "execution_count": 71,
     "metadata": {},
     "output_type": "execute_result"
    }
   ],
   "source": [
    "len(jul_sep_matched) , len(oct_dec_matched)"
   ]
  },
  {
   "cell_type": "code",
   "execution_count": 84,
   "metadata": {},
   "outputs": [
    {
     "name": "stdout",
     "output_type": "stream",
     "text": [
      "<class 'pandas.core.series.Series'>\n",
      "RangeIndex: 1128 entries, 0 to 1127\n",
      "Series name: EndDate\n",
      "Non-Null Count  Dtype \n",
      "--------------  ----- \n",
      "1128 non-null   object\n",
      "dtypes: object(1)\n",
      "memory usage: 8.9+ KB\n"
     ]
    }
   ],
   "source": [
    "# max(matched_df.EndDate)\n",
    "matched_df.EndDate.info()"
   ]
  },
  {
   "cell_type": "code",
   "execution_count": null,
   "metadata": {},
   "outputs": [],
   "source": [
    "\n",
    "# my_agency_codes = df_final['AgencyCode'].unique()\n",
    "# for agency_code, program in EstablishmentID_Program.items():\n",
    "#   if not agency_code in my_agency_codes:\n",
    "#     continue\n",
    "#   print(df_final['AgencyCode'].)"
   ]
  },
  {
   "cell_type": "code",
   "execution_count": 38,
   "metadata": {},
   "outputs": [
    {
     "data": {
      "text/html": [
       "<div>\n",
       "<style scoped>\n",
       "    .dataframe tbody tr th:only-of-type {\n",
       "        vertical-align: middle;\n",
       "    }\n",
       "\n",
       "    .dataframe tbody tr th {\n",
       "        vertical-align: top;\n",
       "    }\n",
       "\n",
       "    .dataframe thead th {\n",
       "        text-align: right;\n",
       "    }\n",
       "</style>\n",
       "<table border=\"1\" class=\"dataframe\">\n",
       "  <thead>\n",
       "    <tr style=\"text-align: right;\">\n",
       "      <th></th>\n",
       "      <th>Benzodiazepines_TypicalQtyStr</th>\n",
       "      <th>Benzodiazepines_DaysInLast28</th>\n",
       "      <th>Program</th>\n",
       "    </tr>\n",
       "  </thead>\n",
       "  <tbody>\n",
       "    <tr>\n",
       "      <th>1033</th>\n",
       "      <td>10.0; dosage (mgs)</td>\n",
       "      <td>28</td>\n",
       "      <td>SAPPHIRE</td>\n",
       "    </tr>\n",
       "    <tr>\n",
       "      <th>638</th>\n",
       "      <td>17.0; dosage (mgs)</td>\n",
       "      <td>28</td>\n",
       "      <td>SAPPHIRE</td>\n",
       "    </tr>\n",
       "    <tr>\n",
       "      <th>639</th>\n",
       "      <td>17.0; dosage (mgs)</td>\n",
       "      <td>28</td>\n",
       "      <td>SAPPHIRE</td>\n",
       "    </tr>\n",
       "    <tr>\n",
       "      <th>640</th>\n",
       "      <td>17.0; dosage (mgs)</td>\n",
       "      <td>28</td>\n",
       "      <td>SAPPHIRE</td>\n",
       "    </tr>\n",
       "    <tr>\n",
       "      <th>1255</th>\n",
       "      <td>1.0; pills</td>\n",
       "      <td>14</td>\n",
       "      <td>SAPPHIRE</td>\n",
       "    </tr>\n",
       "    <tr>\n",
       "      <th>1042</th>\n",
       "      <td>0.5; dosage (mgs)</td>\n",
       "      <td>8</td>\n",
       "      <td>SAPPHIRE</td>\n",
       "    </tr>\n",
       "    <tr>\n",
       "      <th>1034</th>\n",
       "      <td>2.0; dosage (mgs)</td>\n",
       "      <td>28</td>\n",
       "      <td>SAPPHIRE</td>\n",
       "    </tr>\n",
       "  </tbody>\n",
       "</table>\n",
       "</div>"
      ],
      "text/plain": [
       "     Benzodiazepines_TypicalQtyStr Benzodiazepines_DaysInLast28   Program\n",
       "1033            10.0; dosage (mgs)                           28  SAPPHIRE\n",
       "638             17.0; dosage (mgs)                           28  SAPPHIRE\n",
       "639             17.0; dosage (mgs)                           28  SAPPHIRE\n",
       "640             17.0; dosage (mgs)                           28  SAPPHIRE\n",
       "1255                    1.0; pills                           14  SAPPHIRE\n",
       "1042             0.5; dosage (mgs)                            8  SAPPHIRE\n",
       "1034             2.0; dosage (mgs)                           28  SAPPHIRE"
      ]
     },
     "execution_count": 38,
     "metadata": {},
     "output_type": "execute_result"
    }
   ],
   "source": [
    "program_mask = (atom_df['Program'] =='SAPPHIRE') \n",
    "mask =  (atom_df['Benzodiazepines_DaysInLast28'].notna()) & (atom_df['Benzodiazepines_DaysInLast28'] != \"\") \n",
    "fields = [c for c in atom_df.columns if 'Benzodiazepines' in c]\n",
    "fields.append('Program')\n",
    "atom_df[program_mask & mask][  fields]"
   ]
  },
  {
   "cell_type": "code",
   "execution_count": 32,
   "metadata": {},
   "outputs": [],
   "source": [
    "# df_final.to_csv(\"./data/out/surveyTXT_20230701-2023-12-31.csv\")"
   ]
  }
 ],
 "metadata": {
  "kernelspec": {
   "display_name": ".venv",
   "language": "python",
   "name": "python3"
  },
  "language_info": {
   "codemirror_mode": {
    "name": "ipython",
    "version": 3
   },
   "file_extension": ".py",
   "mimetype": "text/x-python",
   "name": "python",
   "nbconvert_exporter": "python",
   "pygments_lexer": "ipython3",
   "version": "3.11.3"
  },
  "orig_nbformat": 4
 },
 "nbformat": 4,
 "nbformat_minor": 2
}
