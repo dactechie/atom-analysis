{
 "cells": [
  {
   "cell_type": "markdown",
   "metadata": {},
   "source": [
    "# Data Extract and upload for NADAbase\n",
    "\n",
    "## Steps\n",
    "\n",
    "1. Extract Episodes for the period from Communicare\n",
    "2. Extract ATOM data\n",
    "3. Match Assessments with Episodes\n",
    "4. Generate the upload Survey.txt file."
   ]
  },
  {
   "cell_type": "code",
   "execution_count": 1,
   "metadata": {},
   "outputs": [],
   "source": [
    "# import os\n",
    "\n",
    "import pandas as pd\n",
    "\n",
    "# import numpy as np\n",
    "import mylogger\n",
    "# from nada_load import load_and_parse_csv\n",
    "from data_config import EstablishmentID_Program\n",
    "from utils.df_xtrct_prep import  load_and_parse_csv\n",
    "from utils.fromstr import convert_format_datestr\n",
    "\n",
    "logger = mylogger.get(__name__)\n",
    "# # List of column names in the CSV\n",
    "# column_names = ['ESTABLISHMENT IDENTIFIER', 'GEOGRAPHICAL LOCATION', 'PMSEpisodeID', 'PMSPersonID', 'DOB', 'DOB STATUS', 'SEX', 'COUNTRY OF BIRTH', 'INDIGENOUS STATUS', 'PREFERRED LANGUAGE', 'SOURCE OF INCOME', 'LIVING ARRANGEMENT', 'USUAL ACCOMMODATION', 'CLIENT TYPE', 'PRINCIPAL DRUG OF CONCERN', 'PDCSubstanceOfConcern', 'ILLICIT USE', 'METHOD OF USE PRINCIPAL DRUG', 'INJECTING DRUG USE', 'SETTING', 'CommencementDate', 'POSTCODE', 'SOURCE OF REFERRAL', 'MAIN SERVICE', 'EndDate', 'END REASON', 'REFERRAL TO ANOTHER SERVICE', 'FAMILY NAME', 'GIVEN NAME', 'MIDDLE NAME', 'TITLE', 'SLK', 'MEDICARE NUMBER', 'PROPERTY NAME', 'UNIT FLAT NUMBER', 'STREET NUMBER', 'STREET NAME', 'SUBURB']\n",
    "\n",
    "\n"
   ]
  },
  {
   "cell_type": "markdown",
   "metadata": {},
   "source": [
    "## Episode Data"
   ]
  },
  {
   "cell_type": "code",
   "execution_count": 2,
   "metadata": {},
   "outputs": [],
   "source": [
    "# Global variables\n",
    "active_clients_start_date ='2023-07-01' \n",
    "active_clients_end_date = '2023-12-31'\n",
    "\n",
    "start_dt = convert_format_datestr(active_clients_start_date,'%Y-%m-%d', '%d%m%Y')\n",
    "end_dt = convert_format_datestr(active_clients_end_date,'%Y-%m-%d', '%d%m%Y')\n",
    "\n",
    "\n",
    "ep_source_filename = f'DATS_AllPrograms_{start_dt}-{end_dt}' #'DATS_Annual_AllPrograms_FY22-23'\n",
    "ep_datasource_file_path = f\"./data/in/NSW_CSV/{ep_source_filename}.csv\"\n",
    "\n",
    "# extract_start_date = 20130501\n",
    "# extract_end_date = 20231231\n",
    "\n",
    "# fname = f\"{extract_start_date}_{extract_end_date}\" # TODO :forNaada\n",
    "\n",
    "\n",
    "\n",
    "results_folder = \"./data/out/\""
   ]
  },
  {
   "cell_type": "code",
   "execution_count": 3,
   "metadata": {},
   "outputs": [],
   "source": [
    "# # List of columns we care about\n",
    "columns_of_interest = ['ESTABLISHMENT IDENTIFIER', 'GEOGRAPHICAL LOCATION', 'EPISODE ID','PERSON ID', 'SPECIFY DRUG OF CONCERN', 'PRINCIPAL DRUG OF CONCERN', 'START DATE', 'END DATE', 'SLK']\n",
    "rename_columns = {\n",
    "    'SPECIFY DRUG OF CONCERN': 'PDCSubstanceOfConcern',\n",
    "    'PRINCIPAL DRUG OF CONCERN': 'PDCCode',\n",
    "    'START DATE': 'CommencementDate',\n",
    "    'END DATE': 'EndDate',\n",
    "    'EPISODE ID': 'PMSEpisodeID',\n",
    "    'PERSON ID': 'PMSPersonID',    \n",
    "}"
   ]
  },
  {
   "cell_type": "code",
   "execution_count": 4,
   "metadata": {},
   "outputs": [],
   "source": [
    "# ep_df  = load_and_parse_episode_csvs(ep_datasource_file_path)\n",
    "ep_df = load_and_parse_csv(ep_datasource_file_path, rename_columns, columns_of_interest, date_cols=['START DATE', 'END DATE'])\n",
    "ep_df['Program'] = ep_df['ESTABLISHMENT IDENTIFIER'].map(EstablishmentID_Program)"
   ]
  },
  {
   "cell_type": "code",
   "execution_count": null,
   "metadata": {},
   "outputs": [],
   "source": [
    "# ep_df.head(10)"
   ]
  },
  {
   "cell_type": "code",
   "execution_count": 8,
   "metadata": {},
   "outputs": [
    {
     "data": {
      "text/plain": [
       "(797, datetime.date(2020, 4, 7), datetime.date(2023, 12, 22))"
      ]
     },
     "execution_count": 8,
     "metadata": {},
     "output_type": "execute_result"
    }
   ],
   "source": [
    "len(ep_df), min(ep_df.CommencementDate), max(ep_df.CommencementDate)"
   ]
  },
  {
   "cell_type": "code",
   "execution_count": 5,
   "metadata": {},
   "outputs": [],
   "source": [
    "# ep_df['Program'] = ep_df['ESTABLISHMENT IDENTIFIER'].map(EstablishmentID_Program)\n",
    "ep_df.rename(columns={'ESTABLISHMENT IDENTIFIER': 'AgencyCode'}, inplace=True)"
   ]
  },
  {
   "cell_type": "code",
   "execution_count": 10,
   "metadata": {},
   "outputs": [
    {
     "data": {
      "text/plain": [
       "Index(['AgencyCode', 'GEOGRAPHICAL LOCATION', 'PMSEpisodeID', 'PMSPersonID',\n",
       "       'PDCCode', 'PDCSubstanceOfConcern', 'CommencementDate', 'EndDate',\n",
       "       'SLK', 'Program'],\n",
       "      dtype='object')"
      ]
     },
     "execution_count": 10,
     "metadata": {},
     "output_type": "execute_result"
    }
   ],
   "source": [
    "ep_df.columns"
   ]
  },
  {
   "cell_type": "code",
   "execution_count": null,
   "metadata": {},
   "outputs": [],
   "source": [
    "# ep_df.head()"
   ]
  },
  {
   "cell_type": "markdown",
   "metadata": {},
   "source": [
    "## ATOM Data\n"
   ]
  },
  {
   "cell_type": "code",
   "execution_count": 6,
   "metadata": {},
   "outputs": [],
   "source": [
    "from utils.environment import MyEnvironmentConfig\n",
    "from utils.df_xtrct_prep import extract_prep_atom_data\n"
   ]
  },
  {
   "cell_type": "code",
   "execution_count": null,
   "metadata": {},
   "outputs": [],
   "source": [
    "# to adjust the ODC parser\n",
    "extract_start_date = 20200701\n",
    "extract_end_date = 20231231\n",
    "active_clients_start_date ='2022-07-01' \n",
    "active_clients_end_date = '2023-12-31'\n",
    "fname = f\"{extract_start_date}-{extract_end_date}\" # TODO :forNaada\n",
    "MyEnvironmentConfig().setup('prod')\n",
    "\n",
    "processed_df = extract_prep_atom_data(extract_start_date, extract_end_date\n",
    "                                 , active_clients_start_date\n",
    "                                 , active_clients_end_date\n",
    "                                 , fname, purpose='NADA')"
   ]
  },
  {
   "cell_type": "code",
   "execution_count": 13,
   "metadata": {},
   "outputs": [
    {
     "data": {
      "text/plain": [
       "Index(['SLK', 'RowKey', 'Program', 'Staff', 'AssessmentDate',\n",
       "       'SDSIsAODUseOutOfControl', 'SDSHowMuchDoYouWorryAboutAODUse',\n",
       "       'SDSDoesMissingFixMakeAnxious', 'SDSDoYouWishToStop',\n",
       "       'SDSHowDifficultToStopOrGoWithout', 'K10Q01', 'K10Q02', 'K10Q03',\n",
       "       'K10Q04', 'K10Q05', 'K10Q06', 'K10Q07', 'K10Q08', 'K10Q09', 'K10Q10',\n",
       "       'AssessmentType', 'Past4WkPhysicalHealth', 'Past4WkMentalHealth',\n",
       "       'Past4WkHaveYouViolenceAbusive', 'Past4WkBeenArrested',\n",
       "       'Past4WkQualityOfLifeScore', 'Past4WkNumInjectingDays',\n",
       "       'Alcohol_DaysInLast28', 'Alcohol_PerOccassionUse',\n",
       "       'Alcohol_TypicalQtyStr', 'Amphetamines_DaysInLast28',\n",
       "       'Amphetamines_TypicalQtyStr', 'Another Drug1',\n",
       "       'Another Drug1_DaysInLast28', 'Another Drug1_TypicalQtyStr',\n",
       "       'Cannabis_DaysInLast28', 'Cannabis_TypicalQtyStr',\n",
       "       'Nicotine_DaysInLast28', 'Nicotine_PerOccassionUse',\n",
       "       'Nicotine_TypicalQtyStr', 'Other Opioids_DaysInLast28',\n",
       "       'Other Opioids_TypicalQtyStr', 'Heroin_DaysInLast28',\n",
       "       'Heroin_TypicalQtyStr', 'Cocaine_DaysInLast28', 'Cocaine_TypicalQtyStr',\n",
       "       'Benzodiazepines_DaysInLast28', 'Benzodiazepines_TypicalQtyStr',\n",
       "       'Another Drug2', 'Another Drug2_DaysInLast28',\n",
       "       'Another Drug2_TypicalQtyStr', 'ATOPRiskEviction', 'ATOPHomeless',\n",
       "       'Past4Wk_ViolentToYou', 'PrimaryCaregiver_0-5', 'PrimaryCaregiver_5-15',\n",
       "       'PaidWorkDays', 'StudyDays'],\n",
       "      dtype='object')"
      ]
     },
     "execution_count": 13,
     "metadata": {},
     "output_type": "execute_result"
    }
   ],
   "source": [
    "# processed_df = ['SLK',\t'RowKey','ClientType',\t'AssessmentDate', PDCSubstanceOrGambling\tPDCMethodOfUse\tPDCDaysInLast28\tPDCUnits\tPDCHowMuchPerOccasion\tPDCAgeLastUsed\tPDCGoals\tPDC]\n",
    "processed_df.columns"
   ]
  },
  {
   "cell_type": "code",
   "execution_count": 14,
   "metadata": {},
   "outputs": [
    {
     "data": {
      "text/html": [
       "<div>\n",
       "<style scoped>\n",
       "    .dataframe tbody tr th:only-of-type {\n",
       "        vertical-align: middle;\n",
       "    }\n",
       "\n",
       "    .dataframe tbody tr th {\n",
       "        vertical-align: top;\n",
       "    }\n",
       "\n",
       "    .dataframe thead th {\n",
       "        text-align: right;\n",
       "    }\n",
       "</style>\n",
       "<table border=\"1\" class=\"dataframe\">\n",
       "  <thead>\n",
       "    <tr style=\"text-align: right;\">\n",
       "      <th></th>\n",
       "      <th>SLK</th>\n",
       "      <th>RowKey</th>\n",
       "      <th>Program</th>\n",
       "      <th>Staff</th>\n",
       "      <th>AssessmentDate</th>\n",
       "      <th>SDSIsAODUseOutOfControl</th>\n",
       "      <th>SDSHowMuchDoYouWorryAboutAODUse</th>\n",
       "      <th>SDSDoesMissingFixMakeAnxious</th>\n",
       "      <th>SDSDoYouWishToStop</th>\n",
       "      <th>SDSHowDifficultToStopOrGoWithout</th>\n",
       "      <th>...</th>\n",
       "      <th>Another Drug2</th>\n",
       "      <th>Another Drug2_DaysInLast28</th>\n",
       "      <th>Another Drug2_TypicalQtyStr</th>\n",
       "      <th>ATOPRiskEviction</th>\n",
       "      <th>ATOPHomeless</th>\n",
       "      <th>Past4Wk_ViolentToYou</th>\n",
       "      <th>PrimaryCaregiver_0-5</th>\n",
       "      <th>PrimaryCaregiver_5-15</th>\n",
       "      <th>PaidWorkDays</th>\n",
       "      <th>StudyDays</th>\n",
       "    </tr>\n",
       "  </thead>\n",
       "  <tbody>\n",
       "  </tbody>\n",
       "</table>\n",
       "<p>0 rows × 58 columns</p>\n",
       "</div>"
      ],
      "text/plain": [
       "Empty DataFrame\n",
       "Columns: [SLK, RowKey, Program, Staff, AssessmentDate, SDSIsAODUseOutOfControl, SDSHowMuchDoYouWorryAboutAODUse, SDSDoesMissingFixMakeAnxious, SDSDoYouWishToStop, SDSHowDifficultToStopOrGoWithout, K10Q01, K10Q02, K10Q03, K10Q04, K10Q05, K10Q06, K10Q07, K10Q08, K10Q09, K10Q10, AssessmentType, Past4WkPhysicalHealth, Past4WkMentalHealth, Past4WkHaveYouViolenceAbusive, Past4WkBeenArrested, Past4WkQualityOfLifeScore, Past4WkNumInjectingDays, Alcohol_DaysInLast28, Alcohol_PerOccassionUse, Alcohol_TypicalQtyStr, Amphetamines_DaysInLast28, Amphetamines_TypicalQtyStr, Another Drug1, Another Drug1_DaysInLast28, Another Drug1_TypicalQtyStr, Cannabis_DaysInLast28, Cannabis_TypicalQtyStr, Nicotine_DaysInLast28, Nicotine_PerOccassionUse, Nicotine_TypicalQtyStr, Other Opioids_DaysInLast28, Other Opioids_TypicalQtyStr, Heroin_DaysInLast28, Heroin_TypicalQtyStr, Cocaine_DaysInLast28, Cocaine_TypicalQtyStr, Benzodiazepines_DaysInLast28, Benzodiazepines_TypicalQtyStr, Another Drug2, Another Drug2_DaysInLast28, Another Drug2_TypicalQtyStr, ATOPRiskEviction, ATOPHomeless, Past4Wk_ViolentToYou, PrimaryCaregiver_0-5, PrimaryCaregiver_5-15, PaidWorkDays, StudyDays]\n",
       "Index: []\n",
       "\n",
       "[0 rows x 58 columns]"
      ]
     },
     "execution_count": 14,
     "metadata": {},
     "output_type": "execute_result"
    }
   ],
   "source": [
    "processed_df[processed_df['SLK'] =='EEAOH120519841']"
   ]
  },
  {
   "cell_type": "code",
   "execution_count": 15,
   "metadata": {},
   "outputs": [
    {
     "data": {
      "text/plain": [
       "array(['EUROPATH', 'MURMICE', 'GOLBICE', 'BEGAPATH', 'MONPATH',\n",
       "       'GOLBGNRL', 'MURMHEAD', 'MURMPP', 'SAPPHIRE', 'MURMWIO'],\n",
       "      dtype=object)"
      ]
     },
     "execution_count": 15,
     "metadata": {},
     "output_type": "execute_result"
    }
   ],
   "source": [
    "processed_df['Program'].unique()"
   ]
  },
  {
   "cell_type": "code",
   "execution_count": 10,
   "metadata": {},
   "outputs": [],
   "source": [
    "out = processed_df\n"
   ]
  },
  {
   "cell_type": "code",
   "execution_count": 12,
   "metadata": {},
   "outputs": [
    {
     "data": {
      "text/html": [
       "<div>\n",
       "<style scoped>\n",
       "    .dataframe tbody tr th:only-of-type {\n",
       "        vertical-align: middle;\n",
       "    }\n",
       "\n",
       "    .dataframe tbody tr th {\n",
       "        vertical-align: top;\n",
       "    }\n",
       "\n",
       "    .dataframe thead th {\n",
       "        text-align: right;\n",
       "    }\n",
       "</style>\n",
       "<table border=\"1\" class=\"dataframe\">\n",
       "  <thead>\n",
       "    <tr style=\"text-align: right;\">\n",
       "      <th></th>\n",
       "      <th>Cannabis_TypicalQtyStr</th>\n",
       "      <th>Cannabis_DaysInLast28</th>\n",
       "    </tr>\n",
       "  </thead>\n",
       "  <tbody>\n",
       "    <tr>\n",
       "      <th>448</th>\n",
       "      <td>NaN</td>\n",
       "      <td>NaN</td>\n",
       "    </tr>\n",
       "    <tr>\n",
       "      <th>593</th>\n",
       "      <td>NaN</td>\n",
       "      <td>NaN</td>\n",
       "    </tr>\n",
       "    <tr>\n",
       "      <th>580</th>\n",
       "      <td>NaN</td>\n",
       "      <td>NaN</td>\n",
       "    </tr>\n",
       "    <tr>\n",
       "      <th>548</th>\n",
       "      <td>NaN</td>\n",
       "      <td>NaN</td>\n",
       "    </tr>\n",
       "    <tr>\n",
       "      <th>472</th>\n",
       "      <td>0</td>\n",
       "      <td>0</td>\n",
       "    </tr>\n",
       "    <tr>\n",
       "      <th>...</th>\n",
       "      <td>...</td>\n",
       "      <td>...</td>\n",
       "    </tr>\n",
       "    <tr>\n",
       "      <th>1104</th>\n",
       "      <td>NaN</td>\n",
       "      <td>NaN</td>\n",
       "    </tr>\n",
       "    <tr>\n",
       "      <th>817</th>\n",
       "      <td>3.0; cones / joints</td>\n",
       "      <td>0</td>\n",
       "    </tr>\n",
       "    <tr>\n",
       "      <th>629</th>\n",
       "      <td>NaN</td>\n",
       "      <td>NaN</td>\n",
       "    </tr>\n",
       "    <tr>\n",
       "      <th>1164</th>\n",
       "      <td>0.5; grams</td>\n",
       "      <td>4</td>\n",
       "    </tr>\n",
       "    <tr>\n",
       "      <th>799</th>\n",
       "      <td>2.0; grams</td>\n",
       "      <td>28</td>\n",
       "    </tr>\n",
       "  </tbody>\n",
       "</table>\n",
       "<p>1319 rows × 2 columns</p>\n",
       "</div>"
      ],
      "text/plain": [
       "     Cannabis_TypicalQtyStr Cannabis_DaysInLast28\n",
       "448                     NaN                   NaN\n",
       "593                     NaN                   NaN\n",
       "580                     NaN                   NaN\n",
       "548                     NaN                   NaN\n",
       "472                       0                     0\n",
       "...                     ...                   ...\n",
       "1104                    NaN                   NaN\n",
       "817     3.0; cones / joints                     0\n",
       "629                     NaN                   NaN\n",
       "1164             0.5; grams                     4\n",
       "799              2.0; grams                    28\n",
       "\n",
       "[1319 rows x 2 columns]"
      ]
     },
     "execution_count": 12,
     "metadata": {},
     "output_type": "execute_result"
    }
   ],
   "source": [
    "out[ [c for c in out.columns if 'Cannabis' in c]] "
   ]
  },
  {
   "cell_type": "code",
   "execution_count": 7,
   "metadata": {},
   "outputs": [
    {
     "data": {
      "text/plain": [
       "K10Q12\n",
       "18    8\n",
       "25    3\n",
       "21    2\n",
       "1     2\n",
       "5     2\n",
       "10    2\n",
       "15    2\n",
       "2     2\n",
       "8     2\n",
       "13    1\n",
       "28    1\n",
       "14    1\n",
       "3     1\n",
       "20    1\n",
       "23    1\n",
       "Name: count, dtype: int64"
      ]
     },
     "execution_count": 7,
     "metadata": {},
     "output_type": "execute_result"
    }
   ],
   "source": [
    "processed_df.K10Q12.value_counts()"
   ]
  },
  {
   "cell_type": "code",
   "execution_count": 16,
   "metadata": {},
   "outputs": [],
   "source": [
    "# from utils.io import write_parquet\n",
    "# processed_filepath = f\"./data/processed/atom_NADA_{fname}.parquet\"\n",
    "# write_parquet(processed_df, processed_filepath) # don't force overwrite\n",
    "processed_df.to_csv(f\"./data/processed/atom_NADA_{fname}.csv\")\n",
    "# # ArrowTypeError: (\"Expected bytes, got a 'int' object\", 'Conversion failed for column K10Q12 with type object')"
   ]
  },
  {
   "cell_type": "code",
   "execution_count": 62,
   "metadata": {},
   "outputs": [
    {
     "data": {
      "text/html": [
       "<div>\n",
       "<style scoped>\n",
       "    .dataframe tbody tr th:only-of-type {\n",
       "        vertical-align: middle;\n",
       "    }\n",
       "\n",
       "    .dataframe tbody tr th {\n",
       "        vertical-align: top;\n",
       "    }\n",
       "\n",
       "    .dataframe thead th {\n",
       "        text-align: right;\n",
       "    }\n",
       "</style>\n",
       "<table border=\"1\" class=\"dataframe\">\n",
       "  <thead>\n",
       "    <tr style=\"text-align: right;\">\n",
       "      <th></th>\n",
       "      <th>SLK</th>\n",
       "      <th>RowKey</th>\n",
       "      <th>Program</th>\n",
       "      <th>Staff</th>\n",
       "      <th>AssessmentDate</th>\n",
       "      <th>SDSIsAODUseOutOfControl</th>\n",
       "      <th>SDSHowMuchDoYouWorryAboutAODUse</th>\n",
       "      <th>SDSDoesMissingFixMakeAnxious</th>\n",
       "      <th>SDSDoYouWishToStop</th>\n",
       "      <th>SDSHowDifficultToStopOrGoWithout</th>\n",
       "      <th>...</th>\n",
       "      <th>Another Drug2</th>\n",
       "      <th>Another Drug2_DaysInLast28</th>\n",
       "      <th>Another Drug2_TypicalQtyStr</th>\n",
       "      <th>ATOPRiskEviction</th>\n",
       "      <th>ATOPHomeless</th>\n",
       "      <th>Past4Wk_ViolentToYou</th>\n",
       "      <th>PrimaryCaregiver_0-5</th>\n",
       "      <th>PrimaryCaregiver_5-15</th>\n",
       "      <th>PaidWorkDays</th>\n",
       "      <th>StudyDays</th>\n",
       "    </tr>\n",
       "  </thead>\n",
       "  <tbody>\n",
       "    <tr>\n",
       "      <th>2755</th>\n",
       "      <td>MIHEN080119732</td>\n",
       "      <td>EUROPATH_ITSP_01072020</td>\n",
       "      <td>EUROPATH</td>\n",
       "      <td>None</td>\n",
       "      <td>2020-07-01</td>\n",
       "      <td>NaN</td>\n",
       "      <td>NaN</td>\n",
       "      <td>NaN</td>\n",
       "      <td>NaN</td>\n",
       "      <td>NaN</td>\n",
       "      <td>...</td>\n",
       "      <td>NaN</td>\n",
       "      <td>NaN</td>\n",
       "      <td>NaN</td>\n",
       "      <td>None</td>\n",
       "      <td>None</td>\n",
       "      <td>None</td>\n",
       "      <td>0</td>\n",
       "      <td>1</td>\n",
       "      <td>0</td>\n",
       "      <td>0</td>\n",
       "    </tr>\n",
       "    <tr>\n",
       "      <th>4210</th>\n",
       "      <td>SACAR270619511</td>\n",
       "      <td>MURMICE_INAS_20200701</td>\n",
       "      <td>MURMICE</td>\n",
       "      <td>Charles.Debaecker</td>\n",
       "      <td>2020-07-01</td>\n",
       "      <td>0.0</td>\n",
       "      <td>0.0</td>\n",
       "      <td>0.0</td>\n",
       "      <td>0.0</td>\n",
       "      <td>1.0</td>\n",
       "      <td>...</td>\n",
       "      <td>NaN</td>\n",
       "      <td>NaN</td>\n",
       "      <td>NaN</td>\n",
       "      <td>None</td>\n",
       "      <td>None</td>\n",
       "      <td>None</td>\n",
       "      <td>None</td>\n",
       "      <td>None</td>\n",
       "      <td>None</td>\n",
       "      <td>None</td>\n",
       "    </tr>\n",
       "    <tr>\n",
       "      <th>3406</th>\n",
       "      <td>ORHHA031019932</td>\n",
       "      <td>GOLBICE_ITSP_20200702</td>\n",
       "      <td>GOLBICE</td>\n",
       "      <td>Carol.Sharp</td>\n",
       "      <td>2020-07-02</td>\n",
       "      <td>2.0</td>\n",
       "      <td>2.0</td>\n",
       "      <td>2.0</td>\n",
       "      <td>3.0</td>\n",
       "      <td>1.0</td>\n",
       "      <td>...</td>\n",
       "      <td>NaN</td>\n",
       "      <td>NaN</td>\n",
       "      <td>NaN</td>\n",
       "      <td>None</td>\n",
       "      <td>None</td>\n",
       "      <td>None</td>\n",
       "      <td>None</td>\n",
       "      <td>None</td>\n",
       "      <td>None</td>\n",
       "      <td>None</td>\n",
       "    </tr>\n",
       "    <tr>\n",
       "      <th>3369</th>\n",
       "      <td>ORELA041019632</td>\n",
       "      <td>EUROPATH_INAS_10072020</td>\n",
       "      <td>EUROPATH</td>\n",
       "      <td>Vic.May</td>\n",
       "      <td>2020-07-10</td>\n",
       "      <td>NaN</td>\n",
       "      <td>NaN</td>\n",
       "      <td>NaN</td>\n",
       "      <td>NaN</td>\n",
       "      <td>NaN</td>\n",
       "      <td>...</td>\n",
       "      <td>NaN</td>\n",
       "      <td>NaN</td>\n",
       "      <td>NaN</td>\n",
       "      <td>None</td>\n",
       "      <td>None</td>\n",
       "      <td>None</td>\n",
       "      <td>None</td>\n",
       "      <td>None</td>\n",
       "      <td>25</td>\n",
       "      <td>0</td>\n",
       "    </tr>\n",
       "    <tr>\n",
       "      <th>4600</th>\n",
       "      <td>URUEL110919772</td>\n",
       "      <td>EUROPATH_INAS_13072020</td>\n",
       "      <td>EUROPATH</td>\n",
       "      <td>Vic.May</td>\n",
       "      <td>2020-07-13</td>\n",
       "      <td>NaN</td>\n",
       "      <td>NaN</td>\n",
       "      <td>NaN</td>\n",
       "      <td>NaN</td>\n",
       "      <td>NaN</td>\n",
       "      <td>...</td>\n",
       "      <td>NaN</td>\n",
       "      <td>NaN</td>\n",
       "      <td>NaN</td>\n",
       "      <td>None</td>\n",
       "      <td>None</td>\n",
       "      <td>None</td>\n",
       "      <td>None</td>\n",
       "      <td>None</td>\n",
       "      <td>2</td>\n",
       "      <td>0</td>\n",
       "    </tr>\n",
       "    <tr>\n",
       "      <th>...</th>\n",
       "      <td>...</td>\n",
       "      <td>...</td>\n",
       "      <td>...</td>\n",
       "      <td>...</td>\n",
       "      <td>...</td>\n",
       "      <td>...</td>\n",
       "      <td>...</td>\n",
       "      <td>...</td>\n",
       "      <td>...</td>\n",
       "      <td>...</td>\n",
       "      <td>...</td>\n",
       "      <td>...</td>\n",
       "      <td>...</td>\n",
       "      <td>...</td>\n",
       "      <td>...</td>\n",
       "      <td>...</td>\n",
       "      <td>...</td>\n",
       "      <td>...</td>\n",
       "      <td>...</td>\n",
       "      <td>...</td>\n",
       "      <td>...</td>\n",
       "    </tr>\n",
       "    <tr>\n",
       "      <th>2934</th>\n",
       "      <td>ODEMI271219932</td>\n",
       "      <td>SAPPHIRE_INAS_20231222</td>\n",
       "      <td>SAPPHIRE</td>\n",
       "      <td>Kylie.Wood</td>\n",
       "      <td>2023-12-22</td>\n",
       "      <td>2.0</td>\n",
       "      <td>3.0</td>\n",
       "      <td>3.0</td>\n",
       "      <td>3.0</td>\n",
       "      <td>2.0</td>\n",
       "      <td>...</td>\n",
       "      <td>NaN</td>\n",
       "      <td>NaN</td>\n",
       "      <td>NaN</td>\n",
       "      <td>0</td>\n",
       "      <td>0</td>\n",
       "      <td>0</td>\n",
       "      <td>0</td>\n",
       "      <td>0</td>\n",
       "      <td>0</td>\n",
       "      <td>None</td>\n",
       "    </tr>\n",
       "    <tr>\n",
       "      <th>69</th>\n",
       "      <td>ADIRO150619781</td>\n",
       "      <td>GOLBICE_ITSP_20231222</td>\n",
       "      <td>GOLBICE</td>\n",
       "      <td>James.Costello</td>\n",
       "      <td>2023-12-22</td>\n",
       "      <td>2.0</td>\n",
       "      <td>2.0</td>\n",
       "      <td>2.0</td>\n",
       "      <td>3.0</td>\n",
       "      <td>1.0</td>\n",
       "      <td>...</td>\n",
       "      <td>NaN</td>\n",
       "      <td>NaN</td>\n",
       "      <td>NaN</td>\n",
       "      <td>0</td>\n",
       "      <td>0</td>\n",
       "      <td>0</td>\n",
       "      <td>0</td>\n",
       "      <td>1</td>\n",
       "      <td>4</td>\n",
       "      <td>0</td>\n",
       "    </tr>\n",
       "    <tr>\n",
       "      <th>3961</th>\n",
       "      <td>RENAS110920041</td>\n",
       "      <td>GOLBICE_INAS_20231222</td>\n",
       "      <td>GOLBICE</td>\n",
       "      <td>Anthony.Williams</td>\n",
       "      <td>2023-12-22</td>\n",
       "      <td>2.0</td>\n",
       "      <td>2.0</td>\n",
       "      <td>2.0</td>\n",
       "      <td>2.0</td>\n",
       "      <td>2.0</td>\n",
       "      <td>...</td>\n",
       "      <td>NaN</td>\n",
       "      <td>NaN</td>\n",
       "      <td>NaN</td>\n",
       "      <td>None</td>\n",
       "      <td>None</td>\n",
       "      <td>None</td>\n",
       "      <td>None</td>\n",
       "      <td>None</td>\n",
       "      <td>None</td>\n",
       "      <td>None</td>\n",
       "    </tr>\n",
       "    <tr>\n",
       "      <th>1984</th>\n",
       "      <td>HIPAR140319861</td>\n",
       "      <td>GOLBICE_INAS_20231222</td>\n",
       "      <td>GOLBICE</td>\n",
       "      <td>Anthony.Williams</td>\n",
       "      <td>2023-12-22</td>\n",
       "      <td>2.0</td>\n",
       "      <td>2.0</td>\n",
       "      <td>2.0</td>\n",
       "      <td>3.0</td>\n",
       "      <td>1.0</td>\n",
       "      <td>...</td>\n",
       "      <td>NaN</td>\n",
       "      <td>NaN</td>\n",
       "      <td>NaN</td>\n",
       "      <td>None</td>\n",
       "      <td>None</td>\n",
       "      <td>None</td>\n",
       "      <td>None</td>\n",
       "      <td>None</td>\n",
       "      <td>20</td>\n",
       "      <td>None</td>\n",
       "    </tr>\n",
       "    <tr>\n",
       "      <th>2880</th>\n",
       "      <td>OBNMR111020032</td>\n",
       "      <td>BEGAPATH_ITSP_20231222</td>\n",
       "      <td>BEGAPATH</td>\n",
       "      <td>Liz.Scott</td>\n",
       "      <td>2023-12-22</td>\n",
       "      <td>0.0</td>\n",
       "      <td>1.0</td>\n",
       "      <td>1.0</td>\n",
       "      <td>0.0</td>\n",
       "      <td>2.0</td>\n",
       "      <td>...</td>\n",
       "      <td>MDMA/Ecstasy</td>\n",
       "      <td>3</td>\n",
       "      <td>1.0; pills</td>\n",
       "      <td>0</td>\n",
       "      <td>0</td>\n",
       "      <td>0</td>\n",
       "      <td>None</td>\n",
       "      <td>None</td>\n",
       "      <td>5</td>\n",
       "      <td>0</td>\n",
       "    </tr>\n",
       "  </tbody>\n",
       "</table>\n",
       "<p>3147 rows × 58 columns</p>\n",
       "</div>"
      ],
      "text/plain": [
       "                 SLK                  RowKey   Program              Staff   \n",
       "2755  MIHEN080119732  EUROPATH_ITSP_01072020  EUROPATH               None  \\\n",
       "4210  SACAR270619511   MURMICE_INAS_20200701   MURMICE  Charles.Debaecker   \n",
       "3406  ORHHA031019932   GOLBICE_ITSP_20200702   GOLBICE        Carol.Sharp   \n",
       "3369  ORELA041019632  EUROPATH_INAS_10072020  EUROPATH            Vic.May   \n",
       "4600  URUEL110919772  EUROPATH_INAS_13072020  EUROPATH            Vic.May   \n",
       "...              ...                     ...       ...                ...   \n",
       "2934  ODEMI271219932  SAPPHIRE_INAS_20231222  SAPPHIRE         Kylie.Wood   \n",
       "69    ADIRO150619781   GOLBICE_ITSP_20231222   GOLBICE     James.Costello   \n",
       "3961  RENAS110920041   GOLBICE_INAS_20231222   GOLBICE   Anthony.Williams   \n",
       "1984  HIPAR140319861   GOLBICE_INAS_20231222   GOLBICE   Anthony.Williams   \n",
       "2880  OBNMR111020032  BEGAPATH_ITSP_20231222  BEGAPATH          Liz.Scott   \n",
       "\n",
       "     AssessmentDate  SDSIsAODUseOutOfControl  SDSHowMuchDoYouWorryAboutAODUse   \n",
       "2755     2020-07-01                      NaN                              NaN  \\\n",
       "4210     2020-07-01                      0.0                              0.0   \n",
       "3406     2020-07-02                      2.0                              2.0   \n",
       "3369     2020-07-10                      NaN                              NaN   \n",
       "4600     2020-07-13                      NaN                              NaN   \n",
       "...             ...                      ...                              ...   \n",
       "2934     2023-12-22                      2.0                              3.0   \n",
       "69       2023-12-22                      2.0                              2.0   \n",
       "3961     2023-12-22                      2.0                              2.0   \n",
       "1984     2023-12-22                      2.0                              2.0   \n",
       "2880     2023-12-22                      0.0                              1.0   \n",
       "\n",
       "      SDSDoesMissingFixMakeAnxious  SDSDoYouWishToStop   \n",
       "2755                           NaN                 NaN  \\\n",
       "4210                           0.0                 0.0   \n",
       "3406                           2.0                 3.0   \n",
       "3369                           NaN                 NaN   \n",
       "4600                           NaN                 NaN   \n",
       "...                            ...                 ...   \n",
       "2934                           3.0                 3.0   \n",
       "69                             2.0                 3.0   \n",
       "3961                           2.0                 2.0   \n",
       "1984                           2.0                 3.0   \n",
       "2880                           1.0                 0.0   \n",
       "\n",
       "      SDSHowDifficultToStopOrGoWithout  ... Another Drug2   \n",
       "2755                               NaN  ...           NaN  \\\n",
       "4210                               1.0  ...           NaN   \n",
       "3406                               1.0  ...           NaN   \n",
       "3369                               NaN  ...           NaN   \n",
       "4600                               NaN  ...           NaN   \n",
       "...                                ...  ...           ...   \n",
       "2934                               2.0  ...           NaN   \n",
       "69                                 1.0  ...           NaN   \n",
       "3961                               2.0  ...           NaN   \n",
       "1984                               1.0  ...           NaN   \n",
       "2880                               2.0  ...  MDMA/Ecstasy   \n",
       "\n",
       "     Another Drug2_DaysInLast28 Another Drug2_TypicalQtyStr ATOPRiskEviction   \n",
       "2755                        NaN                         NaN             None  \\\n",
       "4210                        NaN                         NaN             None   \n",
       "3406                        NaN                         NaN             None   \n",
       "3369                        NaN                         NaN             None   \n",
       "4600                        NaN                         NaN             None   \n",
       "...                         ...                         ...              ...   \n",
       "2934                        NaN                         NaN                0   \n",
       "69                          NaN                         NaN                0   \n",
       "3961                        NaN                         NaN             None   \n",
       "1984                        NaN                         NaN             None   \n",
       "2880                          3                  1.0; pills                0   \n",
       "\n",
       "     ATOPHomeless Past4Wk_ViolentToYou PrimaryCaregiver_0-5   \n",
       "2755         None                 None                    0  \\\n",
       "4210         None                 None                 None   \n",
       "3406         None                 None                 None   \n",
       "3369         None                 None                 None   \n",
       "4600         None                 None                 None   \n",
       "...           ...                  ...                  ...   \n",
       "2934            0                    0                    0   \n",
       "69              0                    0                    0   \n",
       "3961         None                 None                 None   \n",
       "1984         None                 None                 None   \n",
       "2880            0                    0                 None   \n",
       "\n",
       "     PrimaryCaregiver_5-15 PaidWorkDays StudyDays  \n",
       "2755                     1            0         0  \n",
       "4210                  None         None      None  \n",
       "3406                  None         None      None  \n",
       "3369                  None           25         0  \n",
       "4600                  None            2         0  \n",
       "...                    ...          ...       ...  \n",
       "2934                     0            0      None  \n",
       "69                       1            4         0  \n",
       "3961                  None         None      None  \n",
       "1984                  None           20      None  \n",
       "2880                  None            5         0  \n",
       "\n",
       "[3147 rows x 58 columns]"
      ]
     },
     "execution_count": 62,
     "metadata": {},
     "output_type": "execute_result"
    }
   ],
   "source": [
    "atom_df  = processed_df.copy()\n",
    "atom_df"
   ]
  },
  {
   "cell_type": "code",
   "execution_count": 14,
   "metadata": {},
   "outputs": [],
   "source": [
    "# atom_df = atom_df.loc[ (atom_df.AssessmentDate>= active_clients_start_date ) & (atom_df.AssessmentDate <= active_clients_end_date)]"
   ]
  },
  {
   "cell_type": "code",
   "execution_count": 18,
   "metadata": {},
   "outputs": [
    {
     "name": "stdout",
     "output_type": "stream",
     "text": [
      "<class 'pandas.core.series.Series'>\n",
      "Index: 3147 entries, 2755 to 2880\n",
      "Series name: AssessmentDate\n",
      "Non-Null Count  Dtype         \n",
      "--------------  -----         \n",
      "3147 non-null   datetime64[ns]\n",
      "dtypes: datetime64[ns](1)\n",
      "memory usage: 49.2 KB\n"
     ]
    }
   ],
   "source": [
    "atom_df['AssessmentDate'].info()  #describe()"
   ]
  },
  {
   "cell_type": "code",
   "execution_count": 10,
   "metadata": {},
   "outputs": [],
   "source": [
    "# import pandas as pd\n",
    "# # Ensure that AssessmentDate is in datetime format\n",
    "# atom_df['AssessmentDate'] = pd.to_datetime(atom_df['AssessmentDate'], errors='coerce')"
   ]
  },
  {
   "cell_type": "code",
   "execution_count": 9,
   "metadata": {},
   "outputs": [],
   "source": [
    "# atom_df.drop(atom_df[atom_df.Program.isin(['TSS', 'ARCA', 'COCO', 'PSYNSW' ])].index, inplace=True)\n",
    "# non_nsw_programs = ['TSS', 'ARCA', 'COCO', 'PSYNSW' ]\n",
    "# atom_df = atom_df[~atom_df['Program'].isin(non_nsw_programs)] \n"
   ]
  },
  {
   "cell_type": "code",
   "execution_count": 19,
   "metadata": {},
   "outputs": [
    {
     "data": {
      "text/plain": [
       "(797, 3147)"
      ]
     },
     "execution_count": 19,
     "metadata": {},
     "output_type": "execute_result"
    }
   ],
   "source": [
    "len(ep_df), len(atom_df) "
   ]
  },
  {
   "cell_type": "code",
   "execution_count": 20,
   "metadata": {},
   "outputs": [
    {
     "data": {
      "text/plain": [
       "Program\n",
       "EUROPATH    621\n",
       "GOLBICE     527\n",
       "MURMICE     459\n",
       "SAPPHIRE    408\n",
       "GOLBGNRL    367\n",
       "BEGAPATH    223\n",
       "MURMPP      198\n",
       "MURMWIO     197\n",
       "MONPATH     118\n",
       "MURMHEAD     29\n",
       "Name: count, dtype: int64"
      ]
     },
     "execution_count": 20,
     "metadata": {},
     "output_type": "execute_result"
    }
   ],
   "source": [
    "atom_df.Program.value_counts()"
   ]
  },
  {
   "cell_type": "markdown",
   "metadata": {},
   "source": [
    "## NADA matching"
   ]
  },
  {
   "cell_type": "code",
   "execution_count": 63,
   "metadata": {},
   "outputs": [],
   "source": [
    "# from match_audit import match_assessments\n",
    "from data_prep import get_stage_per_episode\n"
   ]
  },
  {
   "cell_type": "code",
   "execution_count": null,
   "metadata": {},
   "outputs": [],
   "source": [
    "matching_ndays_slack = 7"
   ]
  },
  {
   "cell_type": "code",
   "execution_count": 30,
   "metadata": {},
   "outputs": [],
   "source": [
    "# def match_assessments(episodes_df, atoms_df): #pdc_substance_mapping\n",
    "#     # Apply the mapping to the ESTABLISHMENT IDENTIFIER and PDCSubstanceOfConcern columns in episodes_df\n",
    "#     # episodes_df['ESTABLISHMENT IDENTIFIER'] = episodes_df['ESTABLISHMENT IDENTIFIER'].map(establishment_program_mapping)\n",
    "#     # episodes_df['PDCSubstanceOfConcern'] = episodes_df['PDCSubstanceOfConcern'].map(pdc_substance_mapping)\n",
    "\n",
    "#     # Merge the dataframes on SLK and Program\n",
    "#     merged_df = pd.merge(episodes_df, atoms_df, how='inner', left_on=['SLK', 'Program'], right_on=['SLK', 'Program'])\n",
    "\n",
    "#     # Filter rows where AssessmentDate falls within CommencementDate and EndDate (or after CommencementDate if EndDate is NaN)\n",
    "#     matched_df = merged_df.loc[((merged_df['AssessmentDate'] >= merged_df['CommencementDate']) & \n",
    "#                                 (merged_df['AssessmentDate'] <= merged_df['EndDate'])) |\n",
    "#                                ((merged_df['AssessmentDate'] >= merged_df['CommencementDate']) & \n",
    "#                                 (merged_df['EndDate'].isna()))]\n",
    "\n",
    "#     # Check if PDCSubstanceOfConcern matches\n",
    "#     # mismatched_df = matched_df.loc[matched_df['PDCSubstanceOfConcern_x'] != matched_df['PDCSubstanceOfConcern_y']]\n",
    "\n",
    "#     # if len(mismatched_df) > 0:\n",
    "#     #     logger.info(f\"There are {len(mismatched_df)} rows where PDCSubstanceOfConcern does not match.\")\n",
    "#     #     logger.info(mismatched_df)\n",
    "\n",
    "#     return matched_df"
   ]
  },
  {
   "cell_type": "code",
   "execution_count": 65,
   "metadata": {},
   "outputs": [],
   "source": [
    "def get_mask_datefit(row, slack_days:int = 0):\n",
    "    # Convert to datetime if not already in that format\n",
    "    # assessment_date = pd.to_datetime(row['AssessmentDate'], errors='coerce')\n",
    "    # commencement_date = pd.to_datetime(row['CommencementDate'], errors='coerce')\n",
    "    # end_date = pd.to_datetime(row['EndDate'], errors='coerce')\n",
    "\n",
    "    # Create a Timedelta for slack days\n",
    "    slack_td = pd.Timedelta(days=slack_days)\n",
    "\n",
    "    # Check conditions\n",
    "    after_commencement = row['AssessmentDate'].date() >= (row['CommencementDate'] - slack_td)\n",
    "    before_end_date = row['AssessmentDate'].date() <= (row['EndDate'] + slack_td)\n",
    "\n",
    "    return after_commencement and before_end_date\n",
    "\n",
    "\n",
    "def match_assessments(episodes_df, atoms_df, matching_ndays_slack: int=0):\n",
    "\n",
    "    # Merge the dataframes on SLK and Program\n",
    "    df = pd.merge(episodes_df, atoms_df, how='inner', left_on=[\n",
    "                  'SLK', 'Program'], right_on=['SLK', 'Program'])\n",
    "\n",
    "    # Filter rows where AssessmentDate falls within CommencementDate and EndDate (or after CommencementDate if EndDate is NaN)\n",
    "    mask = df.apply(get_mask_datefit, slack_days=matching_ndays_slack, axis=1)\n",
    "    # mask = get_mask_datefit(df['AssessmentDate'], df['CommencementDate'],\n",
    "    #                         df['EndDate'], slack_days=matching_ndays_slack)\n",
    "    filtered_df = df[mask]\n",
    "    # matched_df = merged_df.loc[((merged_df['AssessmentDate'] >= merged_df['CommencementDate']) &\n",
    "    #                             (merged_df['AssessmentDate'] <= merged_df['EndDate'])) |\n",
    "    #                            ((merged_df['AssessmentDate'] >= merged_df['CommencementDate']) &\n",
    "    #                             (merged_df['EndDate'].isna()))]\n",
    "\n",
    "    # Check if PDCSubstanceOfConcern matches\n",
    "    # mismatched_df = matched_df.loc[matched_df['PDCSubstanceOfConcern_x'] != matched_df['PDCSubstanceOfConcern_y']]\n",
    "\n",
    "    # if len(mismatched_df) > 0:\n",
    "    #     logger.info(f\"There are {len(mismatched_df)} rows where PDCSubstanceOfConcern does not match.\")\n",
    "    #     logger.info(mismatched_df)\n",
    "\n",
    "    return filtered_df"
   ]
  },
  {
   "cell_type": "markdown",
   "metadata": {},
   "source": [
    "## Prevent matching a single ATOM to multiple episodes\n",
    "   Do the following with increasing slack :  \n",
    "   1.  Set the Slack to zero \n",
    "       i.e.Do a perfect match - ATOM assessment dates HAVE to fall within Episode dates (slack = 0) \n",
    "\n",
    "\n",
    "   2. In a loop with increasing slack \n",
    "      Match the remaining ATOMs with episodes."
   ]
  },
  {
   "cell_type": "code",
   "execution_count": 66,
   "metadata": {},
   "outputs": [],
   "source": [
    "matching_ndays_slack =0\n",
    "matched_df = match_assessments(ep_df, atom_df, matching_ndays_slack) # no slack"
   ]
  },
  {
   "cell_type": "code",
   "execution_count": 67,
   "metadata": {},
   "outputs": [],
   "source": [
    "matched_slks  = matched_df.SLK.unique()\n"
   ]
  },
  {
   "cell_type": "code",
   "execution_count": 85,
   "metadata": {},
   "outputs": [],
   "source": [
    "matching_ndays_slack = 0 \n",
    "unmatched_atoms = atom_df\n",
    "result_matched_dfs = []\n",
    "\n",
    "\n",
    "while matching_ndays_slack <= 7:\n",
    "    # Get matched assessments with the current slack\n",
    "    matched_df = match_assessments(ep_df, unmatched_atoms, matching_ndays_slack)\n",
    "\n",
    "    # Add the matched DataFrame to the list\n",
    "    result_matched_dfs.append(matched_df)\n",
    "\n",
    "    # Update unmatched_atoms by filtering out matched SLKs from the current unmatched_atoms\n",
    "    matched_slks = matched_df.SLK.unique()\n",
    "    unmatched_atoms = unmatched_atoms[~unmatched_atoms.SLK.isin(matched_slks)]\n",
    "    # there may be other assessments for this SLK that can match if the slack dways are increased\n",
    "    # don't exclude the SLK, but the SLK +RowKey\n",
    "\n",
    "    # Increment the slack days for the next iteration\n",
    "    matching_ndays_slack += 1\n",
    "\n",
    "# Concatenate all matched DataFrames from the list\n",
    "result_matched_df = pd.concat(result_matched_dfs, ignore_index=True)\n",
    "\n",
    "# while matching_ndays_slack <=7:\n",
    "#   matched_df = match_assessments(ep_df, unmatched_atoms, matching_ndays_slack) # no slack\n",
    "#   # remaining atoms\n",
    "#   matched_slks  = matched_df.SLK.unique()\n",
    "#   unmatched_atoms = atom_df[ ~atom_df.SLK.isin(matched_df.SLK.unique())]\n",
    "\n",
    "#   result_matched_df = result_matched_df.append(matched_df)\n",
    "#   matching_ndays_slack = matching_ndays_slack + 1\n"
   ]
  },
  {
   "cell_type": "code",
   "execution_count": 88,
   "metadata": {},
   "outputs": [
    {
     "data": {
      "text/plain": [
       "3406     GOLBICE_ITSP_20200702\n",
       "2671    BEGAPATH_ITSP_15072020\n",
       "2850     MONPATH_INAS_17072020\n",
       "1853    EUROPATH_ITSP_30072020\n",
       "3324    EUROPATH_ITSP_30072020\n",
       "                 ...          \n",
       "2       EUROPATH_INAS_20231028\n",
       "2750      MURMPP_INAS_20231109\n",
       "239      GOLBICE_INAS_20231112\n",
       "4783     MURMWIO_INAS_20231113\n",
       "1742    SAPPHIRE_ITSP_20231204\n",
       "Name: RowKey, Length: 1359, dtype: object"
      ]
     },
     "execution_count": 88,
     "metadata": {},
     "output_type": "execute_result"
    }
   ],
   "source": [
    "unmatched_atoms.RowKey"
   ]
  },
  {
   "cell_type": "code",
   "execution_count": 86,
   "metadata": {},
   "outputs": [
    {
     "data": {
      "text/plain": [
       "1140"
      ]
     },
     "execution_count": 86,
     "metadata": {},
     "output_type": "execute_result"
    }
   ],
   "source": [
    "len(result_matched_df)"
   ]
  },
  {
   "cell_type": "code",
   "execution_count": 60,
   "metadata": {},
   "outputs": [
    {
     "data": {
      "text/plain": [
       "3147"
      ]
     },
     "execution_count": 60,
     "metadata": {},
     "output_type": "execute_result"
    }
   ],
   "source": [
    "len(atom_df)"
   ]
  },
  {
   "cell_type": "code",
   "execution_count": 87,
   "metadata": {},
   "outputs": [
    {
     "data": {
      "text/plain": [
       "1359"
      ]
     },
     "execution_count": 87,
     "metadata": {},
     "output_type": "execute_result"
    }
   ],
   "source": [
    "len(unmatched_atoms)"
   ]
  },
  {
   "cell_type": "code",
   "execution_count": 69,
   "metadata": {},
   "outputs": [],
   "source": [
    "# unmatched having an SLK in ep_df:\n",
    "unmatched_atoms_withep = unmatched_atoms[ unmatched_atoms.SLK.isin(ep_df.SLK.unique())]"
   ]
  },
  {
   "cell_type": "code",
   "execution_count": 79,
   "metadata": {},
   "outputs": [],
   "source": [
    "unmatched_pc = round(len(unmatched_atoms)*100/len(atom_df),1)"
   ]
  },
  {
   "cell_type": "code",
   "execution_count": 82,
   "metadata": {},
   "outputs": [],
   "source": [
    "# episodes without ATOM match\n",
    "eps_no_assessment = ep_df[ ~ep_df.SLK.isin(matched_slks)]"
   ]
  },
  {
   "cell_type": "code",
   "execution_count": 83,
   "metadata": {},
   "outputs": [
    {
     "data": {
      "text/html": [
       "<div>\n",
       "<style scoped>\n",
       "    .dataframe tbody tr th:only-of-type {\n",
       "        vertical-align: middle;\n",
       "    }\n",
       "\n",
       "    .dataframe tbody tr th {\n",
       "        vertical-align: top;\n",
       "    }\n",
       "\n",
       "    .dataframe thead th {\n",
       "        text-align: right;\n",
       "    }\n",
       "</style>\n",
       "<table border=\"1\" class=\"dataframe\">\n",
       "  <thead>\n",
       "    <tr style=\"text-align: right;\">\n",
       "      <th></th>\n",
       "      <th>AgencyCode</th>\n",
       "      <th>GEOGRAPHICAL LOCATION</th>\n",
       "      <th>PMSEpisodeID</th>\n",
       "      <th>PMSPersonID</th>\n",
       "      <th>PDCCode</th>\n",
       "      <th>PDCSubstanceOfConcern</th>\n",
       "      <th>CommencementDate</th>\n",
       "      <th>EndDate</th>\n",
       "      <th>SLK</th>\n",
       "      <th>Program</th>\n",
       "    </tr>\n",
       "  </thead>\n",
       "  <tbody>\n",
       "    <tr>\n",
       "      <th>4</th>\n",
       "      <td>12QQ03076</td>\n",
       "      <td>10550</td>\n",
       "      <td>53719</td>\n",
       "      <td>139</td>\n",
       "      <td>2101</td>\n",
       "      <td>Alcohol</td>\n",
       "      <td>2022-09-15</td>\n",
       "      <td>2023-09-14</td>\n",
       "      <td>OL2IR141219712</td>\n",
       "      <td>SAPPHIRE</td>\n",
       "    </tr>\n",
       "    <tr>\n",
       "      <th>22</th>\n",
       "      <td>12QQ03076</td>\n",
       "      <td>10550</td>\n",
       "      <td>73361</td>\n",
       "      <td>9048</td>\n",
       "      <td>2101</td>\n",
       "      <td>Alcohol</td>\n",
       "      <td>2023-05-03</td>\n",
       "      <td>2024-01-19</td>\n",
       "      <td>UT2ON220719881</td>\n",
       "      <td>SAPPHIRE</td>\n",
       "    </tr>\n",
       "    <tr>\n",
       "      <th>52</th>\n",
       "      <td>12QQ03076</td>\n",
       "      <td>10550</td>\n",
       "      <td>92134</td>\n",
       "      <td>9708</td>\n",
       "      <td>3103</td>\n",
       "      <td>Methamphetamine</td>\n",
       "      <td>2023-10-25</td>\n",
       "      <td>2024-01-19</td>\n",
       "      <td>ALEAT141119982</td>\n",
       "      <td>SAPPHIRE</td>\n",
       "    </tr>\n",
       "    <tr>\n",
       "      <th>54</th>\n",
       "      <td>12QQ03076</td>\n",
       "      <td>10550</td>\n",
       "      <td>82142</td>\n",
       "      <td>9681</td>\n",
       "      <td>2101</td>\n",
       "      <td>Alcohol</td>\n",
       "      <td>2023-08-03</td>\n",
       "      <td>2024-01-19</td>\n",
       "      <td>AGIAN010119782</td>\n",
       "      <td>SAPPHIRE</td>\n",
       "    </tr>\n",
       "    <tr>\n",
       "      <th>59</th>\n",
       "      <td>12QQ03076</td>\n",
       "      <td>10550</td>\n",
       "      <td>82497</td>\n",
       "      <td>5087</td>\n",
       "      <td>2101</td>\n",
       "      <td>Alcohol</td>\n",
       "      <td>2023-07-27</td>\n",
       "      <td>2024-01-19</td>\n",
       "      <td>HAKOS301219941</td>\n",
       "      <td>SAPPHIRE</td>\n",
       "    </tr>\n",
       "    <tr>\n",
       "      <th>...</th>\n",
       "      <td>...</td>\n",
       "      <td>...</td>\n",
       "      <td>...</td>\n",
       "      <td>...</td>\n",
       "      <td>...</td>\n",
       "      <td>...</td>\n",
       "      <td>...</td>\n",
       "      <td>...</td>\n",
       "      <td>...</td>\n",
       "      <td>...</td>\n",
       "    </tr>\n",
       "    <tr>\n",
       "      <th>784</th>\n",
       "      <td>12KK03024</td>\n",
       "      <td>17751</td>\n",
       "      <td>87331</td>\n",
       "      <td>8994</td>\n",
       "      <td>3103</td>\n",
       "      <td>Methamphetamine</td>\n",
       "      <td>2023-09-18</td>\n",
       "      <td>2023-10-06</td>\n",
       "      <td>EWAIC130619862</td>\n",
       "      <td>MURMPP</td>\n",
       "    </tr>\n",
       "    <tr>\n",
       "      <th>786</th>\n",
       "      <td>12KK03024</td>\n",
       "      <td>17751</td>\n",
       "      <td>91756</td>\n",
       "      <td>9927</td>\n",
       "      <td>2101</td>\n",
       "      <td>Alcohol</td>\n",
       "      <td>2023-10-24</td>\n",
       "      <td>2024-01-19</td>\n",
       "      <td>TETAN050819711</td>\n",
       "      <td>MURMPP</td>\n",
       "    </tr>\n",
       "    <tr>\n",
       "      <th>788</th>\n",
       "      <td>12KK03024</td>\n",
       "      <td>17751</td>\n",
       "      <td>93874</td>\n",
       "      <td>10000</td>\n",
       "      <td>2499</td>\n",
       "      <td>Benzodiazepines, nec</td>\n",
       "      <td>2023-11-08</td>\n",
       "      <td>2023-12-04</td>\n",
       "      <td>MIHAY100420012</td>\n",
       "      <td>MURMPP</td>\n",
       "    </tr>\n",
       "    <tr>\n",
       "      <th>791</th>\n",
       "      <td>12KK03024</td>\n",
       "      <td>17751</td>\n",
       "      <td>97488</td>\n",
       "      <td>10060</td>\n",
       "      <td>7101</td>\n",
       "      <td>Cannabinoids</td>\n",
       "      <td>2023-12-07</td>\n",
       "      <td>2024-01-19</td>\n",
       "      <td>EWTDA190220041</td>\n",
       "      <td>MURMPP</td>\n",
       "    </tr>\n",
       "    <tr>\n",
       "      <th>793</th>\n",
       "      <td>12KK03024</td>\n",
       "      <td>17751</td>\n",
       "      <td>99259</td>\n",
       "      <td>10043</td>\n",
       "      <td>1</td>\n",
       "      <td>NaN</td>\n",
       "      <td>2023-11-21</td>\n",
       "      <td>2023-12-21</td>\n",
       "      <td>ENHOH150719571</td>\n",
       "      <td>MURMPP</td>\n",
       "    </tr>\n",
       "  </tbody>\n",
       "</table>\n",
       "<p>142 rows × 10 columns</p>\n",
       "</div>"
      ],
      "text/plain": [
       "    AgencyCode  GEOGRAPHICAL LOCATION  PMSEpisodeID  PMSPersonID  PDCCode   \n",
       "4    12QQ03076                  10550         53719          139     2101  \\\n",
       "22   12QQ03076                  10550         73361         9048     2101   \n",
       "52   12QQ03076                  10550         92134         9708     3103   \n",
       "54   12QQ03076                  10550         82142         9681     2101   \n",
       "59   12QQ03076                  10550         82497         5087     2101   \n",
       "..         ...                    ...           ...          ...      ...   \n",
       "784  12KK03024                  17751         87331         8994     3103   \n",
       "786  12KK03024                  17751         91756         9927     2101   \n",
       "788  12KK03024                  17751         93874        10000     2499   \n",
       "791  12KK03024                  17751         97488        10060     7101   \n",
       "793  12KK03024                  17751         99259        10043        1   \n",
       "\n",
       "    PDCSubstanceOfConcern CommencementDate     EndDate             SLK   \n",
       "4                 Alcohol       2022-09-15  2023-09-14  OL2IR141219712  \\\n",
       "22                Alcohol       2023-05-03  2024-01-19  UT2ON220719881   \n",
       "52        Methamphetamine       2023-10-25  2024-01-19  ALEAT141119982   \n",
       "54                Alcohol       2023-08-03  2024-01-19  AGIAN010119782   \n",
       "59                Alcohol       2023-07-27  2024-01-19  HAKOS301219941   \n",
       "..                    ...              ...         ...             ...   \n",
       "784       Methamphetamine       2023-09-18  2023-10-06  EWAIC130619862   \n",
       "786               Alcohol       2023-10-24  2024-01-19  TETAN050819711   \n",
       "788  Benzodiazepines, nec       2023-11-08  2023-12-04  MIHAY100420012   \n",
       "791          Cannabinoids       2023-12-07  2024-01-19  EWTDA190220041   \n",
       "793                   NaN       2023-11-21  2023-12-21  ENHOH150719571   \n",
       "\n",
       "      Program  \n",
       "4    SAPPHIRE  \n",
       "22   SAPPHIRE  \n",
       "52   SAPPHIRE  \n",
       "54   SAPPHIRE  \n",
       "59   SAPPHIRE  \n",
       "..        ...  \n",
       "784    MURMPP  \n",
       "786    MURMPP  \n",
       "788    MURMPP  \n",
       "791    MURMPP  \n",
       "793    MURMPP  \n",
       "\n",
       "[142 rows x 10 columns]"
      ]
     },
     "execution_count": 83,
     "metadata": {},
     "output_type": "execute_result"
    }
   ],
   "source": [
    "eps_no_assessment"
   ]
  },
  {
   "cell_type": "code",
   "execution_count": 80,
   "metadata": {},
   "outputs": [
    {
     "name": "stdout",
     "output_type": "stream",
     "text": [
      "Unmatched Atoms(1381 - 43.9% )  without Episode (slack 0) = 94,       # SLKs unmatched : 42\n"
     ]
    }
   ],
   "source": [
    "\n",
    "print(f\"Unmatched Atoms({len(unmatched_atoms)} - {unmatched_pc}% )  without Episode (slack {matching_ndays_slack}) = {len(unmatched_atoms_withep)},\\\n",
    "       # SLKs unmatched : {len(unmatched_atoms_withep['SLK'].unique())}\")"
   ]
  },
  {
   "cell_type": "code",
   "execution_count": 73,
   "metadata": {},
   "outputs": [
    {
     "data": {
      "text/plain": [
       "42"
      ]
     },
     "execution_count": 73,
     "metadata": {},
     "output_type": "execute_result"
    }
   ],
   "source": []
  },
  {
   "cell_type": "code",
   "execution_count": 21,
   "metadata": {},
   "outputs": [
    {
     "data": {
      "text/plain": [
       "(597, 1225)"
      ]
     },
     "execution_count": 21,
     "metadata": {},
     "output_type": "execute_result"
    }
   ],
   "source": [
    "len(matched_df.SLK.unique()), len(atom_df.SLK.unique())"
   ]
  },
  {
   "cell_type": "code",
   "execution_count": 23,
   "metadata": {},
   "outputs": [],
   "source": [
    "\n",
    "matched_df = match_assessments(ep_df, atom_df, matching_ndays_slack)"
   ]
  },
  {
   "cell_type": "code",
   "execution_count": 24,
   "metadata": {},
   "outputs": [
    {
     "data": {
      "text/html": [
       "<div>\n",
       "<style scoped>\n",
       "    .dataframe tbody tr th:only-of-type {\n",
       "        vertical-align: middle;\n",
       "    }\n",
       "\n",
       "    .dataframe tbody tr th {\n",
       "        vertical-align: top;\n",
       "    }\n",
       "\n",
       "    .dataframe thead th {\n",
       "        text-align: right;\n",
       "    }\n",
       "</style>\n",
       "<table border=\"1\" class=\"dataframe\">\n",
       "  <thead>\n",
       "    <tr style=\"text-align: right;\">\n",
       "      <th></th>\n",
       "      <th>AgencyCode</th>\n",
       "      <th>GEOGRAPHICAL LOCATION</th>\n",
       "      <th>PMSEpisodeID</th>\n",
       "      <th>PMSPersonID</th>\n",
       "      <th>PDCCode</th>\n",
       "      <th>PDCSubstanceOfConcern</th>\n",
       "      <th>CommencementDate</th>\n",
       "      <th>EndDate</th>\n",
       "      <th>SLK</th>\n",
       "      <th>Program</th>\n",
       "      <th>...</th>\n",
       "      <th>Another Drug2</th>\n",
       "      <th>Another Drug2_DaysInLast28</th>\n",
       "      <th>Another Drug2_TypicalQtyStr</th>\n",
       "      <th>ATOPRiskEviction</th>\n",
       "      <th>ATOPHomeless</th>\n",
       "      <th>Past4Wk_ViolentToYou</th>\n",
       "      <th>PrimaryCaregiver_0-5</th>\n",
       "      <th>PrimaryCaregiver_5-15</th>\n",
       "      <th>PaidWorkDays</th>\n",
       "      <th>StudyDays</th>\n",
       "    </tr>\n",
       "  </thead>\n",
       "  <tbody>\n",
       "    <tr>\n",
       "      <th>0</th>\n",
       "      <td>12QQ03076</td>\n",
       "      <td>10550</td>\n",
       "      <td>23373</td>\n",
       "      <td>143</td>\n",
       "      <td>2101</td>\n",
       "      <td>Alcohol</td>\n",
       "      <td>2021-12-16</td>\n",
       "      <td>2023-09-14</td>\n",
       "      <td>AMOAT241019791</td>\n",
       "      <td>SAPPHIRE</td>\n",
       "      <td>...</td>\n",
       "      <td>NaN</td>\n",
       "      <td>NaN</td>\n",
       "      <td>NaN</td>\n",
       "      <td>None</td>\n",
       "      <td>None</td>\n",
       "      <td>None</td>\n",
       "      <td>0</td>\n",
       "      <td>1</td>\n",
       "      <td>None</td>\n",
       "      <td>None</td>\n",
       "    </tr>\n",
       "    <tr>\n",
       "      <th>1</th>\n",
       "      <td>12QQ03076</td>\n",
       "      <td>10550</td>\n",
       "      <td>23373</td>\n",
       "      <td>143</td>\n",
       "      <td>2101</td>\n",
       "      <td>Alcohol</td>\n",
       "      <td>2021-12-16</td>\n",
       "      <td>2023-09-14</td>\n",
       "      <td>AMOAT241019791</td>\n",
       "      <td>SAPPHIRE</td>\n",
       "      <td>...</td>\n",
       "      <td>NaN</td>\n",
       "      <td>NaN</td>\n",
       "      <td>NaN</td>\n",
       "      <td>None</td>\n",
       "      <td>None</td>\n",
       "      <td>None</td>\n",
       "      <td>0</td>\n",
       "      <td>1</td>\n",
       "      <td>2</td>\n",
       "      <td>None</td>\n",
       "    </tr>\n",
       "    <tr>\n",
       "      <th>3</th>\n",
       "      <td>12QQ03076</td>\n",
       "      <td>10550</td>\n",
       "      <td>48350</td>\n",
       "      <td>5324</td>\n",
       "      <td>2101</td>\n",
       "      <td>Alcohol</td>\n",
       "      <td>2022-08-03</td>\n",
       "      <td>2023-08-02</td>\n",
       "      <td>UCELE131119691</td>\n",
       "      <td>SAPPHIRE</td>\n",
       "      <td>...</td>\n",
       "      <td>NaN</td>\n",
       "      <td>NaN</td>\n",
       "      <td>NaN</td>\n",
       "      <td>0</td>\n",
       "      <td>0</td>\n",
       "      <td>0</td>\n",
       "      <td>None</td>\n",
       "      <td>None</td>\n",
       "      <td>None</td>\n",
       "      <td>None</td>\n",
       "    </tr>\n",
       "    <tr>\n",
       "      <th>4</th>\n",
       "      <td>12QQ03076</td>\n",
       "      <td>10550</td>\n",
       "      <td>48350</td>\n",
       "      <td>5324</td>\n",
       "      <td>2101</td>\n",
       "      <td>Alcohol</td>\n",
       "      <td>2022-08-03</td>\n",
       "      <td>2023-08-02</td>\n",
       "      <td>UCELE131119691</td>\n",
       "      <td>SAPPHIRE</td>\n",
       "      <td>...</td>\n",
       "      <td>NaN</td>\n",
       "      <td>NaN</td>\n",
       "      <td>NaN</td>\n",
       "      <td>0</td>\n",
       "      <td>0</td>\n",
       "      <td>1</td>\n",
       "      <td>None</td>\n",
       "      <td>None</td>\n",
       "      <td>None</td>\n",
       "      <td>None</td>\n",
       "    </tr>\n",
       "    <tr>\n",
       "      <th>5</th>\n",
       "      <td>12QQ03076</td>\n",
       "      <td>10550</td>\n",
       "      <td>48350</td>\n",
       "      <td>5324</td>\n",
       "      <td>2101</td>\n",
       "      <td>Alcohol</td>\n",
       "      <td>2022-08-03</td>\n",
       "      <td>2023-08-02</td>\n",
       "      <td>UCELE131119691</td>\n",
       "      <td>SAPPHIRE</td>\n",
       "      <td>...</td>\n",
       "      <td>NaN</td>\n",
       "      <td>NaN</td>\n",
       "      <td>NaN</td>\n",
       "      <td>0</td>\n",
       "      <td>0</td>\n",
       "      <td>0</td>\n",
       "      <td>None</td>\n",
       "      <td>None</td>\n",
       "      <td>None</td>\n",
       "      <td>None</td>\n",
       "    </tr>\n",
       "    <tr>\n",
       "      <th>...</th>\n",
       "      <td>...</td>\n",
       "      <td>...</td>\n",
       "      <td>...</td>\n",
       "      <td>...</td>\n",
       "      <td>...</td>\n",
       "      <td>...</td>\n",
       "      <td>...</td>\n",
       "      <td>...</td>\n",
       "      <td>...</td>\n",
       "      <td>...</td>\n",
       "      <td>...</td>\n",
       "      <td>...</td>\n",
       "      <td>...</td>\n",
       "      <td>...</td>\n",
       "      <td>...</td>\n",
       "      <td>...</td>\n",
       "      <td>...</td>\n",
       "      <td>...</td>\n",
       "      <td>...</td>\n",
       "      <td>...</td>\n",
       "      <td>...</td>\n",
       "    </tr>\n",
       "    <tr>\n",
       "      <th>1871</th>\n",
       "      <td>12KK03024</td>\n",
       "      <td>17751</td>\n",
       "      <td>101485</td>\n",
       "      <td>2093</td>\n",
       "      <td>2101</td>\n",
       "      <td>Alcohol</td>\n",
       "      <td>2022-11-18</td>\n",
       "      <td>2023-11-17</td>\n",
       "      <td>ARIYL210819911</td>\n",
       "      <td>MURMPP</td>\n",
       "      <td>...</td>\n",
       "      <td>NaN</td>\n",
       "      <td>NaN</td>\n",
       "      <td>NaN</td>\n",
       "      <td>None</td>\n",
       "      <td>None</td>\n",
       "      <td>None</td>\n",
       "      <td>None</td>\n",
       "      <td>None</td>\n",
       "      <td>18</td>\n",
       "      <td>None</td>\n",
       "    </tr>\n",
       "    <tr>\n",
       "      <th>1872</th>\n",
       "      <td>12KK03024</td>\n",
       "      <td>17751</td>\n",
       "      <td>101485</td>\n",
       "      <td>2093</td>\n",
       "      <td>2101</td>\n",
       "      <td>Alcohol</td>\n",
       "      <td>2022-11-18</td>\n",
       "      <td>2023-11-17</td>\n",
       "      <td>ARIYL210819911</td>\n",
       "      <td>MURMPP</td>\n",
       "      <td>...</td>\n",
       "      <td>NaN</td>\n",
       "      <td>NaN</td>\n",
       "      <td>NaN</td>\n",
       "      <td>0</td>\n",
       "      <td>0</td>\n",
       "      <td>0</td>\n",
       "      <td>None</td>\n",
       "      <td>None</td>\n",
       "      <td>0</td>\n",
       "      <td>None</td>\n",
       "    </tr>\n",
       "    <tr>\n",
       "      <th>1873</th>\n",
       "      <td>12KK03024</td>\n",
       "      <td>17751</td>\n",
       "      <td>101485</td>\n",
       "      <td>2093</td>\n",
       "      <td>2101</td>\n",
       "      <td>Alcohol</td>\n",
       "      <td>2022-11-18</td>\n",
       "      <td>2023-11-17</td>\n",
       "      <td>ARIYL210819911</td>\n",
       "      <td>MURMPP</td>\n",
       "      <td>...</td>\n",
       "      <td>NaN</td>\n",
       "      <td>NaN</td>\n",
       "      <td>NaN</td>\n",
       "      <td>0</td>\n",
       "      <td>0</td>\n",
       "      <td>0</td>\n",
       "      <td>None</td>\n",
       "      <td>None</td>\n",
       "      <td>28</td>\n",
       "      <td>None</td>\n",
       "    </tr>\n",
       "    <tr>\n",
       "      <th>1876</th>\n",
       "      <td>12KK03024</td>\n",
       "      <td>17751</td>\n",
       "      <td>101535</td>\n",
       "      <td>3899</td>\n",
       "      <td>3103</td>\n",
       "      <td>Methamphetamine</td>\n",
       "      <td>2023-04-06</td>\n",
       "      <td>2023-11-16</td>\n",
       "      <td>YGAUK280819881</td>\n",
       "      <td>MURMPP</td>\n",
       "      <td>...</td>\n",
       "      <td>NaN</td>\n",
       "      <td>NaN</td>\n",
       "      <td>NaN</td>\n",
       "      <td>None</td>\n",
       "      <td>None</td>\n",
       "      <td>None</td>\n",
       "      <td>None</td>\n",
       "      <td>None</td>\n",
       "      <td>6</td>\n",
       "      <td>None</td>\n",
       "    </tr>\n",
       "    <tr>\n",
       "      <th>1877</th>\n",
       "      <td>12KK03024</td>\n",
       "      <td>17751</td>\n",
       "      <td>101535</td>\n",
       "      <td>3899</td>\n",
       "      <td>3103</td>\n",
       "      <td>Methamphetamine</td>\n",
       "      <td>2023-04-06</td>\n",
       "      <td>2023-11-16</td>\n",
       "      <td>YGAUK280819881</td>\n",
       "      <td>MURMPP</td>\n",
       "      <td>...</td>\n",
       "      <td>NaN</td>\n",
       "      <td>NaN</td>\n",
       "      <td>NaN</td>\n",
       "      <td>None</td>\n",
       "      <td>None</td>\n",
       "      <td>None</td>\n",
       "      <td>None</td>\n",
       "      <td>None</td>\n",
       "      <td>0</td>\n",
       "      <td>None</td>\n",
       "    </tr>\n",
       "  </tbody>\n",
       "</table>\n",
       "<p>1162 rows × 66 columns</p>\n",
       "</div>"
      ],
      "text/plain": [
       "     AgencyCode  GEOGRAPHICAL LOCATION  PMSEpisodeID  PMSPersonID  PDCCode   \n",
       "0     12QQ03076                  10550         23373          143     2101  \\\n",
       "1     12QQ03076                  10550         23373          143     2101   \n",
       "3     12QQ03076                  10550         48350         5324     2101   \n",
       "4     12QQ03076                  10550         48350         5324     2101   \n",
       "5     12QQ03076                  10550         48350         5324     2101   \n",
       "...         ...                    ...           ...          ...      ...   \n",
       "1871  12KK03024                  17751        101485         2093     2101   \n",
       "1872  12KK03024                  17751        101485         2093     2101   \n",
       "1873  12KK03024                  17751        101485         2093     2101   \n",
       "1876  12KK03024                  17751        101535         3899     3103   \n",
       "1877  12KK03024                  17751        101535         3899     3103   \n",
       "\n",
       "     PDCSubstanceOfConcern CommencementDate     EndDate             SLK   \n",
       "0                  Alcohol       2021-12-16  2023-09-14  AMOAT241019791  \\\n",
       "1                  Alcohol       2021-12-16  2023-09-14  AMOAT241019791   \n",
       "3                  Alcohol       2022-08-03  2023-08-02  UCELE131119691   \n",
       "4                  Alcohol       2022-08-03  2023-08-02  UCELE131119691   \n",
       "5                  Alcohol       2022-08-03  2023-08-02  UCELE131119691   \n",
       "...                    ...              ...         ...             ...   \n",
       "1871               Alcohol       2022-11-18  2023-11-17  ARIYL210819911   \n",
       "1872               Alcohol       2022-11-18  2023-11-17  ARIYL210819911   \n",
       "1873               Alcohol       2022-11-18  2023-11-17  ARIYL210819911   \n",
       "1876       Methamphetamine       2023-04-06  2023-11-16  YGAUK280819881   \n",
       "1877       Methamphetamine       2023-04-06  2023-11-16  YGAUK280819881   \n",
       "\n",
       "       Program  ... Another Drug2 Another Drug2_DaysInLast28   \n",
       "0     SAPPHIRE  ...           NaN                        NaN  \\\n",
       "1     SAPPHIRE  ...           NaN                        NaN   \n",
       "3     SAPPHIRE  ...           NaN                        NaN   \n",
       "4     SAPPHIRE  ...           NaN                        NaN   \n",
       "5     SAPPHIRE  ...           NaN                        NaN   \n",
       "...        ...  ...           ...                        ...   \n",
       "1871    MURMPP  ...           NaN                        NaN   \n",
       "1872    MURMPP  ...           NaN                        NaN   \n",
       "1873    MURMPP  ...           NaN                        NaN   \n",
       "1876    MURMPP  ...           NaN                        NaN   \n",
       "1877    MURMPP  ...           NaN                        NaN   \n",
       "\n",
       "     Another Drug2_TypicalQtyStr  ATOPRiskEviction  ATOPHomeless   \n",
       "0                            NaN              None          None  \\\n",
       "1                            NaN              None          None   \n",
       "3                            NaN                 0             0   \n",
       "4                            NaN                 0             0   \n",
       "5                            NaN                 0             0   \n",
       "...                          ...               ...           ...   \n",
       "1871                         NaN              None          None   \n",
       "1872                         NaN                 0             0   \n",
       "1873                         NaN                 0             0   \n",
       "1876                         NaN              None          None   \n",
       "1877                         NaN              None          None   \n",
       "\n",
       "      Past4Wk_ViolentToYou  PrimaryCaregiver_0-5  PrimaryCaregiver_5-15   \n",
       "0                     None                     0                      1  \\\n",
       "1                     None                     0                      1   \n",
       "3                        0                  None                   None   \n",
       "4                        1                  None                   None   \n",
       "5                        0                  None                   None   \n",
       "...                    ...                   ...                    ...   \n",
       "1871                  None                  None                   None   \n",
       "1872                     0                  None                   None   \n",
       "1873                     0                  None                   None   \n",
       "1876                  None                  None                   None   \n",
       "1877                  None                  None                   None   \n",
       "\n",
       "     PaidWorkDays StudyDays  \n",
       "0            None      None  \n",
       "1               2      None  \n",
       "3            None      None  \n",
       "4            None      None  \n",
       "5            None      None  \n",
       "...           ...       ...  \n",
       "1871           18      None  \n",
       "1872            0      None  \n",
       "1873           28      None  \n",
       "1876            6      None  \n",
       "1877            0      None  \n",
       "\n",
       "[1162 rows x 66 columns]"
      ]
     },
     "execution_count": 24,
     "metadata": {},
     "output_type": "execute_result"
    }
   ],
   "source": [
    "# matched_df[['SLK', 'CommencementDate', 'AssessmentDate', 'EndDate']].head(30)\n",
    "matched_df"
   ]
  },
  {
   "cell_type": "code",
   "execution_count": 39,
   "metadata": {},
   "outputs": [
    {
     "data": {
      "text/plain": [
       "0              Alcohol\n",
       "1              Alcohol\n",
       "2              Alcohol\n",
       "3              Alcohol\n",
       "4              Alcohol\n",
       "            ...       \n",
       "738            Alcohol\n",
       "739    Methamphetamine\n",
       "740    Methamphetamine\n",
       "741       Cannabinoids\n",
       "742    Methamphetamine\n",
       "Name: PDCSubstanceOfConcern, Length: 690, dtype: object"
      ]
     },
     "execution_count": 39,
     "metadata": {},
     "output_type": "execute_result"
    }
   ],
   "source": [
    "# PDCSubstanceOrGambling atom_df.columns\n",
    "# ep_df.columns # PDCSubstanceOfConcern # PDCCode <- from episode\n",
    "\n",
    "# matched_df.PDC <- from ATOM\n",
    "# matched_df.PDCSubstanceOfConcern <- from Episode"
   ]
  },
  {
   "cell_type": "code",
   "execution_count": 25,
   "metadata": {},
   "outputs": [
    {
     "data": {
      "text/plain": [
       "PDCSubstanceOfConcern\n",
       "Alcohol                                340\n",
       "Methamphetamine                        274\n",
       "Cannabinoids                           102\n",
       "Cannabinoids and Related Drugs, nec     16\n",
       "Nicotine/tobacco                         6\n",
       "Heroin                                   6\n",
       "Amphetamine                              5\n",
       "Benzodiazepines, nec                     5\n",
       "Cocaine                                  3\n",
       "MDMA/Ecstasy                             3\n",
       "Pharmaceutical opioids, nfd              2\n",
       "Other Volatile Solvents, nec             2\n",
       "Gambling                                 2\n",
       "Opioid Antagonists, nec                  1\n",
       "Acetone                                  1\n",
       "Dexamphetamine                           1\n",
       "Cannabinoid agonists                     1\n",
       "Buprenorphine                            1\n",
       "Alprazolam                               1\n",
       "Meperidine analogues                     1\n",
       "Name: count, dtype: int64"
      ]
     },
     "execution_count": 25,
     "metadata": {},
     "output_type": "execute_result"
    }
   ],
   "source": [
    "# list(matched_df.PDC.unique())\n",
    "# list(ep_df.PDCSubstanceOfConcern.unique())\n",
    "ep_df.PDCSubstanceOfConcern.value_counts()"
   ]
  },
  {
   "cell_type": "code",
   "execution_count": 46,
   "metadata": {},
   "outputs": [],
   "source": [
    "# import numpy as np\n",
    "\n",
    "# conditions = [\n",
    "#     # matched_df['PDCSubstanceOfConcern'].isin(['Ethanol', 'Alcohols, n.e.c.']),\n",
    "#      matched_df['PDCSubstanceOfConcern'].isin(['Alcohol']),\n",
    "#     matched_df['PDCCode'].between(7100, 7199),\n",
    "#     matched_df['PDCCode'].between(3100, 3199),\n",
    "#     matched_df['PDCSubstanceOfConcern'].isin(['Pharmaceutical Opioids, n.f.d.']),\n",
    "#     matched_df['PDCCode'].between(2400, 2499),\n",
    "#     matched_df['PDCCode'] == 1202,\n",
    "#     matched_df['PDCCode'].between(1100, 1399),\n",
    "#     ~matched_df['PDCSubstanceOfConcern'].isin(['Nicotine', 'Cocaine'])\n",
    "# ]\n",
    "# # 'Alcohol', 'Cannabinoids and Related Drugs, nec', 'Heroin',\n",
    "# #        'Cannabinoids', 'Benzodiazepines, nec', 'Methamphetamine',\n",
    "# #        'Nicotine/tobacco', 'Cocaine', nan, 'Dexamphetamine',\n",
    "# #        'Amphetamine', 'Other Volatile Solvents, nec', 'MDMA/Ecstasy',\n",
    "# #        'Gambling', 'Alprazolam', 'Cannabinoid agonists', 'Buprenorphine'\n",
    "\n",
    "# choices = [\n",
    "#     'Alcohol',\n",
    "#     'Cannabis',\n",
    "#     'Amphetamines',\n",
    "#     'Other Opioid Use',\n",
    "#     'Tranquilisers',\n",
    "#     'Heroin',\n",
    "#     'Other Opioid Use',\n",
    "#     'Another drug use'\n",
    "# ]\n",
    "\n",
    "# matched_df['PDCFinal'] = np.select(conditions, choices, default=matched_df['PDCSubstanceOfConcern'])"
   ]
  },
  {
   "cell_type": "code",
   "execution_count": 26,
   "metadata": {},
   "outputs": [],
   "source": [
    "# Since the primary key in episodes_df is PMSEpisodeID, and in atoms_df it is a combination of SLK and Program, \n",
    "# you can use the groupby method on the merged_df to group by SLK and Program, \n",
    "# and then check if there is more than one unique PMSEpisodeID for any group.\n",
    "\n",
    "# grouped = matched_df.groupby(['SLK', 'Program'])['PMSEpisodeID'].nunique()\n",
    "grouped = matched_df.groupby(['SLK', 'RowKey'])['PMSEpisodeID'].nunique()\n",
    "duplicates = grouped[grouped > 1]\n"
   ]
  },
  {
   "cell_type": "code",
   "execution_count": 27,
   "metadata": {},
   "outputs": [
    {
     "data": {
      "text/plain": [
       "SLK             RowKey                \n",
       "AHYAT141219641  SAPPHIRE_ITSP_20231128    2\n",
       "AYULA290319921  SAPPHIRE_ITSP_20231005    2\n",
       "AZNUK310119901  GOLBICE_ITSP_20230912     2\n",
       "EGEUS110319582  BEGAPATH_ITSP_20230419    2\n",
       "Name: PMSEpisodeID, dtype: int64"
      ]
     },
     "execution_count": 27,
     "metadata": {},
     "output_type": "execute_result"
    }
   ],
   "source": [
    "duplicates"
   ]
  },
  {
   "cell_type": "code",
   "execution_count": 47,
   "metadata": {},
   "outputs": [],
   "source": [
    "# SLK + Program\n",
    "onedupe = matched_df.loc[(matched_df.SLK =='AHYAT141219641') & (matched_df.Program == 'SAPPHIRE')]"
   ]
  },
  {
   "cell_type": "code",
   "execution_count": 48,
   "metadata": {},
   "outputs": [
    {
     "data": {
      "text/html": [
       "<div>\n",
       "<style scoped>\n",
       "    .dataframe tbody tr th:only-of-type {\n",
       "        vertical-align: middle;\n",
       "    }\n",
       "\n",
       "    .dataframe tbody tr th {\n",
       "        vertical-align: top;\n",
       "    }\n",
       "\n",
       "    .dataframe thead th {\n",
       "        text-align: right;\n",
       "    }\n",
       "</style>\n",
       "<table border=\"1\" class=\"dataframe\">\n",
       "  <thead>\n",
       "    <tr style=\"text-align: right;\">\n",
       "      <th></th>\n",
       "      <th>Program</th>\n",
       "      <th>SLK</th>\n",
       "      <th>CommencementDate</th>\n",
       "      <th>AssessmentDate</th>\n",
       "      <th>EndDate</th>\n",
       "      <th>PMSEpisodeID</th>\n",
       "      <th>RowKey</th>\n",
       "    </tr>\n",
       "  </thead>\n",
       "  <tbody>\n",
       "    <tr>\n",
       "      <th>192</th>\n",
       "      <td>SAPPHIRE</td>\n",
       "      <td>AHYAT141219641</td>\n",
       "      <td>2023-07-11</td>\n",
       "      <td>11072023</td>\n",
       "      <td>2023-11-27</td>\n",
       "      <td>79760</td>\n",
       "      <td>SAPPHIRE_INAS_20230711</td>\n",
       "    </tr>\n",
       "    <tr>\n",
       "      <th>193</th>\n",
       "      <td>SAPPHIRE</td>\n",
       "      <td>AHYAT141219641</td>\n",
       "      <td>2023-07-11</td>\n",
       "      <td>19092023</td>\n",
       "      <td>2023-11-27</td>\n",
       "      <td>79760</td>\n",
       "      <td>SAPPHIRE_ITSP_20230919</td>\n",
       "    </tr>\n",
       "    <tr>\n",
       "      <th>194</th>\n",
       "      <td>SAPPHIRE</td>\n",
       "      <td>AHYAT141219641</td>\n",
       "      <td>2023-07-11</td>\n",
       "      <td>28112023</td>\n",
       "      <td>2023-11-27</td>\n",
       "      <td>79760</td>\n",
       "      <td>SAPPHIRE_ITSP_20231128</td>\n",
       "    </tr>\n",
       "    <tr>\n",
       "      <th>197</th>\n",
       "      <td>SAPPHIRE</td>\n",
       "      <td>AHYAT141219641</td>\n",
       "      <td>2023-11-28</td>\n",
       "      <td>28112023</td>\n",
       "      <td>2024-01-18</td>\n",
       "      <td>99200</td>\n",
       "      <td>SAPPHIRE_ITSP_20231128</td>\n",
       "    </tr>\n",
       "  </tbody>\n",
       "</table>\n",
       "</div>"
      ],
      "text/plain": [
       "      Program             SLK CommencementDate AssessmentDate     EndDate   \n",
       "192  SAPPHIRE  AHYAT141219641       2023-07-11       11072023  2023-11-27  \\\n",
       "193  SAPPHIRE  AHYAT141219641       2023-07-11       19092023  2023-11-27   \n",
       "194  SAPPHIRE  AHYAT141219641       2023-07-11       28112023  2023-11-27   \n",
       "197  SAPPHIRE  AHYAT141219641       2023-11-28       28112023  2024-01-18   \n",
       "\n",
       "     PMSEpisodeID                  RowKey  \n",
       "192         79760  SAPPHIRE_INAS_20230711  \n",
       "193         79760  SAPPHIRE_ITSP_20230919  \n",
       "194         79760  SAPPHIRE_ITSP_20231128  \n",
       "197         99200  SAPPHIRE_ITSP_20231128  "
      ]
     },
     "execution_count": 48,
     "metadata": {},
     "output_type": "execute_result"
    }
   ],
   "source": [
    "onedupe [['Program', 'SLK', 'CommencementDate', 'AssessmentDate', 'EndDate', 'PMSEpisodeID', 'RowKey']]"
   ]
  },
  {
   "cell_type": "code",
   "execution_count": 34,
   "metadata": {},
   "outputs": [],
   "source": [
    "\n",
    "# Get the keys for the duplicate rows\n",
    "duplicate_keys = duplicates.index\n",
    "\n",
    "# Filter matched_df to show only rows that match the duplicate keys\n",
    "duplicate_rows_df = matched_df[matched_df.set_index(['SLK', 'RowKey']).index.isin(duplicate_keys)]\n",
    "\n",
    "# Show all rows in the resulting DataFrame\n",
    "# pd.set_option('display.max_rows', None)  # Set this to display all rows\n",
    "\n"
   ]
  },
  {
   "cell_type": "code",
   "execution_count": 35,
   "metadata": {},
   "outputs": [
    {
     "data": {
      "text/html": [
       "<div>\n",
       "<style scoped>\n",
       "    .dataframe tbody tr th:only-of-type {\n",
       "        vertical-align: middle;\n",
       "    }\n",
       "\n",
       "    .dataframe tbody tr th {\n",
       "        vertical-align: top;\n",
       "    }\n",
       "\n",
       "    .dataframe thead th {\n",
       "        text-align: right;\n",
       "    }\n",
       "</style>\n",
       "<table border=\"1\" class=\"dataframe\">\n",
       "  <thead>\n",
       "    <tr style=\"text-align: right;\">\n",
       "      <th></th>\n",
       "      <th>SLK</th>\n",
       "      <th>RowKey</th>\n",
       "      <th>Program</th>\n",
       "      <th>CommencementDate</th>\n",
       "      <th>EndDate</th>\n",
       "      <th>PMSEpisodeID</th>\n",
       "      <th>AssessmentDate</th>\n",
       "    </tr>\n",
       "  </thead>\n",
       "  <tbody>\n",
       "    <tr>\n",
       "      <th>65</th>\n",
       "      <td>AHYAT141219641</td>\n",
       "      <td>SAPPHIRE_ITSP_20231128</td>\n",
       "      <td>SAPPHIRE</td>\n",
       "      <td>2023-07-11</td>\n",
       "      <td>2023-11-27</td>\n",
       "      <td>79760</td>\n",
       "      <td>2023-11-28</td>\n",
       "    </tr>\n",
       "    <tr>\n",
       "      <th>68</th>\n",
       "      <td>AHYAT141219641</td>\n",
       "      <td>SAPPHIRE_ITSP_20231128</td>\n",
       "      <td>SAPPHIRE</td>\n",
       "      <td>2023-11-28</td>\n",
       "      <td>2024-01-08</td>\n",
       "      <td>99200</td>\n",
       "      <td>2023-11-28</td>\n",
       "    </tr>\n",
       "  </tbody>\n",
       "</table>\n",
       "</div>"
      ],
      "text/plain": [
       "               SLK                  RowKey   Program CommencementDate   \n",
       "65  AHYAT141219641  SAPPHIRE_ITSP_20231128  SAPPHIRE       2023-07-11  \\\n",
       "68  AHYAT141219641  SAPPHIRE_ITSP_20231128  SAPPHIRE       2023-11-28   \n",
       "\n",
       "       EndDate  PMSEpisodeID AssessmentDate  \n",
       "65  2023-11-27         79760     2023-11-28  \n",
       "68  2024-01-08         99200     2023-11-28  "
      ]
     },
     "execution_count": 35,
     "metadata": {},
     "output_type": "execute_result"
    }
   ],
   "source": [
    "duplicate_rows_df[['SLK','RowKey',  'Program'  ,  'CommencementDate',   'EndDate' , 'PMSEpisodeID', 'AssessmentDate' ]]"
   ]
  },
  {
   "cell_type": "code",
   "execution_count": 28,
   "metadata": {},
   "outputs": [
    {
     "data": {
      "text/plain": [
       "Program\n",
       "EUROPATH    237\n",
       "SAPPHIRE    218\n",
       "MURMICE     194\n",
       "GOLBICE     170\n",
       "GOLBGNRL    115\n",
       "MURMWIO      75\n",
       "MURMPP       66\n",
       "MONPATH      58\n",
       "BEGAPATH     28\n",
       "MURMHEAD      1\n",
       "Name: count, dtype: int64"
      ]
     },
     "execution_count": 28,
     "metadata": {},
     "output_type": "execute_result"
    }
   ],
   "source": [
    "matched_df['Program'].value_counts()"
   ]
  },
  {
   "cell_type": "code",
   "execution_count": 43,
   "metadata": {},
   "outputs": [],
   "source": [
    "# matched_df.to_csv(f\"{results_folder}matched_df.csv\", index=False)"
   ]
  },
  {
   "cell_type": "code",
   "execution_count": 29,
   "metadata": {},
   "outputs": [
    {
     "data": {
      "text/plain": [
       "(642,)"
      ]
     },
     "execution_count": 29,
     "metadata": {},
     "output_type": "execute_result"
    }
   ],
   "source": [
    "matched_df.PMSEpisodeID.unique().shape"
   ]
  },
  {
   "cell_type": "code",
   "execution_count": null,
   "metadata": {},
   "outputs": [],
   "source": [
    "# atom_df[ (atom_df.AssessmentDate >= active_clients_start_date ) & (atom_df.AssessmentDate <= active_clients_end_date)].count()"
   ]
  },
  {
   "cell_type": "code",
   "execution_count": 32,
   "metadata": {},
   "outputs": [
    {
     "data": {
      "text/plain": [
       "818"
      ]
     },
     "execution_count": 32,
     "metadata": {},
     "output_type": "execute_result"
    }
   ],
   "source": [
    "# len(atom_df[ (atom_df.AssessmentDate >= active_clients_start_date ) & (atom_df.AssessmentDate <= active_clients_end_date)])"
   ]
  },
  {
   "cell_type": "code",
   "execution_count": 23,
   "metadata": {},
   "outputs": [
    {
     "data": {
      "text/html": [
       "<div>\n",
       "<style scoped>\n",
       "    .dataframe tbody tr th:only-of-type {\n",
       "        vertical-align: middle;\n",
       "    }\n",
       "\n",
       "    .dataframe tbody tr th {\n",
       "        vertical-align: top;\n",
       "    }\n",
       "\n",
       "    .dataframe thead th {\n",
       "        text-align: right;\n",
       "    }\n",
       "</style>\n",
       "<table border=\"1\" class=\"dataframe\">\n",
       "  <thead>\n",
       "    <tr style=\"text-align: right;\">\n",
       "      <th></th>\n",
       "      <th>Nicotine_DaysInLast28</th>\n",
       "      <th>Nicotine_PerOccassionUse</th>\n",
       "      <th>Nicotine_TypicalQtyStr</th>\n",
       "    </tr>\n",
       "  </thead>\n",
       "  <tbody>\n",
       "    <tr>\n",
       "      <th>3116</th>\n",
       "      <td>28</td>\n",
       "      <td>None</td>\n",
       "      <td></td>\n",
       "    </tr>\n",
       "    <tr>\n",
       "      <th>3117</th>\n",
       "      <td>28</td>\n",
       "      <td>None</td>\n",
       "      <td></td>\n",
       "    </tr>\n",
       "  </tbody>\n",
       "</table>\n",
       "</div>"
      ],
      "text/plain": [
       "     Nicotine_DaysInLast28 Nicotine_PerOccassionUse Nicotine_TypicalQtyStr\n",
       "3116                    28                     None                       \n",
       "3117                    28                     None                       "
      ]
     },
     "execution_count": 23,
     "metadata": {},
     "output_type": "execute_result"
    }
   ],
   "source": [
    "atom_df[atom_df['SLK'] =='OLOAC010820061'][[c for c in atom_df.columns if 'Nicotine_' in c]]"
   ]
  },
  {
   "cell_type": "code",
   "execution_count": null,
   "metadata": {},
   "outputs": [],
   "source": [
    "# len(matched_df.PMSEpisodeID.unique())"
   ]
  },
  {
   "cell_type": "code",
   "execution_count": 30,
   "metadata": {},
   "outputs": [],
   "source": [
    "matched_df.to_csv('./data/out/NADA_Matched_20220701-20231231.csv')"
   ]
  },
  {
   "cell_type": "code",
   "execution_count": 40,
   "metadata": {},
   "outputs": [],
   "source": [
    "# df = pd.read_csv('./data/out/NADA_Matched_20230701-2023-12-31.csv')"
   ]
  },
  {
   "cell_type": "code",
   "execution_count": 31,
   "metadata": {},
   "outputs": [
    {
     "data": {
      "text/plain": [
       "Index(['AgencyCode', 'GEOGRAPHICAL LOCATION', 'PMSEpisodeID', 'PMSPersonID',\n",
       "       'PDCCode', 'PDCSubstanceOfConcern', 'CommencementDate', 'EndDate',\n",
       "       'SLK', 'Program', 'RowKey', 'Staff', 'AssessmentDate',\n",
       "       'SDSIsAODUseOutOfControl', 'SDSHowMuchDoYouWorryAboutAODUse',\n",
       "       'SDSDoesMissingFixMakeAnxious', 'SDSDoYouWishToStop',\n",
       "       'SDSHowDifficultToStopOrGoWithout', 'K10Q01', 'K10Q02', 'K10Q03',\n",
       "       'K10Q04', 'K10Q05', 'K10Q06', 'K10Q07', 'K10Q08', 'K10Q09', 'K10Q10',\n",
       "       'AssessmentType', 'Past4WkPhysicalHealth', 'Past4WkMentalHealth',\n",
       "       'Past4WkHaveYouViolenceAbusive', 'Past4WkBeenArrested',\n",
       "       'Past4WkQualityOfLifeScore', 'Past4WkNumInjectingDays',\n",
       "       'Alcohol_DaysInLast28', 'Alcohol_PerOccassionUse',\n",
       "       'Alcohol_TypicalQtyStr', 'Amphetamines_DaysInLast28',\n",
       "       'Amphetamines_TypicalQtyStr', 'Another Drug1',\n",
       "       'Another Drug1_DaysInLast28', 'Another Drug1_TypicalQtyStr',\n",
       "       'Cannabis_DaysInLast28', 'Cannabis_TypicalQtyStr',\n",
       "       'Nicotine_DaysInLast28', 'Nicotine_PerOccassionUse',\n",
       "       'Nicotine_TypicalQtyStr', 'Other Opioids_DaysInLast28',\n",
       "       'Other Opioids_TypicalQtyStr', 'Heroin_DaysInLast28',\n",
       "       'Heroin_TypicalQtyStr', 'Cocaine_DaysInLast28', 'Cocaine_TypicalQtyStr',\n",
       "       'Benzodiazepines_DaysInLast28', 'Benzodiazepines_TypicalQtyStr',\n",
       "       'Another Drug2', 'Another Drug2_DaysInLast28',\n",
       "       'Another Drug2_TypicalQtyStr', 'ATOPRiskEviction', 'ATOPHomeless',\n",
       "       'Past4Wk_ViolentToYou', 'PrimaryCaregiver_0-5', 'PrimaryCaregiver_5-15',\n",
       "       'PaidWorkDays', 'StudyDays'],\n",
       "      dtype='object')"
      ]
     },
     "execution_count": 31,
     "metadata": {},
     "output_type": "execute_result"
    }
   ],
   "source": [
    "# matched_df['Past4WkEngagedInOtheractivities.Paid Work'][0:2].apply(lambda x : x['Days'] if 'Days' in x)\n",
    "matched_df.columns"
   ]
  },
  {
   "cell_type": "code",
   "execution_count": 32,
   "metadata": {},
   "outputs": [],
   "source": [
    "from data_config import nada_final_fields"
   ]
  },
  {
   "cell_type": "code",
   "execution_count": 33,
   "metadata": {},
   "outputs": [
    {
     "data": {
      "text/plain": [
       "AgencyCode\n",
       "12QQ03062    237\n",
       "12QQ03076    218\n",
       "13K034       194\n",
       "13Q035       170\n",
       "12QQ03022    115\n",
       "12KK03025     75\n",
       "12KK03024     66\n",
       "12QQ03061     58\n",
       "12QQ03063     28\n",
       "12KK03023      1\n",
       "Name: count, dtype: int64"
      ]
     },
     "execution_count": 33,
     "metadata": {},
     "output_type": "execute_result"
    }
   ],
   "source": [
    "matched_df['AgencyCode'].value_counts()"
   ]
  },
  {
   "cell_type": "code",
   "execution_count": 21,
   "metadata": {},
   "outputs": [],
   "source": [
    "\n"
   ]
  },
  {
   "cell_type": "code",
   "execution_count": 34,
   "metadata": {},
   "outputs": [],
   "source": [
    "matched_df[\"Stage\"] = get_stage_per_episode(matched_df)"
   ]
  },
  {
   "cell_type": "code",
   "execution_count": 35,
   "metadata": {},
   "outputs": [
    {
     "data": {
      "text/plain": [
       "(Timestamp('2020-07-10 00:00:00'), Timestamp('2023-12-22 00:00:00'))"
      ]
     },
     "execution_count": 35,
     "metadata": {},
     "output_type": "execute_result"
    }
   ],
   "source": [
    "min(matched_df['AssessmentDate']), max(matched_df['AssessmentDate'])"
   ]
  },
  {
   "cell_type": "code",
   "execution_count": 36,
   "metadata": {},
   "outputs": [],
   "source": [
    "matched_df['AssessmentDate'] = matched_df['AssessmentDate'].dt.strftime('%d%m%Y')\n"
   ]
  },
  {
   "cell_type": "code",
   "execution_count": 29,
   "metadata": {},
   "outputs": [
    {
     "data": {
      "text/plain": [
       "0         0\n",
       "1         0\n",
       "2         0\n",
       "3         0\n",
       "4         0\n",
       "       ... \n",
       "899    None\n",
       "900       0\n",
       "901    None\n",
       "902       0\n",
       "903    None\n",
       "Name: ATOPHomeless, Length: 663, dtype: object"
      ]
     },
     "execution_count": 29,
     "metadata": {},
     "output_type": "execute_result"
    }
   ],
   "source": [
    "matched_df['ATOPHomeless']"
   ]
  },
  {
   "cell_type": "code",
   "execution_count": 37,
   "metadata": {},
   "outputs": [],
   "source": [
    "df_final = pd.DataFrame(columns=nada_final_fields)\n",
    "\n",
    "for column in nada_final_fields:\n",
    "    if column in matched_df.columns:\n",
    "        df_final[column] = matched_df[column]  # Or use another default value\n",
    "    else:\n",
    "        df_final[column] =\"\"\n"
   ]
  },
  {
   "cell_type": "code",
   "execution_count": null,
   "metadata": {},
   "outputs": [],
   "source": [
    "# from utils.df_ops_base import drop_fields\n",
    "# debug_cols_to_drop =['GEOGRAPHICAL LOCATION', 'PDCSubstanceOfConcern','CommencementDate' ,'EndDate','SLK','Program','RowKey', 'Staff','AssessmentType']\n",
    "# nada_final_df = drop_fields(df_final,debug_cols_to_drop)"
   ]
  },
  {
   "cell_type": "code",
   "execution_count": 35,
   "metadata": {},
   "outputs": [],
   "source": [
    "for mycol in df_final.columns:\n",
    "  if not mycol in nada_final_fields:\n",
    "    print(mycol)"
   ]
  },
  {
   "cell_type": "code",
   "execution_count": null,
   "metadata": {},
   "outputs": [],
   "source": [
    "# ddmmyyyy - assesment date\n",
    "# stage"
   ]
  },
  {
   "cell_type": "code",
   "execution_count": 36,
   "metadata": {},
   "outputs": [
    {
     "data": {
      "text/plain": [
       "Index(['AgencyCode', 'PMSEpisodeID', 'PMSPersonID', 'Stage', 'AssessmentDate',\n",
       "       'PDCCode', 'SDSIsAODUseOutOfControl', 'SDSDoesMissingFixMakeAnxious',\n",
       "       'SDSHowMuchDoYouWorryAboutAODUse', 'SDSDoYouWishToStop',\n",
       "       ...\n",
       "       'ATOPHomeless', 'ATOPRiskEviction', 'PrimaryCaregiver_0-5',\n",
       "       'PrimaryCaregiver_5-15', 'Past4WkBeenArrested', 'Past4Wk_ViolentToYou',\n",
       "       'Past4WkHaveYouViolenceAbusive', 'Past4WkMentalHealth',\n",
       "       'Past4WkPhysicalHealth', 'Past4WkQualityOfLifeScore'],\n",
       "      dtype='object', length=160)"
      ]
     },
     "execution_count": 36,
     "metadata": {},
     "output_type": "execute_result"
    }
   ],
   "source": [
    "df_final.columns"
   ]
  },
  {
   "cell_type": "code",
   "execution_count": 29,
   "metadata": {},
   "outputs": [
    {
     "data": {
      "text/plain": [
       "array(['12QQ03076', '12QQ03063', '12QQ03061', '12QQ03062', '12QQ03022',\n",
       "       '13Q035', '13K034', '12KK03025', '12KK03024'], dtype=object)"
      ]
     },
     "execution_count": 29,
     "metadata": {},
     "output_type": "execute_result"
    }
   ],
   "source": []
  },
  {
   "cell_type": "code",
   "execution_count": 38,
   "metadata": {},
   "outputs": [],
   "source": [
    "survy_text_fname = f\"{active_clients_start_date}_{active_clients_end_date}\""
   ]
  },
  {
   "cell_type": "code",
   "execution_count": 39,
   "metadata": {},
   "outputs": [],
   "source": [
    "df_final['PMSPersonID'] = df_final['PMSPersonID'].astype(str).apply(lambda x: x.zfill(4))\n"
   ]
  },
  {
   "cell_type": "code",
   "execution_count": 40,
   "metadata": {},
   "outputs": [
    {
     "name": "stdout",
     "output_type": "stream",
     "text": [
      "<class 'pandas.core.frame.DataFrame'>\n",
      "Index: 1162 entries, 0 to 1877\n",
      "Columns: 160 entries, AgencyCode to Past4WkQualityOfLifeScore\n",
      "dtypes: float64(8), int64(3), object(149)\n",
      "memory usage: 1.4+ MB\n"
     ]
    }
   ],
   "source": [
    "df_final.info()"
   ]
  },
  {
   "cell_type": "code",
   "execution_count": 41,
   "metadata": {},
   "outputs": [],
   "source": [
    "float_cols = df_final.select_dtypes(include=['float']).columns\n",
    "df_final[float_cols] = df_final[float_cols].astype('Int64')\n",
    "# float_cols = df.select_dtypes(include=['float']).columns\n",
    "# df[float_cols] = df[float_cols].astype('Int64')"
   ]
  },
  {
   "cell_type": "code",
   "execution_count": 42,
   "metadata": {},
   "outputs": [],
   "source": [
    "out_path = f\"./data/out/no-header/new_surveyTXT_{survy_text_fname}.csv\"\n",
    "df_final.to_csv(out_path,index=False,header=False)\n",
    "out_path = f\"./data/out/new_surveyTXT_{survy_text_fname}.csv\"\n",
    "df_final.to_csv(out_path,index=False)"
   ]
  },
  {
   "cell_type": "code",
   "execution_count": 35,
   "metadata": {},
   "outputs": [],
   "source": [
    "my_agency_codes = df_final['AgencyCode'].unique()\n",
    "\n",
    "for agency_code, program in EstablishmentID_Program.items():\n",
    "  if not agency_code in my_agency_codes:\n",
    "    continue\n",
    "  out_path = f\"./data/out/no-header/new_surveyTXT_{program}_{survy_text_fname}.csv\"\n",
    "  df_final[df_final.AgencyCode == agency_code].to_csv(out_path,index=False,header=False)\n",
    "  out_path = f\"./data/out/new_surveyTXT_{program}_{survy_text_fname}.csv\"\n",
    "  df_final[df_final.AgencyCode == agency_code].to_csv(out_path,index=False)\n",
    "  "
   ]
  },
  {
   "cell_type": "code",
   "execution_count": 32,
   "metadata": {},
   "outputs": [
    {
     "data": {
      "text/plain": [
       "'20230701-20231231'"
      ]
     },
     "execution_count": 32,
     "metadata": {},
     "output_type": "execute_result"
    }
   ],
   "source": [
    "fname"
   ]
  },
  {
   "cell_type": "code",
   "execution_count": 46,
   "metadata": {},
   "outputs": [
    {
     "data": {
      "text/html": [
       "<div>\n",
       "<style scoped>\n",
       "    .dataframe tbody tr th:only-of-type {\n",
       "        vertical-align: middle;\n",
       "    }\n",
       "\n",
       "    .dataframe tbody tr th {\n",
       "        vertical-align: top;\n",
       "    }\n",
       "\n",
       "    .dataframe thead th {\n",
       "        text-align: right;\n",
       "    }\n",
       "</style>\n",
       "<table border=\"1\" class=\"dataframe\">\n",
       "  <thead>\n",
       "    <tr style=\"text-align: right;\">\n",
       "      <th></th>\n",
       "      <th>AgencyCode</th>\n",
       "      <th>GEOGRAPHICAL LOCATION</th>\n",
       "      <th>PMSEpisodeID</th>\n",
       "      <th>PMSPersonID</th>\n",
       "      <th>PDCCode</th>\n",
       "      <th>PDCSubstanceOfConcern</th>\n",
       "      <th>CommencementDate</th>\n",
       "      <th>EndDate</th>\n",
       "      <th>SLK</th>\n",
       "      <th>Program</th>\n",
       "    </tr>\n",
       "  </thead>\n",
       "  <tbody>\n",
       "    <tr>\n",
       "      <th>44</th>\n",
       "      <td>12QQ03076</td>\n",
       "      <td>10550</td>\n",
       "      <td>79856</td>\n",
       "      <td>9527</td>\n",
       "      <td>2101</td>\n",
       "      <td>Alcohol</td>\n",
       "      <td>2023-07-11</td>\n",
       "      <td>2023-08-30</td>\n",
       "      <td>AW2AT050619771</td>\n",
       "      <td>SAPPHIRE</td>\n",
       "    </tr>\n",
       "  </tbody>\n",
       "</table>\n",
       "</div>"
      ],
      "text/plain": [
       "   AgencyCode  GEOGRAPHICAL LOCATION  PMSEpisodeID  PMSPersonID  PDCCode   \n",
       "44  12QQ03076                  10550         79856         9527     2101  \\\n",
       "\n",
       "   PDCSubstanceOfConcern CommencementDate     EndDate             SLK   \n",
       "44               Alcohol       2023-07-11  2023-08-30  AW2AT050619771  \\\n",
       "\n",
       "     Program  \n",
       "44  SAPPHIRE  "
      ]
     },
     "execution_count": 46,
     "metadata": {},
     "output_type": "execute_result"
    }
   ],
   "source": [
    "ep_df[ep_df.PMSEpisodeID == 79856]\n"
   ]
  },
  {
   "cell_type": "markdown",
   "metadata": {},
   "source": [
    "# stats"
   ]
  },
  {
   "cell_type": "code",
   "execution_count": 31,
   "metadata": {},
   "outputs": [
    {
     "data": {
      "text/plain": [
       "AgencyCode\n",
       "12QQ03076    109\n",
       "13K034        89\n",
       "12QQ03062     78\n",
       "13Q035        73\n",
       "12QQ03022     42\n",
       "12QQ03061     38\n",
       "12KK03025     24\n",
       "12KK03024     17\n",
       "12QQ03063      8\n",
       "Name: count, dtype: int64"
      ]
     },
     "execution_count": 31,
     "metadata": {},
     "output_type": "execute_result"
    }
   ],
   "source": [
    "df_final['AgencyCode'].value_counts()"
   ]
  },
  {
   "cell_type": "code",
   "execution_count": null,
   "metadata": {},
   "outputs": [],
   "source": [
    "\n",
    "# my_agency_codes = df_final['AgencyCode'].unique()\n",
    "# for agency_code, program in EstablishmentID_Program.items():\n",
    "#   if not agency_code in my_agency_codes:\n",
    "#     continue\n",
    "#   print(df_final['AgencyCode'].)"
   ]
  },
  {
   "cell_type": "code",
   "execution_count": 38,
   "metadata": {},
   "outputs": [
    {
     "data": {
      "text/html": [
       "<div>\n",
       "<style scoped>\n",
       "    .dataframe tbody tr th:only-of-type {\n",
       "        vertical-align: middle;\n",
       "    }\n",
       "\n",
       "    .dataframe tbody tr th {\n",
       "        vertical-align: top;\n",
       "    }\n",
       "\n",
       "    .dataframe thead th {\n",
       "        text-align: right;\n",
       "    }\n",
       "</style>\n",
       "<table border=\"1\" class=\"dataframe\">\n",
       "  <thead>\n",
       "    <tr style=\"text-align: right;\">\n",
       "      <th></th>\n",
       "      <th>Benzodiazepines_TypicalQtyStr</th>\n",
       "      <th>Benzodiazepines_DaysInLast28</th>\n",
       "      <th>Program</th>\n",
       "    </tr>\n",
       "  </thead>\n",
       "  <tbody>\n",
       "    <tr>\n",
       "      <th>1033</th>\n",
       "      <td>10.0; dosage (mgs)</td>\n",
       "      <td>28</td>\n",
       "      <td>SAPPHIRE</td>\n",
       "    </tr>\n",
       "    <tr>\n",
       "      <th>638</th>\n",
       "      <td>17.0; dosage (mgs)</td>\n",
       "      <td>28</td>\n",
       "      <td>SAPPHIRE</td>\n",
       "    </tr>\n",
       "    <tr>\n",
       "      <th>639</th>\n",
       "      <td>17.0; dosage (mgs)</td>\n",
       "      <td>28</td>\n",
       "      <td>SAPPHIRE</td>\n",
       "    </tr>\n",
       "    <tr>\n",
       "      <th>640</th>\n",
       "      <td>17.0; dosage (mgs)</td>\n",
       "      <td>28</td>\n",
       "      <td>SAPPHIRE</td>\n",
       "    </tr>\n",
       "    <tr>\n",
       "      <th>1255</th>\n",
       "      <td>1.0; pills</td>\n",
       "      <td>14</td>\n",
       "      <td>SAPPHIRE</td>\n",
       "    </tr>\n",
       "    <tr>\n",
       "      <th>1042</th>\n",
       "      <td>0.5; dosage (mgs)</td>\n",
       "      <td>8</td>\n",
       "      <td>SAPPHIRE</td>\n",
       "    </tr>\n",
       "    <tr>\n",
       "      <th>1034</th>\n",
       "      <td>2.0; dosage (mgs)</td>\n",
       "      <td>28</td>\n",
       "      <td>SAPPHIRE</td>\n",
       "    </tr>\n",
       "  </tbody>\n",
       "</table>\n",
       "</div>"
      ],
      "text/plain": [
       "     Benzodiazepines_TypicalQtyStr Benzodiazepines_DaysInLast28   Program\n",
       "1033            10.0; dosage (mgs)                           28  SAPPHIRE\n",
       "638             17.0; dosage (mgs)                           28  SAPPHIRE\n",
       "639             17.0; dosage (mgs)                           28  SAPPHIRE\n",
       "640             17.0; dosage (mgs)                           28  SAPPHIRE\n",
       "1255                    1.0; pills                           14  SAPPHIRE\n",
       "1042             0.5; dosage (mgs)                            8  SAPPHIRE\n",
       "1034             2.0; dosage (mgs)                           28  SAPPHIRE"
      ]
     },
     "execution_count": 38,
     "metadata": {},
     "output_type": "execute_result"
    }
   ],
   "source": [
    "program_mask = (atom_df['Program'] =='SAPPHIRE') \n",
    "mask =  (atom_df['Benzodiazepines_DaysInLast28'].notna()) & (atom_df['Benzodiazepines_DaysInLast28'] != \"\") \n",
    "fields = [c for c in atom_df.columns if 'Benzodiazepines' in c]\n",
    "fields.append('Program')\n",
    "atom_df[program_mask & mask][  fields]"
   ]
  },
  {
   "cell_type": "code",
   "execution_count": 32,
   "metadata": {},
   "outputs": [],
   "source": [
    "# df_final.to_csv(\"./data/out/surveyTXT_20230701-2023-12-31.csv\")"
   ]
  }
 ],
 "metadata": {
  "kernelspec": {
   "display_name": ".venv",
   "language": "python",
   "name": "python3"
  },
  "language_info": {
   "codemirror_mode": {
    "name": "ipython",
    "version": 3
   },
   "file_extension": ".py",
   "mimetype": "text/x-python",
   "name": "python",
   "nbconvert_exporter": "python",
   "pygments_lexer": "ipython3",
   "version": "3.11.3"
  },
  "orig_nbformat": 4
 },
 "nbformat": 4,
 "nbformat_minor": 2
}
