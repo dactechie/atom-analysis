{
 "cells": [
  {
   "attachments": {},
   "cell_type": "markdown",
   "metadata": {},
   "source": [
    "# Population-level trends for Client Outcome Measures\n",
    "\n",
    "## Comparing the averages of scores for a particular set of questions First stage vs any other stage scores ATOM Survey"
   ]
  },
  {
   "attachments": {},
   "cell_type": "markdown",
   "metadata": {},
   "source": [
    "## Steps:\n",
    "\n",
    "1. Extract the data - from the database or from a pre-prepared parquet file\n",
    "2. Processing: if not pulling from pre-cleaned data: Clean & Transform (incl. categorize) the data\n",
    "    - Clean data - remove rows with missing data : PDCSubstanceOrGambling\n",
    "    - Transform data - expand PDC, determine Program, categorize fields, drop Notes/Comments fields, rename PartitionKey to SLK.\n",
    "    - Limit the data to the period of interest - i.e. only clients who have completed at least one survey during the period of interest.\n",
    "    - Limit by only clients who have completed the survey at least three times (min-stage: 3)\n",
    "5. Calculate the average score for each client for each stage and for each of the questions of interest.\n"
   ]
  },
  {
   "cell_type": "code",
   "execution_count": 1,
   "metadata": {},
   "outputs": [],
   "source": [
    "# Step 0: Importing the libraries\n",
    "\n",
    "from utils.df_ops import read_parquet"
   ]
  },
  {
   "cell_type": "code",
   "execution_count": 2,
   "metadata": {},
   "outputs": [],
   "source": [
    "# Global variables\n",
    "extract_start_date = 20200101\n",
    "extract_end_date = 20240101\n",
    "fname = f\"{extract_start_date}_{extract_end_date}\"\n",
    "\n",
    "active_clients_start_date ='2022-07-01' \n",
    "active_clients_end_date = '2023-06-30'\n",
    "\n",
    "MIN_NUM_ATOMS_PER_CLIENT = 3\n",
    "MIN_NUM_COL_VALUES = 3\n",
    "\n",
    "processed_filepath = f\"./data/processed/processed_all_cols_{fname}.parquet\"\n"
   ]
  },
  {
   "attachments": {},
   "cell_type": "markdown",
   "metadata": {},
   "source": [
    "### Step 1 & 2: Extract & Process"
   ]
  },
  {
   "cell_type": "code",
   "execution_count": 3,
   "metadata": {},
   "outputs": [],
   "source": [
    "# Step 1: Importing the dataset\n",
    "\n",
    "## Check if a processed parquet file exists\n",
    "processed_df = read_parquet(processed_filepath)\n",
    "\n",
    "if isinstance(processed_df, type(None)) or processed_df.empty:\n",
    "  print(\"INFO: No processed data found, loading from DB\")\n",
    "  from utils.io import get_data\n",
    "  raw_df = get_data(extract_start_date, extract_end_date, f\"./data/in/{fname}.parquet\", cache=True)\n",
    "  if isinstance(raw_df, type(None)) or raw_df.empty:\n",
    "    print(\"ERROR: No data found\")\n",
    "    exit(1)\n",
    "  \n",
    "  from data_prep import prep_dataframe, limit_min_num_assessments, limit_clients_active_inperiod\n",
    "\n",
    "  # Step 2: Clean and Transform the dataset\n",
    "  processed_df = prep_dataframe(raw_df) # only one filter: PDCSubstanceOrGambling has to have a value\n",
    "\n",
    "  processed_df = limit_clients_active_inperiod(processed_df, active_clients_start_date, active_clients_end_date)\n",
    "  # Limit to only clients who have completed at least 3 survey during the period of interest.\n",
    "  processed_df = limit_min_num_assessments(processed_df, MIN_NUM_ATOMS_PER_CLIENT)\n",
    "  \n",
    "  # cache the processed data\n",
    "  processed_df.to_parquet(f\"{processed_filepath}\")\n"
   ]
  },
  {
   "cell_type": "code",
   "execution_count": 4,
   "metadata": {},
   "outputs": [
    {
     "data": {
      "text/plain": [
       "2434"
      ]
     },
     "execution_count": 4,
     "metadata": {},
     "output_type": "execute_result"
    }
   ],
   "source": [
    "len(processed_df)"
   ]
  },
  {
   "attachments": {},
   "cell_type": "markdown",
   "metadata": {},
   "source": [
    "### Step 3 : Calculate the average score for each client for each stage and for each of the questions of interest."
   ]
  },
  {
   "cell_type": "code",
   "execution_count": 5,
   "metadata": {},
   "outputs": [],
   "source": [
    "from utils.group_utils import getrecs_w_min_numvals_forcol, chrono_rank_within_clientgroup\n",
    "\n",
    "def get_mean_xcontribs_of_nth_assessment_for_question(df, nth, question):\n",
    "  nth_surveys = df[df['survey_rank'] == nth]\n",
    "  mean_rounded = 0\n",
    "  if nth_surveys[question].dtype.name == 'category':\n",
    "    mean_rounded = round(nth_surveys[question].cat.codes.mean(),2)\n",
    "  else:\n",
    "    mean_rounded = round(nth_surveys[question].mean(),2)\n",
    "  \n",
    "  return mean_rounded, len(nth_surveys)"
   ]
  },
  {
   "cell_type": "code",
   "execution_count": 6,
   "metadata": {},
   "outputs": [],
   "source": [
    "col = 'Past4WkHowOftenPhysicalHealthCausedProblems' #'SDS_Score'\n",
    "is_categorical = True"
   ]
  },
  {
   "cell_type": "code",
   "execution_count": 7,
   "metadata": {},
   "outputs": [
    {
     "data": {
      "text/plain": [
       "(2256,\n",
       " 2434,\n",
       " Timestamp('2020-01-02 00:00:00'),\n",
       " Timestamp('2023-06-30 00:00:00'))"
      ]
     },
     "execution_count": 7,
     "metadata": {},
     "output_type": "execute_result"
    }
   ],
   "source": [
    "\n",
    "col_df = getrecs_w_min_numvals_forcol(processed_df, col)\n",
    "len(col_df), len(processed_df), min(processed_df.AssessmentDate), max(processed_df.AssessmentDate)"
   ]
  },
  {
   "cell_type": "code",
   "execution_count": 10,
   "metadata": {},
   "outputs": [],
   "source": [
    "# Chronologically Rank the Assessments for each client\n",
    "col_df = chrono_rank_within_clientgroup(col_df)\n",
    "# g = col_df.groupby('SLK')\n",
    "# col_df.loc[:,'survey_rank'] = g['AssessmentDate'].rank(method='min')"
   ]
  },
  {
   "cell_type": "code",
   "execution_count": 11,
   "metadata": {},
   "outputs": [
    {
     "data": {
      "text/plain": [
       "(1.42, 488, 1.4, 299, 1.39, 70)"
      ]
     },
     "execution_count": 11,
     "metadata": {},
     "output_type": "execute_result"
    }
   ],
   "source": [
    "mean1, first_assess_contribs = get_mean_xcontribs_of_nth_assessment_for_question(col_df, 1, col)\n",
    "mean4, fourth_assess_contribs = get_mean_xcontribs_of_nth_assessment_for_question(col_df, 4, col)\n",
    "mean7, seventh_assess_contribs = get_mean_xcontribs_of_nth_assessment_for_question(col_df, 7, col)\n",
    "mean1, first_assess_contribs , mean4, fourth_assess_contribs, mean7, seventh_assess_contribs \n",
    "\n",
    "# TODO: Clients with no change : treat as outliers and remove ? \n",
    "# TODO: Clients with only zeros ?"
   ]
  },
  {
   "cell_type": "code",
   "execution_count": 12,
   "metadata": {},
   "outputs": [
    {
     "data": {
      "text/html": [
       "\n",
       "<style>\n",
       "  #altair-viz-a35c437b45984c6e8e1c510552195276.vega-embed {\n",
       "    width: 100%;\n",
       "    display: flex;\n",
       "  }\n",
       "\n",
       "  #altair-viz-a35c437b45984c6e8e1c510552195276.vega-embed details,\n",
       "  #altair-viz-a35c437b45984c6e8e1c510552195276.vega-embed details summary {\n",
       "    position: relative;\n",
       "  }\n",
       "</style>\n",
       "<div id=\"altair-viz-a35c437b45984c6e8e1c510552195276\"></div>\n",
       "<script type=\"text/javascript\">\n",
       "  var VEGA_DEBUG = (typeof VEGA_DEBUG == \"undefined\") ? {} : VEGA_DEBUG;\n",
       "  (function(spec, embedOpt){\n",
       "    let outputDiv = document.currentScript.previousElementSibling;\n",
       "    if (outputDiv.id !== \"altair-viz-a35c437b45984c6e8e1c510552195276\") {\n",
       "      outputDiv = document.getElementById(\"altair-viz-a35c437b45984c6e8e1c510552195276\");\n",
       "    }\n",
       "    const paths = {\n",
       "      \"vega\": \"https://cdn.jsdelivr.net/npm/vega@5?noext\",\n",
       "      \"vega-lib\": \"https://cdn.jsdelivr.net/npm/vega-lib?noext\",\n",
       "      \"vega-lite\": \"https://cdn.jsdelivr.net/npm/vega-lite@5.8.0?noext\",\n",
       "      \"vega-embed\": \"https://cdn.jsdelivr.net/npm/vega-embed@6?noext\",\n",
       "    };\n",
       "\n",
       "    function maybeLoadScript(lib, version) {\n",
       "      var key = `${lib.replace(\"-\", \"\")}_version`;\n",
       "      return (VEGA_DEBUG[key] == version) ?\n",
       "        Promise.resolve(paths[lib]) :\n",
       "        new Promise(function(resolve, reject) {\n",
       "          var s = document.createElement('script');\n",
       "          document.getElementsByTagName(\"head\")[0].appendChild(s);\n",
       "          s.async = true;\n",
       "          s.onload = () => {\n",
       "            VEGA_DEBUG[key] = version;\n",
       "            return resolve(paths[lib]);\n",
       "          };\n",
       "          s.onerror = () => reject(`Error loading script: ${paths[lib]}`);\n",
       "          s.src = paths[lib];\n",
       "        });\n",
       "    }\n",
       "\n",
       "    function showError(err) {\n",
       "      outputDiv.innerHTML = `<div class=\"error\" style=\"color:red;\">${err}</div>`;\n",
       "      throw err;\n",
       "    }\n",
       "\n",
       "    function displayChart(vegaEmbed) {\n",
       "      vegaEmbed(outputDiv, spec, embedOpt)\n",
       "        .catch(err => showError(`Javascript Error: ${err.message}<br>This usually means there's a typo in your chart specification. See the javascript console for the full traceback.`));\n",
       "    }\n",
       "\n",
       "    if(typeof define === \"function\" && define.amd) {\n",
       "      requirejs.config({paths});\n",
       "      require([\"vega-embed\"], displayChart, err => showError(`Error loading script: ${err.message}`));\n",
       "    } else {\n",
       "      maybeLoadScript(\"vega\", \"5\")\n",
       "        .then(() => maybeLoadScript(\"vega-lite\", \"5.8.0\"))\n",
       "        .then(() => maybeLoadScript(\"vega-embed\", \"6\"))\n",
       "        .catch(showError)\n",
       "        .then(() => displayChart(vegaEmbed));\n",
       "    }\n",
       "  })({\"config\": {\"view\": {\"continuousWidth\": 300, \"continuousHeight\": 300}}, \"layer\": [{\"mark\": {\"type\": \"line\", \"point\": true}, \"encoding\": {\"tooltip\": [{\"field\": \"Assessment\", \"type\": \"nominal\"}, {\"field\": \"MeanValue\", \"type\": \"quantitative\"}], \"x\": {\"field\": \"Assessment\", \"type\": \"nominal\"}, \"y\": {\"field\": \"MeanValue\", \"type\": \"quantitative\"}}, \"title\": \"Mean Values of First and Last Physical Health Assessments\"}, {\"mark\": {\"type\": \"point\", \"size\": 100}, \"encoding\": {\"color\": {\"field\": \"Category\", \"scale\": {\"domain\": [\"Physical Health\"], \"range\": [\"red\"]}, \"type\": \"nominal\"}, \"tooltip\": [{\"field\": \"Assessment\", \"type\": \"nominal\"}, {\"field\": \"MeanValue\", \"type\": \"quantitative\"}, {\"field\": \"Category\", \"type\": \"nominal\"}, {\"field\": \"Count\", \"type\": \"quantitative\"}], \"x\": {\"field\": \"Assessment\", \"type\": \"nominal\"}, \"y\": {\"field\": \"MeanValue\", \"type\": \"quantitative\"}}}], \"data\": {\"name\": \"data-62c4c468e55be2cb88e763d170a260ee\"}, \"width\": 600, \"$schema\": \"https://vega.github.io/schema/vega-lite/v5.8.0.json\", \"datasets\": {\"data-62c4c468e55be2cb88e763d170a260ee\": [{\"Assessment\": \"First\", \"MeanValue\": 1.42, \"Category\": \"Physical Health\", \"Count\": 488}, {\"Assessment\": \"Fourth\", \"MeanValue\": 1.4, \"Category\": \"Physical Health\", \"Count\": 299}, {\"Assessment\": \"Seventh\", \"MeanValue\": 1.39, \"Category\": \"Physical Health\", \"Count\": 70}]}}, {\"mode\": \"vega-lite\"});\n",
       "</script>"
      ],
      "text/plain": [
       "alt.LayerChart(...)"
      ]
     },
     "execution_count": 12,
     "metadata": {},
     "output_type": "execute_result"
    }
   ],
   "source": [
    "# client_groups_forcol = col_df.groupby('SLK')\n",
    "from graphing import get_chart_for_means\n",
    "\n",
    "assessment_tags= ['First', 'Fourth', 'Seventh']\n",
    "means = [mean1, mean4, mean7]\n",
    "\n",
    "contribs = [first_assess_contribs,fourth_assess_contribs, seventh_assess_contribs ]\n",
    "chart = get_chart_for_means(assessment_tags, means, contribs)\n",
    "chart"
   ]
  }
 ],
 "metadata": {
  "kernelspec": {
   "display_name": ".venv",
   "language": "python",
   "name": "python3"
  },
  "language_info": {
   "codemirror_mode": {
    "name": "ipython",
    "version": 3
   },
   "file_extension": ".py",
   "mimetype": "text/x-python",
   "name": "python",
   "nbconvert_exporter": "python",
   "pygments_lexer": "ipython3",
   "version": "3.11.3"
  },
  "orig_nbformat": 4
 },
 "nbformat": 4,
 "nbformat_minor": 2
}
