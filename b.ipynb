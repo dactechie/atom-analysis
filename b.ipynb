{
 "cells": [
  {
   "attachments": {},
   "cell_type": "markdown",
   "metadata": {},
   "source": [
    "# Population-level trends for Client Outcome Measures\n",
    "\n",
    "## Comparing the averages of scores for a particular set of questions First stage vs any other stage scores ATOM Survey"
   ]
  },
  {
   "attachments": {},
   "cell_type": "markdown",
   "metadata": {},
   "source": [
    "## Steps:\n",
    "\n",
    "1. Extract the data - from the database or from a pre-prepared parquet file\n",
    "2. Processing: if not pulling from pre-cleaned data: Clean & Transform (incl. categorize) the data\n",
    "    - Clean data - remove rows with missing data : PDCSubstanceOrGambling\n",
    "    - Transform data - expand PDC, determine Program, categorize fields, drop Notes/Comments fields, rename PartitionKey to SLK.\n",
    "    - Limit the data to the period of interest - i.e. only clients who have completed at least one survey during the period of interest.\n",
    "    - Limit by only clients who have completed the survey at least three times (min-stage: 3)\n",
    "5. Calculate the average score for each client for each stage and for each of the questions of interest.\n"
   ]
  },
  {
   "cell_type": "code",
   "execution_count": 1,
   "metadata": {},
   "outputs": [],
   "source": [
    "# Step 0: Importing the libraries\n",
    "from utils.df_xtrct_prep import extract_prep_data"
   ]
  },
  {
   "cell_type": "code",
   "execution_count": 2,
   "metadata": {},
   "outputs": [],
   "source": [
    "# Global variables\n",
    "extract_start_date = 20200101\n",
    "extract_end_date = 20240101\n",
    "\n",
    "fname = f\"{extract_start_date}_{extract_end_date}\"\n",
    "\n",
    "active_clients_start_date ='2022-07-01' \n",
    "active_clients_end_date = '2023-06-30'\n",
    "\n",
    "# MIN_NUM_ATOMS_PER_CLIENT = 3\n",
    "# MIN_NUM_COL_VALUES = 3"
   ]
  },
  {
   "attachments": {},
   "cell_type": "markdown",
   "metadata": {},
   "source": [
    "### Step 1 & 2: Extract & Process"
   ]
  },
  {
   "cell_type": "code",
   "execution_count": 3,
   "metadata": {},
   "outputs": [],
   "source": [
    "# Step 1: Importing the dataset\n",
    "processed_df = extract_prep_data(extract_start_date, extract_end_date\n",
    "                                 , active_clients_start_date\n",
    "                                 , active_clients_end_date\n",
    "                                 , fname)"
   ]
  },
  {
   "cell_type": "code",
   "execution_count": 4,
   "metadata": {},
   "outputs": [
    {
     "data": {
      "text/plain": [
       "2434"
      ]
     },
     "execution_count": 4,
     "metadata": {},
     "output_type": "execute_result"
    }
   ],
   "source": [
    "len(processed_df)"
   ]
  },
  {
   "attachments": {},
   "cell_type": "markdown",
   "metadata": {},
   "source": [
    "### Step 3 : Calculate the average score for each client for each stage and for each of the questions of interest."
   ]
  },
  {
   "cell_type": "code",
   "execution_count": 5,
   "metadata": {},
   "outputs": [],
   "source": [
    "from utils.group_utils import getrecs_w_min_numvals_forcol, chrono_rank_within_clientgroup\n",
    "from statsutil.funcs import get_mean_xcontribs_of_nth_assessment_for_question \\\n",
    "                          , get_df_forclients_with_atleast_n_surveys\n",
    "# , get_nth_survey_values_for_question, getSLKs_with_change_in_question\n"
   ]
  },
  {
   "cell_type": "code",
   "execution_count": 6,
   "metadata": {},
   "outputs": [],
   "source": [
    "# Chronologically Rank the Assessments for each client\n",
    "col_df = chrono_rank_within_clientgroup(processed_df)  # adds 'survey_rank' column\n",
    "# g = col_df.groupby('SLK')\n",
    "# col_df.loc[:,'survey_rank'] = g['AssessmentDate'].rank(method='min')"
   ]
  },
  {
   "cell_type": "code",
   "execution_count": 13,
   "metadata": {},
   "outputs": [],
   "source": [
    "# MIN_ASSESSMENTS = 6"
   ]
  },
  {
   "cell_type": "code",
   "execution_count": 12,
   "metadata": {},
   "outputs": [
    {
     "data": {
      "text/plain": [
       "1051"
      ]
     },
     "execution_count": 12,
     "metadata": {},
     "output_type": "execute_result"
    }
   ],
   "source": [
    "# df_six = get_df_forclients_with_atleast_n_surveys(col_df, MIN_ASSESSMENTS)\n",
    "# len(df_six)"
   ]
  },
  {
   "cell_type": "code",
   "execution_count": 16,
   "metadata": {},
   "outputs": [
    {
     "data": {
      "text/plain": [
       "(931, 1051, Timestamp('2020-01-07 00:00:00'), Timestamp('2023-06-29 00:00:00'))"
      ]
     },
     "execution_count": 16,
     "metadata": {},
     "output_type": "execute_result"
    }
   ],
   "source": [
    "\n",
    "# col_df = getrecs_w_min_numvals_forcol(df_six, col, min_num_vals=MIN_ASSESSMENTS)\n",
    "# len(col_df), len(df_six), min(df_six.AssessmentDate), max(df_six.AssessmentDate)"
   ]
  },
  {
   "cell_type": "code",
   "execution_count": 21,
   "metadata": {},
   "outputs": [
    {
     "data": {
      "text/html": [
       "<div>\n",
       "<style scoped>\n",
       "    .dataframe tbody tr th:only-of-type {\n",
       "        vertical-align: middle;\n",
       "    }\n",
       "\n",
       "    .dataframe tbody tr th {\n",
       "        vertical-align: top;\n",
       "    }\n",
       "\n",
       "    .dataframe thead th {\n",
       "        text-align: right;\n",
       "    }\n",
       "</style>\n",
       "<table border=\"1\" class=\"dataframe\">\n",
       "  <thead>\n",
       "    <tr style=\"text-align: right;\">\n",
       "      <th></th>\n",
       "      <th>SLK</th>\n",
       "      <th>survey_rank</th>\n",
       "      <th>AssessmentDate</th>\n",
       "    </tr>\n",
       "  </thead>\n",
       "  <tbody>\n",
       "    <tr>\n",
       "      <th>54</th>\n",
       "      <td>ACOAC250520011</td>\n",
       "      <td>2.0</td>\n",
       "      <td>2022-10-04</td>\n",
       "    </tr>\n",
       "    <tr>\n",
       "      <th>57</th>\n",
       "      <td>ACOAC250520011</td>\n",
       "      <td>3.0</td>\n",
       "      <td>2022-11-11</td>\n",
       "    </tr>\n",
       "    <tr>\n",
       "      <th>51</th>\n",
       "      <td>ACOAC250520011</td>\n",
       "      <td>4.0</td>\n",
       "      <td>2022-11-22</td>\n",
       "    </tr>\n",
       "    <tr>\n",
       "      <th>55</th>\n",
       "      <td>ACOAC250520011</td>\n",
       "      <td>5.0</td>\n",
       "      <td>2022-12-22</td>\n",
       "    </tr>\n",
       "    <tr>\n",
       "      <th>52</th>\n",
       "      <td>ACOAC250520011</td>\n",
       "      <td>6.0</td>\n",
       "      <td>2023-03-22</td>\n",
       "    </tr>\n",
       "    <tr>\n",
       "      <th>...</th>\n",
       "      <td>...</td>\n",
       "      <td>...</td>\n",
       "      <td>...</td>\n",
       "    </tr>\n",
       "    <tr>\n",
       "      <th>7324</th>\n",
       "      <td>YL2IA310319901</td>\n",
       "      <td>3.0</td>\n",
       "      <td>2021-09-17</td>\n",
       "    </tr>\n",
       "    <tr>\n",
       "      <th>7325</th>\n",
       "      <td>YL2IA310319901</td>\n",
       "      <td>4.0</td>\n",
       "      <td>2021-12-21</td>\n",
       "    </tr>\n",
       "    <tr>\n",
       "      <th>7326</th>\n",
       "      <td>YL2IA310319901</td>\n",
       "      <td>5.0</td>\n",
       "      <td>2022-03-04</td>\n",
       "    </tr>\n",
       "    <tr>\n",
       "      <th>7321</th>\n",
       "      <td>YL2IA310319901</td>\n",
       "      <td>6.0</td>\n",
       "      <td>2022-10-20</td>\n",
       "    </tr>\n",
       "    <tr>\n",
       "      <th>7322</th>\n",
       "      <td>YL2IA310319901</td>\n",
       "      <td>7.0</td>\n",
       "      <td>2023-05-04</td>\n",
       "    </tr>\n",
       "  </tbody>\n",
       "</table>\n",
       "<p>931 rows × 3 columns</p>\n",
       "</div>"
      ],
      "text/plain": [
       "                 SLK  survey_rank AssessmentDate\n",
       "54    ACOAC250520011          2.0     2022-10-04\n",
       "57    ACOAC250520011          3.0     2022-11-11\n",
       "51    ACOAC250520011          4.0     2022-11-22\n",
       "55    ACOAC250520011          5.0     2022-12-22\n",
       "52    ACOAC250520011          6.0     2023-03-22\n",
       "...              ...          ...            ...\n",
       "7324  YL2IA310319901          3.0     2021-09-17\n",
       "7325  YL2IA310319901          4.0     2021-12-21\n",
       "7326  YL2IA310319901          5.0     2022-03-04\n",
       "7321  YL2IA310319901          6.0     2022-10-20\n",
       "7322  YL2IA310319901          7.0     2023-05-04\n",
       "\n",
       "[931 rows x 3 columns]"
      ]
     },
     "execution_count": 21,
     "metadata": {},
     "output_type": "execute_result"
    }
   ],
   "source": [
    "# not necessary ? the survey_ranks will be consecutive\n",
    "# col_df = col_df.sort_values(by=['SLK', 'survey_rank'])\n",
    "\n",
    "# col_df[['SLK', 'survey_rank', 'AssessmentDate']] #.head(30)"
   ]
  },
  {
   "cell_type": "code",
   "execution_count": 7,
   "metadata": {},
   "outputs": [],
   "source": [
    "def get_nmeans_ncontribs(chosen_surveys, df, field_name:str):\n",
    "  averages = []\n",
    "  nth_assessment_contribs =[]\n",
    "\n",
    "  for s_no in chosen_surveys:\n",
    "      average, n_contribs = get_mean_xcontribs_of_nth_assessment_for_question(df, s_no, field_name)\n",
    "      averages.append(average)\n",
    "      nth_assessment_contribs.append(n_contribs)\n",
    "      print(f\"Survey {s_no} has {n_contribs} contributing asessments for {field_name}, with mean {average}\")\n",
    "  return averages, nth_assessment_contribs"
   ]
  },
  {
   "cell_type": "code",
   "execution_count": 8,
   "metadata": {},
   "outputs": [
    {
     "name": "stdout",
     "output_type": "stream",
     "text": [
      "NRecords For Col(SDS_Score): 337, Total:1051, 2020-01-07 00:00:00, 2023-06-29 00:00:00\n",
      "Survey 1 has 40 contributing asessments for SDS_Score, with mean 8.52\n",
      "Survey 3 has 44 contributing asessments for SDS_Score, with mean 7.48\n",
      "Survey 6 has 35 contributing asessments for SDS_Score, with mean 7.0\n"
     ]
    },
    {
     "data": {
      "text/plain": [
       "([8.52, 7.48, 7.0], [40, 44, 35], [1, 3, 6])"
      ]
     },
     "execution_count": 8,
     "metadata": {},
     "output_type": "execute_result"
    }
   ],
   "source": [
    "\n",
    "MIN_ASSESSMENTS = 6\n",
    "col = \"SDS_Score\" #'Past4WkHowOftenPhysicalHealthCausedProblems' #'SDS_Score'\n",
    "chosen_surveys = [1, 3 ,6]  # hast to be less than MIN_ASSESSMENTS\n",
    "\n",
    "df_six = get_df_forclients_with_atleast_n_surveys(col_df, MIN_ASSESSMENTS)\n",
    "len(df_six)\n",
    "\n",
    "col_df = getrecs_w_min_numvals_forcol(df_six, col, min_num_vals=MIN_ASSESSMENTS)\n",
    "\n",
    "print (f\"NRecords For Col({col}): {len(col_df)}, Total:{len(df_six)}, {min(df_six.AssessmentDate)}, {max(df_six.AssessmentDate)}\")\n",
    "\n",
    "averages, nth_assessment_contribs = get_nmeans_ncontribs(chosen_surveys, col_df, col)\n",
    "averages, nth_assessment_contribs, chosen_surveys\n",
    "\n",
    "# TODO: Clients with no change : treat as outliers and remove ? \n",
    "# TODO: Clients with only zeros ?"
   ]
  },
  {
   "cell_type": "code",
   "execution_count": 9,
   "metadata": {},
   "outputs": [
    {
     "data": {
      "text/html": [
       "\n",
       "<style>\n",
       "  #altair-viz-c051d8c2935445a1a3ff404e82a59c8c.vega-embed {\n",
       "    width: 100%;\n",
       "    display: flex;\n",
       "  }\n",
       "\n",
       "  #altair-viz-c051d8c2935445a1a3ff404e82a59c8c.vega-embed details,\n",
       "  #altair-viz-c051d8c2935445a1a3ff404e82a59c8c.vega-embed details summary {\n",
       "    position: relative;\n",
       "  }\n",
       "</style>\n",
       "<div id=\"altair-viz-c051d8c2935445a1a3ff404e82a59c8c\"></div>\n",
       "<script type=\"text/javascript\">\n",
       "  var VEGA_DEBUG = (typeof VEGA_DEBUG == \"undefined\") ? {} : VEGA_DEBUG;\n",
       "  (function(spec, embedOpt){\n",
       "    let outputDiv = document.currentScript.previousElementSibling;\n",
       "    if (outputDiv.id !== \"altair-viz-c051d8c2935445a1a3ff404e82a59c8c\") {\n",
       "      outputDiv = document.getElementById(\"altair-viz-c051d8c2935445a1a3ff404e82a59c8c\");\n",
       "    }\n",
       "    const paths = {\n",
       "      \"vega\": \"https://cdn.jsdelivr.net/npm/vega@5?noext\",\n",
       "      \"vega-lib\": \"https://cdn.jsdelivr.net/npm/vega-lib?noext\",\n",
       "      \"vega-lite\": \"https://cdn.jsdelivr.net/npm/vega-lite@5.8.0?noext\",\n",
       "      \"vega-embed\": \"https://cdn.jsdelivr.net/npm/vega-embed@6?noext\",\n",
       "    };\n",
       "\n",
       "    function maybeLoadScript(lib, version) {\n",
       "      var key = `${lib.replace(\"-\", \"\")}_version`;\n",
       "      return (VEGA_DEBUG[key] == version) ?\n",
       "        Promise.resolve(paths[lib]) :\n",
       "        new Promise(function(resolve, reject) {\n",
       "          var s = document.createElement('script');\n",
       "          document.getElementsByTagName(\"head\")[0].appendChild(s);\n",
       "          s.async = true;\n",
       "          s.onload = () => {\n",
       "            VEGA_DEBUG[key] = version;\n",
       "            return resolve(paths[lib]);\n",
       "          };\n",
       "          s.onerror = () => reject(`Error loading script: ${paths[lib]}`);\n",
       "          s.src = paths[lib];\n",
       "        });\n",
       "    }\n",
       "\n",
       "    function showError(err) {\n",
       "      outputDiv.innerHTML = `<div class=\"error\" style=\"color:red;\">${err}</div>`;\n",
       "      throw err;\n",
       "    }\n",
       "\n",
       "    function displayChart(vegaEmbed) {\n",
       "      vegaEmbed(outputDiv, spec, embedOpt)\n",
       "        .catch(err => showError(`Javascript Error: ${err.message}<br>This usually means there's a typo in your chart specification. See the javascript console for the full traceback.`));\n",
       "    }\n",
       "\n",
       "    if(typeof define === \"function\" && define.amd) {\n",
       "      requirejs.config({paths});\n",
       "      require([\"vega-embed\"], displayChart, err => showError(`Error loading script: ${err.message}`));\n",
       "    } else {\n",
       "      maybeLoadScript(\"vega\", \"5\")\n",
       "        .then(() => maybeLoadScript(\"vega-lite\", \"5.8.0\"))\n",
       "        .then(() => maybeLoadScript(\"vega-embed\", \"6\"))\n",
       "        .catch(showError)\n",
       "        .then(() => displayChart(vegaEmbed));\n",
       "    }\n",
       "  })({\"config\": {\"view\": {\"continuousWidth\": 300, \"continuousHeight\": 300}}, \"layer\": [{\"mark\": {\"type\": \"line\", \"point\": true}, \"encoding\": {\"tooltip\": [{\"field\": \"Assessment\", \"type\": \"quantitative\"}, {\"field\": \"MeanValue\", \"type\": \"quantitative\"}], \"x\": {\"field\": \"Assessment\", \"type\": \"quantitative\"}, \"y\": {\"field\": \"MeanValue\", \"type\": \"quantitative\"}}, \"title\": \"Mean Values of First and Last Physical Health Assessments\"}, {\"mark\": {\"type\": \"point\", \"size\": 100}, \"encoding\": {\"color\": {\"field\": \"Category\", \"scale\": {\"domain\": [\"SDS_Score\"], \"range\": [\"red\", \"blue\", \"black\"]}, \"type\": \"nominal\"}, \"tooltip\": [{\"field\": \"Assessment\", \"type\": \"quantitative\"}, {\"field\": \"MeanValue\", \"type\": \"quantitative\"}, {\"field\": \"Category\", \"type\": \"nominal\"}, {\"field\": \"Count\", \"type\": \"quantitative\"}], \"x\": {\"field\": \"Assessment\", \"type\": \"quantitative\"}, \"y\": {\"field\": \"MeanValue\", \"type\": \"quantitative\"}}}], \"data\": {\"name\": \"data-c9a527fec4d2a566f76608ab795bf422\"}, \"width\": 600, \"$schema\": \"https://vega.github.io/schema/vega-lite/v5.8.0.json\", \"datasets\": {\"data-c9a527fec4d2a566f76608ab795bf422\": [{\"Assessment\": 1, \"MeanValue\": 8.52, \"Category\": \"SDS_Score\", \"Count\": 40}, {\"Assessment\": 3, \"MeanValue\": 7.48, \"Category\": \"SDS_Score\", \"Count\": 44}, {\"Assessment\": 6, \"MeanValue\": 7.0, \"Category\": \"SDS_Score\", \"Count\": 35}]}}, {\"mode\": \"vega-lite\"});\n",
       "</script>"
      ],
      "text/plain": [
       "alt.LayerChart(...)"
      ]
     },
     "execution_count": 9,
     "metadata": {},
     "output_type": "execute_result"
    }
   ],
   "source": [
    "# client_groups_forcol = col_df.groupby('SLK')\n",
    "from graphing import get_chart_for_means\n",
    "\n",
    "question_list = [col]\n",
    "assessment_tags= chosen_surveys\n",
    "means = averages\n",
    "\n",
    "# contribs = [first_assess_contribs,fourth_assess_contribs, seventh_assess_contribs ]\n",
    "chart = get_chart_for_means(question_list, assessment_tags, means, nth_assessment_contribs)\n",
    "chart"
   ]
  }
 ],
 "metadata": {
  "kernelspec": {
   "display_name": ".venv",
   "language": "python",
   "name": "python3"
  },
  "language_info": {
   "codemirror_mode": {
    "name": "ipython",
    "version": 3
   },
   "file_extension": ".py",
   "mimetype": "text/x-python",
   "name": "python",
   "nbconvert_exporter": "python",
   "pygments_lexer": "ipython3",
   "version": "3.11.3"
  },
  "orig_nbformat": 4
 },
 "nbformat": 4,
 "nbformat_minor": 2
}
