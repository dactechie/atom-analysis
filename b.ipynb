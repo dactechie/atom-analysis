{
 "cells": [
  {
   "attachments": {},
   "cell_type": "markdown",
   "metadata": {},
   "source": [
    "# Population-level trends for Client Outcome Measures\n",
    "\n",
    "## Changes in average (over clients) scores ATOM Assessment Survey questions."
   ]
  },
  {
   "attachments": {},
   "cell_type": "markdown",
   "metadata": {},
   "source": [
    "## Steps:\n",
    "\n",
    "1. Extract the data - from the database or from a pre-prepared parquet file\n",
    "2. Processing: if not pulling from pre-cleaned data: Clean & Transform (incl. categorize) the data\n",
    "    - Clean data - remove rows with missing data : PDCSubstanceOrGambling\n",
    "    - Transform data - expand PDC, determine Program, categorize fields, drop Notes/Comments fields, rename PartitionKey to SLK.\n",
    "    - Limit the data to the period of interest - i.e. only clients who have completed at least one survey during the period of interest.\n",
    "    - Limit by only clients who have completed the survey at least three times (min-stage: 3)\n",
    "5. Calculate the average score for each client for each stage and for each of the questions of interest.\n"
   ]
  },
  {
   "cell_type": "code",
   "execution_count": 8,
   "metadata": {},
   "outputs": [],
   "source": [
    "\n",
    "# Step 0: Importing the libraries\n",
    "from utils.df_xtrct_prep import extract_prep_data\n",
    "\n",
    "from statsutil.funcs import get_all_results\n",
    "from utils.io import write_results_to_files\n",
    "from graphing import get_chart_for_qna_list"
   ]
  },
  {
   "cell_type": "code",
   "execution_count": 10,
   "metadata": {},
   "outputs": [],
   "source": [
    "# Global variables\n",
    "extract_start_date = 20200101\n",
    "extract_end_date = 20240101\n",
    "\n",
    "fname = f\"{extract_start_date}_{extract_end_date}_1\"\n",
    "\n",
    "active_clients_start_date ='2022-07-01' \n",
    "active_clients_end_date = '2023-06-30'\n",
    "\n",
    "results_folder = \"./data/out/\"\n",
    "\n",
    "\n",
    "# MIN_NUM_ATOMS_PER_CLIENT = 3\n",
    "# MIN_NUM_COL_VALUES = 3"
   ]
  },
  {
   "attachments": {},
   "cell_type": "markdown",
   "metadata": {},
   "source": [
    "### Step 1 & 2: Extract & Process\n",
    "\n",
    "#### Extract the data - from the database or from a pre-prepared parquet file\n",
    "\n",
    "1. *Processed data*:\n",
    "  - if processed-parquet file is not present, *get the raw data* and process it and cache it into the parquet file.\n",
    "  - if yes, load the data from the parquet file.\n",
    "  \n",
    "2. If *Raw data* doesn't exist in the data/in/ folder as a parquet file:\n",
    "  - load it from the database (Azure)\n",
    "  - otherwise from the parquet file.\n",
    " \n",
    " (cache=True => try to load from a parquet file, if not present, load from the database and cache it into a parquet file)"
   ]
  },
  {
   "cell_type": "code",
   "execution_count": 11,
   "metadata": {},
   "outputs": [],
   "source": [
    "# Extract & Process\n",
    "processed_df = extract_prep_data(extract_start_date, extract_end_date\n",
    "                                 , active_clients_start_date\n",
    "                                 , active_clients_end_date\n",
    "                                 , fname)"
   ]
  },
  {
   "cell_type": "code",
   "execution_count": 4,
   "metadata": {},
   "outputs": [
    {
     "data": {
      "text/plain": [
       "2478"
      ]
     },
     "execution_count": 4,
     "metadata": {},
     "output_type": "execute_result"
    }
   ],
   "source": [
    "len(processed_df)"
   ]
  },
  {
   "attachments": {},
   "cell_type": "markdown",
   "metadata": {},
   "source": [
    "### Step 3 : Calculate the average score for each client for each stage and for each of the questions of interest."
   ]
  },
  {
   "cell_type": "code",
   "execution_count": 28,
   "metadata": {},
   "outputs": [],
   "source": [
    "# Chronologically Rank the Assessments for each client\n",
    "# df_q = chrono_rank_within_clientgroup(processed_df)  # adds 'survey_rank' column\n",
    "# g = col_df.groupby('SLK')\n",
    "# col_df.loc[:,'survey_rank'] = g['AssessmentDate'].rank(method='min')"
   ]
  },
  {
   "cell_type": "code",
   "execution_count": 12,
   "metadata": {},
   "outputs": [],
   "source": [
    "chosen_surveys = [1, 3 ,6]"
   ]
  },
  {
   "cell_type": "code",
   "execution_count": 5,
   "metadata": {},
   "outputs": [],
   "source": [
    "from filters import get_filters, apply_filters #, get_outfilename_for_filters"
   ]
  },
  {
   "cell_type": "code",
   "execution_count": 13,
   "metadata": {},
   "outputs": [
    {
     "name": "stdout",
     "output_type": "stream",
     "text": [
      "Wellbeing measures\n",
      "NRecords For Col(Past4WkPhysicalHealth): 829)#, Total:2478, 2020-01-23 00:00:00, 2023-07-06 00:00:00\n",
      "NRecords For Col(Past4WkMentalHealth): 829)#, Total:2478, 2020-01-23 00:00:00, 2023-07-06 00:00:00\n",
      "NRecords For Col(Past4WkQualityOfLifeScore): 823)#, Total:2478, 2020-01-23 00:00:00, 2023-07-06 00:00:00\n",
      "Substance Use\n",
      "NRecords For Col(PDCHowMuchPerOccasion): 739)#, Total:2478, 2020-01-31 00:00:00, 2023-07-06 00:00:00\n",
      "NRecords For Col(PDCDaysInLast28): 1041)#, Total:2478, 2020-01-07 00:00:00, 2023-07-06 00:00:00\n",
      "Problems in Life Domains\n",
      "NRecords For Col(Past4WkDailyLivingImpacted): 933)#, Total:2478, 2020-01-07 00:00:00, 2023-07-06 00:00:00\n",
      "NRecords For Col(Past4WkHowOftenPhysicalHealthCausedProblems): 934)#, Total:2478, 2020-01-07 00:00:00, 2023-07-06 00:00:00\n",
      "NRecords For Col(Past4WkHowOftenMentalHealthCausedProblems): 934)#, Total:2478, 2020-01-07 00:00:00, 2023-07-06 00:00:00\n",
      "NRecords For Col(Past4WkUseLedToProblemsWithFamilyFriend): 934)#, Total:2478, 2020-01-07 00:00:00, 2023-07-06 00:00:00\n",
      "NRecords For Col(Past4WkDifficultyFindingHousing): 918)#, Total:2478, 2020-01-07 00:00:00, 2023-07-06 00:00:00\n",
      "SDS and K10\n",
      "NRecords For Col(SDS_Score): 339)#, Total:2478, 2020-02-20 00:00:00, 2023-07-06 00:00:00\n",
      "NRecords For Col(K10_Score): 448)#, Total:2478, 2021-09-03 00:00:00, 2023-07-06 00:00:00\n"
     ]
    }
   ],
   "source": [
    "orig_filter1 = {\n",
    "    'FunderName': 'Coordinaire'\n",
    "}\n",
    "orig_filter2 = {\n",
    "   'Program':['EUROPATH']\n",
    "}\n",
    "\n",
    "\n",
    "orig_filter = orig_filter1\n",
    "\n",
    "\n",
    "\n",
    "filters = get_filters(orig_filter)\n",
    "# print (\"before :\" , processed_df.Program.value_counts())\n",
    "\n",
    "new_df = apply_filters(processed_df, filters)\n",
    "# print (\"After :\" , new_df.Program.value_counts())\n",
    "\n",
    "all_results = get_all_results(new_df, chosen_surveys, filters)\n",
    "\n",
    "# outfile_name = get_outfilename_for_filters(filters)\n",
    "\n",
    "write_results_to_files(all_results, f\"{results_folder}{fname}.csv\")#, orig_filter)\n",
    "\n",
    "# for results in all_results:\n",
    "#   title_for_file = results['title'].replace(\" \", \"_\")\n",
    "#   results_filepath = f\"{results_folder}{fname}_{title_for_file}.csv\"\n",
    "#   df = results['data']\n",
    "#   write_df_to_csv(df, results_filepath)"
   ]
  },
  {
   "cell_type": "code",
   "execution_count": 6,
   "metadata": {},
   "outputs": [],
   "source": [
    "def do_all(df, chosen_surveys, orig_filter, filename:str=\"\"):\n",
    "  filters = get_filters(orig_filter)\n",
    "  new_df = apply_filters(df, filters)\n",
    "  all_results = get_all_results(new_df, chosen_surveys, filters)\n",
    "  # write_results_to_files(all_results, f\"{results_folder}{fname_prepend}_{fname}.csv\")#, orig_filter)\n",
    "  write_results_to_files(all_results, f\"{results_folder}{filename}.csv\")#, orig_filter)\n",
    "\n",
    "  return all_results\n"
   ]
  },
  {
   "cell_type": "code",
   "execution_count": 15,
   "metadata": {},
   "outputs": [
    {
     "name": "stdout",
     "output_type": "stream",
     "text": [
      "Wellbeing measures\n",
      "NRecords For Col(Past4WkPhysicalHealth): 829)#, Total:2478, 2020-01-23 00:00:00, 2023-07-06 00:00:00\n",
      "NRecords For Col(Past4WkMentalHealth): 829)#, Total:2478, 2020-01-23 00:00:00, 2023-07-06 00:00:00\n",
      "NRecords For Col(Past4WkQualityOfLifeScore): 823)#, Total:2478, 2020-01-23 00:00:00, 2023-07-06 00:00:00\n",
      "Substance Use\n",
      "NRecords For Col(PDCHowMuchPerOccasion): 739)#, Total:2478, 2020-01-31 00:00:00, 2023-07-06 00:00:00\n",
      "NRecords For Col(PDCDaysInLast28): 1041)#, Total:2478, 2020-01-07 00:00:00, 2023-07-06 00:00:00\n",
      "Problems in Life Domains\n",
      "NRecords For Col(Past4WkDailyLivingImpacted): 933)#, Total:2478, 2020-01-07 00:00:00, 2023-07-06 00:00:00\n",
      "NRecords For Col(Past4WkHowOftenPhysicalHealthCausedProblems): 934)#, Total:2478, 2020-01-07 00:00:00, 2023-07-06 00:00:00\n",
      "NRecords For Col(Past4WkHowOftenMentalHealthCausedProblems): 934)#, Total:2478, 2020-01-07 00:00:00, 2023-07-06 00:00:00\n",
      "NRecords For Col(Past4WkUseLedToProblemsWithFamilyFriend): 934)#, Total:2478, 2020-01-07 00:00:00, 2023-07-06 00:00:00\n",
      "NRecords For Col(Past4WkDifficultyFindingHousing): 918)#, Total:2478, 2020-01-07 00:00:00, 2023-07-06 00:00:00\n",
      "SDS and K10\n",
      "NRecords For Col(SDS_Score): 339)#, Total:2478, 2020-02-20 00:00:00, 2023-07-06 00:00:00\n",
      "NRecords For Col(K10_Score): 448)#, Total:2478, 2021-09-03 00:00:00, 2023-07-06 00:00:00\n"
     ]
    }
   ],
   "source": [
    "\n",
    "# orig_filter1 = {'FunderName': 'Coordinaire'}\n",
    "# all_results = do_all(processed_df, chosen_surveys, orig_filter1, filename=orig_filter1['FunderName'])\n",
    "\n",
    "# orig_filter1 = {'FunderName': 'NSW Ministry of Health'}\n",
    "# all_results = do_all(processed_df, chosen_surveys, orig_filter1, filename=orig_filter1['FunderName'])\n",
    "\n",
    "\n",
    "# orig_filter1 = {'FunderName': 'Murrumbidgee PHN'}\n",
    "# all_results = do_all(processed_df, chosen_surveys, orig_filter1, filename=orig_filter1['FunderName'])\n",
    "\n",
    "# orig_filter1 = {'FunderName': 'ACT Health'}\n",
    "# all_results = do_all(processed_df, chosen_surveys, orig_filter1, filename=orig_filter1['FunderName'])"
   ]
  },
  {
   "cell_type": "code",
   "execution_count": 10,
   "metadata": {},
   "outputs": [
    {
     "data": {
      "text/html": [
       "\n",
       "<style>\n",
       "  #altair-viz-0caecfce303e4071b256b8e052829999.vega-embed {\n",
       "    width: 100%;\n",
       "    display: flex;\n",
       "  }\n",
       "\n",
       "  #altair-viz-0caecfce303e4071b256b8e052829999.vega-embed details,\n",
       "  #altair-viz-0caecfce303e4071b256b8e052829999.vega-embed details summary {\n",
       "    position: relative;\n",
       "  }\n",
       "</style>\n",
       "<div id=\"altair-viz-0caecfce303e4071b256b8e052829999\"></div>\n",
       "<script type=\"text/javascript\">\n",
       "  var VEGA_DEBUG = (typeof VEGA_DEBUG == \"undefined\") ? {} : VEGA_DEBUG;\n",
       "  (function(spec, embedOpt){\n",
       "    let outputDiv = document.currentScript.previousElementSibling;\n",
       "    if (outputDiv.id !== \"altair-viz-0caecfce303e4071b256b8e052829999\") {\n",
       "      outputDiv = document.getElementById(\"altair-viz-0caecfce303e4071b256b8e052829999\");\n",
       "    }\n",
       "    const paths = {\n",
       "      \"vega\": \"https://cdn.jsdelivr.net/npm/vega@5?noext\",\n",
       "      \"vega-lib\": \"https://cdn.jsdelivr.net/npm/vega-lib?noext\",\n",
       "      \"vega-lite\": \"https://cdn.jsdelivr.net/npm/vega-lite@5.8.0?noext\",\n",
       "      \"vega-embed\": \"https://cdn.jsdelivr.net/npm/vega-embed@6?noext\",\n",
       "    };\n",
       "\n",
       "    function maybeLoadScript(lib, version) {\n",
       "      var key = `${lib.replace(\"-\", \"\")}_version`;\n",
       "      return (VEGA_DEBUG[key] == version) ?\n",
       "        Promise.resolve(paths[lib]) :\n",
       "        new Promise(function(resolve, reject) {\n",
       "          var s = document.createElement('script');\n",
       "          document.getElementsByTagName(\"head\")[0].appendChild(s);\n",
       "          s.async = true;\n",
       "          s.onload = () => {\n",
       "            VEGA_DEBUG[key] = version;\n",
       "            return resolve(paths[lib]);\n",
       "          };\n",
       "          s.onerror = () => reject(`Error loading script: ${paths[lib]}`);\n",
       "          s.src = paths[lib];\n",
       "        });\n",
       "    }\n",
       "\n",
       "    function showError(err) {\n",
       "      outputDiv.innerHTML = `<div class=\"error\" style=\"color:red;\">${err}</div>`;\n",
       "      throw err;\n",
       "    }\n",
       "\n",
       "    function displayChart(vegaEmbed) {\n",
       "      vegaEmbed(outputDiv, spec, embedOpt)\n",
       "        .catch(err => showError(`Javascript Error: ${err.message}<br>This usually means there's a typo in your chart specification. See the javascript console for the full traceback.`));\n",
       "    }\n",
       "\n",
       "    if(typeof define === \"function\" && define.amd) {\n",
       "      requirejs.config({paths});\n",
       "      require([\"vega-embed\"], displayChart, err => showError(`Error loading script: ${err.message}`));\n",
       "    } else {\n",
       "      maybeLoadScript(\"vega\", \"5\")\n",
       "        .then(() => maybeLoadScript(\"vega-lite\", \"5.8.0\"))\n",
       "        .then(() => maybeLoadScript(\"vega-embed\", \"6\"))\n",
       "        .catch(showError)\n",
       "        .then(() => displayChart(vegaEmbed));\n",
       "    }\n",
       "  })({\"config\": {\"view\": {\"continuousWidth\": 300, \"continuousHeight\": 300}}, \"layer\": [{\"mark\": {\"type\": \"line\"}, \"encoding\": {\"color\": {\"field\": \"Question\", \"type\": \"nominal\"}, \"x\": {\"field\": \"Assessment Number\", \"type\": \"quantitative\"}, \"y\": {\"field\": \"Average\", \"type\": \"quantitative\"}}, \"title\": \"Problems in Life Domains\"}, {\"mark\": {\"type\": \"point\", \"size\": 100}, \"encoding\": {\"color\": {\"field\": \"Question\", \"scale\": {\"domain\": [\"Past4WkDailyLivingImpacted\", \"Past4WkHowOftenPhysicalHealthCausedProblems\", \"Past4WkHowOftenMentalHealthCausedProblems\", \"Past4WkUseLedToProblemsWithFamilyFriend\", \"Past4WkDifficultyFindingHousing\"], \"range\": [\"red\", \"blue\", \"black\", \"green\", \"yellow\"]}, \"type\": \"nominal\"}, \"tooltip\": [{\"field\": \"Assessment Number\", \"type\": \"quantitative\"}, {\"field\": \"Average\", \"type\": \"quantitative\"}, {\"field\": \"Question\", \"type\": \"nominal\"}, {\"field\": \"# Contributions\", \"type\": \"quantitative\"}], \"x\": {\"field\": \"Assessment Number\", \"type\": \"quantitative\"}, \"y\": {\"field\": \"Average\", \"type\": \"quantitative\"}}}], \"data\": {\"name\": \"data-2a5b26dc9a7bc19e7691b19800a98688\"}, \"width\": 600, \"$schema\": \"https://vega.github.io/schema/vega-lite/v5.8.0.json\", \"datasets\": {\"data-2a5b26dc9a7bc19e7691b19800a98688\": [{\"Question\": \"Past4WkDailyLivingImpacted\", \"Assessment Number\": 1, \"Average\": 1.44, \"# Contributions\": 125}, {\"Question\": \"Past4WkDailyLivingImpacted\", \"Assessment Number\": 3, \"Average\": 1.21, \"# Contributions\": 125}, {\"Question\": \"Past4WkDailyLivingImpacted\", \"Assessment Number\": 6, \"Average\": 0.97, \"# Contributions\": 125}, {\"Question\": \"Past4WkHowOftenPhysicalHealthCausedProblems\", \"Assessment Number\": 1, \"Average\": 1.38, \"# Contributions\": 125}, {\"Question\": \"Past4WkHowOftenPhysicalHealthCausedProblems\", \"Assessment Number\": 3, \"Average\": 1.31, \"# Contributions\": 125}, {\"Question\": \"Past4WkHowOftenPhysicalHealthCausedProblems\", \"Assessment Number\": 6, \"Average\": 1.43, \"# Contributions\": 125}, {\"Question\": \"Past4WkHowOftenMentalHealthCausedProblems\", \"Assessment Number\": 1, \"Average\": 2.04, \"# Contributions\": 125}, {\"Question\": \"Past4WkHowOftenMentalHealthCausedProblems\", \"Assessment Number\": 3, \"Average\": 1.66, \"# Contributions\": 125}, {\"Question\": \"Past4WkHowOftenMentalHealthCausedProblems\", \"Assessment Number\": 6, \"Average\": 1.72, \"# Contributions\": 125}, {\"Question\": \"Past4WkUseLedToProblemsWithFamilyFriend\", \"Assessment Number\": 1, \"Average\": 0.74, \"# Contributions\": 125}, {\"Question\": \"Past4WkUseLedToProblemsWithFamilyFriend\", \"Assessment Number\": 3, \"Average\": 0.61, \"# Contributions\": 125}, {\"Question\": \"Past4WkUseLedToProblemsWithFamilyFriend\", \"Assessment Number\": 6, \"Average\": 0.44, \"# Contributions\": 125}, {\"Question\": \"Past4WkDifficultyFindingHousing\", \"Assessment Number\": 1, \"Average\": 0.24, \"# Contributions\": 123}, {\"Question\": \"Past4WkDifficultyFindingHousing\", \"Assessment Number\": 3, \"Average\": 0.29, \"# Contributions\": 123}, {\"Question\": \"Past4WkDifficultyFindingHousing\", \"Assessment Number\": 6, \"Average\": 0.34, \"# Contributions\": 123}]}}, {\"mode\": \"vega-lite\"});\n",
       "</script>"
      ],
      "text/plain": [
       "alt.LayerChart(...)"
      ]
     },
     "execution_count": 10,
     "metadata": {},
     "output_type": "execute_result"
    }
   ],
   "source": [
    "\n",
    "\n",
    "chart , points = get_chart_for_qna_list(question_list, answers_df, title)\n",
    "\n",
    "chart + points"
   ]
  },
  {
   "attachments": {},
   "cell_type": "markdown",
   "metadata": {},
   "source": [
    "#### Write results to CSV"
   ]
  },
  {
   "cell_type": "code",
   "execution_count": 18,
   "metadata": {},
   "outputs": [],
   "source": [
    "from datetime import datetime\n",
    "title_for_file = title.replace(\" \", \"_\")\n",
    "results_filepath = f\"{results_folder}{fname}_{title_for_file}.csv\"\n",
    "# write_df_to_csv(answers_df, f\"{results_folder}{fname}_{title_for_file}.csv\")\n",
    "#f\"./data/out/results_{fname}.csv\"\n",
    "answers_df['ResultsTimestamp'] = datetime.now().replace(microsecond=0)\n",
    "answers_df.to_csv(results_filepath, index=False, mode='a', header=True)\n"
   ]
  },
  {
   "cell_type": "code",
   "execution_count": 8,
   "metadata": {},
   "outputs": [
    {
     "name": "stdout",
     "output_type": "stream",
     "text": [
      "NRecords For Col(Past4WkHowOftenPhysicalHealthCausedProblems): 931, Total:2434, 2020-01-07 00:00:00, 2023-06-29 00:00:00\n",
      "Past4WkHowOftenPhysicalHealthCausedProblems,1,125,1.38\n",
      "Past4WkHowOftenPhysicalHealthCausedProblems,3,125,1.31\n",
      "Past4WkHowOftenPhysicalHealthCausedProblems,6,125,1.43\n",
      "NRecords For Col(Past4WkHowOftenMentalHealthCausedProblems): 931, Total:2434, 2020-01-07 00:00:00, 2023-06-29 00:00:00\n",
      "Past4WkHowOftenMentalHealthCausedProblems,1,125,2.04\n",
      "Past4WkHowOftenMentalHealthCausedProblems,3,125,1.66\n",
      "Past4WkHowOftenMentalHealthCausedProblems,6,125,1.72\n",
      "NRecords For Col(Past4WkUseLedToProblemsWithFamilyFriend): 931, Total:2434, 2020-01-07 00:00:00, 2023-06-29 00:00:00\n",
      "Past4WkUseLedToProblemsWithFamilyFriend,1,125,0.74\n",
      "Past4WkUseLedToProblemsWithFamilyFriend,3,125,0.61\n",
      "Past4WkUseLedToProblemsWithFamilyFriend,6,125,0.44\n",
      "NRecords For Col(Past4WkDifficultyFindingHousing): 915, Total:2434, 2020-01-07 00:00:00, 2023-06-29 00:00:00\n",
      "Past4WkDifficultyFindingHousing,1,123,0.24\n",
      "Past4WkDifficultyFindingHousing,3,123,0.29\n",
      "Past4WkDifficultyFindingHousing,6,123,0.34\n"
     ]
    }
   ],
   "source": [
    "\n",
    "# chosen_surveys = [1, 3 ,6] \n",
    "# answer_list = get_nmeans_for_questions( question_list, processed_df, chosen_surveys)"
   ]
  },
  {
   "cell_type": "code",
   "execution_count": 9,
   "metadata": {},
   "outputs": [
    {
     "ename": "NameError",
     "evalue": "name 'get_chart_for_qna_list' is not defined",
     "output_type": "error",
     "traceback": [
      "\u001b[1;31m---------------------------------------------------------------------------\u001b[0m",
      "\u001b[1;31mNameError\u001b[0m                                 Traceback (most recent call last)",
      "Cell \u001b[1;32mIn[9], line 3\u001b[0m\n\u001b[0;32m      1\u001b[0m title \u001b[39m=\u001b[39m \u001b[39m\"\u001b[39m\u001b[39mProblems in Life Domains\u001b[39m\u001b[39m\"\u001b[39m\n\u001b[0;32m      2\u001b[0m \u001b[39m#'Changes in average scores for \"Past 4 weeks: Use let to problems in various Life domains\" '\u001b[39;00m\n\u001b[1;32m----> 3\u001b[0m chart , points \u001b[39m=\u001b[39m get_chart_for_qna_list(question_list, answer_list, chosen_surveys, title)\n\u001b[0;32m      5\u001b[0m chart \u001b[39m+\u001b[39m points\n",
      "\u001b[1;31mNameError\u001b[0m: name 'get_chart_for_qna_list' is not defined"
     ]
    }
   ],
   "source": [
    "\n",
    "title = \"Problems in Life Domains\"\n",
    "#'Changes in average scores for \"Past 4 weeks: Use let to problems in various Life domains\" '\n",
    "chart , points = get_chart_for_qna_list(question_list, answer_list, chosen_surveys, title)\n",
    "\n",
    "chart + points"
   ]
  },
  {
   "cell_type": "code",
   "execution_count": 25,
   "metadata": {},
   "outputs": [
    {
     "data": {
      "text/plain": [
       "528"
      ]
     },
     "execution_count": 25,
     "metadata": {},
     "output_type": "execute_result"
    }
   ],
   "source": [
    "# col_df1[col_df1['survey_rank'] == 1].Past4WkPhysicalHealth.count() #.value_counts(dropna=False)\n",
    "# len(col_df1[col_df1['survey_rank'] == 1].SLK.unique() )\n",
    "# len(df_q[df_q['survey_rank'] == 1].SLK.unique() )\n"
   ]
  },
  {
   "cell_type": "code",
   "execution_count": 26,
   "metadata": {},
   "outputs": [
    {
     "data": {
      "text/plain": [
       "138"
      ]
     },
     "execution_count": 26,
     "metadata": {},
     "output_type": "execute_result"
    }
   ],
   "source": [
    "# col_df1[col_df1['survey_rank'] == 6].Past4WkPhysicalHealth.count()\n",
    "\n",
    "# len(col_df1[col_df1['survey_rank'] == 6].SLK.unique() )\n",
    "# len(df_q[df_q['survey_rank'] == 6].SLK.unique() )\n",
    "\n"
   ]
  },
  {
   "cell_type": "code",
   "execution_count": 12,
   "metadata": {},
   "outputs": [
    {
     "data": {
      "text/html": [
       "\n",
       "<style>\n",
       "  #altair-viz-c4e7bdd0ee9949a9893a733c47cb36ad.vega-embed {\n",
       "    width: 100%;\n",
       "    display: flex;\n",
       "  }\n",
       "\n",
       "  #altair-viz-c4e7bdd0ee9949a9893a733c47cb36ad.vega-embed details,\n",
       "  #altair-viz-c4e7bdd0ee9949a9893a733c47cb36ad.vega-embed details summary {\n",
       "    position: relative;\n",
       "  }\n",
       "</style>\n",
       "<div id=\"altair-viz-c4e7bdd0ee9949a9893a733c47cb36ad\"></div>\n",
       "<script type=\"text/javascript\">\n",
       "  var VEGA_DEBUG = (typeof VEGA_DEBUG == \"undefined\") ? {} : VEGA_DEBUG;\n",
       "  (function(spec, embedOpt){\n",
       "    let outputDiv = document.currentScript.previousElementSibling;\n",
       "    if (outputDiv.id !== \"altair-viz-c4e7bdd0ee9949a9893a733c47cb36ad\") {\n",
       "      outputDiv = document.getElementById(\"altair-viz-c4e7bdd0ee9949a9893a733c47cb36ad\");\n",
       "    }\n",
       "    const paths = {\n",
       "      \"vega\": \"https://cdn.jsdelivr.net/npm/vega@5?noext\",\n",
       "      \"vega-lib\": \"https://cdn.jsdelivr.net/npm/vega-lib?noext\",\n",
       "      \"vega-lite\": \"https://cdn.jsdelivr.net/npm/vega-lite@5.8.0?noext\",\n",
       "      \"vega-embed\": \"https://cdn.jsdelivr.net/npm/vega-embed@6?noext\",\n",
       "    };\n",
       "\n",
       "    function maybeLoadScript(lib, version) {\n",
       "      var key = `${lib.replace(\"-\", \"\")}_version`;\n",
       "      return (VEGA_DEBUG[key] == version) ?\n",
       "        Promise.resolve(paths[lib]) :\n",
       "        new Promise(function(resolve, reject) {\n",
       "          var s = document.createElement('script');\n",
       "          document.getElementsByTagName(\"head\")[0].appendChild(s);\n",
       "          s.async = true;\n",
       "          s.onload = () => {\n",
       "            VEGA_DEBUG[key] = version;\n",
       "            return resolve(paths[lib]);\n",
       "          };\n",
       "          s.onerror = () => reject(`Error loading script: ${paths[lib]}`);\n",
       "          s.src = paths[lib];\n",
       "        });\n",
       "    }\n",
       "\n",
       "    function showError(err) {\n",
       "      outputDiv.innerHTML = `<div class=\"error\" style=\"color:red;\">${err}</div>`;\n",
       "      throw err;\n",
       "    }\n",
       "\n",
       "    function displayChart(vegaEmbed) {\n",
       "      vegaEmbed(outputDiv, spec, embedOpt)\n",
       "        .catch(err => showError(`Javascript Error: ${err.message}<br>This usually means there's a typo in your chart specification. See the javascript console for the full traceback.`));\n",
       "    }\n",
       "\n",
       "    if(typeof define === \"function\" && define.amd) {\n",
       "      requirejs.config({paths});\n",
       "      require([\"vega-embed\"], displayChart, err => showError(`Error loading script: ${err.message}`));\n",
       "    } else {\n",
       "      maybeLoadScript(\"vega\", \"5\")\n",
       "        .then(() => maybeLoadScript(\"vega-lite\", \"5.8.0\"))\n",
       "        .then(() => maybeLoadScript(\"vega-embed\", \"6\"))\n",
       "        .catch(showError)\n",
       "        .then(() => displayChart(vegaEmbed));\n",
       "    }\n",
       "  })({\"config\": {\"view\": {\"continuousWidth\": 300, \"continuousHeight\": 300}}, \"layer\": [{\"mark\": {\"type\": \"line\", \"point\": true}, \"encoding\": {\"tooltip\": [{\"field\": \"Assessment\", \"type\": \"quantitative\"}, {\"field\": \"MeanValue\", \"type\": \"quantitative\"}], \"x\": {\"field\": \"Assessment\", \"type\": \"quantitative\"}, \"y\": {\"field\": \"MeanValue\", \"type\": \"quantitative\"}}, \"title\": \"Mean Values of First and Last Physical Health Assessments\"}, {\"mark\": {\"type\": \"point\", \"size\": 100}, \"encoding\": {\"color\": {\"field\": \"Category\", \"scale\": {\"domain\": [\"Past4WkPhysicalHealth\"], \"range\": [\"red\", \"blue\", \"black\"]}, \"type\": \"nominal\"}, \"tooltip\": [{\"field\": \"Assessment\", \"type\": \"quantitative\"}, {\"field\": \"MeanValue\", \"type\": \"quantitative\"}, {\"field\": \"Category\", \"type\": \"nominal\"}, {\"field\": \"Count\", \"type\": \"quantitative\"}], \"x\": {\"field\": \"Assessment\", \"type\": \"quantitative\"}, \"y\": {\"field\": \"MeanValue\", \"type\": \"quantitative\"}}}], \"data\": {\"name\": \"data-e450fbf7fd173d763ef795c9d6996820\"}, \"width\": 600, \"$schema\": \"https://vega.github.io/schema/vega-lite/v5.8.0.json\", \"datasets\": {\"data-e450fbf7fd173d763ef795c9d6996820\": [{\"Assessment\": 1, \"MeanValue\": 6.11, \"Category\": \"Past4WkPhysicalHealth\", \"Count\": 90}, {\"Assessment\": 3, \"MeanValue\": 6.39, \"Category\": \"Past4WkPhysicalHealth\", \"Count\": 109}, {\"Assessment\": 6, \"MeanValue\": 6.54, \"Category\": \"Past4WkPhysicalHealth\", \"Count\": 112}]}}, {\"mode\": \"vega-lite\"});\n",
       "</script>"
      ],
      "text/plain": [
       "alt.LayerChart(...)"
      ]
     },
     "execution_count": 12,
     "metadata": {},
     "output_type": "execute_result"
    }
   ],
   "source": [
    "## client_groups_forcol = col_df.groupby('SLK')\n",
    "# from graphing import get_chart_for_means\n",
    "\n",
    "# question_list = [question]\n",
    "# assessment_tags= chosen_surveys\n",
    "# means = averages\n",
    "\n",
    "# # contribs = [first_assess_contribs,fourth_assess_contribs, seventh_assess_contribs ]\n",
    "# chart = get_chart_for_means(question_list, assessment_tags, means, nth_assessment_contribs)\n",
    "# chart"
   ]
  }
 ],
 "metadata": {
  "kernelspec": {
   "display_name": ".venv",
   "language": "python",
   "name": "python3"
  },
  "language_info": {
   "codemirror_mode": {
    "name": "ipython",
    "version": 3
   },
   "file_extension": ".py",
   "mimetype": "text/x-python",
   "name": "python",
   "nbconvert_exporter": "python",
   "pygments_lexer": "ipython3",
   "version": "3.11.3"
  },
  "orig_nbformat": 4
 },
 "nbformat": 4,
 "nbformat_minor": 2
}
