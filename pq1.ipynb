{
 "cells": [
  {
   "cell_type": "code",
   "execution_count": 1,
   "metadata": {},
   "outputs": [],
   "source": [
    "# import pandas as pd\n",
    "import sys\n",
    "import pandas as pd\n",
    "import altair as alt\n",
    "from utils.io import get_data\n",
    "from data_prep import prep_dataframe\n",
    "\n",
    "start_date = 20200101\n",
    "end_date = 20240101\n",
    "fname = f\"{start_date}_{end_date}\"\n",
    "download_filepath = f\"./data/in/{fname}\"\n",
    "\n"
   ]
  },
  {
   "cell_type": "code",
   "execution_count": 2,
   "metadata": {},
   "outputs": [
    {
     "name": "stdout",
     "output_type": "stream",
     "text": [
      "INFO: Using cached data\n"
     ]
    }
   ],
   "source": [
    "\n",
    "df = get_data(start_date, end_date, download_filepath, cache=True)\n",
    "if df is None or df.empty:\n",
    "  print(\"ERROR: No data\")\n",
    "  sys.exit(1)\n"
   ]
  },
  {
   "cell_type": "code",
   "execution_count": 3,
   "metadata": {},
   "outputs": [
    {
     "name": "stdout",
     "output_type": "stream",
     "text": [
      "fixing PDCMethodOfUse Ingests to Ingest\n",
      "fixing PDCMethodOfUse Injects to Inject\n",
      "fixing PDCMethodOfUse Smokes to Smoke\n",
      "<class 'pandas.core.frame.DataFrame'>\n",
      "Index: 7317 entries, 6973 to 1519\n",
      "Columns: 186 entries, SLK to PDCGoals\n",
      "dtypes: category(17), datetime64[ns](1), float64(11), object(157)\n",
      "memory usage: 9.6+ MB\n"
     ]
    }
   ],
   "source": [
    "df = prep_dataframe(df)\n",
    "df.info()"
   ]
  },
  {
   "cell_type": "code",
   "execution_count": 21,
   "metadata": {},
   "outputs": [
    {
     "name": "stdout",
     "output_type": "stream",
     "text": [
      "<class 'pandas.core.frame.DataFrame'>\n",
      "RangeIndex: 7318 entries, 0 to 7317\n",
      "Data columns (total 10 columns):\n",
      " #   Column                                       Non-Null Count  Dtype         \n",
      "---  ------                                       --------------  -----         \n",
      " 0   PartitionKey                                 7318 non-null   object        \n",
      " 1   RowKey                                       7318 non-null   object        \n",
      " 2   SurveyName                                   7318 non-null   object        \n",
      " 3   Program                                      2064 non-null   category      \n",
      " 4   AssessmentDate                               7318 non-null   datetime64[ns]\n",
      " 5   Anyodc                                       7278 non-null   object        \n",
      " 6   Past4WkNumInjectingDays                      1683 non-null   object        \n",
      " 7   HaveYouEverSharedEquipment                   3035 non-null   object        \n",
      " 8   Past4WkDailyLivingImpacted                   6374 non-null   object        \n",
      " 9   Past4WkHowOftenPhysicalHealthCausedProblems  6382 non-null   category      \n",
      "dtypes: category(2), datetime64[ns](1), object(7)\n",
      "memory usage: 472.4+ KB\n"
     ]
    }
   ],
   "source": [
    "# pq_df.iloc[:, :10].info()\n"
   ]
  },
  {
   "cell_type": "code",
   "execution_count": 3,
   "metadata": {},
   "outputs": [
    {
     "name": "stdout",
     "output_type": "stream",
     "text": [
      "<class 'pandas.core.frame.DataFrame'>\n",
      "RangeIndex: 7318 entries, 0 to 7317\n",
      "Data columns (total 10 columns):\n",
      " #   Column                                     Non-Null Count  Dtype   \n",
      "---  ------                                     --------------  -----   \n",
      " 0   Past4WkHowOftenMentalHealthCausedProblems  6381 non-null   category\n",
      " 1   Past4WkUseLedToProblemsWithFamilyFriend    6375 non-null   category\n",
      " 2   Past4WkHowOftenIllegalActivities           6225 non-null   category\n",
      " 3   HowCloseToManagingSubstanceUse             6381 non-null   object  \n",
      " 4   HowSatisfiedWithProgress                   6083 non-null   object  \n",
      " 5   Past4WkDifficultyFindingHousing            6285 non-null   object  \n",
      " 6   Staff                                      1032 non-null   object  \n",
      " 7   ClientType                                 6286 non-null   category\n",
      " 8   IndigenousStatus                           3374 non-null   category\n",
      " 9   SDSIsAODUseOutOfControl                    5924 non-null   object  \n",
      "dtypes: category(5), object(5)\n",
      "memory usage: 322.7+ KB\n"
     ]
    }
   ],
   "source": [
    "pq_df.iloc[:, 10:20].info()"
   ]
  },
  {
   "cell_type": "code",
   "execution_count": 5,
   "metadata": {},
   "outputs": [
    {
     "data": {
      "text/plain": [
       "['Not at all', NaN, 'Less than weekly', 'Three or four times per week', 'Daily or almost daily', 'Once or twice per week']\n",
       "Categories (5, object): ['Not at all' < 'Less than weekly' < 'Once or twice per week' < 'Three or four times per week' < 'Daily or almost daily']"
      ]
     },
     "execution_count": 5,
     "metadata": {},
     "output_type": "execute_result"
    }
   ],
   "source": [
    "pq_df.Past4WkHowOftenIllegalActivities.unique()"
   ]
  },
  {
   "cell_type": "code",
   "execution_count": 4,
   "metadata": {},
   "outputs": [
    {
     "data": {
      "text/plain": [
       "(7317, 7318)"
      ]
     },
     "execution_count": 4,
     "metadata": {},
     "output_type": "execute_result"
    }
   ],
   "source": [
    "pqpdc = df[df.PDCSubstanceOrGambling.notna()]\n",
    "len(pqpdc) , len(df)\n",
    "          # pq_df.columns.str.contains('PDC', case=True)]"
   ]
  },
  {
   "cell_type": "code",
   "execution_count": 7,
   "metadata": {},
   "outputs": [
    {
     "data": {
      "text/plain": [
       "Program\n",
       "TSS          2647\n",
       "EUROPATH      918\n",
       "GOLBICE       729\n",
       "MURMICE       641\n",
       "GOLBGNRL      475\n",
       "SAPPHIRE      456\n",
       "BEGAPATH      374\n",
       "MURMWIO       311\n",
       "MURMPP        299\n",
       "COCO          154\n",
       "MONPATH       143\n",
       "ARCA           88\n",
       "MURMHEAD       62\n",
       "ALONGSIDE      19\n",
       "PSYNSW          1\n",
       "Name: count, dtype: int64"
      ]
     },
     "execution_count": 7,
     "metadata": {},
     "output_type": "execute_result"
    }
   ],
   "source": [
    "pqpdc.Program.value_counts(dropna=False)"
   ]
  },
  {
   "cell_type": "code",
   "execution_count": 17,
   "metadata": {},
   "outputs": [
    {
     "name": "stderr",
     "output_type": "stream",
     "text": [
      "C:\\Users\\aftab.jalal\\AppData\\Local\\Temp\\ipykernel_12204\\377265289.py:1: SettingWithCopyWarning: \n",
      "A value is trying to be set on a copy of a slice from a DataFrame.\n",
      "Try using .loc[row_indexer,col_indexer] = value instead\n",
      "\n",
      "See the caveats in the documentation: https://pandas.pydata.org/pandas-docs/stable/user_guide/indexing.html#returning-a-view-versus-a-copy\n",
      "  pqpdc['Program'] = pqpdc['RowKey'].str.split('_').str[0]\n"
     ]
    }
   ],
   "source": [
    "# pqpdc['Program'] = pqpdc['RowKey'].str.split('_').str[0]"
   ]
  },
  {
   "cell_type": "code",
   "execution_count": 8,
   "metadata": {},
   "outputs": [
    {
     "data": {
      "text/plain": [
       "(3745, Timestamp('2020-01-02 00:00:00'), Timestamp('2023-06-22 00:00:00'))"
      ]
     },
     "execution_count": 8,
     "metadata": {},
     "output_type": "execute_result"
    }
   ],
   "source": [
    "from utils.group_utils import  limit_pkey_num_assessments, get_clean_for_col\n",
    "# ESSENTIAL_FIELDS = ['PartitionKey', 'RowKey', 'AssessmentDate']\n",
    "pkeys_inperiod = pqpdc[ (pqpdc.AssessmentDate >=  '2022-07-01') & (pqpdc.AssessmentDate <= '2023-06-30')].PartitionKey.unique()\n",
    "pqpdc = pqpdc [ pqpdc['PartitionKey'].isin(pkeys_inperiod) ]\n",
    "\n",
    "min_assessments_per_client = 3\n",
    "\n",
    "dfmin3 = limit_pkey_num_assessments(pqpdc, min_assessments_per_client)\n",
    "\n",
    "col ='SDS_Score'\n",
    "col_df = get_clean_for_col(dfmin3, col)\n",
    "len(pqpdc), min(pqpdc.AssessmentDate), max(pqpdc.AssessmentDate)"
   ]
  },
  {
   "cell_type": "code",
   "execution_count": 1,
   "metadata": {},
   "outputs": [
    {
     "ename": "NameError",
     "evalue": "name 'df' is not defined",
     "output_type": "error",
     "traceback": [
      "\u001b[1;31m---------------------------------------------------------------------------\u001b[0m",
      "\u001b[1;31mNameError\u001b[0m                                 Traceback (most recent call last)",
      "Cell \u001b[1;32mIn[1], line 1\u001b[0m\n\u001b[1;32m----> 1\u001b[0m \u001b[39mlen\u001b[39m(df), \u001b[39mlen\u001b[39m(pqpdc) ,\u001b[39mlen\u001b[39m(dfmin3), \u001b[39mlen\u001b[39m(col_df)\n",
      "\u001b[1;31mNameError\u001b[0m: name 'df' is not defined"
     ]
    }
   ],
   "source": [
    "len(df), len(pqpdc) ,len(dfmin3), len(col_df)"
   ]
  },
  {
   "cell_type": "code",
   "execution_count": 10,
   "metadata": {},
   "outputs": [],
   "source": [
    "df_period = pqpdc.sort_values(['AssessmentDate'])"
   ]
  },
  {
   "cell_type": "code",
   "execution_count": 25,
   "metadata": {},
   "outputs": [],
   "source": [
    "\n",
    "# from pandas.api.types import CategoricalDtype\n",
    "# category_notatall_to_daily = CategoricalDtype(['Not at all',  'Less than weekly', 'Once or twice per week',\n",
    "#        'Three or four times per week', 'Daily or almost daily'], ordered=True)\n",
    "\n",
    "# category_notatall_to_daily.names"
   ]
  },
  {
   "cell_type": "code",
   "execution_count": 11,
   "metadata": {},
   "outputs": [],
   "source": [
    "# o = df['Past4WkHowOftenPhysicalHealthCausedProblems'].value_counts(dropna=False)\n",
    "# NaN                              936\n",
    "\n",
    "# Drop the rows where Past4WkHowOftenPhysicalHealthCausedProblems is NaN\n",
    "df_phy = df_period.dropna(subset=['Past4WkHowOftenPhysicalHealthCausedProblems'])\n",
    "\n",
    "# df['physical'] = pd.Categorical(df['Past4WkHowOftenPhysicalHealthCausedProblems'], ordered=True, categories=[0, 1, 2, 3, 4])\n",
    "\n",
    "# # Convert the categorical column to an integer type\n",
    "# df_phy['Past4WkHowOftenPhysicalHealthCausedProblems'] = df_phy['Past4WkHowOftenPhysicalHealthCausedProblems'].astype(int)\n",
    "# df['Past4WkHowOftenPhysicalHealthCausedProblems'] = \n",
    "# df['Past4WkHowOftenPhysicalHealthCausedProblems'].cat.codes, df['Past4WkHowOftenPhysicalHealthCausedProblems'].cat.categories\n",
    "\n",
    "# p = df['Past4WkHowOftenPhysicalHealthCausedProblems'].value_counts()\n",
    "# o,p "
   ]
  },
  {
   "cell_type": "code",
   "execution_count": 12,
   "metadata": {},
   "outputs": [
    {
     "data": {
      "text/plain": [
       "Past4WkHowOftenPhysicalHealthCausedProblems\n",
       "Not at all                      1654\n",
       "Daily or almost daily            691\n",
       "Less than weekly                 583\n",
       "Once or twice per week           407\n",
       "Three or four times per week     264\n",
       "Name: count, dtype: int64"
      ]
     },
     "execution_count": 12,
     "metadata": {},
     "output_type": "execute_result"
    }
   ],
   "source": [
    "df_phy['Past4WkHowOftenPhysicalHealthCausedProblems'].value_counts(dropna=False)"
   ]
  },
  {
   "cell_type": "code",
   "execution_count": 10,
   "metadata": {},
   "outputs": [
    {
     "data": {
      "text/plain": [
       "0    1654\n",
       "4     691\n",
       "1     583\n",
       "2     407\n",
       "3     264\n",
       "Name: count, dtype: int64"
      ]
     },
     "execution_count": 10,
     "metadata": {},
     "output_type": "execute_result"
    }
   ],
   "source": [
    "# df = df.dropna(subset=['Past4WkHowOftenPhysicalHealthCausedProblems'])\n",
    "df_phy['Past4WkHowOftenPhysicalHealthCausedProblems'].cat.codes.value_counts(dropna=True)"
   ]
  },
  {
   "cell_type": "code",
   "execution_count": 13,
   "metadata": {},
   "outputs": [],
   "source": [
    "# Assuming 'PartitionKey' is the patient identifier and 'AssessmentDate' is in datetime format\n",
    "df_sorted = df_phy.sort_values(by=['PartitionKey', 'AssessmentDate'])\n",
    "\n",
    "g = df_sorted.groupby('PartitionKey')\n",
    "\n",
    "# Get the first and last assessments\n",
    "first_assessments = g.first().reset_index()\n",
    "last_assessments = g.last().reset_index()\n",
    "\n",
    "\n"
   ]
  },
  {
   "cell_type": "code",
   "execution_count": 14,
   "metadata": {},
   "outputs": [
    {
     "data": {
      "text/plain": [
       "(1510, 1510, 1510)"
      ]
     },
     "execution_count": 14,
     "metadata": {},
     "output_type": "execute_result"
    }
   ],
   "source": [
    "len(g), len(first_assessments), len(last_assessments)"
   ]
  },
  {
   "cell_type": "code",
   "execution_count": 14,
   "metadata": {},
   "outputs": [
    {
     "data": {
      "text/html": [
       "\n",
       "<style>\n",
       "  #altair-viz-5c06c4697c7b404b99eedeb18896d41f.vega-embed {\n",
       "    width: 100%;\n",
       "    display: flex;\n",
       "  }\n",
       "\n",
       "  #altair-viz-5c06c4697c7b404b99eedeb18896d41f.vega-embed details,\n",
       "  #altair-viz-5c06c4697c7b404b99eedeb18896d41f.vega-embed details summary {\n",
       "    position: relative;\n",
       "  }\n",
       "</style>\n",
       "<div id=\"altair-viz-5c06c4697c7b404b99eedeb18896d41f\"></div>\n",
       "<script type=\"text/javascript\">\n",
       "  var VEGA_DEBUG = (typeof VEGA_DEBUG == \"undefined\") ? {} : VEGA_DEBUG;\n",
       "  (function(spec, embedOpt){\n",
       "    let outputDiv = document.currentScript.previousElementSibling;\n",
       "    if (outputDiv.id !== \"altair-viz-5c06c4697c7b404b99eedeb18896d41f\") {\n",
       "      outputDiv = document.getElementById(\"altair-viz-5c06c4697c7b404b99eedeb18896d41f\");\n",
       "    }\n",
       "    const paths = {\n",
       "      \"vega\": \"https://cdn.jsdelivr.net/npm/vega@5?noext\",\n",
       "      \"vega-lib\": \"https://cdn.jsdelivr.net/npm/vega-lib?noext\",\n",
       "      \"vega-lite\": \"https://cdn.jsdelivr.net/npm/vega-lite@5.8.0?noext\",\n",
       "      \"vega-embed\": \"https://cdn.jsdelivr.net/npm/vega-embed@6?noext\",\n",
       "    };\n",
       "\n",
       "    function maybeLoadScript(lib, version) {\n",
       "      var key = `${lib.replace(\"-\", \"\")}_version`;\n",
       "      return (VEGA_DEBUG[key] == version) ?\n",
       "        Promise.resolve(paths[lib]) :\n",
       "        new Promise(function(resolve, reject) {\n",
       "          var s = document.createElement('script');\n",
       "          document.getElementsByTagName(\"head\")[0].appendChild(s);\n",
       "          s.async = true;\n",
       "          s.onload = () => {\n",
       "            VEGA_DEBUG[key] = version;\n",
       "            return resolve(paths[lib]);\n",
       "          };\n",
       "          s.onerror = () => reject(`Error loading script: ${paths[lib]}`);\n",
       "          s.src = paths[lib];\n",
       "        });\n",
       "    }\n",
       "\n",
       "    function showError(err) {\n",
       "      outputDiv.innerHTML = `<div class=\"error\" style=\"color:red;\">${err}</div>`;\n",
       "      throw err;\n",
       "    }\n",
       "\n",
       "    function displayChart(vegaEmbed) {\n",
       "      vegaEmbed(outputDiv, spec, embedOpt)\n",
       "        .catch(err => showError(`Javascript Error: ${err.message}<br>This usually means there's a typo in your chart specification. See the javascript console for the full traceback.`));\n",
       "    }\n",
       "\n",
       "    if(typeof define === \"function\" && define.amd) {\n",
       "      requirejs.config({paths});\n",
       "      require([\"vega-embed\"], displayChart, err => showError(`Error loading script: ${err.message}`));\n",
       "    } else {\n",
       "      maybeLoadScript(\"vega\", \"5\")\n",
       "        .then(() => maybeLoadScript(\"vega-lite\", \"5.8.0\"))\n",
       "        .then(() => maybeLoadScript(\"vega-embed\", \"6\"))\n",
       "        .catch(showError)\n",
       "        .then(() => displayChart(vegaEmbed));\n",
       "    }\n",
       "  })({\"config\": {\"view\": {\"continuousWidth\": 300, \"continuousHeight\": 300}}, \"data\": {\"name\": \"data-e78234f3c15232c8d67a17954e66424e\"}, \"mark\": {\"type\": \"line\", \"point\": true}, \"encoding\": {\"tooltip\": [{\"field\": \"Assessment\", \"type\": \"nominal\"}, {\"field\": \"MeanValue\", \"type\": \"quantitative\"}], \"x\": {\"field\": \"Assessment\", \"type\": \"nominal\"}, \"y\": {\"field\": \"MeanValue\", \"type\": \"quantitative\"}}, \"title\": \"Mean Values of First and Last Assessments\", \"$schema\": \"https://vega.github.io/schema/vega-lite/v5.8.0.json\", \"datasets\": {\"data-e78234f3c15232c8d67a17954e66424e\": [{\"Assessment\": \"First\", \"MeanValue\": 1.4602649006622517}, {\"Assessment\": \"Last\", \"MeanValue\": 1.3662251655629138}]}}, {\"mode\": \"vega-lite\"});\n",
       "</script>"
      ],
      "text/plain": [
       "alt.Chart(...)"
      ]
     },
     "execution_count": 14,
     "metadata": {},
     "output_type": "execute_result"
    }
   ],
   "source": [
    "\n",
    "# Calculate the mean for the first and last assessments\n",
    "mean_first = first_assessments['Past4WkHowOftenPhysicalHealthCausedProblems'].cat.codes.mean()\n",
    "mean_last = last_assessments['Past4WkHowOftenPhysicalHealthCausedProblems'].cat.codes.mean()\n",
    "\n",
    "# Create a DataFrame for the mean values\n",
    "mean_df = pd.DataFrame({\n",
    "    'Assessment': ['First', 'Last'],\n",
    "    'MeanValue': [mean_first, mean_last]\n",
    "})\n",
    "\n",
    "# # Create a line plot\n",
    "# chart = alt.Chart(mean_df).mark_line(point=True).encode(\n",
    "#     x='Assessment',\n",
    "#     y='MeanValue',\n",
    "#     tooltip=['Assessment', 'MeanValue']\n",
    "# ).properties(\n",
    "#     title='Mean Values of First and Last Assessments'\n",
    "# )\n",
    "\n",
    "# Create a date range\n",
    "date = pd.date_range(start='01-01-2020', end='01-01-2023')\n",
    "\n",
    "# Create a sample DataFrame\n",
    "df = pd.DataFrame({\n",
    "  'date': np.repeat(date, 3),\n",
    "  'category': ['A', 'B', 'C']*len(date),\n",
    "  'value': np.random.rand(3*len(date)),\n",
    "})\n",
    "\n",
    "chart = alt.Chart(df).mark_line().encode(\n",
    "    x='date:T',\n",
    "    y='value:Q',\n",
    "    color='category:N',\n",
    "    tooltip=['date', 'value', 'category']\n",
    ").properties(\n",
    "    title='Multi-Line Chart'\n",
    ")\n",
    "\n",
    "\n",
    "# Display the chart\n",
    "chart\n"
   ]
  },
  {
   "cell_type": "code",
   "execution_count": null,
   "metadata": {},
   "outputs": [],
   "source": [
    "# Calculate the mean for the first and last assessments for both variables\n",
    "mean_first_physical = first_assessments['Past4WkHowOftenPhysicalHealthCausedProblems'].cat.codes.mean()\n",
    "mean_last_physical = last_assessments['Past4WkHowOftenPhysicalHealthCausedProblems'].cat.codes.mean()\n",
    "mean_first_mental = first_assessments['Past4WkHowOftenMentalHealthCausedProblems'].cat.codes.mean()\n",
    "mean_last_mental = last_assessments['Past4WkHowOftenMentalHealthCausedProblems'].cat.codes.mean()\n"
   ]
  },
  {
   "cell_type": "code",
   "execution_count": null,
   "metadata": {},
   "outputs": [],
   "source": [
    "\n",
    "# Create DataFrames for the mean values\n",
    "mean_physical_df = pd.DataFrame({\n",
    "    'Assessment': ['First', 'Last'],\n",
    "    'MeanValue': [mean_first_physical, mean_last_physical]\n",
    "})\n",
    "\n",
    "mean_mental_df = pd.DataFrame({\n",
    "    'Assessment': ['First', 'Last'],\n",
    "    'MeanValue': [mean_first_mental, mean_last_mental]\n",
    "})\n",
    "\n",
    "# Create the line plots\n",
    "chart_physical = alt.Chart(mean_physical_df).mark_line(point=True).encode(\n",
    "    x='Assessment',\n",
    "    y='MeanValue',\n",
    "    tooltip=['Assessment', 'MeanValue']\n",
    ").properties(\n",
    "    title='Mean Values of First and Last Physical Health Assessments'\n",
    ")\n",
    "\n",
    "chart_mental = alt.Chart(mean_mental_df).mark_line(point=True).encode(\n",
    "    x='Assessment',\n",
    "    y='MeanValue',\n",
    "    tooltip=['Assessment', 'MeanValue']\n",
    ").properties(\n",
    "    title='Mean Values of First and Last Mental Health Assessments'\n",
    ")\n",
    "\n",
    "# Concatenate the charts vertically\n",
    "chart = alt.hconcat(chart_physical, chart_mental)\n",
    "\n",
    "# Display the chart\n",
    "chart\n"
   ]
  },
  {
   "cell_type": "code",
   "execution_count": 40,
   "metadata": {},
   "outputs": [],
   "source": [
    "first_fours_phy = len(first_assessments['Past4WkHowOftenPhysicalHealthCausedProblems'] [ first_assessments['Past4WkHowOftenPhysicalHealthCausedProblems'].cat.codes == 4])\n",
    "last_fours_phy = len(last_assessments['Past4WkHowOftenPhysicalHealthCausedProblems'] [ last_assessments['Past4WkHowOftenPhysicalHealthCausedProblems'].cat.codes == 4])\n",
    "first_fours_men =len( first_assessments['Past4WkHowOftenMentalHealthCausedProblems'] [ first_assessments['Past4WkHowOftenMentalHealthCausedProblems'].cat.codes == 4])\n",
    "last_fours_men = len(last_assessments['Past4WkHowOftenMentalHealthCausedProblems'] [ last_assessments['Past4WkHowOftenMentalHealthCausedProblems'].cat.codes == 4])\n",
    "\n",
    "# first_fours_phy, last_fours_phy, first_fours_men, last_fours_men\n",
    "\n",
    "# percentage change in 'Daily or almost daily' \n",
    "phy_pc = (last_fours_phy - first_fours_phy)* 100 / first_fours_phy\n",
    "men_pc = (last_fours_men - first_fours_men)* 100 / first_fours_men\n",
    "\n",
    "physicalhealth_problems_change = round(phy_pc,1)\n",
    "mentallhealth_problems_change = round(men_pc,1)"
   ]
  },
  {
   "cell_type": "code",
   "execution_count": 45,
   "metadata": {},
   "outputs": [
    {
     "data": {
      "text/html": [
       "\n",
       "<style>\n",
       "  #altair-viz-ab62031eaf9b4ac1ab813f029762d627.vega-embed {\n",
       "    width: 100%;\n",
       "    display: flex;\n",
       "  }\n",
       "\n",
       "  #altair-viz-ab62031eaf9b4ac1ab813f029762d627.vega-embed details,\n",
       "  #altair-viz-ab62031eaf9b4ac1ab813f029762d627.vega-embed details summary {\n",
       "    position: relative;\n",
       "  }\n",
       "</style>\n",
       "<div id=\"altair-viz-ab62031eaf9b4ac1ab813f029762d627\"></div>\n",
       "<script type=\"text/javascript\">\n",
       "  var VEGA_DEBUG = (typeof VEGA_DEBUG == \"undefined\") ? {} : VEGA_DEBUG;\n",
       "  (function(spec, embedOpt){\n",
       "    let outputDiv = document.currentScript.previousElementSibling;\n",
       "    if (outputDiv.id !== \"altair-viz-ab62031eaf9b4ac1ab813f029762d627\") {\n",
       "      outputDiv = document.getElementById(\"altair-viz-ab62031eaf9b4ac1ab813f029762d627\");\n",
       "    }\n",
       "    const paths = {\n",
       "      \"vega\": \"https://cdn.jsdelivr.net/npm/vega@5?noext\",\n",
       "      \"vega-lib\": \"https://cdn.jsdelivr.net/npm/vega-lib?noext\",\n",
       "      \"vega-lite\": \"https://cdn.jsdelivr.net/npm/vega-lite@5.8.0?noext\",\n",
       "      \"vega-embed\": \"https://cdn.jsdelivr.net/npm/vega-embed@6?noext\",\n",
       "    };\n",
       "\n",
       "    function maybeLoadScript(lib, version) {\n",
       "      var key = `${lib.replace(\"-\", \"\")}_version`;\n",
       "      return (VEGA_DEBUG[key] == version) ?\n",
       "        Promise.resolve(paths[lib]) :\n",
       "        new Promise(function(resolve, reject) {\n",
       "          var s = document.createElement('script');\n",
       "          document.getElementsByTagName(\"head\")[0].appendChild(s);\n",
       "          s.async = true;\n",
       "          s.onload = () => {\n",
       "            VEGA_DEBUG[key] = version;\n",
       "            return resolve(paths[lib]);\n",
       "          };\n",
       "          s.onerror = () => reject(`Error loading script: ${paths[lib]}`);\n",
       "          s.src = paths[lib];\n",
       "        });\n",
       "    }\n",
       "\n",
       "    function showError(err) {\n",
       "      outputDiv.innerHTML = `<div class=\"error\" style=\"color:red;\">${err}</div>`;\n",
       "      throw err;\n",
       "    }\n",
       "\n",
       "    function displayChart(vegaEmbed) {\n",
       "      vegaEmbed(outputDiv, spec, embedOpt)\n",
       "        .catch(err => showError(`Javascript Error: ${err.message}<br>This usually means there's a typo in your chart specification. See the javascript console for the full traceback.`));\n",
       "    }\n",
       "\n",
       "    if(typeof define === \"function\" && define.amd) {\n",
       "      requirejs.config({paths});\n",
       "      require([\"vega-embed\"], displayChart, err => showError(`Error loading script: ${err.message}`));\n",
       "    } else {\n",
       "      maybeLoadScript(\"vega\", \"5\")\n",
       "        .then(() => maybeLoadScript(\"vega-lite\", \"5.8.0\"))\n",
       "        .then(() => maybeLoadScript(\"vega-embed\", \"6\"))\n",
       "        .catch(showError)\n",
       "        .then(() => displayChart(vegaEmbed));\n",
       "    }\n",
       "  })({\"config\": {\"view\": {\"continuousWidth\": 300, \"continuousHeight\": 300}}, \"layer\": [{\"mark\": {\"type\": \"line\"}, \"encoding\": {\"color\": {\"field\": \"Category\", \"scale\": {\"domain\": [\"Physical Health\", \"Mental Health\"], \"range\": [\"red\", \"blue\"]}, \"type\": \"nominal\"}, \"tooltip\": [{\"field\": \"Assessment\", \"type\": \"nominal\"}, {\"field\": \"MeanValue\", \"type\": \"quantitative\"}, {\"field\": \"Category\", \"type\": \"nominal\"}], \"x\": {\"field\": \"Assessment\", \"type\": \"nominal\"}, \"y\": {\"field\": \"MeanValue\", \"type\": \"quantitative\"}}, \"title\": \"Mean Values of First and Last Assessments\"}, {\"mark\": {\"type\": \"point\", \"size\": 100}, \"encoding\": {\"color\": {\"field\": \"Category\", \"scale\": {\"domain\": [\"Physical Health\", \"Mental Health\"], \"range\": [\"red\", \"blue\"]}, \"type\": \"nominal\"}, \"tooltip\": [{\"field\": \"Assessment\", \"type\": \"nominal\"}, {\"field\": \"MeanValue\", \"type\": \"quantitative\"}, {\"field\": \"Category\", \"type\": \"nominal\"}, {\"field\": \"Count\", \"type\": \"quantitative\"}], \"x\": {\"field\": \"Assessment\", \"type\": \"nominal\"}, \"y\": {\"field\": \"MeanValue\", \"type\": \"quantitative\"}}}, {\"data\": {\"name\": \"data-38893e4f776d10f9e1dab334cf7fbdcf\"}, \"mark\": {\"type\": \"text\", \"align\": \"left\", \"baseline\": \"middle\", \"dx\": 7}, \"encoding\": {\"text\": {\"field\": \"Text\", \"type\": \"nominal\"}, \"x\": {\"field\": \"Assessment\", \"type\": \"nominal\"}, \"y\": {\"field\": \"MeanValue\", \"type\": \"quantitative\"}}}], \"data\": {\"name\": \"data-060c064d026b54fe5cf1670ca96a6041\"}, \"width\": 600, \"$schema\": \"https://vega.github.io/schema/vega-lite/v5.8.0.json\", \"datasets\": {\"data-060c064d026b54fe5cf1670ca96a6041\": [{\"Assessment\": \"First\", \"MeanValue\": 1.4602649006622517, \"Category\": \"Physical Health\", \"Count\": 1510}, {\"Assessment\": \"Last\", \"MeanValue\": 1.3662251655629138, \"Category\": \"Physical Health\", \"Count\": 1510}, {\"Assessment\": \"First\", \"MeanValue\": 2.1781456953642384, \"Category\": \"Mental Health\", \"Count\": 1510}, {\"Assessment\": \"Last\", \"MeanValue\": 1.9304635761589404, \"Category\": \"Mental Health\", \"Count\": 1510}], \"data-38893e4f776d10f9e1dab334cf7fbdcf\": [{\"Assessment\": \"First\", \"MeanValue\": 1.4602649006622517, \"Text\": \"% change in number of 'daily or almost daily': -11.2%\"}, {\"Assessment\": \"First\", \"MeanValue\": 2.1781456953642384, \"Text\": \"% change in number of 'daily or almost daily': -20.4%\"}]}}, {\"mode\": \"vega-lite\"});\n",
       "</script>"
      ],
      "text/plain": [
       "alt.LayerChart(...)"
      ]
     },
     "execution_count": 45,
     "metadata": {},
     "output_type": "execute_result"
    }
   ],
   "source": [
    "\n",
    "\n",
    "# Create a DataFrame with 'category' and 'mean_value' columns\n",
    "mean_df = pd.DataFrame({\n",
    "    'Assessment': ['First', 'Last', 'First', 'Last'],\n",
    "    'MeanValue': [mean_first_physical, mean_last_physical, mean_first_mental, mean_last_mental],\n",
    "    'Category': ['Physical Health']*2 + ['Mental Health']*2,\n",
    "    'Count': [len(first_assessments), len(last_assessments), len(first_assessments), len(last_assessments)]\n",
    "})\n",
    "\n",
    "# Create the line plot\n",
    "chart = alt.Chart(mean_df).mark_line().encode(\n",
    "    x='Assessment',\n",
    "    y='MeanValue',\n",
    "    color=alt.Color('Category', scale=alt.Scale(domain=['Physical Health', 'Mental Health'], range=['red', 'blue'])),\n",
    "    tooltip=['Assessment', 'MeanValue', 'Category']\n",
    ").properties(\n",
    "    title='Mean Values of First and Last Assessments'\n",
    ").properties(\n",
    "    width=600  # Specify the width here\n",
    ")\n",
    "\n",
    "# Add points to the line plot\n",
    "points = alt.Chart(mean_df).mark_point(size=100).encode(\n",
    "    x='Assessment',\n",
    "    y='MeanValue',\n",
    "    color=alt.Color('Category', scale=alt.Scale(domain=['Physical Health', 'Mental Health'], range=['red', 'blue'])),\n",
    "    tooltip=['Assessment', 'MeanValue', 'Category', 'Count']\n",
    ").properties(\n",
    "    width=600  # Specify the width here\n",
    ")\n",
    "\n",
    "\n",
    "\n",
    "# Define text annotations\n",
    "annotations = pd.DataFrame({\n",
    "    'Assessment': ['First', 'First'],\n",
    "    'MeanValue': [mean_first_physical, mean_first_mental],  # You can adjust the y position\n",
    "    'Text': [f\"% change in number of 'daily or almost daily': {physicalhealth_problems_change}%\" ,\n",
    "              f\"% change in number of 'daily or almost daily': {mentallhealth_problems_change}%\"]  # Replace with your actual text\n",
    "})\n",
    "\n",
    "# Create the text chart\n",
    "text_chart = alt.Chart(annotations).mark_text(\n",
    "    align='left',\n",
    "    baseline='middle',\n",
    "    dx=7  # Nudges text to right so it doesn't appear on top of the point\n",
    ").encode(\n",
    "    x='Assessment',\n",
    "    y='MeanValue:Q',\n",
    "    text='Text'\n",
    ")\n",
    "\n",
    "\n",
    "# Display the chart\n",
    "chart = chart + points + text_chart\n",
    "chart\n"
   ]
  }
 ],
 "metadata": {
  "kernelspec": {
   "display_name": ".venv",
   "language": "python",
   "name": "python3"
  },
  "language_info": {
   "codemirror_mode": {
    "name": "ipython",
    "version": 3
   },
   "file_extension": ".py",
   "mimetype": "text/x-python",
   "name": "python",
   "nbconvert_exporter": "python",
   "pygments_lexer": "ipython3",
   "version": "3.11.3"
  },
  "orig_nbformat": 4
 },
 "nbformat": 4,
 "nbformat_minor": 2
}
