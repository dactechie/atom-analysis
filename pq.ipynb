{
 "cells": [
  {
   "cell_type": "code",
   "execution_count": 2,
   "metadata": {},
   "outputs": [],
   "source": [
    "import pandas as pd\n",
    "\n",
    "infile_path = r\"./data/out/processed\"\n",
    "pq_df = pd.read_parquet(f\"{infile_path}.parquet\")"
   ]
  },
  {
   "cell_type": "code",
   "execution_count": 6,
   "metadata": {},
   "outputs": [],
   "source": [
    "pq_df.drop('ODC', axis=1, inplace=True)\n",
    "# drop_field(pq_df,'ODC')"
   ]
  },
  {
   "cell_type": "code",
   "execution_count": 8,
   "metadata": {},
   "outputs": [
    {
     "name": "stdout",
     "output_type": "stream",
     "text": [
      "<class 'pandas.core.frame.DataFrame'>\n",
      "RangeIndex: 567 entries, 0 to 566\n",
      "Columns: 165 entries, PartitionKey to PDCGoals\n",
      "dtypes: category(14), float64(5), object(146)\n",
      "memory usage: 680.8+ KB\n"
     ]
    }
   ],
   "source": [
    "pq_df.info()"
   ]
  },
  {
   "cell_type": "code",
   "execution_count": 10,
   "metadata": {},
   "outputs": [
    {
     "data": {
      "text/html": [
       "<div>\n",
       "<style scoped>\n",
       "    .dataframe tbody tr th:only-of-type {\n",
       "        vertical-align: middle;\n",
       "    }\n",
       "\n",
       "    .dataframe tbody tr th {\n",
       "        vertical-align: top;\n",
       "    }\n",
       "\n",
       "    .dataframe thead th {\n",
       "        text-align: right;\n",
       "    }\n",
       "</style>\n",
       "<table border=\"1\" class=\"dataframe\">\n",
       "  <thead>\n",
       "    <tr style=\"text-align: right;\">\n",
       "      <th></th>\n",
       "      <th>PartitionKey</th>\n",
       "      <th>RowKey</th>\n",
       "      <th>SDS_Score</th>\n",
       "      <th>CDS5_Score</th>\n",
       "      <th>K10_Score</th>\n",
       "      <th>AssessmentDate</th>\n",
       "      <th>AssessmentType</th>\n",
       "      <th>ClientType</th>\n",
       "      <th>IndigenousStatus</th>\n",
       "      <th>PreferredLanguage</th>\n",
       "    </tr>\n",
       "  </thead>\n",
       "  <tbody>\n",
       "    <tr>\n",
       "      <th>0</th>\n",
       "      <td>ABAHA210119952</td>\n",
       "      <td>GOLBICE_INAS_20230207</td>\n",
       "      <td>3.0</td>\n",
       "      <td>0.0</td>\n",
       "      <td>13.0</td>\n",
       "      <td>2023-02-07</td>\n",
       "      <td>InitialAssessment</td>\n",
       "      <td>ownuse</td>\n",
       "      <td>Neither Aboriginal nor Torres Strait Islander</td>\n",
       "      <td>English</td>\n",
       "    </tr>\n",
       "    <tr>\n",
       "      <th>1</th>\n",
       "      <td>ABCTE280419831</td>\n",
       "      <td>BUTTITOUT_INAS_20230305</td>\n",
       "      <td>0.0</td>\n",
       "      <td>0.0</td>\n",
       "      <td>0.0</td>\n",
       "      <td>2023-01-25</td>\n",
       "      <td>ITSPReview</td>\n",
       "      <td>ownuse</td>\n",
       "      <td>NaN</td>\n",
       "      <td>None</td>\n",
       "    </tr>\n",
       "    <tr>\n",
       "      <th>2</th>\n",
       "      <td>ABCTE280419831</td>\n",
       "      <td>TEST_ITSP_20230125</td>\n",
       "      <td>8.0</td>\n",
       "      <td>14.0</td>\n",
       "      <td>11.0</td>\n",
       "      <td>2023-02-21</td>\n",
       "      <td>InitialAssessment</td>\n",
       "      <td>ownuse</td>\n",
       "      <td>Neither Aboriginal nor Torres Strait Islander</td>\n",
       "      <td>English</td>\n",
       "    </tr>\n",
       "    <tr>\n",
       "      <th>3</th>\n",
       "      <td>ACAIT230419891</td>\n",
       "      <td>TSS_INAS_20230221</td>\n",
       "      <td>10.0</td>\n",
       "      <td>0.0</td>\n",
       "      <td>0.0</td>\n",
       "      <td>2023-01-20</td>\n",
       "      <td>InitialAssessment</td>\n",
       "      <td>ownuse</td>\n",
       "      <td>Neither Aboriginal nor Torres Strait Islander</td>\n",
       "      <td>English</td>\n",
       "    </tr>\n",
       "    <tr>\n",
       "      <th>4</th>\n",
       "      <td>ACARO150719751</td>\n",
       "      <td>EUROPATH_INAS_20230120</td>\n",
       "      <td>7.0</td>\n",
       "      <td>12.0</td>\n",
       "      <td>31.0</td>\n",
       "      <td>2023-01-06</td>\n",
       "      <td>InitialAssessment</td>\n",
       "      <td>ownuse</td>\n",
       "      <td>Neither Aboriginal nor Torres Strait Islander</td>\n",
       "      <td>English</td>\n",
       "    </tr>\n",
       "    <tr>\n",
       "      <th>...</th>\n",
       "      <td>...</td>\n",
       "      <td>...</td>\n",
       "      <td>...</td>\n",
       "      <td>...</td>\n",
       "      <td>...</td>\n",
       "      <td>...</td>\n",
       "      <td>...</td>\n",
       "      <td>...</td>\n",
       "      <td>...</td>\n",
       "      <td>...</td>\n",
       "    </tr>\n",
       "    <tr>\n",
       "      <th>562</th>\n",
       "      <td>YGAUK280819881</td>\n",
       "      <td>MURMPP_ITSP_20230309</td>\n",
       "      <td>NaN</td>\n",
       "      <td>NaN</td>\n",
       "      <td>NaN</td>\n",
       "      <td>None</td>\n",
       "      <td>NaN</td>\n",
       "      <td>NaN</td>\n",
       "      <td>NaN</td>\n",
       "      <td>None</td>\n",
       "    </tr>\n",
       "    <tr>\n",
       "      <th>563</th>\n",
       "      <td>YKSLA240819972</td>\n",
       "      <td>ALONGSIDE_INAS_20230306</td>\n",
       "      <td>NaN</td>\n",
       "      <td>NaN</td>\n",
       "      <td>NaN</td>\n",
       "      <td>None</td>\n",
       "      <td>NaN</td>\n",
       "      <td>NaN</td>\n",
       "      <td>NaN</td>\n",
       "      <td>None</td>\n",
       "    </tr>\n",
       "    <tr>\n",
       "      <th>564</th>\n",
       "      <td>ZEIUC220419861</td>\n",
       "      <td>COCO_INAS_20230125</td>\n",
       "      <td>NaN</td>\n",
       "      <td>NaN</td>\n",
       "      <td>NaN</td>\n",
       "      <td>None</td>\n",
       "      <td>NaN</td>\n",
       "      <td>NaN</td>\n",
       "      <td>NaN</td>\n",
       "      <td>None</td>\n",
       "    </tr>\n",
       "    <tr>\n",
       "      <th>565</th>\n",
       "      <td>ZUIOJ280719691</td>\n",
       "      <td>COCO_POTA_20230117</td>\n",
       "      <td>NaN</td>\n",
       "      <td>NaN</td>\n",
       "      <td>NaN</td>\n",
       "      <td>None</td>\n",
       "      <td>NaN</td>\n",
       "      <td>NaN</td>\n",
       "      <td>NaN</td>\n",
       "      <td>None</td>\n",
       "    </tr>\n",
       "    <tr>\n",
       "      <th>566</th>\n",
       "      <td>ZZRTE100819791</td>\n",
       "      <td>BUTTITOUT_INAS_20230307</td>\n",
       "      <td>NaN</td>\n",
       "      <td>NaN</td>\n",
       "      <td>NaN</td>\n",
       "      <td>None</td>\n",
       "      <td>NaN</td>\n",
       "      <td>NaN</td>\n",
       "      <td>NaN</td>\n",
       "      <td>None</td>\n",
       "    </tr>\n",
       "  </tbody>\n",
       "</table>\n",
       "<p>567 rows × 10 columns</p>\n",
       "</div>"
      ],
      "text/plain": [
       "       PartitionKey                   RowKey  SDS_Score  CDS5_Score   \n",
       "0    ABAHA210119952    GOLBICE_INAS_20230207        3.0         0.0  \\\n",
       "1    ABCTE280419831  BUTTITOUT_INAS_20230305        0.0         0.0   \n",
       "2    ABCTE280419831       TEST_ITSP_20230125        8.0        14.0   \n",
       "3    ACAIT230419891        TSS_INAS_20230221       10.0         0.0   \n",
       "4    ACARO150719751   EUROPATH_INAS_20230120        7.0        12.0   \n",
       "..              ...                      ...        ...         ...   \n",
       "562  YGAUK280819881     MURMPP_ITSP_20230309        NaN         NaN   \n",
       "563  YKSLA240819972  ALONGSIDE_INAS_20230306        NaN         NaN   \n",
       "564  ZEIUC220419861       COCO_INAS_20230125        NaN         NaN   \n",
       "565  ZUIOJ280719691       COCO_POTA_20230117        NaN         NaN   \n",
       "566  ZZRTE100819791  BUTTITOUT_INAS_20230307        NaN         NaN   \n",
       "\n",
       "     K10_Score AssessmentDate     AssessmentType ClientType   \n",
       "0         13.0     2023-02-07  InitialAssessment     ownuse  \\\n",
       "1          0.0     2023-01-25         ITSPReview     ownuse   \n",
       "2         11.0     2023-02-21  InitialAssessment     ownuse   \n",
       "3          0.0     2023-01-20  InitialAssessment     ownuse   \n",
       "4         31.0     2023-01-06  InitialAssessment     ownuse   \n",
       "..         ...            ...                ...        ...   \n",
       "562        NaN           None                NaN        NaN   \n",
       "563        NaN           None                NaN        NaN   \n",
       "564        NaN           None                NaN        NaN   \n",
       "565        NaN           None                NaN        NaN   \n",
       "566        NaN           None                NaN        NaN   \n",
       "\n",
       "                                  IndigenousStatus PreferredLanguage  \n",
       "0    Neither Aboriginal nor Torres Strait Islander           English  \n",
       "1                                              NaN              None  \n",
       "2    Neither Aboriginal nor Torres Strait Islander           English  \n",
       "3    Neither Aboriginal nor Torres Strait Islander           English  \n",
       "4    Neither Aboriginal nor Torres Strait Islander           English  \n",
       "..                                             ...               ...  \n",
       "562                                            NaN              None  \n",
       "563                                            NaN              None  \n",
       "564                                            NaN              None  \n",
       "565                                            NaN              None  \n",
       "566                                            NaN              None  \n",
       "\n",
       "[567 rows x 10 columns]"
      ]
     },
     "execution_count": 10,
     "metadata": {},
     "output_type": "execute_result"
    }
   ],
   "source": [
    "# too many columns, look at a few at a time\n",
    "pq_df.iloc[:, :10]"
   ]
  },
  {
   "cell_type": "code",
   "execution_count": 11,
   "metadata": {},
   "outputs": [
    {
     "name": "stdout",
     "output_type": "stream",
     "text": [
      "<class 'pandas.core.frame.DataFrame'>\n",
      "RangeIndex: 567 entries, 0 to 566\n",
      "Data columns (total 10 columns):\n",
      " #   Column             Non-Null Count  Dtype   \n",
      "---  ------             --------------  -----   \n",
      " 0   PartitionKey       567 non-null    object  \n",
      " 1   RowKey             567 non-null    object  \n",
      " 2   SDS_Score          523 non-null    float64 \n",
      " 3   CDS5_Score         523 non-null    float64 \n",
      " 4   K10_Score          523 non-null    float64 \n",
      " 5   AssessmentDate     523 non-null    object  \n",
      " 6   AssessmentType     523 non-null    category\n",
      " 7   ClientType         523 non-null    category\n",
      " 8   IndigenousStatus   260 non-null    category\n",
      " 9   PreferredLanguage  260 non-null    object  \n",
      "dtypes: category(3), float64(3), object(4)\n",
      "memory usage: 33.3+ KB\n"
     ]
    }
   ],
   "source": [
    "pq_df.iloc[:, :10].info()"
   ]
  },
  {
   "cell_type": "code",
   "execution_count": 12,
   "metadata": {},
   "outputs": [
    {
     "name": "stdout",
     "output_type": "stream",
     "text": [
      "<class 'pandas.core.frame.DataFrame'>\n",
      "RangeIndex: 567 entries, 0 to 566\n",
      "Data columns (total 10 columns):\n",
      " #   Column                            Non-Null Count  Dtype   \n",
      "---  ------                            --------------  -----   \n",
      " 0   CountryOfBirth                    258 non-null    category\n",
      " 1   Anyodc                            516 non-null    object  \n",
      " 2   HaveYouEverInjected               499 non-null    object  \n",
      " 3   SDSIsAODUseOutOfControl           488 non-null    object  \n",
      " 4   SDSDoesMissingFixMakeAnxious      487 non-null    object  \n",
      " 5   SDSHowMuchDoYouWorryAboutAODUse   488 non-null    object  \n",
      " 6   SDSDoYouWishToStop                488 non-null    object  \n",
      " 7   SDSHowDifficultToStopOrGoWithout  488 non-null    object  \n",
      " 8   Past4WkAnyOtherAddictiveB         476 non-null    object  \n",
      " 9   Past4WkDailyLivingImpacted        483 non-null    object  \n",
      "dtypes: category(1), object(9)\n",
      "memory usage: 41.2+ KB\n"
     ]
    }
   ],
   "source": [
    "pq_df.iloc[:, 10:20].info()"
   ]
  },
  {
   "cell_type": "code",
   "execution_count": 18,
   "metadata": {},
   "outputs": [
    {
     "data": {
      "text/plain": [
       "523"
      ]
     },
     "execution_count": 18,
     "metadata": {},
     "output_type": "execute_result"
    }
   ],
   "source": [
    "pqpdc = pq_df[pq_df.PDCSubstanceOrGambling.notna()]\n",
    "len(pqpdc) # 523\n",
    "          # pq_df.columns.str.contains('PDC', case=True)]"
   ]
  },
  {
   "cell_type": "code",
   "execution_count": 19,
   "metadata": {},
   "outputs": [
    {
     "data": {
      "text/plain": [
       "PDCSubstanceOrGambling\n",
       "Ethanol                                             243\n",
       "Methamphetamine                                     142\n",
       "Cannabinoids and Related Drugs, n.f.d.               78\n",
       "Amphetamines, n.f.d.                                 16\n",
       "Heroin                                               13\n",
       "Cannabinoids                                         11\n",
       "Cocaine                                               5\n",
       "Benzodiazepines, n.f.d.                               3\n",
       "Zolpidem                                              2\n",
       "Alcohols, n.e.c.                                      2\n",
       "Amphetamines, n.f.d                                   1\n",
       "Methadone                                             1\n",
       "Pharmaceutical Opioids, n.f.d.                        1\n",
       "Caffeine                                              1\n",
       "MDMA/Ecstasy                                          1\n",
       "Amphetamine                                           1\n",
       "Oxycodone                                             1\n",
       "Peptide Hormones, Mimetics and Analogues, n.e.c.      1\n",
       "Name: count, dtype: int64"
      ]
     },
     "execution_count": 19,
     "metadata": {},
     "output_type": "execute_result"
    }
   ],
   "source": [
    "pqpdc.PDCSubstanceOrGambling.value_counts()"
   ]
  },
  {
   "cell_type": "code",
   "execution_count": 20,
   "metadata": {},
   "outputs": [
    {
     "name": "stdout",
     "output_type": "stream",
     "text": [
      "<class 'pandas.core.series.Series'>\n",
      "Index: 523 entries, 0 to 522\n",
      "Series name: PDCSubstanceOrGambling\n",
      "Non-Null Count  Dtype   \n",
      "--------------  -----   \n",
      "523 non-null    category\n",
      "dtypes: category(1)\n",
      "memory usage: 5.3 KB\n"
     ]
    }
   ],
   "source": [
    "pqpdc.PDCSubstanceOrGambling.info()"
   ]
  },
  {
   "cell_type": "code",
   "execution_count": 33,
   "metadata": {},
   "outputs": [],
   "source": [
    "# sample analssis of PDCSubstanceOrGambling with Indigneous status\n",
    "always = ['PartitionKey','RowKey']\n",
    "cols = [ 'IndigenousStatus', 'PDCSubstanceOrGambling', 'SDS_Score']\n",
    "full_cols = always + cols\n",
    "df = pq_df[full_cols]"
   ]
  },
  {
   "cell_type": "code",
   "execution_count": 37,
   "metadata": {},
   "outputs": [
    {
     "name": "stderr",
     "output_type": "stream",
     "text": [
      "C:\\Users\\aftab.jalal\\AppData\\Local\\Temp\\ipykernel_15044\\2772026519.py:1: SettingWithCopyWarning: \n",
      "A value is trying to be set on a copy of a slice from a DataFrame.\n",
      "Try using .loc[row_indexer,col_indexer] = value instead\n",
      "\n",
      "See the caveats in the documentation: https://pandas.pydata.org/pandas-docs/stable/user_guide/indexing.html#returning-a-view-versus-a-copy\n",
      "  df['Program'] = df['RowKey'].str.split('_').str[0]\n"
     ]
    }
   ],
   "source": [
    "df['Program'] = df['RowKey'].str.split('_').str[0]"
   ]
  },
  {
   "cell_type": "code",
   "execution_count": 38,
   "metadata": {},
   "outputs": [
    {
     "data": {
      "text/html": [
       "<div>\n",
       "<style scoped>\n",
       "    .dataframe tbody tr th:only-of-type {\n",
       "        vertical-align: middle;\n",
       "    }\n",
       "\n",
       "    .dataframe tbody tr th {\n",
       "        vertical-align: top;\n",
       "    }\n",
       "\n",
       "    .dataframe thead th {\n",
       "        text-align: right;\n",
       "    }\n",
       "</style>\n",
       "<table border=\"1\" class=\"dataframe\">\n",
       "  <thead>\n",
       "    <tr style=\"text-align: right;\">\n",
       "      <th></th>\n",
       "      <th>PartitionKey</th>\n",
       "      <th>RowKey</th>\n",
       "      <th>IndigenousStatus</th>\n",
       "      <th>PDCSubstanceOrGambling</th>\n",
       "      <th>SDS_Score</th>\n",
       "      <th>Program</th>\n",
       "    </tr>\n",
       "  </thead>\n",
       "  <tbody>\n",
       "    <tr>\n",
       "      <th>0</th>\n",
       "      <td>ABAHA210119952</td>\n",
       "      <td>GOLBICE_INAS_20230207</td>\n",
       "      <td>Neither Aboriginal nor Torres Strait Islander</td>\n",
       "      <td>Ethanol</td>\n",
       "      <td>3.0</td>\n",
       "      <td>GOLBICE</td>\n",
       "    </tr>\n",
       "    <tr>\n",
       "      <th>1</th>\n",
       "      <td>ABCTE280419831</td>\n",
       "      <td>BUTTITOUT_INAS_20230305</td>\n",
       "      <td>NaN</td>\n",
       "      <td>Amphetamines, n.f.d.</td>\n",
       "      <td>0.0</td>\n",
       "      <td>BUTTITOUT</td>\n",
       "    </tr>\n",
       "    <tr>\n",
       "      <th>2</th>\n",
       "      <td>ABCTE280419831</td>\n",
       "      <td>TEST_ITSP_20230125</td>\n",
       "      <td>Neither Aboriginal nor Torres Strait Islander</td>\n",
       "      <td>Heroin</td>\n",
       "      <td>8.0</td>\n",
       "      <td>TEST</td>\n",
       "    </tr>\n",
       "    <tr>\n",
       "      <th>3</th>\n",
       "      <td>ACAIT230419891</td>\n",
       "      <td>TSS_INAS_20230221</td>\n",
       "      <td>Neither Aboriginal nor Torres Strait Islander</td>\n",
       "      <td>Methamphetamine</td>\n",
       "      <td>10.0</td>\n",
       "      <td>TSS</td>\n",
       "    </tr>\n",
       "    <tr>\n",
       "      <th>4</th>\n",
       "      <td>ACARO150719751</td>\n",
       "      <td>EUROPATH_INAS_20230120</td>\n",
       "      <td>Neither Aboriginal nor Torres Strait Islander</td>\n",
       "      <td>Ethanol</td>\n",
       "      <td>7.0</td>\n",
       "      <td>EUROPATH</td>\n",
       "    </tr>\n",
       "    <tr>\n",
       "      <th>...</th>\n",
       "      <td>...</td>\n",
       "      <td>...</td>\n",
       "      <td>...</td>\n",
       "      <td>...</td>\n",
       "      <td>...</td>\n",
       "      <td>...</td>\n",
       "    </tr>\n",
       "    <tr>\n",
       "      <th>562</th>\n",
       "      <td>YGAUK280819881</td>\n",
       "      <td>MURMPP_ITSP_20230309</td>\n",
       "      <td>NaN</td>\n",
       "      <td>NaN</td>\n",
       "      <td>NaN</td>\n",
       "      <td>MURMPP</td>\n",
       "    </tr>\n",
       "    <tr>\n",
       "      <th>563</th>\n",
       "      <td>YKSLA240819972</td>\n",
       "      <td>ALONGSIDE_INAS_20230306</td>\n",
       "      <td>NaN</td>\n",
       "      <td>NaN</td>\n",
       "      <td>NaN</td>\n",
       "      <td>ALONGSIDE</td>\n",
       "    </tr>\n",
       "    <tr>\n",
       "      <th>564</th>\n",
       "      <td>ZEIUC220419861</td>\n",
       "      <td>COCO_INAS_20230125</td>\n",
       "      <td>NaN</td>\n",
       "      <td>NaN</td>\n",
       "      <td>NaN</td>\n",
       "      <td>COCO</td>\n",
       "    </tr>\n",
       "    <tr>\n",
       "      <th>565</th>\n",
       "      <td>ZUIOJ280719691</td>\n",
       "      <td>COCO_POTA_20230117</td>\n",
       "      <td>NaN</td>\n",
       "      <td>NaN</td>\n",
       "      <td>NaN</td>\n",
       "      <td>COCO</td>\n",
       "    </tr>\n",
       "    <tr>\n",
       "      <th>566</th>\n",
       "      <td>ZZRTE100819791</td>\n",
       "      <td>BUTTITOUT_INAS_20230307</td>\n",
       "      <td>NaN</td>\n",
       "      <td>NaN</td>\n",
       "      <td>NaN</td>\n",
       "      <td>BUTTITOUT</td>\n",
       "    </tr>\n",
       "  </tbody>\n",
       "</table>\n",
       "<p>567 rows × 6 columns</p>\n",
       "</div>"
      ],
      "text/plain": [
       "       PartitionKey                   RowKey   \n",
       "0    ABAHA210119952    GOLBICE_INAS_20230207  \\\n",
       "1    ABCTE280419831  BUTTITOUT_INAS_20230305   \n",
       "2    ABCTE280419831       TEST_ITSP_20230125   \n",
       "3    ACAIT230419891        TSS_INAS_20230221   \n",
       "4    ACARO150719751   EUROPATH_INAS_20230120   \n",
       "..              ...                      ...   \n",
       "562  YGAUK280819881     MURMPP_ITSP_20230309   \n",
       "563  YKSLA240819972  ALONGSIDE_INAS_20230306   \n",
       "564  ZEIUC220419861       COCO_INAS_20230125   \n",
       "565  ZUIOJ280719691       COCO_POTA_20230117   \n",
       "566  ZZRTE100819791  BUTTITOUT_INAS_20230307   \n",
       "\n",
       "                                  IndigenousStatus PDCSubstanceOrGambling   \n",
       "0    Neither Aboriginal nor Torres Strait Islander                Ethanol  \\\n",
       "1                                              NaN   Amphetamines, n.f.d.   \n",
       "2    Neither Aboriginal nor Torres Strait Islander                 Heroin   \n",
       "3    Neither Aboriginal nor Torres Strait Islander        Methamphetamine   \n",
       "4    Neither Aboriginal nor Torres Strait Islander                Ethanol   \n",
       "..                                             ...                    ...   \n",
       "562                                            NaN                    NaN   \n",
       "563                                            NaN                    NaN   \n",
       "564                                            NaN                    NaN   \n",
       "565                                            NaN                    NaN   \n",
       "566                                            NaN                    NaN   \n",
       "\n",
       "     SDS_Score    Program  \n",
       "0          3.0    GOLBICE  \n",
       "1          0.0  BUTTITOUT  \n",
       "2          8.0       TEST  \n",
       "3         10.0        TSS  \n",
       "4          7.0   EUROPATH  \n",
       "..         ...        ...  \n",
       "562        NaN     MURMPP  \n",
       "563        NaN  ALONGSIDE  \n",
       "564        NaN       COCO  \n",
       "565        NaN       COCO  \n",
       "566        NaN  BUTTITOUT  \n",
       "\n",
       "[567 rows x 6 columns]"
      ]
     },
     "execution_count": 38,
     "metadata": {},
     "output_type": "execute_result"
    }
   ],
   "source": [
    "df"
   ]
  },
  {
   "cell_type": "code",
   "execution_count": 39,
   "metadata": {},
   "outputs": [],
   "source": [
    "from utils.group_utils import  limit_pkey_num_assessments, get_clean_for_col\n",
    "ESSENTIAL_FIELDS = ['PartitionKey', 'RowKey', 'AssessmentDate']"
   ]
  },
  {
   "cell_type": "code",
   "execution_count": 40,
   "metadata": {},
   "outputs": [],
   "source": [
    "min_assessments_per_client = 3\n",
    "\n",
    "dfmin3 = limit_pkey_num_assessments(df, min_assessments_per_client)"
   ]
  },
  {
   "cell_type": "code",
   "execution_count": 41,
   "metadata": {},
   "outputs": [],
   "source": [
    "col ='SDS_Score'\n",
    "col_df = get_clean_for_col(dfmin3, col)"
   ]
  },
  {
   "cell_type": "code",
   "execution_count": 47,
   "metadata": {},
   "outputs": [
    {
     "data": {
      "text/plain": [
       "(567, 28, 28)"
      ]
     },
     "execution_count": 47,
     "metadata": {},
     "output_type": "execute_result"
    }
   ],
   "source": [
    "len(df), len(dfmin3), len(col_df)"
   ]
  }
 ],
 "metadata": {
  "kernelspec": {
   "display_name": ".venv",
   "language": "python",
   "name": "python3"
  },
  "language_info": {
   "codemirror_mode": {
    "name": "ipython",
    "version": 3
   },
   "file_extension": ".py",
   "mimetype": "text/x-python",
   "name": "python",
   "nbconvert_exporter": "python",
   "pygments_lexer": "ipython3",
   "version": "3.11.3"
  },
  "orig_nbformat": 4
 },
 "nbformat": 4,
 "nbformat_minor": 2
}
