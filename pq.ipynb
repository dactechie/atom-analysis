{
 "cells": [
  {
   "cell_type": "code",
   "execution_count": 38,
   "metadata": {},
   "outputs": [],
   "source": [
    "import pandas as pd\n",
    "\n",
    "start_date = 20200101\n",
    "end_date = 20240101\n",
    "fname = f\"{start_date}_{end_date}\"\n",
    "processed_filepath = f\"./data/out/processed_all_cols_{fname}\"\n",
    "\n",
    "# infile_path = r\"./data/out/processed\"\n",
    "pq_df = pd.read_parquet(f\"{processed_filepath}.parquet\")"
   ]
  },
  {
   "cell_type": "code",
   "execution_count": 23,
   "metadata": {},
   "outputs": [
    {
     "data": {
      "text/plain": [
       "RowKey\n",
       "TSS               2647\n",
       "EUROPATH           918\n",
       "GOLBICE            729\n",
       "MURMICE            641\n",
       "GOLBGNRL           475\n",
       "SAPPHIRE           458\n",
       "BEGAPATH           372\n",
       "MURMWIO            311\n",
       "MURMPP             299\n",
       "COCO               154\n",
       "MONPATH            143\n",
       "ARCA                88\n",
       "MURMHEAD            62\n",
       "ALONGSIDE           19\n",
       "PSYNSW               1\n",
       "SO2LI131219633       1\n",
       "Name: count, dtype: int64"
      ]
     },
     "execution_count": 23,
     "metadata": {},
     "output_type": "execute_result"
    }
   ],
   "source": [
    "# pq_df.Program.value_counts(dropna=False)\n",
    "# pq_df['RowKey'].str.split('_').str[0].value_counts(dropna=False)"
   ]
  },
  {
   "cell_type": "code",
   "execution_count": 19,
   "metadata": {},
   "outputs": [],
   "source": [
    "# pq_df.info()\n",
    "# pq_df.drop(columns=['SLK'], inplace=True)\n",
    "# pq_df.rename(columns={'PartitionKey': 'SLK'}, inplace=True)"
   ]
  },
  {
   "cell_type": "code",
   "execution_count": 3,
   "metadata": {},
   "outputs": [
    {
     "data": {
      "text/html": [
       "<div>\n",
       "<style scoped>\n",
       "    .dataframe tbody tr th:only-of-type {\n",
       "        vertical-align: middle;\n",
       "    }\n",
       "\n",
       "    .dataframe tbody tr th {\n",
       "        vertical-align: top;\n",
       "    }\n",
       "\n",
       "    .dataframe thead th {\n",
       "        text-align: right;\n",
       "    }\n",
       "</style>\n",
       "<table border=\"1\" class=\"dataframe\">\n",
       "  <thead>\n",
       "    <tr style=\"text-align: right;\">\n",
       "      <th></th>\n",
       "      <th>PartitionKey</th>\n",
       "      <th>RowKey</th>\n",
       "      <th>SurveyName</th>\n",
       "      <th>Program</th>\n",
       "      <th>AssessmentDate</th>\n",
       "      <th>Anyodc</th>\n",
       "      <th>Past4WkNumInjectingDays</th>\n",
       "      <th>HaveYouEverSharedEquipment</th>\n",
       "      <th>Past4WkDailyLivingImpacted</th>\n",
       "      <th>Past4WkHowOftenPhysicalHealthCausedProblems</th>\n",
       "    </tr>\n",
       "  </thead>\n",
       "  <tbody>\n",
       "    <tr>\n",
       "      <th>0</th>\n",
       "      <td>A22HI010319831</td>\n",
       "      <td>TSS_ITSP_29012020</td>\n",
       "      <td>ATOM ITSP Review Assessment</td>\n",
       "      <td>TSS</td>\n",
       "      <td>2020-01-29</td>\n",
       "      <td>no</td>\n",
       "      <td>0</td>\n",
       "      <td>No</td>\n",
       "      <td>Less than weekly</td>\n",
       "      <td>Not at all</td>\n",
       "    </tr>\n",
       "    <tr>\n",
       "      <th>1</th>\n",
       "      <td>AA2AR221019922</td>\n",
       "      <td>GOLBICE_INAS_20200719</td>\n",
       "      <td>ATOM Initial Assessment</td>\n",
       "      <td>GOLBICE</td>\n",
       "      <td>2020-07-19</td>\n",
       "      <td>no</td>\n",
       "      <td>None</td>\n",
       "      <td>None</td>\n",
       "      <td>None</td>\n",
       "      <td>NaN</td>\n",
       "    </tr>\n",
       "    <tr>\n",
       "      <th>2</th>\n",
       "      <td>ABAHA210119952</td>\n",
       "      <td>GOLBICE_INAS_20230207</td>\n",
       "      <td>ATOM Initial Assessment</td>\n",
       "      <td>NaN</td>\n",
       "      <td>2023-02-07</td>\n",
       "      <td>yes</td>\n",
       "      <td>None</td>\n",
       "      <td>None</td>\n",
       "      <td>Not at all</td>\n",
       "      <td>Not at all</td>\n",
       "    </tr>\n",
       "    <tr>\n",
       "      <th>3</th>\n",
       "      <td>ABCTE280419831</td>\n",
       "      <td>TSS_INAS_20220526</td>\n",
       "      <td>ATOM Initial Assessment</td>\n",
       "      <td>NaN</td>\n",
       "      <td>2022-05-26</td>\n",
       "      <td>yes</td>\n",
       "      <td>None</td>\n",
       "      <td>None</td>\n",
       "      <td>Less than weekly</td>\n",
       "      <td>Less than weekly</td>\n",
       "    </tr>\n",
       "    <tr>\n",
       "      <th>4</th>\n",
       "      <td>ABEEA130519631</td>\n",
       "      <td>MURMICE_INAS_20200625</td>\n",
       "      <td>ATOM Initial Assessment</td>\n",
       "      <td>MURMICE</td>\n",
       "      <td>2020-06-25</td>\n",
       "      <td>no</td>\n",
       "      <td>None</td>\n",
       "      <td>No</td>\n",
       "      <td>None</td>\n",
       "      <td>NaN</td>\n",
       "    </tr>\n",
       "    <tr>\n",
       "      <th>...</th>\n",
       "      <td>...</td>\n",
       "      <td>...</td>\n",
       "      <td>...</td>\n",
       "      <td>...</td>\n",
       "      <td>...</td>\n",
       "      <td>...</td>\n",
       "      <td>...</td>\n",
       "      <td>...</td>\n",
       "      <td>...</td>\n",
       "      <td>...</td>\n",
       "    </tr>\n",
       "    <tr>\n",
       "      <th>7313</th>\n",
       "      <td>ZUIOJ280719691</td>\n",
       "      <td>TSS_ITSP_20220817</td>\n",
       "      <td>ATOM ITSP Review Assessment</td>\n",
       "      <td>NaN</td>\n",
       "      <td>2022-08-17</td>\n",
       "      <td>no</td>\n",
       "      <td>None</td>\n",
       "      <td>No</td>\n",
       "      <td>Not at all</td>\n",
       "      <td>Not at all</td>\n",
       "    </tr>\n",
       "    <tr>\n",
       "      <th>7314</th>\n",
       "      <td>ZZRTE100819791</td>\n",
       "      <td>TSS_INAS_20220311</td>\n",
       "      <td>ATOM Initial Assessment</td>\n",
       "      <td>NaN</td>\n",
       "      <td>2022-03-11</td>\n",
       "      <td>yes</td>\n",
       "      <td>None</td>\n",
       "      <td>None</td>\n",
       "      <td>Not at all</td>\n",
       "      <td>Not at all</td>\n",
       "    </tr>\n",
       "    <tr>\n",
       "      <th>7315</th>\n",
       "      <td>ZZRTE100819791</td>\n",
       "      <td>TSS_ITSP_20220704</td>\n",
       "      <td>ATOM ITSP Review Assessment</td>\n",
       "      <td>NaN</td>\n",
       "      <td>2022-07-04</td>\n",
       "      <td>no</td>\n",
       "      <td>None</td>\n",
       "      <td>None</td>\n",
       "      <td>Once or twice per week</td>\n",
       "      <td>Not at all</td>\n",
       "    </tr>\n",
       "    <tr>\n",
       "      <th>7316</th>\n",
       "      <td>ZZRTE100819791</td>\n",
       "      <td>TSS_ITSP_20221011</td>\n",
       "      <td>ATOM ITSP Review Assessment</td>\n",
       "      <td>NaN</td>\n",
       "      <td>2022-10-11</td>\n",
       "      <td>no</td>\n",
       "      <td>None</td>\n",
       "      <td>None</td>\n",
       "      <td>Not at all</td>\n",
       "      <td>Not at all</td>\n",
       "    </tr>\n",
       "    <tr>\n",
       "      <th>7317</th>\n",
       "      <td>ZZRTE100819791</td>\n",
       "      <td>TSS_ITSP_20230403</td>\n",
       "      <td>ATOM ITSP Review Assessment</td>\n",
       "      <td>NaN</td>\n",
       "      <td>2023-04-03</td>\n",
       "      <td>no</td>\n",
       "      <td>None</td>\n",
       "      <td>None</td>\n",
       "      <td>Not at all</td>\n",
       "      <td>Not at all</td>\n",
       "    </tr>\n",
       "  </tbody>\n",
       "</table>\n",
       "<p>7318 rows × 10 columns</p>\n",
       "</div>"
      ],
      "text/plain": [
       "        PartitionKey                 RowKey                   SurveyName   \n",
       "0     A22HI010319831      TSS_ITSP_29012020  ATOM ITSP Review Assessment  \\\n",
       "1     AA2AR221019922  GOLBICE_INAS_20200719      ATOM Initial Assessment   \n",
       "2     ABAHA210119952  GOLBICE_INAS_20230207      ATOM Initial Assessment   \n",
       "3     ABCTE280419831      TSS_INAS_20220526      ATOM Initial Assessment   \n",
       "4     ABEEA130519631  MURMICE_INAS_20200625      ATOM Initial Assessment   \n",
       "...              ...                    ...                          ...   \n",
       "7313  ZUIOJ280719691      TSS_ITSP_20220817  ATOM ITSP Review Assessment   \n",
       "7314  ZZRTE100819791      TSS_INAS_20220311      ATOM Initial Assessment   \n",
       "7315  ZZRTE100819791      TSS_ITSP_20220704  ATOM ITSP Review Assessment   \n",
       "7316  ZZRTE100819791      TSS_ITSP_20221011  ATOM ITSP Review Assessment   \n",
       "7317  ZZRTE100819791      TSS_ITSP_20230403  ATOM ITSP Review Assessment   \n",
       "\n",
       "      Program AssessmentDate Anyodc Past4WkNumInjectingDays   \n",
       "0         TSS     2020-01-29     no                       0  \\\n",
       "1     GOLBICE     2020-07-19     no                    None   \n",
       "2         NaN     2023-02-07    yes                    None   \n",
       "3         NaN     2022-05-26    yes                    None   \n",
       "4     MURMICE     2020-06-25     no                    None   \n",
       "...       ...            ...    ...                     ...   \n",
       "7313      NaN     2022-08-17     no                    None   \n",
       "7314      NaN     2022-03-11    yes                    None   \n",
       "7315      NaN     2022-07-04     no                    None   \n",
       "7316      NaN     2022-10-11     no                    None   \n",
       "7317      NaN     2023-04-03     no                    None   \n",
       "\n",
       "     HaveYouEverSharedEquipment Past4WkDailyLivingImpacted   \n",
       "0                            No           Less than weekly  \\\n",
       "1                          None                       None   \n",
       "2                          None                 Not at all   \n",
       "3                          None           Less than weekly   \n",
       "4                            No                       None   \n",
       "...                         ...                        ...   \n",
       "7313                         No                 Not at all   \n",
       "7314                       None                 Not at all   \n",
       "7315                       None     Once or twice per week   \n",
       "7316                       None                 Not at all   \n",
       "7317                       None                 Not at all   \n",
       "\n",
       "     Past4WkHowOftenPhysicalHealthCausedProblems  \n",
       "0                                     Not at all  \n",
       "1                                            NaN  \n",
       "2                                     Not at all  \n",
       "3                               Less than weekly  \n",
       "4                                            NaN  \n",
       "...                                          ...  \n",
       "7313                                  Not at all  \n",
       "7314                                  Not at all  \n",
       "7315                                  Not at all  \n",
       "7316                                  Not at all  \n",
       "7317                                  Not at all  \n",
       "\n",
       "[7318 rows x 10 columns]"
      ]
     },
     "execution_count": 3,
     "metadata": {},
     "output_type": "execute_result"
    }
   ],
   "source": [
    "# too many columns, look at a few at a time\n",
    "pq_df.iloc[:, :10]"
   ]
  },
  {
   "cell_type": "code",
   "execution_count": 39,
   "metadata": {},
   "outputs": [
    {
     "name": "stdout",
     "output_type": "stream",
     "text": [
      "<class 'pandas.core.frame.DataFrame'>\n",
      "Index: 7317 entries, 6973 to 1519\n",
      "Data columns (total 10 columns):\n",
      " #   Column                                       Non-Null Count  Dtype         \n",
      "---  ------                                       --------------  -----         \n",
      " 0   SLK                                          7317 non-null   object        \n",
      " 1   RowKey                                       7317 non-null   object        \n",
      " 2   Program                                      7317 non-null   object        \n",
      " 3   SurveyName                                   7317 non-null   category      \n",
      " 4   AssessmentDate                               7317 non-null   datetime64[ns]\n",
      " 5   Anyodc                                       7277 non-null   object        \n",
      " 6   Past4WkNumInjectingDays                      1683 non-null   object        \n",
      " 7   HaveYouEverSharedEquipment                   3034 non-null   object        \n",
      " 8   Past4WkDailyLivingImpacted                   6373 non-null   object        \n",
      " 9   Past4WkHowOftenPhysicalHealthCausedProblems  6381 non-null   category      \n",
      "dtypes: category(2), datetime64[ns](1), object(7)\n",
      "memory usage: 529.2+ KB\n"
     ]
    }
   ],
   "source": [
    "pq_df.iloc[:, :10].info()"
   ]
  },
  {
   "cell_type": "code",
   "execution_count": 40,
   "metadata": {},
   "outputs": [
    {
     "name": "stdout",
     "output_type": "stream",
     "text": [
      "<class 'pandas.core.frame.DataFrame'>\n",
      "Index: 7317 entries, 6973 to 1519\n",
      "Data columns (total 10 columns):\n",
      " #   Column                                     Non-Null Count  Dtype   \n",
      "---  ------                                     --------------  -----   \n",
      " 0   Past4WkHowOftenMentalHealthCausedProblems  6380 non-null   category\n",
      " 1   Past4WkUseLedToProblemsWithFamilyFriend    6374 non-null   category\n",
      " 2   Past4WkHowOftenIllegalActivities           6224 non-null   category\n",
      " 3   HowCloseToManagingSubstanceUse             6380 non-null   object  \n",
      " 4   HowSatisfiedWithProgress                   5621 non-null   category\n",
      " 5   Past4WkDifficultyFindingHousing            6274 non-null   category\n",
      " 6   Staff                                      1032 non-null   category\n",
      " 7   ClientType                                 6285 non-null   category\n",
      " 8   IndigenousStatus                           3373 non-null   category\n",
      " 9   SDSIsAODUseOutOfControl                    5923 non-null   float64 \n",
      "dtypes: category(8), float64(1), object(1)\n",
      "memory usage: 230.7+ KB\n"
     ]
    }
   ],
   "source": [
    "pq_df.iloc[:, 10:20].info()"
   ]
  },
  {
   "cell_type": "code",
   "execution_count": 41,
   "metadata": {},
   "outputs": [
    {
     "data": {
      "text/plain": [
       "HowSatisfiedWithProgress\n",
       "Moderately      1856\n",
       "Considerably    1717\n",
       "NaN             1696\n",
       "Slightly        1222\n",
       "Extremely        826\n",
       "Not at all         0\n",
       "Name: count, dtype: int64"
      ]
     },
     "execution_count": 41,
     "metadata": {},
     "output_type": "execute_result"
    }
   ],
   "source": [
    "pq_df.HowSatisfiedWithProgress.value_counts(dropna=False)"
   ]
  },
  {
   "cell_type": "code",
   "execution_count": 45,
   "metadata": {},
   "outputs": [
    {
     "data": {
      "text/plain": [
       "(7317, 7317)"
      ]
     },
     "execution_count": 45,
     "metadata": {},
     "output_type": "execute_result"
    }
   ],
   "source": [
    "pqpdc = pq_df[pq_df.PDCSubstanceOrGambling.notna()]\n",
    "len(pq_df), len(pqpdc) # 523\n",
    "          # pq_df.columns.str.contains('PDC', case=True)]"
   ]
  },
  {
   "cell_type": "code",
   "execution_count": 23,
   "metadata": {},
   "outputs": [
    {
     "data": {
      "text/plain": [
       "PDCSubstanceOrGambling\n",
       "Ethanol                                             3288\n",
       "Methamphetamine                                     1351\n",
       "Cannabinoids and Related Drugs, n.f.d.              1193\n",
       "Amphetamines, n.f.d                                  515\n",
       "Amphetamines, n.f.d.                                 364\n",
       "Heroin                                               147\n",
       "Pharmaceutical Opioids, n.f.d.                       100\n",
       "Cocaine                                               71\n",
       "Cannabinoids                                          62\n",
       "Nicotine                                              55\n",
       "Benzodiazepines, n.f.d.                               47\n",
       "Alcohols, n.e.c.                                      24\n",
       "MDMA/Ecstasy                                          21\n",
       "Opioid Antagonists, n.e.c.                            12\n",
       "Methadone                                             10\n",
       "Pharmaceutical Opioids                                 6\n",
       "Zolpidem                                               5\n",
       "GHB type Drugs and Analogues, n.e.c.                   4\n",
       "Psychostimulants, n.f.d.                               4\n",
       "Other Drugs of Concern                                 4\n",
       "Buprenorphine                                          3\n",
       "Amphetamine                                            3\n",
       "Dexamphetamine                                         3\n",
       "Alprazolam                                             2\n",
       "Other Stimulants and Hallucinogens, n.e.c.             2\n",
       "Gambling                                               2\n",
       "Promethazine                                           2\n",
       "Organic Opiate Analgesics, n.e.c.                      2\n",
       "Gamma-hydroxybutyrate                                  2\n",
       "Fluoxetine                                             1\n",
       "Aripriprazole                                          1\n",
       "Benzodiazepines                                        1\n",
       "Caffeine                                               1\n",
       "Oxycodone                                              1\n",
       "Benzodiazepines, n.f.d                                 1\n",
       "Peptide Hormones, Mimetics and Analogues, n.e.c.       1\n",
       "Non Opioid Analgesics, n.e.c.                          1\n",
       "Methylphenidate                                        1\n",
       "Amyl nitrate                                           1\n",
       "Not Stated                                             1\n",
       "Benzodiazepines, n.e.c.                                1\n",
       "Acetone                                                1\n",
       "Name: count, dtype: int64"
      ]
     },
     "execution_count": 23,
     "metadata": {},
     "output_type": "execute_result"
    }
   ],
   "source": [
    "# pqpdc.PDCSubstanceOrGambling.value_counts()\n",
    "# TODO: group drugs, [ethanol, alcohol nec] -> alcohols"
   ]
  },
  {
   "cell_type": "code",
   "execution_count": 4,
   "metadata": {},
   "outputs": [
    {
     "name": "stdout",
     "output_type": "stream",
     "text": [
      "<class 'pandas.core.frame.DataFrame'>\n",
      "Index: 7317 entries, 0 to 7317\n",
      "Columns: 186 entries, SLK to PDCGoals\n",
      "dtypes: category(15), datetime64[ns](1), float64(5), object(165)\n",
      "memory usage: 9.7+ MB\n"
     ]
    }
   ],
   "source": [
    "pqpdc.info()"
   ]
  },
  {
   "cell_type": "code",
   "execution_count": 43,
   "metadata": {},
   "outputs": [],
   "source": [
    "# sample analssis of PDCSubstanceOrGambling with Indigneous status\n",
    "always = ['PartitionKey','RowKey', 'AssessmentDate']\n",
    "cols = [ 'IndigenousStatus', 'PDCSubstanceOrGambling', 'SDS_Score']\n",
    "full_cols = always + cols\n",
    "df = pq_df[full_cols]"
   ]
  },
  {
   "cell_type": "code",
   "execution_count": 44,
   "metadata": {},
   "outputs": [
    {
     "data": {
      "text/plain": [
       "Program\n",
       "TSS               2646\n",
       "EUROPATH           918\n",
       "GOLBICE            729\n",
       "MURMICE            641\n",
       "GOLBGNRL           475\n",
       "SAPPHIRE           458\n",
       "BEGAPATH           372\n",
       "MURMWIO            311\n",
       "MURMPP             299\n",
       "COCO               154\n",
       "MONPATH            143\n",
       "ARCA                88\n",
       "MURMHEAD            62\n",
       "ALONGSIDE           19\n",
       "SO2LI131219633       1\n",
       "PSYNSW               1\n",
       "Name: count, dtype: int64"
      ]
     },
     "execution_count": 44,
     "metadata": {},
     "output_type": "execute_result"
    }
   ],
   "source": [
    "pq_df.Program.value_counts(dropna=False)"
   ]
  },
  {
   "cell_type": "code",
   "execution_count": 24,
   "metadata": {},
   "outputs": [],
   "source": [
    "# pqpdc.loc[:,'Program'] = pqpdc['RowKey'].str.split('_').str[0]"
   ]
  },
  {
   "cell_type": "code",
   "execution_count": 25,
   "metadata": {},
   "outputs": [
    {
     "data": {
      "text/plain": [
       "Program\n",
       "TSS               2646\n",
       "EUROPATH           918\n",
       "GOLBICE            729\n",
       "MURMICE            641\n",
       "GOLBGNRL           475\n",
       "SAPPHIRE           458\n",
       "BEGAPATH           372\n",
       "MURMWIO            311\n",
       "MURMPP             299\n",
       "COCO               154\n",
       "MONPATH            143\n",
       "ARCA                88\n",
       "MURMHEAD            62\n",
       "ALONGSIDE           19\n",
       "PSYNSW               1\n",
       "SO2LI131219633       1\n",
       "NaN                  1\n",
       "Name: count, dtype: int64"
      ]
     },
     "execution_count": 25,
     "metadata": {},
     "output_type": "execute_result"
    }
   ],
   "source": [
    "# pqpdc.Program.value_counts( dropna=False)"
   ]
  },
  {
   "cell_type": "code",
   "execution_count": 46,
   "metadata": {},
   "outputs": [],
   "source": [
    "from utils.group_utils import  limit_pkey_num_assessments, get_clean_for_col\n",
    "# ESSENTIAL_FIELDS = ['PartitionKey', 'RowKey', 'AssessmentDate']"
   ]
  },
  {
   "cell_type": "code",
   "execution_count": 27,
   "metadata": {},
   "outputs": [],
   "source": [
    "pkeys_inperiod = pq_df[ (pq_df.AssessmentDate >=  '2022-07-01') & (pq_df.AssessmentDate <= '2023-06-30')].SLK.unique()"
   ]
  },
  {
   "cell_type": "code",
   "execution_count": 48,
   "metadata": {},
   "outputs": [],
   "source": [
    "\n",
    "pq_df = pq_df [ pq_df['SLK'].isin(pkeys_inperiod) ]"
   ]
  },
  {
   "cell_type": "code",
   "execution_count": 49,
   "metadata": {},
   "outputs": [
    {
     "data": {
      "text/plain": [
       "(3745, Timestamp('2020-01-02 00:00:00'), Timestamp('2023-06-22 00:00:00'))"
      ]
     },
     "execution_count": 49,
     "metadata": {},
     "output_type": "execute_result"
    }
   ],
   "source": [
    "len(pq_df), min(pq_df.AssessmentDate), max(pq_df.AssessmentDate)"
   ]
  },
  {
   "cell_type": "code",
   "execution_count": 50,
   "metadata": {},
   "outputs": [],
   "source": [
    "min_assessments_per_client = 3\n",
    "\n",
    "dfmin3 = limit_pkey_num_assessments(pq_df, min_assessments_per_client)"
   ]
  },
  {
   "cell_type": "code",
   "execution_count": 66,
   "metadata": {},
   "outputs": [],
   "source": [
    "col ='SDS_Score'\n",
    "col_df = get_clean_for_col(dfmin3, col)"
   ]
  },
  {
   "cell_type": "code",
   "execution_count": 51,
   "metadata": {},
   "outputs": [
    {
     "data": {
      "text/plain": [
       "(3745, 3745, 2403)"
      ]
     },
     "execution_count": 51,
     "metadata": {},
     "output_type": "execute_result"
    }
   ],
   "source": [
    "len(pq_df),len(pqpdc),  len(dfmin3) #, len(col_df)"
   ]
  },
  {
   "cell_type": "code",
   "execution_count": 52,
   "metadata": {},
   "outputs": [
    {
     "data": {
      "text/plain": [
       "Program\n",
       "TSS               624\n",
       "GOLBICE           296\n",
       "EUROPATH          287\n",
       "MURMICE           209\n",
       "GOLBGNRL          192\n",
       "BEGAPATH          187\n",
       "SAPPHIRE          187\n",
       "MURMPP            108\n",
       "MURMWIO            95\n",
       "COCO               88\n",
       "ARCA               83\n",
       "MURMHEAD           25\n",
       "MONPATH            13\n",
       "ALONGSIDE           8\n",
       "SO2LI131219633      1\n",
       "Name: count, dtype: int64"
      ]
     },
     "execution_count": 52,
     "metadata": {},
     "output_type": "execute_result"
    }
   ],
   "source": [
    "dfmin3.Program.value_counts(dropna=False) "
   ]
  },
  {
   "cell_type": "code",
   "execution_count": 53,
   "metadata": {},
   "outputs": [
    {
     "data": {
      "text/html": [
       "<div>\n",
       "<style scoped>\n",
       "    .dataframe tbody tr th:only-of-type {\n",
       "        vertical-align: middle;\n",
       "    }\n",
       "\n",
       "    .dataframe tbody tr th {\n",
       "        vertical-align: top;\n",
       "    }\n",
       "\n",
       "    .dataframe thead th {\n",
       "        text-align: right;\n",
       "    }\n",
       "</style>\n",
       "<table border=\"1\" class=\"dataframe\">\n",
       "  <thead>\n",
       "    <tr style=\"text-align: right;\">\n",
       "      <th></th>\n",
       "      <th>SLK</th>\n",
       "      <th>RowKey</th>\n",
       "      <th>Program</th>\n",
       "      <th>SurveyName</th>\n",
       "      <th>AssessmentDate</th>\n",
       "      <th>Anyodc</th>\n",
       "      <th>Past4WkNumInjectingDays</th>\n",
       "      <th>HaveYouEverSharedEquipment</th>\n",
       "      <th>Past4WkDailyLivingImpacted</th>\n",
       "      <th>Past4WkHowOftenPhysicalHealthCausedProblems</th>\n",
       "      <th>...</th>\n",
       "      <th>HONOSAssessment</th>\n",
       "      <th>Usual Accommodation|Details</th>\n",
       "      <th>PDCSubstanceOrGambling</th>\n",
       "      <th>PDCDaysInLast28</th>\n",
       "      <th>PDCMethodOfUse</th>\n",
       "      <th>PDCHowMuchPerOccasion</th>\n",
       "      <th>PDCUnits</th>\n",
       "      <th>PDCAgeLastUsed</th>\n",
       "      <th>PDCGoals</th>\n",
       "      <th>survey_rank</th>\n",
       "    </tr>\n",
       "  </thead>\n",
       "  <tbody>\n",
       "    <tr>\n",
       "      <th>6973</th>\n",
       "      <td>URSHA210719741</td>\n",
       "      <td>TSS_INAS_02012020</td>\n",
       "      <td>TSS</td>\n",
       "      <td>ATOM Initial Assessment</td>\n",
       "      <td>2020-01-02</td>\n",
       "      <td>yes</td>\n",
       "      <td>2</td>\n",
       "      <td>No</td>\n",
       "      <td>Daily or almost daily</td>\n",
       "      <td>Less than weekly</td>\n",
       "      <td>...</td>\n",
       "      <td>None</td>\n",
       "      <td>None</td>\n",
       "      <td>Amphetamines, n.f.d.</td>\n",
       "      <td>2.0</td>\n",
       "      <td>NaN</td>\n",
       "      <td>None</td>\n",
       "      <td>None</td>\n",
       "      <td>NaN</td>\n",
       "      <td>NaN</td>\n",
       "      <td>1.0</td>\n",
       "    </tr>\n",
       "    <tr>\n",
       "      <th>6024</th>\n",
       "      <td>RIENT290619861</td>\n",
       "      <td>TSS_ITSP_03012020</td>\n",
       "      <td>TSS</td>\n",
       "      <td>ATOM ITSP Review Assessment</td>\n",
       "      <td>2020-01-03</td>\n",
       "      <td>no</td>\n",
       "      <td>0</td>\n",
       "      <td>No</td>\n",
       "      <td>Not at all</td>\n",
       "      <td>Less than weekly</td>\n",
       "      <td>...</td>\n",
       "      <td>None</td>\n",
       "      <td>None</td>\n",
       "      <td>Ethanol</td>\n",
       "      <td>12.0</td>\n",
       "      <td>NaN</td>\n",
       "      <td>None</td>\n",
       "      <td>None</td>\n",
       "      <td>NaN</td>\n",
       "      <td>NaN</td>\n",
       "      <td>1.0</td>\n",
       "    </tr>\n",
       "    <tr>\n",
       "      <th>5190</th>\n",
       "      <td>ORIRI231019691</td>\n",
       "      <td>TSS_INAS_06012020</td>\n",
       "      <td>TSS</td>\n",
       "      <td>ATOM Initial Assessment</td>\n",
       "      <td>2020-01-06</td>\n",
       "      <td>yes</td>\n",
       "      <td>28</td>\n",
       "      <td>No</td>\n",
       "      <td>Once or twice a week</td>\n",
       "      <td>Daily or almost daily</td>\n",
       "      <td>...</td>\n",
       "      <td>None</td>\n",
       "      <td>None</td>\n",
       "      <td>Amphetamines, n.f.d.</td>\n",
       "      <td>28.0</td>\n",
       "      <td>NaN</td>\n",
       "      <td>None</td>\n",
       "      <td>None</td>\n",
       "      <td>NaN</td>\n",
       "      <td>NaN</td>\n",
       "      <td>1.0</td>\n",
       "    </tr>\n",
       "    <tr>\n",
       "      <th>1042</th>\n",
       "      <td>AROHE150919751</td>\n",
       "      <td>TSS_ITSP_07012020</td>\n",
       "      <td>TSS</td>\n",
       "      <td>ATOM ITSP Review Assessment</td>\n",
       "      <td>2020-01-07</td>\n",
       "      <td>yes</td>\n",
       "      <td>0</td>\n",
       "      <td>No</td>\n",
       "      <td>Less than weekly</td>\n",
       "      <td>Daily or almost daily</td>\n",
       "      <td>...</td>\n",
       "      <td>None</td>\n",
       "      <td>None</td>\n",
       "      <td>Ethanol</td>\n",
       "      <td>28.0</td>\n",
       "      <td>NaN</td>\n",
       "      <td>None</td>\n",
       "      <td>None</td>\n",
       "      <td>NaN</td>\n",
       "      <td>NaN</td>\n",
       "      <td>1.0</td>\n",
       "    </tr>\n",
       "    <tr>\n",
       "      <th>2850</th>\n",
       "      <td>HALAS010719881</td>\n",
       "      <td>GOLBGNRL_INAS_20200108</td>\n",
       "      <td>GOLBGNRL</td>\n",
       "      <td>ATOM Initial Assessment</td>\n",
       "      <td>2020-01-08</td>\n",
       "      <td>no</td>\n",
       "      <td>None</td>\n",
       "      <td>None</td>\n",
       "      <td>None</td>\n",
       "      <td>NaN</td>\n",
       "      <td>...</td>\n",
       "      <td>None</td>\n",
       "      <td>None</td>\n",
       "      <td>Ethanol</td>\n",
       "      <td>14.0</td>\n",
       "      <td>Ingest</td>\n",
       "      <td>10</td>\n",
       "      <td>None</td>\n",
       "      <td>NaN</td>\n",
       "      <td>NaN</td>\n",
       "      <td>1.0</td>\n",
       "    </tr>\n",
       "    <tr>\n",
       "      <th>...</th>\n",
       "      <td>...</td>\n",
       "      <td>...</td>\n",
       "      <td>...</td>\n",
       "      <td>...</td>\n",
       "      <td>...</td>\n",
       "      <td>...</td>\n",
       "      <td>...</td>\n",
       "      <td>...</td>\n",
       "      <td>...</td>\n",
       "      <td>...</td>\n",
       "      <td>...</td>\n",
       "      <td>...</td>\n",
       "      <td>...</td>\n",
       "      <td>...</td>\n",
       "      <td>...</td>\n",
       "      <td>...</td>\n",
       "      <td>...</td>\n",
       "      <td>...</td>\n",
       "      <td>...</td>\n",
       "      <td>...</td>\n",
       "      <td>...</td>\n",
       "    </tr>\n",
       "    <tr>\n",
       "      <th>5910</th>\n",
       "      <td>REEIM030319712</td>\n",
       "      <td>EUROPATH_ITSP_20230622</td>\n",
       "      <td>EUROPATH</td>\n",
       "      <td>ATOM ITSP Review Assessment</td>\n",
       "      <td>2023-06-22</td>\n",
       "      <td>yes</td>\n",
       "      <td>None</td>\n",
       "      <td>None</td>\n",
       "      <td>Three or four times per week</td>\n",
       "      <td>Daily or almost daily</td>\n",
       "      <td>...</td>\n",
       "      <td>None</td>\n",
       "      <td>None</td>\n",
       "      <td>Ethanol</td>\n",
       "      <td>28.0</td>\n",
       "      <td>Ingest</td>\n",
       "      <td>10-14</td>\n",
       "      <td>standard drinks</td>\n",
       "      <td>51.0</td>\n",
       "      <td>Reduce Use</td>\n",
       "      <td>6.0</td>\n",
       "    </tr>\n",
       "    <tr>\n",
       "      <th>6977</th>\n",
       "      <td>URSNT120219571</td>\n",
       "      <td>TSS_INAS_20230622</td>\n",
       "      <td>TSS</td>\n",
       "      <td>ATOM Initial Assessment</td>\n",
       "      <td>2023-06-22</td>\n",
       "      <td>yes</td>\n",
       "      <td>None</td>\n",
       "      <td>None</td>\n",
       "      <td>Less than weekly</td>\n",
       "      <td>Once or twice per week</td>\n",
       "      <td>...</td>\n",
       "      <td>None</td>\n",
       "      <td>None</td>\n",
       "      <td>Ethanol</td>\n",
       "      <td>0.0</td>\n",
       "      <td>Ingest</td>\n",
       "      <td>20-29</td>\n",
       "      <td>standard drinks</td>\n",
       "      <td>66.0</td>\n",
       "      <td>Maintain Abstinence</td>\n",
       "      <td>1.0</td>\n",
       "    </tr>\n",
       "    <tr>\n",
       "      <th>2986</th>\n",
       "      <td>HIEND160319731</td>\n",
       "      <td>SAPPHIRE_ITSP_20230622</td>\n",
       "      <td>SAPPHIRE</td>\n",
       "      <td>ATOM ITSP Review Assessment</td>\n",
       "      <td>2023-06-22</td>\n",
       "      <td>no</td>\n",
       "      <td>None</td>\n",
       "      <td>None</td>\n",
       "      <td>Not at all</td>\n",
       "      <td>Not at all</td>\n",
       "      <td>...</td>\n",
       "      <td>None</td>\n",
       "      <td>None</td>\n",
       "      <td>Ethanol</td>\n",
       "      <td>0.0</td>\n",
       "      <td>Ingest</td>\n",
       "      <td>0</td>\n",
       "      <td>standard drinks</td>\n",
       "      <td>50.0</td>\n",
       "      <td>Maintain Abstinence</td>\n",
       "      <td>2.0</td>\n",
       "    </tr>\n",
       "    <tr>\n",
       "      <th>4658</th>\n",
       "      <td>OLANN281019632</td>\n",
       "      <td>MURMPP_POTA_20230622</td>\n",
       "      <td>MURMPP</td>\n",
       "      <td>ATOM ITSP Review Assessment</td>\n",
       "      <td>2023-06-22</td>\n",
       "      <td>no</td>\n",
       "      <td>None</td>\n",
       "      <td>None</td>\n",
       "      <td>Not at all</td>\n",
       "      <td>Not at all</td>\n",
       "      <td>...</td>\n",
       "      <td>None</td>\n",
       "      <td>None</td>\n",
       "      <td>Ethanol</td>\n",
       "      <td>1.0</td>\n",
       "      <td>Ingest</td>\n",
       "      <td>2</td>\n",
       "      <td>standard drinks</td>\n",
       "      <td>59.0</td>\n",
       "      <td>Reduce Use</td>\n",
       "      <td>3.0</td>\n",
       "    </tr>\n",
       "    <tr>\n",
       "      <th>1519</th>\n",
       "      <td>AYOAC301119602</td>\n",
       "      <td>GOLBGNRL_ITSP_20230622</td>\n",
       "      <td>GOLBGNRL</td>\n",
       "      <td>ATOM ITSP Review Assessment</td>\n",
       "      <td>2023-06-22</td>\n",
       "      <td>no</td>\n",
       "      <td>None</td>\n",
       "      <td>None</td>\n",
       "      <td>Once or twice per week</td>\n",
       "      <td>Not at all</td>\n",
       "      <td>...</td>\n",
       "      <td>None</td>\n",
       "      <td>None</td>\n",
       "      <td>Ethanol</td>\n",
       "      <td>12.0</td>\n",
       "      <td>Ingest</td>\n",
       "      <td>9</td>\n",
       "      <td>standard drinks</td>\n",
       "      <td>62.0</td>\n",
       "      <td>Reduce Use</td>\n",
       "      <td>3.0</td>\n",
       "    </tr>\n",
       "  </tbody>\n",
       "</table>\n",
       "<p>3745 rows × 187 columns</p>\n",
       "</div>"
      ],
      "text/plain": [
       "                 SLK                  RowKey   Program   \n",
       "6973  URSHA210719741       TSS_INAS_02012020       TSS  \\\n",
       "6024  RIENT290619861       TSS_ITSP_03012020       TSS   \n",
       "5190  ORIRI231019691       TSS_INAS_06012020       TSS   \n",
       "1042  AROHE150919751       TSS_ITSP_07012020       TSS   \n",
       "2850  HALAS010719881  GOLBGNRL_INAS_20200108  GOLBGNRL   \n",
       "...              ...                     ...       ...   \n",
       "5910  REEIM030319712  EUROPATH_ITSP_20230622  EUROPATH   \n",
       "6977  URSNT120219571       TSS_INAS_20230622       TSS   \n",
       "2986  HIEND160319731  SAPPHIRE_ITSP_20230622  SAPPHIRE   \n",
       "4658  OLANN281019632    MURMPP_POTA_20230622    MURMPP   \n",
       "1519  AYOAC301119602  GOLBGNRL_ITSP_20230622  GOLBGNRL   \n",
       "\n",
       "                       SurveyName AssessmentDate Anyodc   \n",
       "6973      ATOM Initial Assessment     2020-01-02    yes  \\\n",
       "6024  ATOM ITSP Review Assessment     2020-01-03     no   \n",
       "5190      ATOM Initial Assessment     2020-01-06    yes   \n",
       "1042  ATOM ITSP Review Assessment     2020-01-07    yes   \n",
       "2850      ATOM Initial Assessment     2020-01-08     no   \n",
       "...                           ...            ...    ...   \n",
       "5910  ATOM ITSP Review Assessment     2023-06-22    yes   \n",
       "6977      ATOM Initial Assessment     2023-06-22    yes   \n",
       "2986  ATOM ITSP Review Assessment     2023-06-22     no   \n",
       "4658  ATOM ITSP Review Assessment     2023-06-22     no   \n",
       "1519  ATOM ITSP Review Assessment     2023-06-22     no   \n",
       "\n",
       "     Past4WkNumInjectingDays HaveYouEverSharedEquipment   \n",
       "6973                       2                         No  \\\n",
       "6024                       0                         No   \n",
       "5190                      28                         No   \n",
       "1042                       0                         No   \n",
       "2850                    None                       None   \n",
       "...                      ...                        ...   \n",
       "5910                    None                       None   \n",
       "6977                    None                       None   \n",
       "2986                    None                       None   \n",
       "4658                    None                       None   \n",
       "1519                    None                       None   \n",
       "\n",
       "        Past4WkDailyLivingImpacted   \n",
       "6973         Daily or almost daily  \\\n",
       "6024                    Not at all   \n",
       "5190          Once or twice a week   \n",
       "1042              Less than weekly   \n",
       "2850                          None   \n",
       "...                            ...   \n",
       "5910  Three or four times per week   \n",
       "6977              Less than weekly   \n",
       "2986                    Not at all   \n",
       "4658                    Not at all   \n",
       "1519        Once or twice per week   \n",
       "\n",
       "     Past4WkHowOftenPhysicalHealthCausedProblems  ... HONOSAssessment   \n",
       "6973                            Less than weekly  ...            None  \\\n",
       "6024                            Less than weekly  ...            None   \n",
       "5190                       Daily or almost daily  ...            None   \n",
       "1042                       Daily or almost daily  ...            None   \n",
       "2850                                         NaN  ...            None   \n",
       "...                                          ...  ...             ...   \n",
       "5910                       Daily or almost daily  ...            None   \n",
       "6977                      Once or twice per week  ...            None   \n",
       "2986                                  Not at all  ...            None   \n",
       "4658                                  Not at all  ...            None   \n",
       "1519                                  Not at all  ...            None   \n",
       "\n",
       "     Usual Accommodation|Details PDCSubstanceOrGambling PDCDaysInLast28   \n",
       "6973                        None   Amphetamines, n.f.d.             2.0  \\\n",
       "6024                        None                Ethanol            12.0   \n",
       "5190                        None   Amphetamines, n.f.d.            28.0   \n",
       "1042                        None                Ethanol            28.0   \n",
       "2850                        None                Ethanol            14.0   \n",
       "...                          ...                    ...             ...   \n",
       "5910                        None                Ethanol            28.0   \n",
       "6977                        None                Ethanol             0.0   \n",
       "2986                        None                Ethanol             0.0   \n",
       "4658                        None                Ethanol             1.0   \n",
       "1519                        None                Ethanol            12.0   \n",
       "\n",
       "     PDCMethodOfUse PDCHowMuchPerOccasion         PDCUnits PDCAgeLastUsed   \n",
       "6973            NaN                  None             None            NaN  \\\n",
       "6024            NaN                  None             None            NaN   \n",
       "5190            NaN                  None             None            NaN   \n",
       "1042            NaN                  None             None            NaN   \n",
       "2850         Ingest                    10             None            NaN   \n",
       "...             ...                   ...              ...            ...   \n",
       "5910         Ingest                 10-14  standard drinks           51.0   \n",
       "6977         Ingest                 20-29  standard drinks           66.0   \n",
       "2986         Ingest                     0  standard drinks           50.0   \n",
       "4658         Ingest                     2  standard drinks           59.0   \n",
       "1519         Ingest                     9  standard drinks           62.0   \n",
       "\n",
       "                 PDCGoals  survey_rank  \n",
       "6973                  NaN          1.0  \n",
       "6024                  NaN          1.0  \n",
       "5190                  NaN          1.0  \n",
       "1042                  NaN          1.0  \n",
       "2850                  NaN          1.0  \n",
       "...                   ...          ...  \n",
       "5910           Reduce Use          6.0  \n",
       "6977  Maintain Abstinence          1.0  \n",
       "2986  Maintain Abstinence          2.0  \n",
       "4658           Reduce Use          3.0  \n",
       "1519           Reduce Use          3.0  \n",
       "\n",
       "[3745 rows x 187 columns]"
      ]
     },
     "execution_count": 53,
     "metadata": {},
     "output_type": "execute_result"
    }
   ],
   "source": [
    "g = pq_df.groupby('SLK')\n",
    "pq_df['survey_rank'] = g['AssessmentDate'].rank(method='min')\n",
    "pq_df"
   ]
  },
  {
   "cell_type": "code",
   "execution_count": 54,
   "metadata": {},
   "outputs": [],
   "source": [
    "def get_mean_of_nth_for_question(df, nth, question):\n",
    "  nth_surveys = df[df['survey_rank'] == nth]\n",
    "  return nth_surveys[question].mean()"
   ]
  },
  {
   "cell_type": "code",
   "execution_count": 55,
   "metadata": {},
   "outputs": [
    {
     "data": {
      "text/plain": [
       "7.76878612716763"
      ]
     },
     "execution_count": 55,
     "metadata": {},
     "output_type": "execute_result"
    }
   ],
   "source": [
    "get_mean_of_nth_for_question(pq_df, 1, 'SDS_Score')"
   ]
  },
  {
   "cell_type": "code",
   "execution_count": 70,
   "metadata": {},
   "outputs": [],
   "source": [
    "def get_df_forclients_with_atleast_n_surveys(df, n):\n",
    "  clientSLKs = df[df['survey_rank'] == n].SLK.unique() # clients having a rank=n survey\n",
    "  return df[df['SLK'].isin(clientSLKs)]"
   ]
  },
  {
   "cell_type": "code",
   "execution_count": 57,
   "metadata": {},
   "outputs": [],
   "source": [
    "def get_nth_survey_values_for_question(df, nth, question):\n",
    "  nth_surveys = df[df['survey_rank'] == nth]\n",
    "  return nth_surveys[question]"
   ]
  },
  {
   "cell_type": "code",
   "execution_count": 71,
   "metadata": {},
   "outputs": [
    {
     "data": {
      "text/plain": [
       "Past4WkHowOftenPhysicalHealthCausedProblems\n",
       "Not at all                      109\n",
       "NaN                              61\n",
       "Daily or almost daily            54\n",
       "Less than weekly                 40\n",
       "Once or twice per week           32\n",
       "Three or four times per week     21\n",
       "Name: count, dtype: int64"
      ]
     },
     "execution_count": 71,
     "metadata": {},
     "output_type": "execute_result"
    }
   ],
   "source": [
    "df_4 = get_df_forclients_with_atleast_n_surveys(pq_df, 4)\n",
    "first = get_nth_survey_values_for_question(df_4, 1, 'Past4WkHowOftenPhysicalHealthCausedProblems')\n",
    "first.value_counts(dropna=False)\n"
   ]
  },
  {
   "cell_type": "code",
   "execution_count": 72,
   "metadata": {},
   "outputs": [
    {
     "data": {
      "text/plain": [
       "Past4WkHowOftenPhysicalHealthCausedProblems\n",
       "Not at all                      133\n",
       "Less than weekly                 65\n",
       "Daily or almost daily            52\n",
       "Once or twice per week           34\n",
       "Three or four times per week     29\n",
       "NaN                               5\n",
       "Name: count, dtype: int64"
      ]
     },
     "execution_count": 72,
     "metadata": {},
     "output_type": "execute_result"
    }
   ],
   "source": [
    "# df_4 = get_df_forclients_with_atleast_n_surveys(pq_df, 4)\n",
    "\n",
    "fourth = get_nth_survey_values_for_question(df_4, 4, 'Past4WkHowOftenPhysicalHealthCausedProblems')\n",
    "fourth.value_counts(dropna=False)\n"
   ]
  },
  {
   "cell_type": "code",
   "execution_count": 75,
   "metadata": {},
   "outputs": [],
   "source": [
    "def get_change_in_question(df, question, start_survey_num:int, end_survey_num:int, start_values:list, end_values:list):\n",
    "  # Filter the dataframe for first surveys where 'question_score' is 4\n",
    "  first_surveys_score_4 = df[(df['survey_rank'] == start_survey_num) & (df[question].cat.codes.isin(start_values))]\n",
    "\n",
    "  # Filter the dataframe for fourth surveys where 'question_score' is 1 or 2\n",
    "  fourth_surveys_score_1_2 = df[(df['survey_rank'] == end_survey_num) & (df[question].cat.codes.isin(end_values))]\n",
    "\n",
    "  # Get the client identifiers from both filtered dataframes\n",
    "  clients_first_surveys_score_4 = set(first_surveys_score_4['SLK'])\n",
    "  clients_fourth_surveys_score_1_2 = set(fourth_surveys_score_1_2['SLK'])\n",
    "\n",
    "  # Find the intersection of the two sets of clients\n",
    "  clients_with_score_drop = clients_first_surveys_score_4 & clients_fourth_surveys_score_1_2\n",
    "  return clients_with_score_drop\n",
    "\n",
    "  # Now, 'clients_with_score_drop' is a set of clients whose scores for the question\n",
    "  # dropped from 4 in the first survey to 1 or 2 in the fourth survey\n",
    "    \n",
    "  # first = get_nth_survey_values_for_question(df, 1, question)\n",
    "  # last = get_nth_survey_values_for_question(df, df['survey_rank'].max(), question)\n",
    "  # return last - first"
   ]
  },
  {
   "cell_type": "code",
   "execution_count": 76,
   "metadata": {},
   "outputs": [
    {
     "data": {
      "text/plain": [
       "{'AKLEA130119812',\n",
       " 'APSHR290719811',\n",
       " 'CONRI060619662',\n",
       " 'ENKOR240119982',\n",
       " 'ETLUT170219662',\n",
       " 'LEEAM280219741',\n",
       " 'OBNER051119701',\n",
       " 'OLAER270219692',\n",
       " 'ORAIC100519631',\n",
       " 'OZ2SA250519971',\n",
       " 'RALYA210119811',\n",
       " 'RIDRY310519912',\n",
       " 'RUZAK060419921',\n",
       " 'YPEAS271119761'}"
      ]
     },
     "execution_count": 76,
     "metadata": {},
     "output_type": "execute_result"
    }
   ],
   "source": [
    "get_change_in_question(pq_df, 'Past4WkHowOftenPhysicalHealthCausedProblems', 1, 4, [4], [1,2])"
   ]
  },
  {
   "cell_type": "code",
   "execution_count": 67,
   "metadata": {},
   "outputs": [
    {
     "ename": "KeyError",
     "evalue": "'Past4WkHowOftenPhysicalHealthCausedProblems'",
     "output_type": "error",
     "traceback": [
      "\u001b[1;31m---------------------------------------------------------------------------\u001b[0m",
      "\u001b[1;31mKeyError\u001b[0m                                  Traceback (most recent call last)",
      "File \u001b[1;32mc:\\Users\\aftab.jalal\\dev\\atom-analysis\\.venv\\Lib\\site-packages\\pandas\\core\\indexes\\base.py:3652\u001b[0m, in \u001b[0;36mIndex.get_loc\u001b[1;34m(self, key)\u001b[0m\n\u001b[0;32m   3651\u001b[0m \u001b[39mtry\u001b[39;00m:\n\u001b[1;32m-> 3652\u001b[0m     \u001b[39mreturn\u001b[39;00m \u001b[39mself\u001b[39;49m\u001b[39m.\u001b[39;49m_engine\u001b[39m.\u001b[39;49mget_loc(casted_key)\n\u001b[0;32m   3653\u001b[0m \u001b[39mexcept\u001b[39;00m \u001b[39mKeyError\u001b[39;00m \u001b[39mas\u001b[39;00m err:\n",
      "File \u001b[1;32mc:\\Users\\aftab.jalal\\dev\\atom-analysis\\.venv\\Lib\\site-packages\\pandas\\_libs\\index.pyx:147\u001b[0m, in \u001b[0;36mpandas._libs.index.IndexEngine.get_loc\u001b[1;34m()\u001b[0m\n",
      "File \u001b[1;32mc:\\Users\\aftab.jalal\\dev\\atom-analysis\\.venv\\Lib\\site-packages\\pandas\\_libs\\index.pyx:155\u001b[0m, in \u001b[0;36mpandas._libs.index.IndexEngine.get_loc\u001b[1;34m()\u001b[0m\n",
      "File \u001b[1;32mpandas\\_libs\\index_class_helper.pxi:70\u001b[0m, in \u001b[0;36mpandas._libs.index.Int64Engine._check_type\u001b[1;34m()\u001b[0m\n",
      "\u001b[1;31mKeyError\u001b[0m: 'Past4WkHowOftenPhysicalHealthCausedProblems'",
      "\nThe above exception was the direct cause of the following exception:\n",
      "\u001b[1;31mKeyError\u001b[0m                                  Traceback (most recent call last)",
      "Cell \u001b[1;32mIn[67], line 2\u001b[0m\n\u001b[0;32m      1\u001b[0m \u001b[39m# first['Past4WkHowOftenPhysicalHealthCausedProblems'].value_counts(dropna=False) \u001b[39;00m\n\u001b[1;32m----> 2\u001b[0m first[\u001b[39m'\u001b[39;49m\u001b[39mPast4WkHowOftenPhysicalHealthCausedProblems\u001b[39;49m\u001b[39m'\u001b[39;49m]\u001b[39m.\u001b[39mcat\u001b[39m.\u001b[39mcodes\u001b[39m.\u001b[39mvalue_counts(dropna\u001b[39m=\u001b[39m\u001b[39mFalse\u001b[39;00m) \n",
      "File \u001b[1;32mc:\\Users\\aftab.jalal\\dev\\atom-analysis\\.venv\\Lib\\site-packages\\pandas\\core\\series.py:1007\u001b[0m, in \u001b[0;36mSeries.__getitem__\u001b[1;34m(self, key)\u001b[0m\n\u001b[0;32m   1004\u001b[0m     \u001b[39mreturn\u001b[39;00m \u001b[39mself\u001b[39m\u001b[39m.\u001b[39m_values[key]\n\u001b[0;32m   1006\u001b[0m \u001b[39melif\u001b[39;00m key_is_scalar:\n\u001b[1;32m-> 1007\u001b[0m     \u001b[39mreturn\u001b[39;00m \u001b[39mself\u001b[39;49m\u001b[39m.\u001b[39;49m_get_value(key)\n\u001b[0;32m   1009\u001b[0m \u001b[39mif\u001b[39;00m is_hashable(key):\n\u001b[0;32m   1010\u001b[0m     \u001b[39m# Otherwise index.get_value will raise InvalidIndexError\u001b[39;00m\n\u001b[0;32m   1011\u001b[0m     \u001b[39mtry\u001b[39;00m:\n\u001b[0;32m   1012\u001b[0m         \u001b[39m# For labels that don't resolve as scalars like tuples and frozensets\u001b[39;00m\n",
      "File \u001b[1;32mc:\\Users\\aftab.jalal\\dev\\atom-analysis\\.venv\\Lib\\site-packages\\pandas\\core\\series.py:1116\u001b[0m, in \u001b[0;36mSeries._get_value\u001b[1;34m(self, label, takeable)\u001b[0m\n\u001b[0;32m   1113\u001b[0m     \u001b[39mreturn\u001b[39;00m \u001b[39mself\u001b[39m\u001b[39m.\u001b[39m_values[label]\n\u001b[0;32m   1115\u001b[0m \u001b[39m# Similar to Index.get_value, but we do not fall back to positional\u001b[39;00m\n\u001b[1;32m-> 1116\u001b[0m loc \u001b[39m=\u001b[39m \u001b[39mself\u001b[39;49m\u001b[39m.\u001b[39;49mindex\u001b[39m.\u001b[39;49mget_loc(label)\n\u001b[0;32m   1118\u001b[0m \u001b[39mif\u001b[39;00m is_integer(loc):\n\u001b[0;32m   1119\u001b[0m     \u001b[39mreturn\u001b[39;00m \u001b[39mself\u001b[39m\u001b[39m.\u001b[39m_values[loc]\n",
      "File \u001b[1;32mc:\\Users\\aftab.jalal\\dev\\atom-analysis\\.venv\\Lib\\site-packages\\pandas\\core\\indexes\\base.py:3654\u001b[0m, in \u001b[0;36mIndex.get_loc\u001b[1;34m(self, key)\u001b[0m\n\u001b[0;32m   3652\u001b[0m     \u001b[39mreturn\u001b[39;00m \u001b[39mself\u001b[39m\u001b[39m.\u001b[39m_engine\u001b[39m.\u001b[39mget_loc(casted_key)\n\u001b[0;32m   3653\u001b[0m \u001b[39mexcept\u001b[39;00m \u001b[39mKeyError\u001b[39;00m \u001b[39mas\u001b[39;00m err:\n\u001b[1;32m-> 3654\u001b[0m     \u001b[39mraise\u001b[39;00m \u001b[39mKeyError\u001b[39;00m(key) \u001b[39mfrom\u001b[39;00m \u001b[39merr\u001b[39;00m\n\u001b[0;32m   3655\u001b[0m \u001b[39mexcept\u001b[39;00m \u001b[39mTypeError\u001b[39;00m:\n\u001b[0;32m   3656\u001b[0m     \u001b[39m# If we have a listlike key, _check_indexing_error will raise\u001b[39;00m\n\u001b[0;32m   3657\u001b[0m     \u001b[39m#  InvalidIndexError. Otherwise we fall through and re-raise\u001b[39;00m\n\u001b[0;32m   3658\u001b[0m     \u001b[39m#  the TypeError.\u001b[39;00m\n\u001b[0;32m   3659\u001b[0m     \u001b[39mself\u001b[39m\u001b[39m.\u001b[39m_check_indexing_error(key)\n",
      "\u001b[1;31mKeyError\u001b[0m: 'Past4WkHowOftenPhysicalHealthCausedProblems'"
     ]
    }
   ],
   "source": [
    "# first['Past4WkHowOftenPhysicalHealthCausedProblems'].value_counts(dropna=False) \n",
    "first['Past4WkHowOftenPhysicalHealthCausedProblems'].cat.codes.value_counts(dropna=False) "
   ]
  }
 ],
 "metadata": {
  "kernelspec": {
   "display_name": ".venv",
   "language": "python",
   "name": "python3"
  },
  "language_info": {
   "codemirror_mode": {
    "name": "ipython",
    "version": 3
   },
   "file_extension": ".py",
   "mimetype": "text/x-python",
   "name": "python",
   "nbconvert_exporter": "python",
   "pygments_lexer": "ipython3",
   "version": "3.11.3"
  },
  "orig_nbformat": 4
 },
 "nbformat": 4,
 "nbformat_minor": 2
}
